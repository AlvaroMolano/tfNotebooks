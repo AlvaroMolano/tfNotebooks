{
 "cells": [
  {
   "cell_type": "markdown",
   "metadata": {},
   "source": [
    "# Find Conditional Clauses with ve-(x) qatal\n",
    "\n",
    "This from a query formulated by Geoffrey Khan:\n",
    "\n",
    "> Could you run for me a search for:\n",
    "> 1. conditional clauses with a protasis opening with 'im and an apodosis opening with ve-qatal\n",
    "> 2. conditional clauses with a protasis opening with 'im and an apodosis opening with ve-X qatal"
   ]
  },
  {
   "cell_type": "markdown",
   "metadata": {},
   "source": [
    "We'll use the ETCBC Hebrew syntax data, including clause relations, to find these cases and export a spreadsheet.\n",
    "\n",
    "Let's get started!"
   ]
  },
  {
   "cell_type": "code",
   "execution_count": 110,
   "metadata": {},
   "outputs": [
    {
     "data": {
      "text/html": [
       "<b title=\"local commit\">TF-app:</b> <span title=\"#113c0687cfce3077734dac1844d244d20f4ace6f offline under ~/text-fabric-data\">~/text-fabric-data/annotation/app-bhsa/code</span>"
      ],
      "text/plain": [
       "<IPython.core.display.HTML object>"
      ]
     },
     "metadata": {},
     "output_type": "display_data"
    },
    {
     "data": {
      "text/html": [
       "<b title=\"local release\">data:</b> <span title=\"rv1.6 offline under ~/text-fabric-data\">~/text-fabric-data/etcbc/bhsa/tf/c</span>"
      ],
      "text/plain": [
       "<IPython.core.display.HTML object>"
      ]
     },
     "metadata": {},
     "output_type": "display_data"
    },
    {
     "data": {
      "text/html": [
       "<b title=\"local release\">data:</b> <span title=\"r1.2 offline under ~/text-fabric-data\">~/text-fabric-data/etcbc/phono/tf/c</span>"
      ],
      "text/plain": [
       "<IPython.core.display.HTML object>"
      ]
     },
     "metadata": {},
     "output_type": "display_data"
    },
    {
     "data": {
      "text/html": [
       "<b title=\"local release\">data:</b> <span title=\"r1.2 offline under ~/text-fabric-data\">~/text-fabric-data/etcbc/parallels/tf/c</span>"
      ],
      "text/plain": [
       "<IPython.core.display.HTML object>"
      ]
     },
     "metadata": {},
     "output_type": "display_data"
    },
    {
     "data": {
      "text/html": [
       "<b>Text-Fabric:</b> <a target=\"_blank\" href=\"https://annotation.github.io/text-fabric/cheatsheet.html\" title=\"text-fabric-api\">Text-Fabric API 8.4.0</a>, <a target=\"_blank\" href=\"https://github.com/annotation/app-bhsa\" title=\"bhsa TF-app\">app-bhsa</a>, <a target=\"_blank\" href=\"https://annotation.github.io/text-fabric/about/searchusage.html\" title=\"Search Templates Introduction and Reference\">Search Reference</a><br><b>Data:</b> <a target=\"_blank\" href=\"https://etcbc.github.io/bhsa/0_home\" title=\"provenance of BHSA = Biblia Hebraica Stuttgartensia Amstelodamensis\">BHSA</a>, <a target=\"_blank\" href=\"https://annotation.github.io/text-fabric/writing/hebrew.html\" title=\"How TF features represent text\">Character table</a>, <a target=\"_blank\" href=\"https://etcbc.github.io/bhsa/features/0_home\" title=\"BHSA feature documentation\">Feature docs</a><br><b>Features:</b><br><details><summary><b>Parallel Passages</b></summary><b><i><a target=\"_blank\" href=\"https://nbviewer.jupyter.org/github/etcbc/parallels/blob/master/programs/parallels.ipynb\" title=\"~/text-fabric-data/etcbc/parallels/tf/c/crossref.tf\">crossref</a></i></b><br></details><details><summary><b>BHSA = Biblia Hebraica Stuttgartensia Amstelodamensis</b></summary><a target=\"_blank\" href=\"https://etcbc.github.io/bhsa/features/book\" title=\"~/text-fabric-data/etcbc/bhsa/tf/c/book.tf\">book</a><br><a target=\"_blank\" href=\"https://etcbc.github.io/bhsa/features/book@ll\" title=\"~/text-fabric-data/etcbc/bhsa/tf/c/book@am.tf\">book@ll</a><br><a target=\"_blank\" href=\"https://etcbc.github.io/bhsa/features/chapter\" title=\"~/text-fabric-data/etcbc/bhsa/tf/c/chapter.tf\">chapter</a><br><a target=\"_blank\" href=\"https://etcbc.github.io/bhsa/features/code\" title=\"~/text-fabric-data/etcbc/bhsa/tf/c/code.tf\">code</a><br><a target=\"_blank\" href=\"https://etcbc.github.io/bhsa/features/det\" title=\"~/text-fabric-data/etcbc/bhsa/tf/c/det.tf\">det</a><br><a target=\"_blank\" href=\"https://etcbc.github.io/bhsa/features/domain\" title=\"~/text-fabric-data/etcbc/bhsa/tf/c/domain.tf\">domain</a><br><a target=\"_blank\" href=\"https://etcbc.github.io/bhsa/features/freq_lex\" title=\"~/text-fabric-data/etcbc/bhsa/tf/c/freq_lex.tf\">freq_lex</a><br><a target=\"_blank\" href=\"https://etcbc.github.io/bhsa/features/function\" title=\"~/text-fabric-data/etcbc/bhsa/tf/c/function.tf\">function</a><br><a target=\"_blank\" href=\"https://etcbc.github.io/bhsa/features/g_cons\" title=\"~/text-fabric-data/etcbc/bhsa/tf/c/g_cons.tf\">g_cons</a><br><a target=\"_blank\" href=\"https://etcbc.github.io/bhsa/features/g_cons_utf8\" title=\"~/text-fabric-data/etcbc/bhsa/tf/c/g_cons_utf8.tf\">g_cons_utf8</a><br><a target=\"_blank\" href=\"https://etcbc.github.io/bhsa/features/g_lex\" title=\"~/text-fabric-data/etcbc/bhsa/tf/c/g_lex.tf\">g_lex</a><br><a target=\"_blank\" href=\"https://etcbc.github.io/bhsa/features/g_lex_utf8\" title=\"~/text-fabric-data/etcbc/bhsa/tf/c/g_lex_utf8.tf\">g_lex_utf8</a><br><a target=\"_blank\" href=\"https://etcbc.github.io/bhsa/features/g_word\" title=\"~/text-fabric-data/etcbc/bhsa/tf/c/g_word.tf\">g_word</a><br><a target=\"_blank\" href=\"https://etcbc.github.io/bhsa/features/g_word_utf8\" title=\"~/text-fabric-data/etcbc/bhsa/tf/c/g_word_utf8.tf\">g_word_utf8</a><br><a target=\"_blank\" href=\"https://etcbc.github.io/bhsa/features/gloss\" title=\"~/text-fabric-data/etcbc/bhsa/tf/c/gloss.tf\">gloss</a><br><a target=\"_blank\" href=\"https://etcbc.github.io/bhsa/features/gn\" title=\"~/text-fabric-data/etcbc/bhsa/tf/c/gn.tf\">gn</a><br><a target=\"_blank\" href=\"https://etcbc.github.io/bhsa/features/label\" title=\"~/text-fabric-data/etcbc/bhsa/tf/c/label.tf\">label</a><br><a target=\"_blank\" href=\"https://etcbc.github.io/bhsa/features/language\" title=\"~/text-fabric-data/etcbc/bhsa/tf/c/language.tf\">language</a><br><a target=\"_blank\" href=\"https://etcbc.github.io/bhsa/features/lex\" title=\"~/text-fabric-data/etcbc/bhsa/tf/c/lex.tf\">lex</a><br><a target=\"_blank\" href=\"https://etcbc.github.io/bhsa/features/lex_utf8\" title=\"~/text-fabric-data/etcbc/bhsa/tf/c/lex_utf8.tf\">lex_utf8</a><br><a target=\"_blank\" href=\"https://etcbc.github.io/bhsa/features/ls\" title=\"~/text-fabric-data/etcbc/bhsa/tf/c/ls.tf\">ls</a><br><a target=\"_blank\" href=\"https://etcbc.github.io/bhsa/features/nametype\" title=\"~/text-fabric-data/etcbc/bhsa/tf/c/nametype.tf\">nametype</a><br><a target=\"_blank\" href=\"https://etcbc.github.io/bhsa/features/nme\" title=\"~/text-fabric-data/etcbc/bhsa/tf/c/nme.tf\">nme</a><br><a target=\"_blank\" href=\"https://etcbc.github.io/bhsa/features/nu\" title=\"~/text-fabric-data/etcbc/bhsa/tf/c/nu.tf\">nu</a><br><a target=\"_blank\" href=\"https://etcbc.github.io/bhsa/features/number\" title=\"~/text-fabric-data/etcbc/bhsa/tf/c/number.tf\">number</a><br><a target=\"_blank\" href=\"https://etcbc.github.io/bhsa/features/otype\" title=\"~/text-fabric-data/etcbc/bhsa/tf/c/otype.tf\">otype</a><br><a target=\"_blank\" href=\"https://etcbc.github.io/bhsa/features/pargr\" title=\"~/text-fabric-data/etcbc/bhsa/tf/c/pargr.tf\">pargr</a><br><a target=\"_blank\" href=\"https://etcbc.github.io/bhsa/features/pdp\" title=\"~/text-fabric-data/etcbc/bhsa/tf/c/pdp.tf\">pdp</a><br><a target=\"_blank\" href=\"https://etcbc.github.io/bhsa/features/pfm\" title=\"~/text-fabric-data/etcbc/bhsa/tf/c/pfm.tf\">pfm</a><br><a target=\"_blank\" href=\"https://etcbc.github.io/bhsa/features/prs\" title=\"~/text-fabric-data/etcbc/bhsa/tf/c/prs.tf\">prs</a><br><a target=\"_blank\" href=\"https://etcbc.github.io/bhsa/features/prs_gn\" title=\"~/text-fabric-data/etcbc/bhsa/tf/c/prs_gn.tf\">prs_gn</a><br><a target=\"_blank\" href=\"https://etcbc.github.io/bhsa/features/prs_nu\" title=\"~/text-fabric-data/etcbc/bhsa/tf/c/prs_nu.tf\">prs_nu</a><br><a target=\"_blank\" href=\"https://etcbc.github.io/bhsa/features/prs_ps\" title=\"~/text-fabric-data/etcbc/bhsa/tf/c/prs_ps.tf\">prs_ps</a><br><a target=\"_blank\" href=\"https://etcbc.github.io/bhsa/features/ps\" title=\"~/text-fabric-data/etcbc/bhsa/tf/c/ps.tf\">ps</a><br><a target=\"_blank\" href=\"https://etcbc.github.io/bhsa/features/qere\" title=\"~/text-fabric-data/etcbc/bhsa/tf/c/qere.tf\">qere</a><br><a target=\"_blank\" href=\"https://etcbc.github.io/bhsa/features/qere_trailer\" title=\"~/text-fabric-data/etcbc/bhsa/tf/c/qere_trailer.tf\">qere_trailer</a><br><a target=\"_blank\" href=\"https://etcbc.github.io/bhsa/features/qere_trailer_utf8\" title=\"~/text-fabric-data/etcbc/bhsa/tf/c/qere_trailer_utf8.tf\">qere_trailer_utf8</a><br><a target=\"_blank\" href=\"https://etcbc.github.io/bhsa/features/qere_utf8\" title=\"~/text-fabric-data/etcbc/bhsa/tf/c/qere_utf8.tf\">qere_utf8</a><br><a target=\"_blank\" href=\"https://etcbc.github.io/bhsa/features/rank_lex\" title=\"~/text-fabric-data/etcbc/bhsa/tf/c/rank_lex.tf\">rank_lex</a><br><a target=\"_blank\" href=\"https://etcbc.github.io/bhsa/features/rela\" title=\"~/text-fabric-data/etcbc/bhsa/tf/c/rela.tf\">rela</a><br><a target=\"_blank\" href=\"https://etcbc.github.io/bhsa/features/sp\" title=\"~/text-fabric-data/etcbc/bhsa/tf/c/sp.tf\">sp</a><br><a target=\"_blank\" href=\"https://etcbc.github.io/bhsa/features/st\" title=\"~/text-fabric-data/etcbc/bhsa/tf/c/st.tf\">st</a><br><a target=\"_blank\" href=\"https://etcbc.github.io/bhsa/features/tab\" title=\"~/text-fabric-data/etcbc/bhsa/tf/c/tab.tf\">tab</a><br><a target=\"_blank\" href=\"https://etcbc.github.io/bhsa/features/trailer\" title=\"~/text-fabric-data/etcbc/bhsa/tf/c/trailer.tf\">trailer</a><br><a target=\"_blank\" href=\"https://etcbc.github.io/bhsa/features/trailer_utf8\" title=\"~/text-fabric-data/etcbc/bhsa/tf/c/trailer_utf8.tf\">trailer_utf8</a><br><a target=\"_blank\" href=\"https://etcbc.github.io/bhsa/features/txt\" title=\"~/text-fabric-data/etcbc/bhsa/tf/c/txt.tf\">txt</a><br><a target=\"_blank\" href=\"https://etcbc.github.io/bhsa/features/typ\" title=\"~/text-fabric-data/etcbc/bhsa/tf/c/typ.tf\">typ</a><br><a target=\"_blank\" href=\"https://etcbc.github.io/bhsa/features/uvf\" title=\"~/text-fabric-data/etcbc/bhsa/tf/c/uvf.tf\">uvf</a><br><a target=\"_blank\" href=\"https://etcbc.github.io/bhsa/features/vbe\" title=\"~/text-fabric-data/etcbc/bhsa/tf/c/vbe.tf\">vbe</a><br><a target=\"_blank\" href=\"https://etcbc.github.io/bhsa/features/vbs\" title=\"~/text-fabric-data/etcbc/bhsa/tf/c/vbs.tf\">vbs</a><br><a target=\"_blank\" href=\"https://etcbc.github.io/bhsa/features/verse\" title=\"~/text-fabric-data/etcbc/bhsa/tf/c/verse.tf\">verse</a><br><a target=\"_blank\" href=\"https://etcbc.github.io/bhsa/features/voc_lex\" title=\"~/text-fabric-data/etcbc/bhsa/tf/c/voc_lex.tf\">voc_lex</a><br><a target=\"_blank\" href=\"https://etcbc.github.io/bhsa/features/voc_lex_utf8\" title=\"~/text-fabric-data/etcbc/bhsa/tf/c/voc_lex_utf8.tf\">voc_lex_utf8</a><br><a target=\"_blank\" href=\"https://etcbc.github.io/bhsa/features/vs\" title=\"~/text-fabric-data/etcbc/bhsa/tf/c/vs.tf\">vs</a><br><a target=\"_blank\" href=\"https://etcbc.github.io/bhsa/features/vt\" title=\"~/text-fabric-data/etcbc/bhsa/tf/c/vt.tf\">vt</a><br><b><i><a target=\"_blank\" href=\"https://etcbc.github.io/bhsa/features/mother\" title=\"~/text-fabric-data/etcbc/bhsa/tf/c/mother.tf\">mother</a></i></b><br><b><i><a target=\"_blank\" href=\"https://etcbc.github.io/bhsa/features/oslots\" title=\"~/text-fabric-data/etcbc/bhsa/tf/c/oslots.tf\">oslots</a></i></b><br></details><details><summary><b>Phonetic Transcriptions</b></summary><a target=\"_blank\" href=\"https://nbviewer.jupyter.org/github/etcbc/phono/blob/master/programs/phono.ipynb\" title=\"~/text-fabric-data/etcbc/phono/tf/c/phono.tf\">phono</a><br><a target=\"_blank\" href=\"https://nbviewer.jupyter.org/github/etcbc/phono/blob/master/programs/phono.ipynb\" title=\"~/text-fabric-data/etcbc/phono/tf/c/phono_trailer.tf\">phono_trailer</a><br></details>"
      ],
      "text/plain": [
       "<IPython.core.display.HTML object>"
      ]
     },
     "metadata": {},
     "output_type": "display_data"
    },
    {
     "data": {
      "text/html": [
       "<style>tr.tf.ltr, td.tf.ltr, th.tf.ltr { text-align: left ! important;}\n",
       "tr.tf.rtl, td.tf.rtl, th.tf.rtl { text-align: right ! important;}\n",
       "@font-face {\n",
       "  font-family: \"Gentium Plus\";\n",
       "  src: local('Gentium Plus'), local('GentiumPlus'),\n",
       "    url('/server/static/fonts/GentiumPlus-R.woff') format('woff'),\n",
       "    url('https://github.com/annotation/text-fabric/blob/master/tf/server/static/fonts/GentiumPlus-R.woff?raw=true') format('woff');\n",
       "}\n",
       "\n",
       "@font-face {\n",
       "  font-family: \"Ezra SIL\";\n",
       "  src: local('Ezra SIL'), local('EzraSIL'),\n",
       "    url('/server/static/fonts/SILEOT.woff') format('woff'),\n",
       "    url('https://github.com/annotation/text-fabric/blob/master/tf/server/static/fonts/SILEOT.woff?raw=true') format('woff');\n",
       "}\n",
       "\n",
       "@font-face {\n",
       "  font-family: \"SBL Hebrew\";\n",
       "  src: local('SBL Hebrew'), local('SBLHebrew'),\n",
       "    url('/server/static/fonts/SBL_Hbrw.woff') format('woff'),\n",
       "    url('https://github.com/annotation/text-fabric/blob/master/tf/server/static/fonts/SBL_Hbrw.woff?raw=true') format('woff');\n",
       "}\n",
       "\n",
       "@font-face {\n",
       "  font-family: \"Estrangelo Edessa\";\n",
       "  src: local('Estrangelo Edessa'), local('EstrangeloEdessa');\n",
       "    url('/server/static/fonts/SyrCOMEdessa.woff') format('woff'),\n",
       "    url('https://github.com/annotation/text-fabric/blob/master/tf/server/static/fonts/SyrCOMEdessa.woff?raw=true') format('woff');\n",
       "}\n",
       "\n",
       "@font-face {\n",
       "  font-family: AmiriQuran;\n",
       "  font-style: normal;\n",
       "  font-weight: 400;\n",
       "  src: local('Amiri Quran'), local('AmiriQuran'),\n",
       "    url('/server/static/fonts/AmiriQuran.woff') format('woff'),\n",
       "    url('https://github.com/annotation/text-fabric/blob/master/tf/server/static/fonts/AmiriQuran.woff?raw=true') format('woff');\n",
       "}\n",
       "\n",
       "@font-face {\n",
       "  font-family: AmiriQuranColored;\n",
       "  font-style: normal;\n",
       "  font-weight: 400;\n",
       "  src: local('Amiri Quran Colored'), local('AmiriQuranColored'),\n",
       "    url('/server/static/fonts/AmiriQuranColored.woff') format('woff'),\n",
       "    url('https://github.com/annotation/text-fabric/blob/master/tf/server/static/fonts/AmiriQuranColored.woff?raw=true') format('woff');\n",
       "}\n",
       "\n",
       "@font-face {\n",
       "  font-family: \"Santakku\";\n",
       "  src: local('Santakku'),\n",
       "    url('/server/static/fonts/Santakku.woff') format('woff'),\n",
       "    url('https://github.com/annotation/text-fabric/blob/master/tf/server/static/fonts/Santakku.woff?raw=true') format('woff');\n",
       "}\n",
       "\n",
       "@font-face {\n",
       "  font-family: \"SantakkuM\";\n",
       "  src: local('SantakkuM'),\n",
       "    url('/server/static/fonts/SantakkuM.woff') format('woff'),\n",
       "    url('https://github.com/annotation/text-fabric/blob/master/tf/server/static/fonts/SantakkuM.woff?raw=true') format('woff');\n",
       "}\n",
       "/* bypassing some classical notebook settings */\n",
       "div#notebook {\n",
       "  line-height: unset;\n",
       "}\n",
       "/* neutral text */\n",
       ".txtn,.txtn a:visited,.txtn a:link {\n",
       "    font-family: sans-serif;\n",
       "    font-size: medium;\n",
       "    direction: ltr;\n",
       "    text-decoration: none;\n",
       "    color: var(--text-color);\n",
       "}\n",
       "/* transcription text */\n",
       ".txtt,.txtt a:visited,.txtt a:link {\n",
       "    font-family: monospace;\n",
       "    font-size: medium;\n",
       "    direction: ltr;\n",
       "    text-decoration: none;\n",
       "    color: var(--text-color);\n",
       "}\n",
       "/* source text */\n",
       ".txto,.txto a:visited,.txto a:link {\n",
       "    font-family: serif;\n",
       "    font-size: medium;\n",
       "    direction: ltr;\n",
       "    text-decoration: none;\n",
       "    color: var(--text-color);\n",
       "}\n",
       "/* phonetic text */\n",
       ".txtp,.txtp a:visited,.txtp a:link {\n",
       "    font-family: Gentium, sans-serif;\n",
       "    font-size: medium;\n",
       "    direction: ltr;\n",
       "    text-decoration: none;\n",
       "    color: var(--text-color);\n",
       "}\n",
       "/* original script text */\n",
       ".txtu,.txtu a:visited,.txtu a:link {\n",
       "    font-family: Gentium, sans-serif;\n",
       "    font-size: medium;\n",
       "    text-decoration: none;\n",
       "    color: var(--text-color);\n",
       "}\n",
       "/* hebrew */\n",
       ".txtu.hbo,.lex.hbo {\n",
       "    font-family: \"Ezra SIL\", \"SBL Hebrew\", sans-serif;\n",
       "    font-size: large;\n",
       "    direction: rtl ! important;\n",
       "    unicode-bidi: embed;\n",
       "}\n",
       "/* syriac */\n",
       ".txtu.syc,.lex.syc {\n",
       "    font-family: \"Estrangelo Edessa\", sans-serif;\n",
       "    font-size: medium;\n",
       "    direction: rtl ! important;\n",
       "    unicode-bidi: embed;\n",
       "}\n",
       "/* neo aramaic */\n",
       ".txtu.cld,.lex.cld {\n",
       "    font-family: \"CharisSIL-R\", sans-serif;\n",
       "    font-size: medium;\n",
       "    direction: ltr ! important;\n",
       "    unicode-bidi: embed;\n",
       "}\n",
       "/* standard arabic */\n",
       ".txtu.ara,.lex.ara {\n",
       "    font-family: \"AmiriQuran\", sans-serif;\n",
       "    font-size: large;\n",
       "    direction: rtl ! important;\n",
       "    unicode-bidi: embed;\n",
       "}\n",
       "/* cuneiform */\n",
       ".txtu.akk,.lex.akk {\n",
       "    font-family: Santakku, sans-serif;\n",
       "    font-size: large;\n",
       "    direction: ltr ! important;\n",
       "    unicode-bidi: embed;\n",
       "}\n",
       "/* greek */\n",
       ".txtu.grc,.lex.grc a:link {\n",
       "    font-family: Gentium, sans-serif;\n",
       "    font-size: medium;\n",
       "    direction: ltr ! important;\n",
       "    unicode-bidi: embed;\n",
       "}\n",
       "a:hover {\n",
       "    text-decoration: underline | important;\n",
       "    color: #0000ff | important;\n",
       "}\n",
       ".ltr {\n",
       "    direction: ltr ! important;\n",
       "}\n",
       ".rtl {\n",
       "    direction: rtl ! important;\n",
       "}\n",
       ".features {\n",
       "    font-family: monospace;\n",
       "    font-size: medium;\n",
       "    font-weight: bold;\n",
       "    color: var(--features);\n",
       "    display: flex;\n",
       "    flex-flow: column nowrap;\n",
       "    justify-content: flex-start;\n",
       "    align-items: flex-start;\n",
       "    align-content: flex-start;\n",
       "    padding: 0.1rem;\n",
       "    margin: 0.1rem;\n",
       "    direction: ltr;\n",
       "    border: var(--meta-width) solid var(--meta-color);\n",
       "    border-radius: var(--meta-width);\n",
       "}\n",
       ".features div,.features span {\n",
       "    padding: 0;\n",
       "    margin: -0.1rem 0;\n",
       "}\n",
       ".features .f {\n",
       "    font-family: sans-serif;\n",
       "    font-size: small;\n",
       "    font-weight: normal;\n",
       "    color: #5555bb;\n",
       "}\n",
       ".features .xft {\n",
       "  color: #000000;\n",
       "  background-color: #eeeeee;\n",
       "  font-size: medium;\n",
       "  margin: 0.1rem 0rem;\n",
       "}\n",
       ".features .xft .f {\n",
       "  color: #000000;\n",
       "  background-color: #eeeeee;\n",
       "  font-size: small;\n",
       "  font-weight: normal;\n",
       "}\n",
       ".section {\n",
       "    font-family: sans-serif;\n",
       "    font-size: small;\n",
       "    font-weight: bold;\n",
       "    color: var(--section);\n",
       "    unicode-bidi: embed;\n",
       "    text-align: start;\n",
       "}\n",
       ".structure {\n",
       "    font-family: sans-serif;\n",
       "    font-size: small;\n",
       "    font-weight: bold;\n",
       "    color: var(--structure);\n",
       "    unicode-bidi: embed;\n",
       "    text-align: start;\n",
       "}\n",
       ".comments {\n",
       "    display: flex;\n",
       "    justify-content: flex-start;\n",
       "    align-items: flex-start;\n",
       "    align-content: flex-start;\n",
       "    flex-flow: column nowrap;\n",
       "}\n",
       ".nd, a:link.nd {\n",
       "    font-family: sans-serif;\n",
       "    font-size: small;\n",
       "    color: var(--node);\n",
       "    vertical-align: super;\n",
       "    direction: ltr ! important;\n",
       "    unicode-bidi: embed;\n",
       "}\n",
       ".lex {\n",
       "  color: var(--lex-color);;\n",
       "}\n",
       ".children,.children.ltr {\n",
       "    display: flex;\n",
       "    border: 0;\n",
       "    background-color: #ffffff;\n",
       "    justify-content: flex-start;\n",
       "    align-items: flex-start;\n",
       "    align-content: flex-start;\n",
       "}\n",
       ".children.stretch {\n",
       "    align-items: stretch;\n",
       "}\n",
       ".children.hor {\n",
       "    flex-flow: row nowrap;\n",
       "}\n",
       ".children.hor.wrap {\n",
       "    flex-flow: row wrap;\n",
       "}\n",
       ".children.ver {\n",
       "    flex-flow: column nowrap;\n",
       "}\n",
       ".children.ver.wrap {\n",
       "    flex-flow: column wrap;\n",
       "}\n",
       ".contnr {\n",
       "    width: fit-content;\n",
       "    display: flex;\n",
       "    justify-content: flex-start;\n",
       "    align-items: flex-start;\n",
       "    align-content: flex-start;\n",
       "    flex-flow: column nowrap;\n",
       "    background: #ffffff none repeat scroll 0 0;\n",
       "    padding:  0.5rem 0.1rem 0.1rem 0.1rem;\n",
       "    margin: 0.8rem 0.1rem 0.1rem 0.1rem;\n",
       "    border-style: solid;\n",
       "    font-size: small;\n",
       "}\n",
       ".contnr.trm {\n",
       "    background-attachment: local;\n",
       "}\n",
       ".contnr.cnul {\n",
       "    padding:  0;\n",
       "    margin: 0;\n",
       "    border-style: solid;\n",
       "    font-size: xx-small;\n",
       "}\n",
       ".contnr.cnul,.lbl.cnul {\n",
       "    border-color: var(--border-color-nul);\n",
       "    border-width: var(--border-width-nul);\n",
       "    border-radius: var(--border-width-nul);\n",
       "}\n",
       ".contnr.c0,.lbl.c0 {\n",
       "    border-color: var(--border-color0);\n",
       "    border-width: var(--border-width0);\n",
       "    border-radius: var(--border-width0);\n",
       "}\n",
       ".contnr.c1,.lbl.c1 {\n",
       "    border-color: var(--border-color1);\n",
       "    border-width: var(--border-width1);\n",
       "    border-radius: var(--border-width1);\n",
       "}\n",
       ".contnr.c2,.lbl.c2 {\n",
       "    border-color: var(--border-color2);\n",
       "    border-width: var(--border-width2);\n",
       "    border-radius: var(--border-width2);\n",
       "}\n",
       ".contnr.c3,.lbl.c3 {\n",
       "    border-color: var(--border-color3);\n",
       "    border-width: var(--border-width3);\n",
       "    border-radius: var(--border-width3);\n",
       "}\n",
       ".contnr.c4,.lbl.c4 {\n",
       "    border-color: var(--border-color4);\n",
       "    border-width: var(--border-width4);\n",
       "    border-radius: var(--border-width4);\n",
       "}\n",
       "span.plain {\n",
       "    display: inline-block;\n",
       "    white-space: pre-wrap;\n",
       "}\n",
       ".plain {\n",
       "    background-color: #ffffff;\n",
       "}\n",
       ".plain.l,.contnr.l,.contnr.l>.lbl {\n",
       "    border-left-style: dotted\n",
       "}\n",
       ".plain.r,.contnr.r,.contnr.r>.lbl {\n",
       "    border-right-style: dotted\n",
       "}\n",
       ".plain.lno,.contnr.lno,.contnr.lno>.lbl {\n",
       "    border-left-style: none\n",
       "}\n",
       ".plain.rno,.contnr.rno,.contnr.rno>.lbl {\n",
       "    border-right-style: none\n",
       "}\n",
       ".plain.l {\n",
       "    padding-left: 0.2rem;\n",
       "    margin-left: 0.1rem;\n",
       "    border-width: var(--border-width-plain);\n",
       "}\n",
       ".plain.r {\n",
       "    padding-right: 0.2rem;\n",
       "    margin-right: 0.1rem;\n",
       "    border-width: var(--border-width-plain);\n",
       "}\n",
       ".lbl {\n",
       "    font-family: monospace;\n",
       "    margin-top: -1.2rem;\n",
       "    margin-left: 1rem;\n",
       "    background: #ffffff none repeat scroll 0 0;\n",
       "    padding: 0 0.3rem;\n",
       "    border-style: solid;\n",
       "    display: block;\n",
       "    color: var(--label)\n",
       "}\n",
       ".lbl.trm {\n",
       "    background-attachment: local;\n",
       "    margin-top: 0.1rem;\n",
       "    margin-left: 0.1rem;\n",
       "    padding: 0.1rem 0.1rem;\n",
       "    border-style: none;\n",
       "}\n",
       ".lbl.cnul {\n",
       "    font-size: xx-small;\n",
       "}\n",
       ".lbl.c0 {\n",
       "    font-size: small;\n",
       "}\n",
       ".lbl.c1 {\n",
       "    font-size: small;\n",
       "}\n",
       ".lbl.c2 {\n",
       "    font-size: medium;\n",
       "}\n",
       ".lbl.c3 {\n",
       "    font-size: medium;\n",
       "}\n",
       ".lbl.c4 {\n",
       "    font-size: large;\n",
       "}\n",
       ".occs, a:link.occs {\n",
       "    font-size: small;\n",
       "}\n",
       "\n",
       "/* PROVENANCE */\n",
       "\n",
       "div.prov {\n",
       "\tmargin: 2rem;\n",
       "\tpadding: 1rem;\n",
       "\tborder: 0.1rem solid var(--fog-rim);\n",
       "}\n",
       "div.pline {\n",
       "\tdisplay: flex;\n",
       "\tflex-flow: row nowrap;\n",
       "\tjustify-content: stretch;\n",
       "\talign-items: baseline;\n",
       "}\n",
       "div.p2line {\n",
       "\tmargin-left: 2em;\n",
       "\tdisplay: flex;\n",
       "\tflex-flow: row nowrap;\n",
       "\tjustify-content: stretch;\n",
       "\talign-items: baseline;\n",
       "}\n",
       "div.psline {\n",
       "\tdisplay: flex;\n",
       "\tflex-flow: row nowrap;\n",
       "\tjustify-content: stretch;\n",
       "\talign-items: baseline;\n",
       "\tbackground-color: var(--gold-mist-back);\n",
       "}\n",
       "div.pname {\n",
       "\tflex: 0 0 5rem;\n",
       "\tfont-weight: bold;\n",
       "}\n",
       "div.pval {\n",
       "    flex: 1 1 auto;\n",
       "}\n",
       "\n",
       ":root {\n",
       "\t--node:               hsla(120, 100%,  20%, 1.0  );\n",
       "\t--label:              hsla(  0, 100%,  20%, 1.0  );\n",
       "\t--section:            hsla(  0, 100%,  25%, 1.0  );\n",
       "\t--structure:          hsla(120, 100%,  25%, 1.0  );\n",
       "\t--features:           hsla(  0,   0%,  30%, 1.0  );\n",
       "  --text-color:         hsla( 60,  80%,  10%, 1.0  );\n",
       "  --lex-color:          hsla(220,  90%,  60%, 1.0  );\n",
       "  --meta-color:         hsla(  0,   0%,  90%, 0.7  );\n",
       "  --meta-width:         0.15rem;\n",
       "  --border-color-nul:   hsla(  0,   0%,  90%, 0.5  );\n",
       "  --border-color0:      hsla(  0,   0%,  90%, 0.9  );\n",
       "  --border-color1:      hsla(  0,   0%,  80%, 0.9  );\n",
       "  --border-color2:      hsla(  0,   0%,  70%, 0.9  );\n",
       "  --border-color3:      hsla(  0,   0%,  80%, 0.8  );\n",
       "  --border-color4:      hsla(  0,   0%,  60%, 0.9  );\n",
       "  --border-width-nul:   0.1rem;\n",
       "  --border-width0:      0.1rem;\n",
       "  --border-width1:      0.15rem;\n",
       "  --border-width2:      0.2rem;\n",
       "  --border-width3:      0.3rem;\n",
       "  --border-width4:      0.25rem;\n",
       "  --border-width-plain: 0.1rem;\n",
       "}\n",
       ".hl {\n",
       "  background-color: var(--hl-strong);\n",
       "}\n",
       "span.hl {\n",
       "\tbackground-color: var(--hl-strong);\n",
       "\tborder-width: 0;\n",
       "\tborder-radius: 0.1rem;\n",
       "\tborder-style: solid;\n",
       "}\n",
       "div.contnr.hl,div.lbl.hl {\n",
       "  background-color: var(--hl-strong);\n",
       "}\n",
       "div.contnr.hl {\n",
       "  border-color: var(--hl-rim) ! important;\n",
       "\tborder-width: 0.2rem ! important;\n",
       "}\n",
       "\n",
       "span.hlbx {\n",
       "\tborder-color: var(--hl-rim);\n",
       "\tborder-width: 0.2rem ! important;\n",
       "\tborder-style: solid;\n",
       "\tborder-radius: 0.3rem;\n",
       "  padding: 0.2rem;\n",
       "  margin: 0.2rem;\n",
       "}\n",
       "\n",
       "span.plain {\n",
       "  display: inline-block;\n",
       "  white-space: pre-wrap;\n",
       "}\n",
       "\n",
       ":root {\n",
       "\t--hl-strong:        hsla( 60, 100%,  70%, 0.9  );\n",
       "\t--hl-rim:           hsla( 55,  80%,  50%, 1.0  );\n",
       "}\n",
       "</style>"
      ],
      "text/plain": [
       "<IPython.core.display.HTML object>"
      ]
     },
     "metadata": {},
     "output_type": "display_data"
    }
   ],
   "source": [
    "# helper utilities\n",
    "import sys\n",
    "import re\n",
    "import collections\n",
    "from pathlib import Path\n",
    "\n",
    "# import Text-Fabric to load BHSA data\n",
    "from tf.app import use\n",
    "\n",
    "# here are some helper tools for processing the data\n",
    "import numpy as np\n",
    "import pandas as pd\n",
    "import matplotlib.pyplot as plt\n",
    "\n",
    "# load my custom stats package\n",
    "sys.path.append('../tools')\n",
    "import significance as my_stats\n",
    "\n",
    "# now we load the BHSA data and set up \n",
    "# Text-Fabric methods with short-form variables\n",
    "\n",
    "bhsa = use('bhsa')\n",
    "api = bhsa.api\n",
    "F, E, T, L = api.F, api.E, api.T, api.L"
   ]
  },
  {
   "cell_type": "markdown",
   "metadata": {},
   "source": [
    "## Contexts involving אם"
   ]
  },
  {
   "cell_type": "code",
   "execution_count": 154,
   "metadata": {},
   "outputs": [
    {
     "name": "stdout",
     "output_type": "stream",
     "text": [
      "  0.62s 1068 results\n"
     ]
    },
    {
     "data": {
      "text/html": [
       "<div>\n",
       "<style scoped>\n",
       "    .dataframe tbody tr th:only-of-type {\n",
       "        vertical-align: middle;\n",
       "    }\n",
       "\n",
       "    .dataframe tbody tr th {\n",
       "        vertical-align: top;\n",
       "    }\n",
       "\n",
       "    .dataframe thead th {\n",
       "        text-align: right;\n",
       "    }\n",
       "</style>\n",
       "<table border=\"1\" class=\"dataframe\">\n",
       "  <thead>\n",
       "    <tr style=\"text-align: right;\">\n",
       "      <th></th>\n",
       "      <th>cl_node</th>\n",
       "      <th>ref</th>\n",
       "      <th>book</th>\n",
       "      <th>txt</th>\n",
       "      <th>cl_type</th>\n",
       "      <th>domain</th>\n",
       "      <th>n_daughters</th>\n",
       "      <th>daughter_type</th>\n",
       "      <th>daughet_text</th>\n",
       "      <th>has_wd</th>\n",
       "    </tr>\n",
       "  </thead>\n",
       "  <tbody>\n",
       "    <tr>\n",
       "      <th>0</th>\n",
       "      <td>516030</td>\n",
       "      <td>Genesis 4:7</td>\n",
       "      <td>Genesis</td>\n",
       "      <td>אִם־תֵּיטִיב֙</td>\n",
       "      <td>xYq0</td>\n",
       "      <td>None</td>\n",
       "      <td>0</td>\n",
       "      <td>NaN</td>\n",
       "      <td>NaN</td>\n",
       "      <td>False</td>\n",
       "    </tr>\n",
       "    <tr>\n",
       "      <th>1</th>\n",
       "      <td>516032</td>\n",
       "      <td>Genesis 4:7</td>\n",
       "      <td>Genesis</td>\n",
       "      <td>וְאִם֙ לֹ֣א תֵיטִ֔יב</td>\n",
       "      <td>WxY0</td>\n",
       "      <td>None</td>\n",
       "      <td>1</td>\n",
       "      <td>Ptcp</td>\n",
       "      <td>לַפֶּ֖תַח חַטָּ֣את רֹבֵ֑ץ</td>\n",
       "      <td>False</td>\n",
       "    </tr>\n",
       "    <tr>\n",
       "      <th>2</th>\n",
       "      <td>516793</td>\n",
       "      <td>Genesis 13:9</td>\n",
       "      <td>Genesis</td>\n",
       "      <td>אִם־הַשְּׂמֹ֣אל</td>\n",
       "      <td>Ellp</td>\n",
       "      <td>None</td>\n",
       "      <td>2</td>\n",
       "      <td>WYq0</td>\n",
       "      <td>וְאֵימִ֔נָה</td>\n",
       "      <td>False</td>\n",
       "    </tr>\n",
       "    <tr>\n",
       "      <th>3</th>\n",
       "      <td>516795</td>\n",
       "      <td>Genesis 13:9</td>\n",
       "      <td>Genesis</td>\n",
       "      <td>וְאִם־הַיָּמִ֖ין</td>\n",
       "      <td>Ellp</td>\n",
       "      <td>None</td>\n",
       "      <td>1</td>\n",
       "      <td>WYq0</td>\n",
       "      <td>וְאַשְׂמְאִֽילָה׃</td>\n",
       "      <td>False</td>\n",
       "    </tr>\n",
       "    <tr>\n",
       "      <th>4</th>\n",
       "      <td>516823</td>\n",
       "      <td>Genesis 13:16</td>\n",
       "      <td>Genesis</td>\n",
       "      <td>אִם־יוּכַ֣ל אִ֗ישׁ</td>\n",
       "      <td>xYqX</td>\n",
       "      <td>None</td>\n",
       "      <td>1</td>\n",
       "      <td>InfC</td>\n",
       "      <td>לִמְנֹות֙ אֶת־עֲפַ֣ר הָאָ֔רֶץ</td>\n",
       "      <td>False</td>\n",
       "    </tr>\n",
       "  </tbody>\n",
       "</table>\n",
       "</div>"
      ],
      "text/plain": [
       "   cl_node            ref     book                    txt cl_type domain  \\\n",
       "0   516030    Genesis 4:7  Genesis         אִם־תֵּיטִיב֙     xYq0   None   \n",
       "1   516032    Genesis 4:7  Genesis  וְאִם֙ לֹ֣א תֵיטִ֔יב     WxY0   None   \n",
       "2   516793   Genesis 13:9  Genesis       אִם־הַשְּׂמֹ֣אל     Ellp   None   \n",
       "3   516795   Genesis 13:9  Genesis      וְאִם־הַיָּמִ֖ין     Ellp   None   \n",
       "4   516823  Genesis 13:16  Genesis    אִם־יוּכַ֣ל אִ֗ישׁ     xYqX   None   \n",
       "\n",
       "   n_daughters daughter_type                    daughet_text  has_wd  \n",
       "0            0           NaN                             NaN   False  \n",
       "1            1          Ptcp      לַפֶּ֖תַח חַטָּ֣את רֹבֵ֑ץ    False  \n",
       "2            2          WYq0                    וְאֵימִ֔נָה    False  \n",
       "3            1          WYq0              וְאַשְׂמְאִֽילָה׃    False  \n",
       "4            1          InfC  לִמְנֹות֙ אֶת־עֲפַ֣ר הָאָ֔רֶץ    False  "
      ]
     },
     "execution_count": 154,
     "metadata": {},
     "output_type": "execute_result"
    }
   ],
   "source": [
    "# we formulate 2 queries to find the relavant results\n",
    "# the queries correspond with the 2 cases outlined above:\n",
    "\n",
    "ims = bhsa.search('''\n",
    "\n",
    "c1:clause_atom\n",
    "    word lex=>M\n",
    "    \n",
    "''')\n",
    "\n",
    "wqtl_re = re.compile('W.*Qt')\n",
    "  \n",
    "\n",
    "        \n",
    "im_data = []\n",
    "\n",
    "for clause, im in ims:\n",
    "    \n",
    "    ref_tuple = T.sectionFromNode(clause)\n",
    "    ref = '{} {}:{}'.format(*ref_tuple)\n",
    "    book = ref_tuple[0]\n",
    "    clause_txt = T.text(clause)\n",
    "    clause_type = F.typ.v(clause)\n",
    "    clause_domain = F.domain.v(clause)\n",
    "    cl_daughters = E.mother.t(clause)\n",
    "    n_daughters = len(cl_daughters)\n",
    "    if cl_daughters:\n",
    "        cl_daughter = cl_daughters[0]\n",
    "    else:\n",
    "        cl_daughter = -1\n",
    "        \n",
    "    daught_qtls = [d for d in cl_daughters if wqtl_re.match(F.typ.v(d))]\n",
    "    has_wqtl_daughter = bool(daught_qtls)    \n",
    "    \n",
    "    daught_type = F.typ.v(cl_daughter) or np.nan\n",
    "    \n",
    "    im_data.append({\n",
    "        'cl_node': clause,\n",
    "        'ref': ref,\n",
    "        'book': book,\n",
    "        'txt': clause_txt,\n",
    "        'cl_type': clause_type,\n",
    "        'domain': clause_domain,\n",
    "        'n_daughters': n_daughters,\n",
    "        'daughter_type': daught_type, \n",
    "        'daughet_text': T.text(cl_daughter) or np.nan,\n",
    "        'has_wd': has_wqtl_daughter,\n",
    "    })\n",
    "    \n",
    "im_df = pd.DataFrame(im_data)\n",
    "\n",
    "im_df.head()"
   ]
  },
  {
   "cell_type": "markdown",
   "metadata": {},
   "source": [
    "**Counts of types**"
   ]
  },
  {
   "cell_type": "code",
   "execution_count": 155,
   "metadata": {},
   "outputs": [
    {
     "data": {
      "text/plain": [
       "xYq0    267\n",
       "NmCl    158\n",
       "xQt0    111\n",
       "WxY0     96\n",
       "xYqX     87\n",
       "Ellp     78\n",
       "WxYX     41\n",
       "AjCl     40\n",
       "Ptcp     34\n",
       "XYqt     26\n",
       "xQtX     24\n",
       "WxQ0     23\n",
       "Defc     21\n",
       "WXYq     15\n",
       "InfC     12\n",
       "CPen     12\n",
       "XQtl     11\n",
       "WxQX      8\n",
       "xIm0      2\n",
       "WXQt      1\n",
       "xImX      1\n",
       "Name: cl_type, dtype: int64"
      ]
     },
     "execution_count": 155,
     "metadata": {},
     "output_type": "execute_result"
    }
   ],
   "source": [
    "im_df.cl_type.value_counts()"
   ]
  },
  {
   "cell_type": "code",
   "execution_count": 159,
   "metadata": {},
   "outputs": [
    {
     "data": {
      "text/plain": [
       "False    803\n",
       "True     265\n",
       "Name: has_wd, dtype: int64"
      ]
     },
     "execution_count": 159,
     "metadata": {},
     "output_type": "execute_result"
    }
   ],
   "source": [
    "im_df.has_wd.value_counts()"
   ]
  },
  {
   "cell_type": "code",
   "execution_count": 158,
   "metadata": {},
   "outputs": [
    {
     "data": {
      "text/plain": [
       "xYq0    70\n",
       "WxY0    40\n",
       "xQt0    30\n",
       "WxYX    26\n",
       "NmCl    23\n",
       "xYqX    21\n",
       "WXYq     9\n",
       "xQtX     8\n",
       "WxQ0     7\n",
       "XYqt     7\n",
       "WxQX     5\n",
       "AjCl     5\n",
       "Defc     4\n",
       "Ptcp     3\n",
       "Ellp     2\n",
       "XQtl     2\n",
       "CPen     2\n",
       "WXQt     1\n",
       "Name: cl_type, dtype: int64"
      ]
     },
     "execution_count": 158,
     "metadata": {},
     "output_type": "execute_result"
    }
   ],
   "source": [
    "im_df[im_df.has_wd].cl_type.value_counts()"
   ]
  },
  {
   "cell_type": "markdown",
   "metadata": {},
   "source": [
    "**Counts of n_daughters**"
   ]
  },
  {
   "cell_type": "code",
   "execution_count": 15,
   "metadata": {},
   "outputs": [
    {
     "data": {
      "text/plain": [
       "1    379\n",
       "2    279\n",
       "0    258\n",
       "3    108\n",
       "4     32\n",
       "5      7\n",
       "6      5\n",
       "Name: n_daughters, dtype: int64"
      ]
     },
     "execution_count": 15,
     "metadata": {},
     "output_type": "execute_result"
    }
   ],
   "source": [
    "im_df.n_daughters.value_counts()"
   ]
  },
  {
   "cell_type": "code",
   "execution_count": 31,
   "metadata": {},
   "outputs": [
    {
     "data": {
      "text/plain": [
       "<AxesSubplot:title={'center':'N-Daughters'}>"
      ]
     },
     "execution_count": 31,
     "metadata": {},
     "output_type": "execute_result"
    },
    {
     "data": {
      "image/png": "[encoded data removed]",
      "text/plain": [
       "<Figure size 432x288 with 1 Axes>"
      ]
     },
     "metadata": {
      "needs_background": "light"
     },
     "output_type": "display_data"
    }
   ],
   "source": [
    "im_df.n_daughters.value_counts().plot(kind='bar', color='lightgrey', edgecolor='black', title='N-Daughters')"
   ]
  },
  {
   "cell_type": "markdown",
   "metadata": {},
   "source": [
    "**Daughter types**"
   ]
  },
  {
   "cell_type": "code",
   "execution_count": 32,
   "metadata": {},
   "outputs": [
    {
     "data": {
      "text/plain": [
       "WQt0    126\n",
       "xYq0     99\n",
       "InfC     96\n",
       "NmCl     67\n",
       "WxY0     50\n",
       "xQt0     44\n",
       "ZYq0     35\n",
       "WQtX     35\n",
       "ZIm0     34\n",
       "Ptcp     31\n",
       "xYqX     21\n",
       "AjCl     18\n",
       "xQtX     15\n",
       "XYqt     14\n",
       "Ellp     11\n",
       "WYq0     10\n",
       "WXYq     10\n",
       "ZQt0     10\n",
       "ZYqX      9\n",
       "Voct      9\n",
       "WxQ0      9\n",
       "Way0      8\n",
       "CPen      7\n",
       "MSyn      6\n",
       "WXQt      5\n",
       "Defc      5\n",
       "ZQtX      4\n",
       "WxYX      4\n",
       "WYqX      3\n",
       "xIm0      3\n",
       "XQtl      2\n",
       "WayX      2\n",
       "XPos      2\n",
       "WxQX      2\n",
       "InfA      1\n",
       "ZImX      1\n",
       "XImp      1\n",
       "WIm0      1\n",
       "Name: daughter_type, dtype: int64"
      ]
     },
     "execution_count": 32,
     "metadata": {},
     "output_type": "execute_result"
    }
   ],
   "source": [
    "im_df.daughter_type.value_counts()"
   ]
  },
  {
   "cell_type": "markdown",
   "metadata": {},
   "source": [
    "## Look for dependencies between mother and daughter clause types"
   ]
  },
  {
   "cell_type": "code",
   "execution_count": 35,
   "metadata": {},
   "outputs": [
    {
     "data": {
      "text/html": [
       "<div>\n",
       "<style scoped>\n",
       "    .dataframe tbody tr th:only-of-type {\n",
       "        vertical-align: middle;\n",
       "    }\n",
       "\n",
       "    .dataframe tbody tr th {\n",
       "        vertical-align: top;\n",
       "    }\n",
       "\n",
       "    .dataframe thead th {\n",
       "        text-align: right;\n",
       "    }\n",
       "</style>\n",
       "<table border=\"1\" class=\"dataframe\">\n",
       "  <thead>\n",
       "    <tr style=\"text-align: right;\">\n",
       "      <th>daughter_type</th>\n",
       "      <th>AjCl</th>\n",
       "      <th>CPen</th>\n",
       "      <th>Defc</th>\n",
       "      <th>Ellp</th>\n",
       "      <th>InfA</th>\n",
       "      <th>InfC</th>\n",
       "      <th>MSyn</th>\n",
       "      <th>NmCl</th>\n",
       "      <th>Ptcp</th>\n",
       "      <th>Voct</th>\n",
       "      <th>...</th>\n",
       "      <th>ZImX</th>\n",
       "      <th>ZQt0</th>\n",
       "      <th>ZQtX</th>\n",
       "      <th>ZYq0</th>\n",
       "      <th>ZYqX</th>\n",
       "      <th>xIm0</th>\n",
       "      <th>xQt0</th>\n",
       "      <th>xQtX</th>\n",
       "      <th>xYq0</th>\n",
       "      <th>xYqX</th>\n",
       "    </tr>\n",
       "  </thead>\n",
       "  <tbody>\n",
       "    <tr>\n",
       "      <th>xYq0</th>\n",
       "      <td>3</td>\n",
       "      <td>0</td>\n",
       "      <td>2</td>\n",
       "      <td>6</td>\n",
       "      <td>0</td>\n",
       "      <td>24</td>\n",
       "      <td>1</td>\n",
       "      <td>7</td>\n",
       "      <td>6</td>\n",
       "      <td>5</td>\n",
       "      <td>...</td>\n",
       "      <td>0</td>\n",
       "      <td>0</td>\n",
       "      <td>0</td>\n",
       "      <td>9</td>\n",
       "      <td>0</td>\n",
       "      <td>0</td>\n",
       "      <td>9</td>\n",
       "      <td>6</td>\n",
       "      <td>28</td>\n",
       "      <td>5</td>\n",
       "    </tr>\n",
       "    <tr>\n",
       "      <th>NmCl</th>\n",
       "      <td>4</td>\n",
       "      <td>3</td>\n",
       "      <td>2</td>\n",
       "      <td>0</td>\n",
       "      <td>0</td>\n",
       "      <td>10</td>\n",
       "      <td>0</td>\n",
       "      <td>17</td>\n",
       "      <td>5</td>\n",
       "      <td>0</td>\n",
       "      <td>...</td>\n",
       "      <td>1</td>\n",
       "      <td>2</td>\n",
       "      <td>0</td>\n",
       "      <td>4</td>\n",
       "      <td>4</td>\n",
       "      <td>2</td>\n",
       "      <td>6</td>\n",
       "      <td>2</td>\n",
       "      <td>10</td>\n",
       "      <td>2</td>\n",
       "    </tr>\n",
       "    <tr>\n",
       "      <th>xQt0</th>\n",
       "      <td>1</td>\n",
       "      <td>0</td>\n",
       "      <td>0</td>\n",
       "      <td>0</td>\n",
       "      <td>0</td>\n",
       "      <td>9</td>\n",
       "      <td>2</td>\n",
       "      <td>5</td>\n",
       "      <td>1</td>\n",
       "      <td>2</td>\n",
       "      <td>...</td>\n",
       "      <td>0</td>\n",
       "      <td>4</td>\n",
       "      <td>2</td>\n",
       "      <td>6</td>\n",
       "      <td>1</td>\n",
       "      <td>0</td>\n",
       "      <td>5</td>\n",
       "      <td>0</td>\n",
       "      <td>7</td>\n",
       "      <td>1</td>\n",
       "    </tr>\n",
       "    <tr>\n",
       "      <th>WxY0</th>\n",
       "      <td>0</td>\n",
       "      <td>0</td>\n",
       "      <td>1</td>\n",
       "      <td>0</td>\n",
       "      <td>0</td>\n",
       "      <td>9</td>\n",
       "      <td>1</td>\n",
       "      <td>4</td>\n",
       "      <td>4</td>\n",
       "      <td>0</td>\n",
       "      <td>...</td>\n",
       "      <td>0</td>\n",
       "      <td>0</td>\n",
       "      <td>0</td>\n",
       "      <td>4</td>\n",
       "      <td>0</td>\n",
       "      <td>0</td>\n",
       "      <td>4</td>\n",
       "      <td>0</td>\n",
       "      <td>13</td>\n",
       "      <td>2</td>\n",
       "    </tr>\n",
       "    <tr>\n",
       "      <th>xYqX</th>\n",
       "      <td>0</td>\n",
       "      <td>2</td>\n",
       "      <td>0</td>\n",
       "      <td>0</td>\n",
       "      <td>1</td>\n",
       "      <td>8</td>\n",
       "      <td>1</td>\n",
       "      <td>5</td>\n",
       "      <td>4</td>\n",
       "      <td>0</td>\n",
       "      <td>...</td>\n",
       "      <td>0</td>\n",
       "      <td>0</td>\n",
       "      <td>0</td>\n",
       "      <td>4</td>\n",
       "      <td>0</td>\n",
       "      <td>0</td>\n",
       "      <td>1</td>\n",
       "      <td>0</td>\n",
       "      <td>17</td>\n",
       "      <td>3</td>\n",
       "    </tr>\n",
       "  </tbody>\n",
       "</table>\n",
       "<p>5 rows × 38 columns</p>\n",
       "</div>"
      ],
      "text/plain": [
       "daughter_type  AjCl  CPen  Defc  Ellp  InfA  InfC  MSyn  NmCl  Ptcp  Voct  \\\n",
       "xYq0              3     0     2     6     0    24     1     7     6     5   \n",
       "NmCl              4     3     2     0     0    10     0    17     5     0   \n",
       "xQt0              1     0     0     0     0     9     2     5     1     2   \n",
       "WxY0              0     0     1     0     0     9     1     4     4     0   \n",
       "xYqX              0     2     0     0     1     8     1     5     4     0   \n",
       "\n",
       "daughter_type  ...  ZImX  ZQt0  ZQtX  ZYq0  ZYqX  xIm0  xQt0  xQtX  xYq0  xYqX  \n",
       "xYq0           ...     0     0     0     9     0     0     9     6    28     5  \n",
       "NmCl           ...     1     2     0     4     4     2     6     2    10     2  \n",
       "xQt0           ...     0     4     2     6     1     0     5     0     7     1  \n",
       "WxY0           ...     0     0     0     4     0     0     4     0    13     2  \n",
       "xYqX           ...     0     0     0     4     0     0     1     0    17     3  \n",
       "\n",
       "[5 rows x 38 columns]"
      ]
     },
     "execution_count": 35,
     "metadata": {},
     "output_type": "execute_result"
    }
   ],
   "source": [
    "moda_counts = pd.pivot_table(\n",
    "    im_df,\n",
    "    index='cl_type',\n",
    "    columns='daughter_type',\n",
    "    fill_value=0,\n",
    "    aggfunc='size',\n",
    ")\n",
    "\n",
    "# sort by greatest sums\n",
    "moda_counts = moda_counts.loc[im_df.cl_type.value_counts().index]\n",
    "\n",
    "moda_counts.head()"
   ]
  },
  {
   "cell_type": "markdown",
   "metadata": {},
   "source": [
    "### Apply ΔP significance test"
   ]
  },
  {
   "cell_type": "code",
   "execution_count": 37,
   "metadata": {},
   "outputs": [
    {
     "data": {
      "text/html": [
       "<div>\n",
       "<style scoped>\n",
       "    .dataframe tbody tr th:only-of-type {\n",
       "        vertical-align: middle;\n",
       "    }\n",
       "\n",
       "    .dataframe tbody tr th {\n",
       "        vertical-align: top;\n",
       "    }\n",
       "\n",
       "    .dataframe thead th {\n",
       "        text-align: right;\n",
       "    }\n",
       "</style>\n",
       "<table border=\"1\" class=\"dataframe\">\n",
       "  <thead>\n",
       "    <tr style=\"text-align: right;\">\n",
       "      <th>daughter_type</th>\n",
       "      <th>AjCl</th>\n",
       "      <th>CPen</th>\n",
       "      <th>Defc</th>\n",
       "      <th>Ellp</th>\n",
       "      <th>InfA</th>\n",
       "      <th>InfC</th>\n",
       "      <th>MSyn</th>\n",
       "      <th>NmCl</th>\n",
       "      <th>Ptcp</th>\n",
       "      <th>Voct</th>\n",
       "      <th>...</th>\n",
       "      <th>ZImX</th>\n",
       "      <th>ZQt0</th>\n",
       "      <th>ZQtX</th>\n",
       "      <th>ZYq0</th>\n",
       "      <th>ZYqX</th>\n",
       "      <th>xIm0</th>\n",
       "      <th>xQt0</th>\n",
       "      <th>xQtX</th>\n",
       "      <th>xYq0</th>\n",
       "      <th>xYqX</th>\n",
       "    </tr>\n",
       "  </thead>\n",
       "  <tbody>\n",
       "    <tr>\n",
       "      <th>xYq0</th>\n",
       "      <td>-0.009241</td>\n",
       "      <td>-0.011419</td>\n",
       "      <td>0.005258</td>\n",
       "      <td>0.022300</td>\n",
       "      <td>-0.001631</td>\n",
       "      <td>0.004372</td>\n",
       "      <td>-0.003080</td>\n",
       "      <td>-0.062346</td>\n",
       "      <td>-0.010326</td>\n",
       "      <td>0.018855</td>\n",
       "      <td>...</td>\n",
       "      <td>-0.001631</td>\n",
       "      <td>-0.016313</td>\n",
       "      <td>-0.006525</td>\n",
       "      <td>0.003271</td>\n",
       "      <td>-0.014682</td>\n",
       "      <td>-0.004894</td>\n",
       "      <td>-0.011411</td>\n",
       "      <td>0.015775</td>\n",
       "      <td>0.026308</td>\n",
       "      <td>-0.000720</td>\n",
       "    </tr>\n",
       "    <tr>\n",
       "      <th>NmCl</th>\n",
       "      <td>0.016364</td>\n",
       "      <td>0.021558</td>\n",
       "      <td>0.013896</td>\n",
       "      <td>-0.015714</td>\n",
       "      <td>-0.001429</td>\n",
       "      <td>-0.031948</td>\n",
       "      <td>-0.008571</td>\n",
       "      <td>0.083117</td>\n",
       "      <td>0.008312</td>\n",
       "      <td>-0.012857</td>\n",
       "      <td>...</td>\n",
       "      <td>0.009091</td>\n",
       "      <td>0.006753</td>\n",
       "      <td>-0.005714</td>\n",
       "      <td>-0.007922</td>\n",
       "      <td>0.029221</td>\n",
       "      <td>0.016753</td>\n",
       "      <td>0.000260</td>\n",
       "      <td>-0.000390</td>\n",
       "      <td>-0.036234</td>\n",
       "      <td>-0.008961</td>\n",
       "    </tr>\n",
       "    <tr>\n",
       "      <th>xQt0</th>\n",
       "      <td>-0.011853</td>\n",
       "      <td>-0.009669</td>\n",
       "      <td>-0.006906</td>\n",
       "      <td>-0.015193</td>\n",
       "      <td>-0.001381</td>\n",
       "      <td>-0.015515</td>\n",
       "      <td>0.017731</td>\n",
       "      <td>-0.027496</td>\n",
       "      <td>-0.029809</td>\n",
       "      <td>0.013587</td>\n",
       "      <td>...</td>\n",
       "      <td>-0.001381</td>\n",
       "      <td>0.038224</td>\n",
       "      <td>0.020493</td>\n",
       "      <td>0.029712</td>\n",
       "      <td>0.000578</td>\n",
       "      <td>-0.004144</td>\n",
       "      <td>0.004272</td>\n",
       "      <td>-0.020718</td>\n",
       "      <td>-0.045676</td>\n",
       "      <td>-0.015996</td>\n",
       "    </tr>\n",
       "    <tr>\n",
       "      <th>WxY0</th>\n",
       "      <td>-0.024658</td>\n",
       "      <td>-0.009589</td>\n",
       "      <td>0.007021</td>\n",
       "      <td>-0.015068</td>\n",
       "      <td>-0.001370</td>\n",
       "      <td>-0.006678</td>\n",
       "      <td>0.005651</td>\n",
       "      <td>-0.036301</td>\n",
       "      <td>0.013014</td>\n",
       "      <td>-0.012329</td>\n",
       "      <td>...</td>\n",
       "      <td>-0.001370</td>\n",
       "      <td>-0.013699</td>\n",
       "      <td>-0.005479</td>\n",
       "      <td>0.007534</td>\n",
       "      <td>-0.012329</td>\n",
       "      <td>-0.004110</td>\n",
       "      <td>-0.004795</td>\n",
       "      <td>-0.020548</td>\n",
       "      <td>0.044692</td>\n",
       "      <td>-0.001027</td>\n",
       "    </tr>\n",
       "    <tr>\n",
       "      <th>xYqX</th>\n",
       "      <td>-0.024490</td>\n",
       "      <td>0.019864</td>\n",
       "      <td>-0.006803</td>\n",
       "      <td>-0.014966</td>\n",
       "      <td>0.013333</td>\n",
       "      <td>-0.013061</td>\n",
       "      <td>0.006531</td>\n",
       "      <td>-0.017687</td>\n",
       "      <td>0.016599</td>\n",
       "      <td>-0.012245</td>\n",
       "      <td>...</td>\n",
       "      <td>-0.001361</td>\n",
       "      <td>-0.013605</td>\n",
       "      <td>-0.005442</td>\n",
       "      <td>0.011156</td>\n",
       "      <td>-0.012245</td>\n",
       "      <td>-0.004082</td>\n",
       "      <td>-0.045170</td>\n",
       "      <td>-0.020408</td>\n",
       "      <td>0.115102</td>\n",
       "      <td>0.015510</td>\n",
       "    </tr>\n",
       "  </tbody>\n",
       "</table>\n",
       "<p>5 rows × 38 columns</p>\n",
       "</div>"
      ],
      "text/plain": [
       "daughter_type      AjCl      CPen      Defc      Ellp      InfA      InfC  \\\n",
       "xYq0          -0.009241 -0.011419  0.005258  0.022300 -0.001631  0.004372   \n",
       "NmCl           0.016364  0.021558  0.013896 -0.015714 -0.001429 -0.031948   \n",
       "xQt0          -0.011853 -0.009669 -0.006906 -0.015193 -0.001381 -0.015515   \n",
       "WxY0          -0.024658 -0.009589  0.007021 -0.015068 -0.001370 -0.006678   \n",
       "xYqX          -0.024490  0.019864 -0.006803 -0.014966  0.013333 -0.013061   \n",
       "\n",
       "daughter_type      MSyn      NmCl      Ptcp      Voct  ...      ZImX  \\\n",
       "xYq0          -0.003080 -0.062346 -0.010326  0.018855  ... -0.001631   \n",
       "NmCl          -0.008571  0.083117  0.008312 -0.012857  ...  0.009091   \n",
       "xQt0           0.017731 -0.027496 -0.029809  0.013587  ... -0.001381   \n",
       "WxY0           0.005651 -0.036301  0.013014 -0.012329  ... -0.001370   \n",
       "xYqX           0.006531 -0.017687  0.016599 -0.012245  ... -0.001361   \n",
       "\n",
       "daughter_type      ZQt0      ZQtX      ZYq0      ZYqX      xIm0      xQt0  \\\n",
       "xYq0          -0.016313 -0.006525  0.003271 -0.014682 -0.004894 -0.011411   \n",
       "NmCl           0.006753 -0.005714 -0.007922  0.029221  0.016753  0.000260   \n",
       "xQt0           0.038224  0.020493  0.029712  0.000578 -0.004144  0.004272   \n",
       "WxY0          -0.013699 -0.005479  0.007534 -0.012329 -0.004110 -0.004795   \n",
       "xYqX          -0.013605 -0.005442  0.011156 -0.012245 -0.004082 -0.045170   \n",
       "\n",
       "daughter_type      xQtX      xYq0      xYqX  \n",
       "xYq0           0.015775  0.026308 -0.000720  \n",
       "NmCl          -0.000390 -0.036234 -0.008961  \n",
       "xQt0          -0.020718 -0.045676 -0.015996  \n",
       "WxY0          -0.020548  0.044692 -0.001027  \n",
       "xYqX          -0.020408  0.115102  0.015510  \n",
       "\n",
       "[5 rows x 38 columns]"
      ]
     },
     "execution_count": 37,
     "metadata": {},
     "output_type": "execute_result"
    }
   ],
   "source": [
    "moda_dp = my_stats.apply_deltaP(moda_counts, 0, 1)\n",
    "\n",
    "moda_dp.head()"
   ]
  },
  {
   "cell_type": "markdown",
   "metadata": {},
   "source": [
    "Browse results with respect to specific mother types."
   ]
  },
  {
   "cell_type": "code",
   "execution_count": 50,
   "metadata": {},
   "outputs": [
    {
     "data": {
      "text/plain": [
       "33"
      ]
     },
     "execution_count": 50,
     "metadata": {},
     "output_type": "execute_result"
    }
   ],
   "source": [
    "moda_counts.loc['xYq0']['WQt0']"
   ]
  },
  {
   "cell_type": "code",
   "execution_count": 49,
   "metadata": {},
   "outputs": [
    {
     "name": "stdout",
     "output_type": "stream",
     "text": [
      "xYq0 267\n"
     ]
    },
    {
     "data": {
      "text/plain": [
       "daughter_type\n",
       "WxY0    0.106243\n",
       "xYq0    0.026308\n",
       "Ellp    0.022300\n",
       "Voct    0.018855\n",
       "WYq0    0.017224\n",
       "WQt0    0.015800\n",
       "xQtX    0.015775\n",
       "Defc    0.005258\n",
       "InfC    0.004372\n",
       "XQtl    0.003445\n",
       "XPos    0.003445\n",
       "ZYq0    0.003271\n",
       "WxYX    0.000182\n",
       "Name: xYq0, dtype: float64"
      ]
     },
     "metadata": {},
     "output_type": "display_data"
    },
    {
     "name": "stdout",
     "output_type": "stream",
     "text": [
      "--------------------\n",
      "\n",
      "NmCl 158\n"
     ]
    },
    {
     "data": {
      "text/plain": [
       "daughter_type\n",
       "NmCl    0.083117\n",
       "ZYqX    0.029221\n",
       "ZIm0    0.025065\n",
       "CPen    0.021558\n",
       "xIm0    0.016753\n",
       "AjCl    0.016364\n",
       "Defc    0.013896\n",
       "WQtX    0.013117\n",
       "ZImX    0.009091\n",
       "XImp    0.009091\n",
       "Ptcp    0.008312\n",
       "XQtl    0.007662\n",
       "ZQt0    0.006753\n",
       "WXQt    0.003377\n",
       "XYqt    0.001039\n",
       "xQt0    0.000260\n",
       "Name: NmCl, dtype: float64"
      ]
     },
     "metadata": {},
     "output_type": "display_data"
    },
    {
     "name": "stdout",
     "output_type": "stream",
     "text": [
      "--------------------\n",
      "\n",
      "xQt0 111\n"
     ]
    },
    {
     "data": {
      "text/plain": [
       "daughter_type\n",
       "Way0    0.067005\n",
       "WQt0    0.047122\n",
       "ZQt0    0.038224\n",
       "ZYq0    0.029712\n",
       "ZQtX    0.020493\n",
       "ZIm0    0.018084\n",
       "MSyn    0.017731\n",
       "WxQ0    0.013587\n",
       "Voct    0.013587\n",
       "XPos    0.010247\n",
       "WayX    0.010247\n",
       "WYqX    0.008865\n",
       "xQt0    0.004272\n",
       "WQtX    0.003694\n",
       "ZYqX    0.000578\n",
       "Name: xQt0, dtype: float64"
      ]
     },
     "metadata": {},
     "output_type": "display_data"
    },
    {
     "name": "stdout",
     "output_type": "stream",
     "text": [
      "--------------------\n",
      "\n",
      "WxY0 96\n"
     ]
    },
    {
     "data": {
      "text/plain": [
       "daughter_type\n",
       "WQt0    0.104795\n",
       "xYq0    0.044692\n",
       "WQtX    0.035274\n",
       "Ptcp    0.013014\n",
       "XYqt    0.008562\n",
       "WxYX    0.008390\n",
       "ZYq0    0.007534\n",
       "Defc    0.007021\n",
       "MSyn    0.005651\n",
       "WxQ0    0.001541\n",
       "WxY0    0.000856\n",
       "Name: WxY0, dtype: float64"
      ]
     },
     "metadata": {},
     "output_type": "display_data"
    },
    {
     "name": "stdout",
     "output_type": "stream",
     "text": [
      "--------------------\n",
      "\n",
      "xYqX 87\n"
     ]
    },
    {
     "data": {
      "text/plain": [
       "daughter_type\n",
       "xYq0    0.115102\n",
       "WXYq    0.059864\n",
       "CPen    0.019864\n",
       "Ptcp    0.016599\n",
       "xYqX    0.015510\n",
       "InfA    0.013333\n",
       "WxQX    0.011973\n",
       "ZYq0    0.011156\n",
       "WQtX    0.011156\n",
       "WYqX    0.010612\n",
       "WxYX    0.009252\n",
       "WXQt    0.007891\n",
       "MSyn    0.006531\n",
       "WQt0    0.004898\n",
       "Name: xYqX, dtype: float64"
      ]
     },
     "metadata": {},
     "output_type": "display_data"
    },
    {
     "name": "stdout",
     "output_type": "stream",
     "text": [
      "--------------------\n",
      "\n",
      "Ellp 78\n"
     ]
    },
    {
     "data": {
      "text/plain": [
       "daughter_type\n",
       "xQt0    0.074351\n",
       "WYq0    0.065909\n",
       "Ptcp    0.064935\n",
       "ZQt0    0.039610\n",
       "Ellp    0.038312\n",
       "AjCl    0.029221\n",
       "xYqX    0.025325\n",
       "WayX    0.023701\n",
       "MSyn    0.018506\n",
       "NmCl    0.018182\n",
       "CPen    0.017208\n",
       "WxY0    0.013961\n",
       "ZIm0    0.008442\n",
       "XYqt    0.008117\n",
       "xQtX    0.006818\n",
       "Name: Ellp, dtype: float64"
      ]
     },
     "metadata": {},
     "output_type": "display_data"
    },
    {
     "name": "stdout",
     "output_type": "stream",
     "text": [
      "--------------------\n",
      "\n",
      "WxYX 41\n"
     ]
    },
    {
     "data": {
      "text/plain": [
       "daughter_type\n",
       "WQtX    0.112338\n",
       "InfC    0.085714\n",
       "xQt0    0.048052\n",
       "WQt0    0.046753\n",
       "WYqX    0.022403\n",
       "ZQt0    0.013312\n",
       "Ellp    0.012013\n",
       "XYqt    0.008117\n",
       "AjCl    0.002922\n",
       "Name: WxYX, dtype: float64"
      ]
     },
     "metadata": {},
     "output_type": "display_data"
    },
    {
     "name": "stdout",
     "output_type": "stream",
     "text": [
      "--------------------\n",
      "\n",
      "AjCl 40\n"
     ]
    },
    {
     "data": {
      "text/plain": [
       "daughter_type\n",
       "AjCl    0.183439\n",
       "ZIm0    0.080510\n",
       "ZYqX    0.071083\n",
       "WxQ0    0.071083\n",
       "NmCl    0.038471\n",
       "ZYq0    0.037962\n",
       "WxYX    0.036178\n",
       "ZQt0    0.028535\n",
       "XYqt    0.023439\n",
       "Ptcp    0.001783\n",
       "Name: AjCl, dtype: float64"
      ]
     },
     "metadata": {},
     "output_type": "display_data"
    },
    {
     "name": "stdout",
     "output_type": "stream",
     "text": [
      "--------------------\n",
      "\n",
      "Ptcp 34\n"
     ]
    },
    {
     "data": {
      "text/plain": [
       "daughter_type\n",
       "ZIm0    0.148148\n",
       "InfC    0.145594\n",
       "Ptcp    0.037037\n",
       "ZYq0    0.031928\n",
       "NmCl    0.029374\n",
       "Voct    0.026820\n",
       "xYq0    0.026820\n",
       "Name: Ptcp, dtype: float64"
      ]
     },
     "metadata": {},
     "output_type": "display_data"
    },
    {
     "name": "stdout",
     "output_type": "stream",
     "text": [
      "--------------------\n",
      "\n",
      "XYqt 26\n"
     ]
    },
    {
     "data": {
      "text/plain": [
       "daughter_type\n",
       "WXYq    0.085099\n",
       "xQtX    0.078762\n",
       "CPen    0.040014\n",
       "Ellp    0.034945\n",
       "WxY0    0.034402\n",
       "XYqt    0.031142\n",
       "xYqX    0.022271\n",
       "ZYq0    0.004527\n",
       "WQtX    0.004527\n",
       "Name: XYqt, dtype: float64"
      ]
     },
     "metadata": {},
     "output_type": "display_data"
    },
    {
     "name": "stdout",
     "output_type": "stream",
     "text": [
      "--------------------\n",
      "\n",
      "xQtX 24\n"
     ]
    },
    {
     "data": {
      "text/plain": [
       "daughter_type\n",
       "WxQ0    0.150309\n",
       "NmCl    0.076984\n",
       "WxQX    0.051367\n",
       "ZQtX    0.048839\n",
       "WXQt    0.047575\n",
       "WxY0    0.044580\n",
       "ZYqX    0.042518\n",
       "XYqt    0.036197\n",
       "xQtX    0.034932\n",
       "WQtX    0.009648\n",
       "WQt0    0.002395\n",
       "Name: xQtX, dtype: float64"
      ]
     },
     "metadata": {},
     "output_type": "display_data"
    },
    {
     "name": "stdout",
     "output_type": "stream",
     "text": [
      "--------------------\n",
      "\n",
      "WxQ0 23\n"
     ]
    },
    {
     "data": {
      "text/plain": [
       "daughter_type\n",
       "xQt0    0.106062\n",
       "InfC    0.094218\n",
       "WQt0    0.056291\n",
       "xIm0    0.050103\n",
       "Way0    0.043782\n",
       "WxQ0    0.042518\n",
       "WYq0    0.041254\n",
       "xQtX    0.034932\n",
       "NmCl    0.023089\n",
       "ZIm0    0.010912\n",
       "Name: WxQ0, dtype: float64"
      ]
     },
     "metadata": {},
     "output_type": "display_data"
    },
    {
     "name": "stdout",
     "output_type": "stream",
     "text": [
      "--------------------\n",
      "\n",
      "Defc 21\n"
     ]
    },
    {
     "data": {
      "text/plain": [
       "daughter_type\n",
       "NmCl    0.208401\n",
       "xYqX    0.120043\n",
       "ZYq0    0.053413\n",
       "xQt0    0.042006\n",
       "xQtX    0.029875\n",
       "AjCl    0.026073\n",
       "InfC    0.024986\n",
       "Ptcp    0.009596\n",
       "Name: Defc, dtype: float64"
      ]
     },
     "metadata": {},
     "output_type": "display_data"
    },
    {
     "name": "stdout",
     "output_type": "stream",
     "text": [
      "--------------------\n",
      "\n",
      "WXYq 15\n"
     ]
    },
    {
     "data": {
      "text/plain": [
       "daughter_type\n",
       "WQt0    0.55125\n",
       "Ptcp    0.06250\n",
       "WQtX    0.05750\n",
       "Name: WXYq, dtype: float64"
      ]
     },
     "metadata": {},
     "output_type": "display_data"
    },
    {
     "name": "stdout",
     "output_type": "stream",
     "text": [
      "--------------------\n",
      "\n",
      "InfC 12\n"
     ]
    },
    {
     "data": {
      "text/plain": [
       "daughter_type\n",
       "InfC    0.312756\n",
       "NmCl    0.204768\n",
       "Ptcp    0.105497\n",
       "ZYq0    0.100516\n",
       "Name: InfC, dtype: float64"
      ]
     },
     "metadata": {},
     "output_type": "display_data"
    },
    {
     "name": "stdout",
     "output_type": "stream",
     "text": [
      "--------------------\n",
      "\n",
      "CPen 12\n"
     ]
    },
    {
     "data": {
      "text/plain": [
       "daughter_type\n",
       "xYq0    0.298872\n",
       "xYqX    0.142857\n",
       "xQt0    0.114035\n",
       "XYqt    0.067043\n",
       "Ptcp    0.045739\n",
       "NmCl    0.000627\n",
       "Name: CPen, dtype: float64"
      ]
     },
     "metadata": {},
     "output_type": "display_data"
    },
    {
     "name": "stdout",
     "output_type": "stream",
     "text": [
      "--------------------\n",
      "\n",
      "XQtl 11\n"
     ]
    },
    {
     "data": {
      "text/plain": [
       "daughter_type\n",
       "xYq0    0.213483\n",
       "WXQt    0.106117\n",
       "Way0    0.102372\n",
       "ZYqX    0.101124\n",
       "Voct    0.101124\n",
       "Ellp    0.098627\n",
       "Name: XQtl, dtype: float64"
      ]
     },
     "metadata": {},
     "output_type": "display_data"
    },
    {
     "name": "stdout",
     "output_type": "stream",
     "text": [
      "--------------------\n",
      "\n",
      "WxQX 8\n"
     ]
    },
    {
     "data": {
      "text/plain": [
       "daughter_type\n",
       "InfC    0.132793\n",
       "WXQt    0.120012\n",
       "xQtX    0.107544\n",
       "AjCl    0.103803\n",
       "xQt0    0.071384\n",
       "NmCl    0.042706\n",
       "Name: WxQX, dtype: float64"
      ]
     },
     "metadata": {},
     "output_type": "display_data"
    },
    {
     "name": "stdout",
     "output_type": "stream",
     "text": [
      "--------------------\n",
      "\n",
      "xIm0 2\n"
     ]
    },
    {
     "data": {
      "text/plain": [
       "daughter_type\n",
       "WIm0    0.500000\n",
       "ZQtX    0.496287\n",
       "Name: xIm0, dtype: float64"
      ]
     },
     "metadata": {},
     "output_type": "display_data"
    },
    {
     "name": "stdout",
     "output_type": "stream",
     "text": [
      "--------------------\n",
      "\n",
      "WXQt 1\n"
     ]
    },
    {
     "data": {
      "text/plain": [
       "daughter_type\n",
       "WQt0    0.845488\n",
       "Name: WXQt, dtype: float64"
      ]
     },
     "metadata": {},
     "output_type": "display_data"
    },
    {
     "name": "stdout",
     "output_type": "stream",
     "text": [
      "--------------------\n",
      "\n",
      "xImX 1\n"
     ]
    },
    {
     "data": {
      "text/plain": [
       "daughter_type\n",
       "ZIm0    0.959209\n",
       "Name: xImX, dtype: float64"
      ]
     },
     "metadata": {},
     "output_type": "display_data"
    },
    {
     "name": "stdout",
     "output_type": "stream",
     "text": [
      "--------------------\n",
      "\n"
     ]
    }
   ],
   "source": [
    "for mtype,value in im_df.cl_type.value_counts().items():\n",
    "    \n",
    "    dp_values = moda_dp.loc[mtype]\n",
    "    \n",
    "    print(mtype, value)\n",
    "    display(dp_values[dp_values > 0].sort_values(ascending=False))\n",
    "    print('-'*20)\n",
    "    print()"
   ]
  },
  {
   "cell_type": "code",
   "execution_count": 57,
   "metadata": {},
   "outputs": [
    {
     "data": {
      "text/html": [
       "<div>\n",
       "<style scoped>\n",
       "    .dataframe tbody tr th:only-of-type {\n",
       "        vertical-align: middle;\n",
       "    }\n",
       "\n",
       "    .dataframe tbody tr th {\n",
       "        vertical-align: top;\n",
       "    }\n",
       "\n",
       "    .dataframe thead th {\n",
       "        text-align: right;\n",
       "    }\n",
       "</style>\n",
       "<table border=\"1\" class=\"dataframe\">\n",
       "  <thead>\n",
       "    <tr style=\"text-align: right;\">\n",
       "      <th></th>\n",
       "      <th>ref</th>\n",
       "      <th>book</th>\n",
       "      <th>txt</th>\n",
       "      <th>cl_type</th>\n",
       "      <th>domain</th>\n",
       "      <th>n_daughters</th>\n",
       "      <th>daughter_type</th>\n",
       "      <th>daughet_text</th>\n",
       "    </tr>\n",
       "  </thead>\n",
       "  <tbody>\n",
       "    <tr>\n",
       "      <th>43</th>\n",
       "      <td>Genesis 31:52</td>\n",
       "      <td>Genesis</td>\n",
       "      <td>וְאִם־אַ֠תָּה לֹא־תַעֲבֹ֨ר אֵלַ֜י אֶת־הַגַּ֥ל ...</td>\n",
       "      <td>WXYq</td>\n",
       "      <td>None</td>\n",
       "      <td>0</td>\n",
       "      <td>NaN</td>\n",
       "      <td>NaN</td>\n",
       "    </tr>\n",
       "    <tr>\n",
       "      <th>105</th>\n",
       "      <td>Exodus 21:23</td>\n",
       "      <td>Exodus</td>\n",
       "      <td>וְאִם־אָסֹ֖ון יִהְיֶ֑ה</td>\n",
       "      <td>WXYq</td>\n",
       "      <td>None</td>\n",
       "      <td>1</td>\n",
       "      <td>WQt0</td>\n",
       "      <td>וְנָתַתָּ֥ה נֶ֖פֶשׁ תַּ֥חַת נָֽפֶשׁ׃</td>\n",
       "    </tr>\n",
       "    <tr>\n",
       "      <th>150</th>\n",
       "      <td>Leviticus 4:13</td>\n",
       "      <td>Leviticus</td>\n",
       "      <td>וְאִ֨ם כָּל־עֲדַ֤ת יִשְׂרָאֵל֙ יִשְׁגּ֔וּ</td>\n",
       "      <td>WXYq</td>\n",
       "      <td>None</td>\n",
       "      <td>2</td>\n",
       "      <td>WQtX</td>\n",
       "      <td>וְנֶעְלַ֣ם דָּבָ֔ר מֵעֵינֵ֖י הַקָּהָ֑ל</td>\n",
       "    </tr>\n",
       "    <tr>\n",
       "      <th>151</th>\n",
       "      <td>Leviticus 4:27</td>\n",
       "      <td>Leviticus</td>\n",
       "      <td>וְאִם־נֶ֧פֶשׁ אַחַ֛ת תֶּחֱטָ֥א בִשְׁגָגָ֖ה מֵע...</td>\n",
       "      <td>WXYq</td>\n",
       "      <td>None</td>\n",
       "      <td>3</td>\n",
       "      <td>InfC</td>\n",
       "      <td>בַּ֠עֲשֹׂתָהּ אַחַ֨ת מִמִּצְוֹ֧ת יְהוָ֛ה</td>\n",
       "    </tr>\n",
       "    <tr>\n",
       "      <th>213</th>\n",
       "      <td>Leviticus 27:15</td>\n",
       "      <td>Leviticus</td>\n",
       "      <td>וְאִ֨ם־הַמַּקְדִּ֔ישׁ יִגְאַ֖ל אֶת־בֵּיתֹ֑ו</td>\n",
       "      <td>WXYq</td>\n",
       "      <td>None</td>\n",
       "      <td>1</td>\n",
       "      <td>WQt0</td>\n",
       "      <td>וְ֠יָסַף חֲמִישִׁ֧ית כֶּֽסֶף־עֶרְכְּךָ֛ עָלָ֖יו</td>\n",
       "    </tr>\n",
       "    <tr>\n",
       "      <th>252</th>\n",
       "      <td>Numbers 15:27</td>\n",
       "      <td>Numbers</td>\n",
       "      <td>וְאִם־נֶ֥פֶשׁ אַחַ֖ת תֶּחֱטָ֣א בִשְׁגָגָ֑ה</td>\n",
       "      <td>WXYq</td>\n",
       "      <td>None</td>\n",
       "      <td>3</td>\n",
       "      <td>WQt0</td>\n",
       "      <td>וְהִקְרִ֛יבָה עֵ֥ז בַּת־שְׁנָתָ֖הּ לְחַטָּֽאת׃</td>\n",
       "    </tr>\n",
       "    <tr>\n",
       "      <th>407</th>\n",
       "      <td>1_Samuel 17:9</td>\n",
       "      <td>1_Samuel</td>\n",
       "      <td>וְאִם־אֲנִ֤י אֽוּכַל־לֹו֙</td>\n",
       "      <td>WXYq</td>\n",
       "      <td>None</td>\n",
       "      <td>1</td>\n",
       "      <td>WQt0</td>\n",
       "      <td>וְהִכִּיתִ֔יו</td>\n",
       "    </tr>\n",
       "    <tr>\n",
       "      <th>444</th>\n",
       "      <td>2_Samuel 10:11</td>\n",
       "      <td>2_Samuel</td>\n",
       "      <td>וְאִם־בְּנֵ֤י עַמֹּון֙ יֶחֱזְק֣וּ מִמְּךָ֔</td>\n",
       "      <td>WXYq</td>\n",
       "      <td>None</td>\n",
       "      <td>1</td>\n",
       "      <td>WQt0</td>\n",
       "      <td>וְהָלַכְתִּ֖י</td>\n",
       "    </tr>\n",
       "    <tr>\n",
       "      <th>480</th>\n",
       "      <td>1_Kings 1:52</td>\n",
       "      <td>1_Kings</td>\n",
       "      <td>וְאִם־רָעָ֥ה תִמָּצֵא־בֹ֖ו</td>\n",
       "      <td>WXYq</td>\n",
       "      <td>None</td>\n",
       "      <td>1</td>\n",
       "      <td>WQt0</td>\n",
       "      <td>וָמֵֽת׃</td>\n",
       "    </tr>\n",
       "    <tr>\n",
       "      <th>582</th>\n",
       "      <td>Isaiah 49:24</td>\n",
       "      <td>Isaiah</td>\n",
       "      <td>וְאִם־שְׁבִ֥י צַדִּ֖יק יִמָּלֵֽט׃</td>\n",
       "      <td>WXYq</td>\n",
       "      <td>None</td>\n",
       "      <td>0</td>\n",
       "      <td>NaN</td>\n",
       "      <td>NaN</td>\n",
       "    </tr>\n",
       "    <tr>\n",
       "      <th>626</th>\n",
       "      <td>Jeremiah 14:22</td>\n",
       "      <td>Jeremiah</td>\n",
       "      <td>וְאִם־הַשָּׁמַ֖יִם יִתְּנ֣וּ רְבִבִ֑ים</td>\n",
       "      <td>WXYq</td>\n",
       "      <td>None</td>\n",
       "      <td>0</td>\n",
       "      <td>NaN</td>\n",
       "      <td>NaN</td>\n",
       "    </tr>\n",
       "    <tr>\n",
       "      <th>767</th>\n",
       "      <td>Zechariah 14:18</td>\n",
       "      <td>Zechariah</td>\n",
       "      <td>וְאִם־מִשְׁפַּ֨חַת מִצְרַ֧יִם לֹֽא־תַעֲלֶ֛ה</td>\n",
       "      <td>WXYq</td>\n",
       "      <td>None</td>\n",
       "      <td>2</td>\n",
       "      <td>Ptcp</td>\n",
       "      <td>וְלֹ֥א בָאָ֖ה</td>\n",
       "    </tr>\n",
       "    <tr>\n",
       "      <th>830</th>\n",
       "      <td>Job 8:3</td>\n",
       "      <td>Job</td>\n",
       "      <td>וְאִם־שַׁ֝דַּ֗י יְעַוֵּֽת־צֶֽדֶק׃</td>\n",
       "      <td>WXYq</td>\n",
       "      <td>None</td>\n",
       "      <td>0</td>\n",
       "      <td>NaN</td>\n",
       "      <td>NaN</td>\n",
       "    </tr>\n",
       "    <tr>\n",
       "      <th>849</th>\n",
       "      <td>Job 11:2</td>\n",
       "      <td>Job</td>\n",
       "      <td>וְאִם־אִ֖ישׁ שְׂפָתַ֣יִם יִצְדָּֽק׃</td>\n",
       "      <td>WXYq</td>\n",
       "      <td>None</td>\n",
       "      <td>0</td>\n",
       "      <td>NaN</td>\n",
       "      <td>NaN</td>\n",
       "    </tr>\n",
       "    <tr>\n",
       "      <th>1038</th>\n",
       "      <td>1_Chronicles 19:12</td>\n",
       "      <td>1_Chronicles</td>\n",
       "      <td>וְאִם־בְּנֵ֥י עַמֹּ֛ון יֶֽחֶזְק֥וּ מִמְּךָ֖</td>\n",
       "      <td>WXYq</td>\n",
       "      <td>None</td>\n",
       "      <td>1</td>\n",
       "      <td>WQt0</td>\n",
       "      <td>וְהֹושַׁעְתִּֽיךָ׃</td>\n",
       "    </tr>\n",
       "  </tbody>\n",
       "</table>\n",
       "</div>"
      ],
      "text/plain": [
       "                     ref          book  \\\n",
       "43         Genesis 31:52       Genesis   \n",
       "105         Exodus 21:23        Exodus   \n",
       "150       Leviticus 4:13     Leviticus   \n",
       "151       Leviticus 4:27     Leviticus   \n",
       "213      Leviticus 27:15     Leviticus   \n",
       "252        Numbers 15:27       Numbers   \n",
       "407        1_Samuel 17:9      1_Samuel   \n",
       "444       2_Samuel 10:11      2_Samuel   \n",
       "480         1_Kings 1:52       1_Kings   \n",
       "582         Isaiah 49:24        Isaiah   \n",
       "626       Jeremiah 14:22      Jeremiah   \n",
       "767      Zechariah 14:18     Zechariah   \n",
       "830              Job 8:3           Job   \n",
       "849             Job 11:2           Job   \n",
       "1038  1_Chronicles 19:12  1_Chronicles   \n",
       "\n",
       "                                                    txt cl_type domain  \\\n",
       "43    וְאִם־אַ֠תָּה לֹא־תַעֲבֹ֨ר אֵלַ֜י אֶת־הַגַּ֥ל ...    WXYq   None   \n",
       "105                             וְאִם־אָסֹ֖ון יִהְיֶ֑ה     WXYq   None   \n",
       "150          וְאִ֨ם כָּל־עֲדַ֤ת יִשְׂרָאֵל֙ יִשְׁגּ֔וּ     WXYq   None   \n",
       "151   וְאִם־נֶ֧פֶשׁ אַחַ֛ת תֶּחֱטָ֥א בִשְׁגָגָ֖ה מֵע...    WXYq   None   \n",
       "213        וְאִ֨ם־הַמַּקְדִּ֔ישׁ יִגְאַ֖ל אֶת־בֵּיתֹ֑ו     WXYq   None   \n",
       "252         וְאִם־נֶ֥פֶשׁ אַחַ֖ת תֶּחֱטָ֣א בִשְׁגָגָ֑ה     WXYq   None   \n",
       "407                          וְאִם־אֲנִ֤י אֽוּכַל־לֹו֙     WXYq   None   \n",
       "444         וְאִם־בְּנֵ֤י עַמֹּון֙ יֶחֱזְק֣וּ מִמְּךָ֔     WXYq   None   \n",
       "480                         וְאִם־רָעָ֥ה תִמָּצֵא־בֹ֖ו     WXYq   None   \n",
       "582                  וְאִם־שְׁבִ֥י צַדִּ֖יק יִמָּלֵֽט׃     WXYq   None   \n",
       "626             וְאִם־הַשָּׁמַ֖יִם יִתְּנ֣וּ רְבִבִ֑ים     WXYq   None   \n",
       "767        וְאִם־מִשְׁפַּ֨חַת מִצְרַ֧יִם לֹֽא־תַעֲלֶ֛ה     WXYq   None   \n",
       "830                  וְאִם־שַׁ֝דַּ֗י יְעַוֵּֽת־צֶֽדֶק׃     WXYq   None   \n",
       "849                וְאִם־אִ֖ישׁ שְׂפָתַ֣יִם יִצְדָּֽק׃     WXYq   None   \n",
       "1038       וְאִם־בְּנֵ֥י עַמֹּ֛ון יֶֽחֶזְק֥וּ מִמְּךָ֖     WXYq   None   \n",
       "\n",
       "      n_daughters daughter_type  \\\n",
       "43              0           NaN   \n",
       "105             1          WQt0   \n",
       "150             2          WQtX   \n",
       "151             3          InfC   \n",
       "213             1          WQt0   \n",
       "252             3          WQt0   \n",
       "407             1          WQt0   \n",
       "444             1          WQt0   \n",
       "480             1          WQt0   \n",
       "582             0           NaN   \n",
       "626             0           NaN   \n",
       "767             2          Ptcp   \n",
       "830             0           NaN   \n",
       "849             0           NaN   \n",
       "1038            1          WQt0   \n",
       "\n",
       "                                          daughet_text  \n",
       "43                                                 NaN  \n",
       "105              וְנָתַתָּ֥ה נֶ֖פֶשׁ תַּ֥חַת נָֽפֶשׁ׃   \n",
       "150            וְנֶעְלַ֣ם דָּבָ֔ר מֵעֵינֵ֖י הַקָּהָ֑ל   \n",
       "151          בַּ֠עֲשֹׂתָהּ אַחַ֨ת מִמִּצְוֹ֧ת יְהוָ֛ה   \n",
       "213   וְ֠יָסַף חֲמִישִׁ֧ית כֶּֽסֶף־עֶרְכְּךָ֛ עָלָ֖יו   \n",
       "252    וְהִקְרִ֛יבָה עֵ֥ז בַּת־שְׁנָתָ֖הּ לְחַטָּֽאת׃   \n",
       "407                                     וְהִכִּיתִ֔יו   \n",
       "444                                     וְהָלַכְתִּ֖י   \n",
       "480                                           וָמֵֽת׃   \n",
       "582                                                NaN  \n",
       "626                                                NaN  \n",
       "767                                     וְלֹ֥א בָאָ֖ה   \n",
       "830                                                NaN  \n",
       "849                                                NaN  \n",
       "1038                               וְהֹושַׁעְתִּֽיךָ׃   "
      ]
     },
     "execution_count": 57,
     "metadata": {},
     "output_type": "execute_result"
    }
   ],
   "source": [
    "im_df[im_df.cl_type == 'WXYq']"
   ]
  },
  {
   "cell_type": "code",
   "execution_count": 83,
   "metadata": {},
   "outputs": [
    {
     "data": {
      "text/html": [
       "<div>\n",
       "<style scoped>\n",
       "    .dataframe tbody tr th:only-of-type {\n",
       "        vertical-align: middle;\n",
       "    }\n",
       "\n",
       "    .dataframe tbody tr th {\n",
       "        vertical-align: top;\n",
       "    }\n",
       "\n",
       "    .dataframe thead th {\n",
       "        text-align: right;\n",
       "    }\n",
       "</style>\n",
       "<table border=\"1\" class=\"dataframe\">\n",
       "  <thead>\n",
       "    <tr style=\"text-align: right;\">\n",
       "      <th>daughter_type</th>\n",
       "      <th>WQt0</th>\n",
       "      <th>WQtX</th>\n",
       "      <th>WXQt</th>\n",
       "    </tr>\n",
       "  </thead>\n",
       "  <tbody>\n",
       "    <tr>\n",
       "      <th>xYq0</th>\n",
       "      <td>33</td>\n",
       "      <td>6</td>\n",
       "      <td>0</td>\n",
       "    </tr>\n",
       "    <tr>\n",
       "      <th>NmCl</th>\n",
       "      <td>14</td>\n",
       "      <td>6</td>\n",
       "      <td>1</td>\n",
       "    </tr>\n",
       "    <tr>\n",
       "      <th>xQt0</th>\n",
       "      <td>17</td>\n",
       "      <td>4</td>\n",
       "      <td>0</td>\n",
       "    </tr>\n",
       "    <tr>\n",
       "      <th>WxY0</th>\n",
       "      <td>20</td>\n",
       "      <td>6</td>\n",
       "      <td>0</td>\n",
       "    </tr>\n",
       "    <tr>\n",
       "      <th>xYqX</th>\n",
       "      <td>12</td>\n",
       "      <td>4</td>\n",
       "      <td>1</td>\n",
       "    </tr>\n",
       "    <tr>\n",
       "      <th>Ellp</th>\n",
       "      <td>1</td>\n",
       "      <td>0</td>\n",
       "      <td>0</td>\n",
       "    </tr>\n",
       "    <tr>\n",
       "      <th>WxYX</th>\n",
       "      <td>8</td>\n",
       "      <td>6</td>\n",
       "      <td>0</td>\n",
       "    </tr>\n",
       "    <tr>\n",
       "      <th>Ptcp</th>\n",
       "      <td>1</td>\n",
       "      <td>0</td>\n",
       "      <td>0</td>\n",
       "    </tr>\n",
       "    <tr>\n",
       "      <th>XYqt</th>\n",
       "      <td>3</td>\n",
       "      <td>1</td>\n",
       "      <td>0</td>\n",
       "    </tr>\n",
       "    <tr>\n",
       "      <th>xQtX</th>\n",
       "      <td>3</td>\n",
       "      <td>1</td>\n",
       "      <td>1</td>\n",
       "    </tr>\n",
       "    <tr>\n",
       "      <th>WxQ0</th>\n",
       "      <td>4</td>\n",
       "      <td>0</td>\n",
       "      <td>0</td>\n",
       "    </tr>\n",
       "    <tr>\n",
       "      <th>WXYq</th>\n",
       "      <td>7</td>\n",
       "      <td>1</td>\n",
       "      <td>0</td>\n",
       "    </tr>\n",
       "    <tr>\n",
       "      <th>XQtl</th>\n",
       "      <td>1</td>\n",
       "      <td>0</td>\n",
       "      <td>1</td>\n",
       "    </tr>\n",
       "    <tr>\n",
       "      <th>WxQX</th>\n",
       "      <td>1</td>\n",
       "      <td>0</td>\n",
       "      <td>1</td>\n",
       "    </tr>\n",
       "    <tr>\n",
       "      <th>WXQt</th>\n",
       "      <td>1</td>\n",
       "      <td>0</td>\n",
       "      <td>0</td>\n",
       "    </tr>\n",
       "  </tbody>\n",
       "</table>\n",
       "</div>"
      ],
      "text/plain": [
       "daughter_type  WQt0  WQtX  WXQt\n",
       "xYq0             33     6     0\n",
       "NmCl             14     6     1\n",
       "xQt0             17     4     0\n",
       "WxY0             20     6     0\n",
       "xYqX             12     4     1\n",
       "Ellp              1     0     0\n",
       "WxYX              8     6     0\n",
       "Ptcp              1     0     0\n",
       "XYqt              3     1     0\n",
       "xQtX              3     1     1\n",
       "WxQ0              4     0     0\n",
       "WXYq              7     1     0\n",
       "XQtl              1     0     1\n",
       "WxQX              1     0     1\n",
       "WXQt              1     0     0"
      ]
     },
     "execution_count": 83,
     "metadata": {},
     "output_type": "execute_result"
    }
   ],
   "source": [
    "modal_qatal_counts = moda_counts[moda_counts.columns[moda_counts.columns.str.match('W.*Qt')]]\n",
    "\n",
    "modal_qatal_counts = modal_qatal_counts.loc[modal_qatal_counts.sum(1) > 0]\n",
    "\n",
    "modal_qatal_counts"
   ]
  },
  {
   "cell_type": "code",
   "execution_count": 84,
   "metadata": {},
   "outputs": [
    {
     "data": {
      "text/plain": [
       "166"
      ]
     },
     "execution_count": 84,
     "metadata": {},
     "output_type": "execute_result"
    }
   ],
   "source": [
    "modal_qatal_counts.sum().sum()"
   ]
  },
  {
   "cell_type": "code",
   "execution_count": 85,
   "metadata": {},
   "outputs": [
    {
     "data": {
      "text/html": [
       "<div>\n",
       "<style scoped>\n",
       "    .dataframe tbody tr th:only-of-type {\n",
       "        vertical-align: middle;\n",
       "    }\n",
       "\n",
       "    .dataframe tbody tr th {\n",
       "        vertical-align: top;\n",
       "    }\n",
       "\n",
       "    .dataframe thead th {\n",
       "        text-align: right;\n",
       "    }\n",
       "</style>\n",
       "<table border=\"1\" class=\"dataframe\">\n",
       "  <thead>\n",
       "    <tr style=\"text-align: right;\">\n",
       "      <th>daughter_type</th>\n",
       "      <th>WQt0</th>\n",
       "      <th>WQtX</th>\n",
       "      <th>WXQt</th>\n",
       "    </tr>\n",
       "  </thead>\n",
       "  <tbody>\n",
       "    <tr>\n",
       "      <th>xYq0</th>\n",
       "      <td>0.113870</td>\n",
       "      <td>-0.074500</td>\n",
       "      <td>-0.039370</td>\n",
       "    </tr>\n",
       "    <tr>\n",
       "      <th>NmCl</th>\n",
       "      <td>-0.105747</td>\n",
       "      <td>0.085714</td>\n",
       "      <td>0.020033</td>\n",
       "    </tr>\n",
       "    <tr>\n",
       "      <th>xQt0</th>\n",
       "      <td>0.057800</td>\n",
       "      <td>-0.023317</td>\n",
       "      <td>-0.034483</td>\n",
       "    </tr>\n",
       "    <tr>\n",
       "      <th>WxY0</th>\n",
       "      <td>0.012088</td>\n",
       "      <td>0.023626</td>\n",
       "      <td>-0.035714</td>\n",
       "    </tr>\n",
       "    <tr>\n",
       "      <th>xYqX</th>\n",
       "      <td>-0.059218</td>\n",
       "      <td>0.027240</td>\n",
       "      <td>0.031978</td>\n",
       "    </tr>\n",
       "    <tr>\n",
       "      <th>Ellp</th>\n",
       "      <td>0.242424</td>\n",
       "      <td>-0.212121</td>\n",
       "      <td>-0.030303</td>\n",
       "    </tr>\n",
       "    <tr>\n",
       "      <th>WxYX</th>\n",
       "      <td>-0.204887</td>\n",
       "      <td>0.237782</td>\n",
       "      <td>-0.032895</td>\n",
       "    </tr>\n",
       "    <tr>\n",
       "      <th>Ptcp</th>\n",
       "      <td>0.242424</td>\n",
       "      <td>-0.212121</td>\n",
       "      <td>-0.030303</td>\n",
       "    </tr>\n",
       "    <tr>\n",
       "      <th>XYqt</th>\n",
       "      <td>-0.009259</td>\n",
       "      <td>0.040123</td>\n",
       "      <td>-0.030864</td>\n",
       "    </tr>\n",
       "    <tr>\n",
       "      <th>xQtX</th>\n",
       "      <td>-0.163975</td>\n",
       "      <td>-0.011180</td>\n",
       "      <td>0.175155</td>\n",
       "    </tr>\n",
       "    <tr>\n",
       "      <th>WxQ0</th>\n",
       "      <td>0.246914</td>\n",
       "      <td>-0.216049</td>\n",
       "      <td>-0.030864</td>\n",
       "    </tr>\n",
       "    <tr>\n",
       "      <th>WXYq</th>\n",
       "      <td>0.121835</td>\n",
       "      <td>-0.090190</td>\n",
       "      <td>-0.031646</td>\n",
       "    </tr>\n",
       "    <tr>\n",
       "      <th>XQtl</th>\n",
       "      <td>-0.262195</td>\n",
       "      <td>-0.213415</td>\n",
       "      <td>0.475610</td>\n",
       "    </tr>\n",
       "    <tr>\n",
       "      <th>WxQX</th>\n",
       "      <td>-0.262195</td>\n",
       "      <td>-0.213415</td>\n",
       "      <td>0.475610</td>\n",
       "    </tr>\n",
       "    <tr>\n",
       "      <th>WXQt</th>\n",
       "      <td>0.242424</td>\n",
       "      <td>-0.212121</td>\n",
       "      <td>-0.030303</td>\n",
       "    </tr>\n",
       "  </tbody>\n",
       "</table>\n",
       "</div>"
      ],
      "text/plain": [
       "daughter_type      WQt0      WQtX      WXQt\n",
       "xYq0           0.113870 -0.074500 -0.039370\n",
       "NmCl          -0.105747  0.085714  0.020033\n",
       "xQt0           0.057800 -0.023317 -0.034483\n",
       "WxY0           0.012088  0.023626 -0.035714\n",
       "xYqX          -0.059218  0.027240  0.031978\n",
       "Ellp           0.242424 -0.212121 -0.030303\n",
       "WxYX          -0.204887  0.237782 -0.032895\n",
       "Ptcp           0.242424 -0.212121 -0.030303\n",
       "XYqt          -0.009259  0.040123 -0.030864\n",
       "xQtX          -0.163975 -0.011180  0.175155\n",
       "WxQ0           0.246914 -0.216049 -0.030864\n",
       "WXYq           0.121835 -0.090190 -0.031646\n",
       "XQtl          -0.262195 -0.213415  0.475610\n",
       "WxQX          -0.262195 -0.213415  0.475610\n",
       "WXQt           0.242424 -0.212121 -0.030303"
      ]
     },
     "execution_count": 85,
     "metadata": {},
     "output_type": "execute_result"
    }
   ],
   "source": [
    "modal_qatal_dp = my_stats.apply_deltaP(modal_qatal_counts, 0, 1)\n",
    "\n",
    "modal_qatal_dp"
   ]
  },
  {
   "cell_type": "code",
   "execution_count": 86,
   "metadata": {},
   "outputs": [
    {
     "name": "stdout",
     "output_type": "stream",
     "text": [
      "xYq0 39\n"
     ]
    },
    {
     "data": {
      "text/plain": [
       "daughter_type\n",
       "WQt0    0.11387\n",
       "Name: xYq0, dtype: float64"
      ]
     },
     "metadata": {},
     "output_type": "display_data"
    },
    {
     "name": "stdout",
     "output_type": "stream",
     "text": [
      "--------------------\n",
      "\n",
      "NmCl 21\n"
     ]
    },
    {
     "data": {
      "text/plain": [
       "daughter_type\n",
       "WQtX    0.085714\n",
       "WXQt    0.020033\n",
       "Name: NmCl, dtype: float64"
      ]
     },
     "metadata": {},
     "output_type": "display_data"
    },
    {
     "name": "stdout",
     "output_type": "stream",
     "text": [
      "--------------------\n",
      "\n",
      "xQt0 21\n"
     ]
    },
    {
     "data": {
      "text/plain": [
       "daughter_type\n",
       "WQt0    0.0578\n",
       "Name: xQt0, dtype: float64"
      ]
     },
     "metadata": {},
     "output_type": "display_data"
    },
    {
     "name": "stdout",
     "output_type": "stream",
     "text": [
      "--------------------\n",
      "\n",
      "WxY0 26\n"
     ]
    },
    {
     "data": {
      "text/plain": [
       "daughter_type\n",
       "WQtX    0.023626\n",
       "WQt0    0.012088\n",
       "Name: WxY0, dtype: float64"
      ]
     },
     "metadata": {},
     "output_type": "display_data"
    },
    {
     "name": "stdout",
     "output_type": "stream",
     "text": [
      "--------------------\n",
      "\n",
      "xYqX 17\n"
     ]
    },
    {
     "data": {
      "text/plain": [
       "daughter_type\n",
       "WXQt    0.031978\n",
       "WQtX    0.027240\n",
       "Name: xYqX, dtype: float64"
      ]
     },
     "metadata": {},
     "output_type": "display_data"
    },
    {
     "name": "stdout",
     "output_type": "stream",
     "text": [
      "--------------------\n",
      "\n",
      "Ellp 1\n"
     ]
    },
    {
     "data": {
      "text/plain": [
       "daughter_type\n",
       "WQt0    0.242424\n",
       "Name: Ellp, dtype: float64"
      ]
     },
     "metadata": {},
     "output_type": "display_data"
    },
    {
     "name": "stdout",
     "output_type": "stream",
     "text": [
      "--------------------\n",
      "\n",
      "WxYX 14\n"
     ]
    },
    {
     "data": {
      "text/plain": [
       "daughter_type\n",
       "WQtX    0.237782\n",
       "Name: WxYX, dtype: float64"
      ]
     },
     "metadata": {},
     "output_type": "display_data"
    },
    {
     "name": "stdout",
     "output_type": "stream",
     "text": [
      "--------------------\n",
      "\n",
      "Ptcp 1\n"
     ]
    },
    {
     "data": {
      "text/plain": [
       "daughter_type\n",
       "WQt0    0.242424\n",
       "Name: Ptcp, dtype: float64"
      ]
     },
     "metadata": {},
     "output_type": "display_data"
    },
    {
     "name": "stdout",
     "output_type": "stream",
     "text": [
      "--------------------\n",
      "\n",
      "XYqt 4\n"
     ]
    },
    {
     "data": {
      "text/plain": [
       "daughter_type\n",
       "WQtX    0.040123\n",
       "Name: XYqt, dtype: float64"
      ]
     },
     "metadata": {},
     "output_type": "display_data"
    },
    {
     "name": "stdout",
     "output_type": "stream",
     "text": [
      "--------------------\n",
      "\n",
      "xQtX 5\n"
     ]
    },
    {
     "data": {
      "text/plain": [
       "daughter_type\n",
       "WXQt    0.175155\n",
       "Name: xQtX, dtype: float64"
      ]
     },
     "metadata": {},
     "output_type": "display_data"
    },
    {
     "name": "stdout",
     "output_type": "stream",
     "text": [
      "--------------------\n",
      "\n",
      "WxQ0 4\n"
     ]
    },
    {
     "data": {
      "text/plain": [
       "daughter_type\n",
       "WQt0    0.246914\n",
       "Name: WxQ0, dtype: float64"
      ]
     },
     "metadata": {},
     "output_type": "display_data"
    },
    {
     "name": "stdout",
     "output_type": "stream",
     "text": [
      "--------------------\n",
      "\n",
      "WXYq 8\n"
     ]
    },
    {
     "data": {
      "text/plain": [
       "daughter_type\n",
       "WQt0    0.121835\n",
       "Name: WXYq, dtype: float64"
      ]
     },
     "metadata": {},
     "output_type": "display_data"
    },
    {
     "name": "stdout",
     "output_type": "stream",
     "text": [
      "--------------------\n",
      "\n",
      "XQtl 2\n"
     ]
    },
    {
     "data": {
      "text/plain": [
       "daughter_type\n",
       "WXQt    0.47561\n",
       "Name: XQtl, dtype: float64"
      ]
     },
     "metadata": {},
     "output_type": "display_data"
    },
    {
     "name": "stdout",
     "output_type": "stream",
     "text": [
      "--------------------\n",
      "\n",
      "WxQX 2\n"
     ]
    },
    {
     "data": {
      "text/plain": [
       "daughter_type\n",
       "WXQt    0.47561\n",
       "Name: WxQX, dtype: float64"
      ]
     },
     "metadata": {},
     "output_type": "display_data"
    },
    {
     "name": "stdout",
     "output_type": "stream",
     "text": [
      "--------------------\n",
      "\n",
      "WXQt 1\n"
     ]
    },
    {
     "data": {
      "text/plain": [
       "daughter_type\n",
       "WQt0    0.242424\n",
       "Name: WXQt, dtype: float64"
      ]
     },
     "metadata": {},
     "output_type": "display_data"
    },
    {
     "name": "stdout",
     "output_type": "stream",
     "text": [
      "--------------------\n",
      "\n"
     ]
    }
   ],
   "source": [
    "for mtype,value in modal_qatal_counts.sum(1).items():\n",
    "    \n",
    "    dp_values = modal_qatal_dp.loc[mtype]\n",
    "    \n",
    "    print(mtype, value)\n",
    "    display(dp_values[dp_values > 0].sort_values(ascending=False))\n",
    "    print('-'*20)\n",
    "    print()"
   ]
  },
  {
   "cell_type": "markdown",
   "metadata": {},
   "source": [
    "# Build Inspection Sheet\n",
    "\n",
    "The categories of protasis and apodosis must be evaluated semantically.\n",
    "Thus, this will need to be manually identified. To do this, we'll follow\n",
    "a few steps.\n",
    "\n",
    "1. Select an entire clause chain from an 'im' clause up to a Ve-qatal clause\n",
    "with a given number of max intervening clauses\n",
    "2. export a plain-text sheet where the 'im' clause is printed and its daughter\n",
    "clauses printed with indentation below it\n",
    "\n",
    "We can then place an asterix next to every valid apodosis case."
   ]
  },
  {
   "cell_type": "code",
   "execution_count": 152,
   "metadata": {},
   "outputs": [
    {
     "name": "stdout",
     "output_type": "stream",
     "text": [
      "265 clauses exported for inspection...\n",
      "cases ignored:\n",
      "\tno_wqtl: 803\n"
     ]
    }
   ],
   "source": [
    "def climb_chain(cl_node):\n",
    "    for daughter in E.mother.t(cl_node):\n",
    "        yield daughter\n",
    "        yield from climb_chain(daughter)\n",
    "        \n",
    "\n",
    "\n",
    "max_cl = 10\n",
    "wqtl_re = re.compile('W.*Qt')\n",
    "\n",
    "ignored = {\n",
    "    'no_wqtl': [],\n",
    "}\n",
    "\n",
    "accepted = []\n",
    "inspect_doc = ''\n",
    "\n",
    "for cl, im in ims:\n",
    "    \n",
    "    daughters = E.mother.t(cl)\n",
    "    daught_qtls = [d for d in daughters if wqtl_re.match(F.typ.v(d))]\n",
    "    \n",
    "    if not daught_qtls:\n",
    "        ignored['no_wqtl'].append(cl)\n",
    "        continue\n",
    "        \n",
    "    # build and add the case\n",
    "    show_subtree = list(range(cl+1, daught_qtls[-1]+1))\n",
    "    ref_tuple = T.sectionFromNode(cl)\n",
    "    ref = '{} {}:{}'.format(*ref_tuple)\n",
    "    heading = f'{len(accepted)+1}. {ref}'\n",
    "    mo_typ = F.typ.v(cl)\n",
    "    inspect_doc += heading + '\\n'\n",
    "    inspect_doc += f'{cl} {mo_typ} {T.text(cl)}\\n'\n",
    "    \n",
    "    mother_indent = F.tab.v(cl)\n",
    "    for kid in show_subtree:\n",
    "        n_indent = F.tab.v(kid) - mother_indent\n",
    "        indent = '  ' * n_indent\n",
    "        k_type = F.typ.v(kid)\n",
    "        inspect_doc += f'{indent} {kid} {k_type} {T.text(kid)}\\n'\n",
    "    \n",
    "    inspect_doc += '\\n'\n",
    "    accepted.append(cl)\n",
    "    \n",
    "# report\n",
    "print(f'{len(accepted)} clauses exported for inspection...')\n",
    "print('cases ignored:')\n",
    "for case, case_list in ignored.items():\n",
    "    print(f'\\t{case}: {len(case_list)}')"
   ]
  },
  {
   "cell_type": "code",
   "execution_count": 153,
   "metadata": {},
   "outputs": [
    {
     "data": {
      "text/plain": [
       "46875"
      ]
     },
     "execution_count": 153,
     "metadata": {},
     "output_type": "execute_result"
    }
   ],
   "source": [
    "Path('inspect_apodoses.txt').write_text(inspect_doc)"
   ]
  },
  {
   "cell_type": "code",
   "execution_count": null,
   "metadata": {},
   "outputs": [],
   "source": [
    "\n",
    "# for cl, im in ims:\n",
    "    \n",
    "#     daughters = E.mother.t(cl)\n",
    "#     daught_qtls = [d for d in daughters if wqtl_re.match(d)]\n",
    "    \n",
    "#     subtree = list(climb_chain(cl))\n",
    "        \n",
    "#     sub_types = [F.typ.v(sc) for sc in subtree]\n",
    "#     weqatal_types = [st for st in sub_types if wqtl_re.match(st)]\n",
    "    \n",
    "    \n",
    "#     if not weqatal_types:\n",
    "#         ignored['no_wqtl'].append(cl)\n",
    "#         continue\n",
    "    \n",
    "#     first_weqatal = weqatal_types[0]\n",
    "#     first_wqtl_index = sub_types.index(first_weqatal)\n",
    "    \n",
    "#     if first_wqtl_index > max_cl:\n",
    "#         ignored['wqtl>max'].append(cl)\n",
    "#         continue\n",
    "        \n",
    "#     # build and add the case\n",
    "    \n",
    "#     show_subtree = subtree[:max_cl+1]\n",
    "#     ref_tuple = T.sectionFromNode(cl)\n",
    "#     ref = '{} {}:{}'.format(*ref_tuple)\n",
    "#     heading = f'{len(accepted)+1}. {ref}'\n",
    "#     mo_typ = F.typ.v(cl)\n",
    "#     inspect_doc += heading + '\\n'\n",
    "#     inspect_doc += f'{cl} {mo_typ} {T.text(cl)}\\n'\n",
    "    \n",
    "#     mother_indent = F.tab.v(cl)\n",
    "#     for kid in show_subtree:\n",
    "#         n_indent = F.tab.v(kid) - mother_indent\n",
    "#         indent = '  ' * n_indent\n",
    "#         k_type = F.typ.v(kid)\n",
    "#         inspect_doc += f'{indent} {kid} {k_type} {T.text(kid)}\\n'\n",
    "    \n",
    "#     inspect_doc += '\\n'\n",
    "#     accepted.append(cl)\n",
    "    "
   ]
  }
 ],
 "metadata": {
  "kernelspec": {
   "display_name": "Python 3",
   "language": "python",
   "name": "python3"
  },
  "language_info": {
   "codemirror_mode": {
    "name": "ipython",
    "version": 3
   },
   "file_extension": ".py",
   "mimetype": "text/x-python",
   "name": "python",
   "nbconvert_exporter": "python",
   "pygments_lexer": "ipython3",
   "version": "3.8.0"
  }
 },
 "nbformat": 4,
 "nbformat_minor": 4
}
