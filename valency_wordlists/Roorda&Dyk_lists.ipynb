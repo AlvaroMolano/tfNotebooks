{
 "cells": [
  {
   "cell_type": "markdown",
   "metadata": {},
   "source": [
    "# Export the Wordlists from Roorda&Dyk to a Master json File\n",
    "\n",
    "See the [Roorda&Dyk valency corrections notebook](https://shebanq.ancient-data.org/shebanq/static/docs/tools/valence/corr_enrich.html) for the source.\n",
    "\n",
    "## Updates:\n",
    "√ 15.01.17, added some new categories based on needs in the CKB_valency notebook. See [Additions](#Additions:)"
   ]
  },
  {
   "cell_type": "code",
   "execution_count": 1,
   "metadata": {
    "collapsed": false
   },
   "outputs": [],
   "source": [
    "import json\n",
    "\n",
    "locatives = set('''\n",
    "                >RY/ >YL/ >XR/<BR/ <BRH/ <BWR/ <C==/ <JR/ <L=/ \n",
    "                <LJ=/ <LJH/ <LJL/ <MD=/ <MDH/ <MH/ <MQ/ <MQ===/ \n",
    "                <QB/ BJN/ BJT/ CM CMJM/ CMC/ C<R/ DRK/ FDH/ HR/\n",
    "                JM/ JRDN/ JRWCLM/ JFR>L/ MDBR/ MW<D/ MWL/ MZBX/ \n",
    "                MYRJM/ MQWM/ MR>CWT/ MSB/ MSBH/ MVH==/ QDM/\n",
    "                SBJB/ TJMN/ TXT/ TXWT/ YPWN/\n",
    "                '''.strip().split())\n",
    "agentives = set('''\n",
    "                >B/ >CH/ >DM/ >DRGZR/ >DWN/ >JC/ >J=/ >KR/ >LJL/ >LMN=/ >LMNH/ >LMNJ/ >LWH/ >LWP/ >M/ \n",
    "                >MH/ >MN==/ >MWN=/ >NC/ >NWC/ >PH/ >PRX/ >SJR/ >SJR=/ >SP/ >X/ >XCDRPN/\n",
    "                >XWH/ >XWT/\n",
    "                <BDH=/ <CWQ/ <D=/ <DH=/ <LMH/ <LWMJM/ <M/ <MD/ <MJT/ <QR=/ <R/ <WJL/ <WL/ <WL==/ <WLL/\n",
    "                <WLL=/ <YRH/\n",
    "                B<L/ B<LH/ BKJRH/ BKR/ BN/ BR/ BR===/ BT/ BTWLH/ BWQR/ BXRJM/ BXWN/ BXWR/\n",
    "                CD==/ CDH/ CGL/ CKN/ CLCJM/ CLJC=/ CMRH=/ CPXH/ CW<R/ CWRR/\n",
    "                DJG/ DWD/ DWDH/ DWG/ DWR/\n",
    "                F<JR=/ FB/ FHD/ FR/ FRH/ FRJD/ FVN/\n",
    "                GBJRH/ GBR/ GBR=/ GBRT/ GLB/ GNB/ GR/ GW==/ GWJ/ GZBR/\n",
    "                HDBR/ \n",
    "                J<RH/ JBM/ JBMH/ JD<NJ/ JDDWT/ JLD/ JLDH/ JLJD/ JRJB/ JSWR/ JTWM/ JWYR/\n",
    "                JYRJM/ \n",
    "                KCP=/ KHN/ KLH/ KMR/ KN<NJ=/ KNT/ KRM=/ KRWB/ KRWZ/\n",
    "                L>M/ LHQH/ LMD/ LXNH/\n",
    "                M<RMJM/ M>WRH/ MCBR/ MCJX/ MCM<T/ MCMR/ MCPXH/ MCQLT/ MD<=/ MD<T/ MG/\n",
    "                MJNQT/ MKR=/ ML>K/ MLK/ MLKH/ MLKT/ MLX=/ MLYR/ MMZR/ MNZRJM/ MPLYT/ MYRJ/\n",
    "                MPY=/ MQHL/ MQY<H/ MR</ MR>/ MSGR=/ MT/ MWRH/ MYBH=/\n",
    "                N<R/ N<R=/ N<RH/ N<RWT/ N<WRJM/ NBJ>/ NBJ>H/ NCJN/ NFJ>/ NGJD/ NJN/ NKD/ \n",
    "                NKR/ NPC/ NPJLJM/ NQD/ NSJK/ NTJN/ \n",
    "                PLGC/ PLJL/ PLJV/ PLJV=/ PQJD/ PR<H/ PRC/ PRJY/ PRJY=/ PRTMJM/ PRZWN/ \n",
    "                PSJL/ PSL/ PVR/ PVRH/ PXH/ PXR/\n",
    "                QBYH/ QCRJM/ QCT=/ QHL/ QHLH/ QHLT/ QJM/ QYJN/\n",
    "                R<H=/ R<H==/ R<JH/ R<=/ R<WT/ R>H/ RB</ RB=/ RB==/ RBRBNJN/ RGMH/ RHB/ RKB=/\n",
    "                RKJL/ RMH/ RQX==/ \n",
    "                SBL/ SPR=/ SRJS/ SRK/ SRNJM/ \n",
    "                T<RWBWT/ TLMJD/ TLT=/ TPTJ/ TR<=/ TRCT>/ TRTN/ TWCB/ TWL<H/ TWLDWT/ TWTX/\n",
    "                VBX/ VBX=/ VBXH=/ VPSR/ VPXJM/\n",
    "                WLD/\n",
    "                XBL==/ XBL======/ XBR/ XBR=/ XBR==/ XBRH/ XBRT=/ XJ=/ XLC/ XM=/ XMWT/\n",
    "                XMWY=/ XNJK/ XR=/ XRC/ XRC====/ XRP=/ XRVM/ XTN/ XTP/ XZH=/\n",
    "                Y<JRH/ Y>Y>JM/ YJ/ YJD==/ YJR==/ YR=/ YRH=/ \n",
    "                ZKWR/ ZMR=/ ZR</\n",
    "            '''.strip().split())\n",
    "\n",
    "categoryMap = {'place':locatives, 'agent':agentives}\n",
    "rdCategories = {}\n",
    "\n",
    "for category, catList in categoryMap.items():\n",
    "    for lex in catList:\n",
    "        rdCategories[lex] = {'category':category}"
   ]
  },
  {
   "cell_type": "markdown",
   "metadata": {},
   "source": [
    "## Additions:"
   ]
  },
  {
   "cell_type": "code",
   "execution_count": 5,
   "metadata": {
    "collapsed": true
   },
   "outputs": [],
   "source": [
    "# CAUTION: These additions are for a special project only. The categories may not be applicable for certain passages!\n",
    "\n",
    "rdCategories.update({'VM>/' :{'category':'agent'},\n",
    "                     'ZKR=/' :{'category':'agent'},\n",
    "                     'BHMH/':{'category':'agent'}\n",
    "                    }) "
   ]
  },
  {
   "cell_type": "code",
   "execution_count": 6,
   "metadata": {
    "collapsed": true
   },
   "outputs": [],
   "source": [
    "with open('RoordaDykCategories.json','w') as outfile:\n",
    "    json.dump(rdCategories, outfile)"
   ]
  },
  {
   "cell_type": "code",
   "execution_count": null,
   "metadata": {
    "collapsed": true
   },
   "outputs": [],
   "source": []
  }
 ],
 "metadata": {
  "kernelspec": {
   "display_name": "Python 3",
   "language": "python",
   "name": "python3"
  },
  "language_info": {
   "codemirror_mode": {
    "name": "ipython",
    "version": 3
   },
   "file_extension": ".py",
   "mimetype": "text/x-python",
   "name": "python",
   "nbconvert_exporter": "python",
   "pygments_lexer": "ipython3",
   "version": "3.6.0"
  }
 },
 "nbformat": 4,
 "nbformat_minor": 2
}
