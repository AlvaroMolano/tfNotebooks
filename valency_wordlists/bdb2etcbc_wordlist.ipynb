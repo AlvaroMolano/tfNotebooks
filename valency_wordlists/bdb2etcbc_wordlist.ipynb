{
 "cells": [
  {
   "cell_type": "markdown",
   "metadata": {},
   "source": [
    "# Mapping Wordlists from BDB to ETCBC\n",
    "\n",
    "The goal of this notebook is to map lexemes already categorised into categories useful for valency research from BDB to the ETCBC database. Each lexeme will be converted to the ETCBC transliterated [`lex` feature](https://etcbc.github.io/text-fabric-data/features/hebrew/etcbc4c/lex.html) to facilitate its use with Text-Fabric.\n",
    "\n",
    "This notebook uses the part of speech list generated in [bdb2etcbc_pos_sorting.ipynb](https://github.com/codykingham/textfabric_notebooks/blob/master/valency_wordlists/bdb2etcbc_pos_sorting.ipynb)\n",
    "\n",
    "The source for the BDB resource is openscriptures' [BrownDriverBriggs.xml](https://github.com/openscriptures/HebrewLexicon)."
   ]
  },
  {
   "cell_type": "code",
   "execution_count": 28,
   "metadata": {
    "collapsed": false
   },
   "outputs": [
    {
     "name": "stdout",
     "output_type": "stream",
     "text": [
      "This is Text-Fabric 2.0.0\n",
      "Api reference : https://github.com/ETCBC/text-fabric/wiki/Api\n",
      "Tutorial      : https://github.com/ETCBC/text-fabric/blob/master/docs/tutorial.ipynb\n",
      "Data sources  : https://github.com/ETCBC/text-fabric-data\n",
      "Data docs     : https://etcbc.github.io/text-fabric-data/features/hebrew/etcbc4c/0_overview.html\n",
      "Shebanq docs  : https://shebanq.ancient-data.org/text\n",
      "Slack team    : https://shebanq.slack.com/signup\n",
      "Questions? Ask shebanq@ancient-data.org for an invite to Slack\n",
      "106 features found and 0 ignored\n",
      "\n",
      "  0.00s loading features ...\n",
      "   |     0.04s B otype                from /Users/Cody/github/text-fabric-data/Hebrew/etcbc4c\n",
      "   |     0.23s B g_cons_utf8          from /Users/Cody/github/text-fabric-data/Hebrew/etcbc4c\n",
      "   |     0.24s B g_lex_utf8           from /Users/Cody/github/text-fabric-data/Hebrew/etcbc4c\n",
      "   |     0.26s B g_word_utf8          from /Users/Cody/github/text-fabric-data/Hebrew/etcbc4c\n",
      "   |     0.20s B lex                  from /Users/Cody/github/text-fabric-data/Hebrew/etcbc4c\n",
      "   |     0.01s B voc_utf8             from /Users/Cody/github/text-fabric-data/Hebrew/etcbc4c\n",
      "   |     0.01s B gloss                from /Users/Cody/github/text-fabric-data/Hebrew/etcbc4c\n",
      "   |     0.00s Feature overview: 101 nodes; 4 edges; 1 configs; 6 computeds\n",
      "  5.89s All features loaded/computed - for details use loadLog()\n"
     ]
    }
   ],
   "source": [
    "from tf.fabric import Fabric\n",
    "TF = Fabric(modules='Hebrew/etcbc4c')\n",
    "print()\n",
    "api = TF.load('otype lex g_lex_utf8 voc_utf8 g_word_utf8 g_cons_utf8 gloss')\n",
    "api.makeAvailableIn(globals())"
   ]
  },
  {
   "cell_type": "code",
   "execution_count": 29,
   "metadata": {
    "collapsed": false
   },
   "outputs": [
    {
     "data": {
      "text/plain": [
       "[{'of kind': 'person', 'pos': 'n.pr.gent', 'type': 'agent'},\n",
       " {'of kind': 'abstract', 'pos': 'n.pl.m', 'type': 'object'},\n",
       " {'of kind': 'name', 'pos': 'n.pr.font', 'type': 'place'},\n",
       " {'of kind': 'person', 'pos': 'n.pr.pl.gent.', 'type': 'agent'},\n",
       " {'of kind': 'person', 'pos': 'n.pr.pers.m', 'type': 'agent'}]"
      ]
     },
     "execution_count": 29,
     "metadata": {},
     "output_type": "execute_result"
    }
   ],
   "source": [
    "from lxml import etree\n",
    "import csv\n",
    "import collections as col\n",
    "\n",
    "tree = etree.parse(\"BrownDriverBriggs.xml\")\n",
    "root = tree.getroot()\n",
    "namespace = {'None':'http://openscriptures.github.com/morphhb/namespace'}\n",
    "\n",
    "with open('BDB_pos_tags.csv','r') as file:\n",
    "    reader = csv.DictReader(file)\n",
    "    pos_tags = list(dic for dic in reader)\n",
    "    \n",
    "pos_tags[:5]"
   ]
  },
  {
   "cell_type": "code",
   "execution_count": 30,
   "metadata": {
    "collapsed": false
   },
   "outputs": [
    {
     "data": {
      "text/plain": [
       "2389"
      ]
     },
     "execution_count": 30,
     "metadata": {},
     "output_type": "execute_result"
    }
   ],
   "source": [
    "# Gather all of the lemmas to test against ETCBC\n",
    "\n",
    "test_group = list()\n",
    "\n",
    "for tag in pos_tags:\n",
    "    pos = tag['pos']\n",
    "    for entry in root.findall('None:part/None:section/None:entry/None:pos', namespace):\n",
    "        cur_pos = entry.text\n",
    "        if cur_pos == pos:\n",
    "            parent = entry.getparent()\n",
    "            text = parent.findall('None:w', namespace)[0]\n",
    "            test_group.append(text.text)\n",
    "len(test_group)"
   ]
  },
  {
   "cell_type": "code",
   "execution_count": 31,
   "metadata": {
    "collapsed": false
   },
   "outputs": [],
   "source": [
    "def collect_letters():\n",
    "    '''\n",
    "    returns all consonants/vowels from etcbc\n",
    "    omits diacritical marks\n",
    "    '''\n",
    "    consonants = set()\n",
    "    vowels = set()\n",
    "    sample_words = F.otype.s('word')\n",
    "    for word in sample_words:\n",
    "        for letter in F.g_cons_utf8.v(word):\n",
    "            if letter not in {' ','ׁ','ׂ'}:\n",
    "                consonants.add(letter)\n",
    "    for word in sample_words:\n",
    "        for letter in F.g_lex_utf8.v(word):\n",
    "            if letter not in consonants and letter not in {' '}:\n",
    "                vowels.add(letter)\n",
    "    return {'consonants' : consonants, 'vowels' : vowels}\n",
    "            \n",
    "def strip_diacritic(word, consonants, vowels):\n",
    "    '''\n",
    "    strip diacritical markings and return clean word\n",
    "    '''\n",
    "    new_word = ''\n",
    "    for letter in word:\n",
    "        if letter in consonants or letter in vowels:\n",
    "            new_word += letter\n",
    "            \n",
    "    return new_word\n",
    "\n",
    "def fix_holem(word):\n",
    "    '''\n",
    "    fixes a vocalisation error on etcbc4c words:\n",
    "    ex: 'גֹּויִם into גּוֹיִם'\n",
    "    '''\n",
    "    if 'ֹו' in word:\n",
    "        return word.replace('ֹ', '').replace('ו','וֹ')\n",
    "    else:\n",
    "        return word\n",
    "\n",
    "def strip_dagesh(word):\n",
    "    '''\n",
    "    remove first dagesh from word\n",
    "    '''\n",
    "    if len(word) > 1 and word[1] == 'ּ': #dagesh\n",
    "        return word.replace('ּ','',1)\n",
    "    else:\n",
    "        return word\n",
    "    \n",
    "def fix_word(word):\n",
    "    '''\n",
    "    apply diacritical stripping and other corrections\n",
    "    return clean word\n",
    "    '''\n",
    "    clean_word = strip_diacritic(word, letters['consonants'], letters['vowels'])\n",
    "    clean_word = fix_holem(clean_word)\n",
    "    clean_word = strip_dagesh(clean_word)\n",
    "    return clean_word\n",
    "    \n",
    "def text_to_lex():\n",
    "    '''\n",
    "    creates mapping from a cleaned etcbc word\n",
    "    to the corresponding etcbc lex features\n",
    "    '''\n",
    "    text_dict = col.defaultdict(set)\n",
    "    for word in F.otype.s('word'):\n",
    "        clean_word = fix_word(F.g_word_utf8.v(word))\n",
    "        lex = F.lex.v(word)\n",
    "        text_dict[F.g_lex_utf8.v(word)].add(lex)\n",
    "        text_dict[clean_word].add(lex)\n",
    "    return text_dict\n",
    "    \n",
    "def match_etcbc(bdb_lex, bib_lex):\n",
    "    '''\n",
    "    matches bdb lexemes with etcbc lexemes\n",
    "    requires the text_to_lex dict\n",
    "    '''\n",
    "    clean_bdb_lex = fix_word(bdb_lex) # the bdb lexs occasionally have diacriticals too!\n",
    "    if clean_bdb_lex in bib_lex:\n",
    "        return bib_lex[clean_bdb_lex]\n",
    "    \n",
    "letters = collect_letters() # required for fix_word()"
   ]
  },
  {
   "cell_type": "code",
   "execution_count": 32,
   "metadata": {
    "collapsed": false
   },
   "outputs": [],
   "source": [
    "# complete mapping from an etcbc clean word to its corresponding ascii lemmas\n",
    "bib_lex = text_to_lex()"
   ]
  },
  {
   "cell_type": "code",
   "execution_count": 33,
   "metadata": {
    "collapsed": false
   },
   "outputs": [],
   "source": [
    "match_group = set()\n",
    "\n",
    "for lex in test_group:\n",
    "    if match_etcbc(lex, bib_lex):\n",
    "        match_group.add(lex)"
   ]
  },
  {
   "cell_type": "code",
   "execution_count": 34,
   "metadata": {
    "collapsed": false
   },
   "outputs": [
    {
     "name": "stdout",
     "output_type": "stream",
     "text": [
      "Not yet mapped to ETCBC:  247\n"
     ]
    }
   ],
   "source": [
    "print('Not yet mapped to ETCBC: ', len(set(test_group) - match_group))"
   ]
  },
  {
   "cell_type": "code",
   "execution_count": 35,
   "metadata": {
    "collapsed": false,
    "scrolled": false
   },
   "outputs": [],
   "source": [
    "# sorted(set(test_group) - match_group)[:50]"
   ]
  },
  {
   "cell_type": "markdown",
   "metadata": {},
   "source": [
    "Problems in the mapping so far:\n",
    "* Many issues seem to be caused by proper nouns\n",
    "* differences in vocalization\n",
    "\n",
    "Fixed problems:\n",
    "* √ removed diacritical markers from both etcbc and bdb lemmas (`clean_word()`)\n",
    "    * brought the un-mapped down from ~700 to ~350\n",
    "* √ removed first position dageshes to solve pointing discrepancies\n",
    "    * unmapped down from ~350 to 247\n",
    "    \n",
    "Any given lemma might contain a mapping to more than one etcbc lex feature. This is unfavorable in cases where the word form may be exact, but the sense is different from that intended by the part of speech tag that we've chosen to keep. That the vocalised text is more specific has been a motivating factor for keeping the vowels. In order to test the spread of lex objects in the matches, let's average the length of matches per lemma:"
   ]
  },
  {
   "cell_type": "code",
   "execution_count": 36,
   "metadata": {
    "collapsed": false
   },
   "outputs": [
    {
     "name": "stdout",
     "output_type": "stream",
     "text": [
      "total lexemes:  2079\n",
      "Average len of ascii lemma mapping:  1.28\n"
     ]
    }
   ],
   "source": [
    "total_lemma = 0\n",
    "len_lex = 0\n",
    "\n",
    "for lemma in match_group:\n",
    "    total_lemma += 1\n",
    "    len_lex += len(match_etcbc(lemma, bib_lex))\n",
    "    \n",
    "print('total lexemes: ', total_lemma)\n",
    "print('Average len of ascii lemma mapping: ', round(len_lex/total_lemma, 2))"
   ]
  },
  {
   "cell_type": "markdown",
   "metadata": {},
   "source": [
    "It is good that the number is close to 1.0 since that means there are less double(+)-matches."
   ]
  },
  {
   "cell_type": "code",
   "execution_count": 39,
   "metadata": {
    "collapsed": false
   },
   "outputs": [
    {
     "name": "stdout",
     "output_type": "stream",
     "text": [
      "אֱדוֹם -- {'>DWM/'}\n",
      "אֱוִי -- {'>WJ/'}\n",
      "אֱוִיל מְרֹדַךְ -- {'>WJL_MRDK/'}\n",
      "אֱלִיאֵל -- {'>LJ>L/'}\n",
      "אֱלִיאָב -- {'>LJ>B/'}\n",
      "אֱלִיהוּ -- {'>LJHW>/', '>LJHW=/'}\n",
      "אֱלִיחֹ֫רֶף -- {'>LJXRP/'}\n",
      "אֱלִימֶ֫לֶךְ -- {'>LJMLK/'}\n",
      "אֱלִיעֶ֫זֶר -- {'>LJ<ZR/'}\n",
      "אֱלִיעָם -- {'>LJ<M/'}\n",
      "אֱלִיפְלֵ֫הוּ -- {'>LJPLHW/'}\n",
      "אֱלִיפַז -- {'>LJPZ/'}\n",
      "אֱלִיצָפָן -- {'>LJYPN/'}\n",
      "אֱלִיצוּר -- {'>LJYWR/'}\n",
      "אֱלִיקָא -- {'>LJQ>/'}\n",
      "אֱלִישֶׁ֫בַע -- {'>LJCB</'}\n",
      "אֱלִישָׁע -- {'>LJC</'}\n",
      "אֱלִישָׁפָט -- {'>LJCPV/'}\n",
      "אֱלִישׁוּעַ -- {'>LJCW</'}\n",
      "אֱלוּל -- {'>LWL/'}\n",
      "אֱמֹרִי -- {'>MRJ/'}\n",
      "אֱנוֹשׁ -- {'>NWC==/', '>NWC/'}\n",
      "אֲבִיָּ֫הוּ -- {'>BJHW/'}\n",
      "אֲבִי־עַלְבוֹן -- {'>BJ_<LBWN/'}\n",
      "אֲבִיאֵל -- {'>BJ>L/'}\n",
      "אֲבִיאָסָף -- {'>BJ>SP/'}\n",
      "אֲבִיגַ֫יִל -- {'>BJGJL/'}\n",
      "אֲבִידָן -- {'>BJDN/'}\n",
      "אֲבִידָע -- {'>BJD</'}\n",
      "אֲבִיהוּא -- {'>BJHW>/'}\n",
      "אֲבִיהוּד -- {'>BJHWD/'}\n",
      "אֲבִיחַ֫יִל -- {'>BJXJL/'}\n",
      "אֲבִיטָ֑ל -- {'>BJVL/'}\n",
      "אֲבִיטוּב -- {'>BJVWB/'}\n",
      "אֲבִימֶ֫לֶךְ -- {'>BJMLK/'}\n",
      "אֲבִימָאֵל -- {'>BJM>L/'}\n",
      "אֲבִינֵר -- {'>BNR/'}\n",
      "אֲבִינָדָב -- {'>BJNDB/'}\n",
      "אֲבִינֹ֫עַם -- {'>BJN<M/'}\n",
      "אֲבִיעֶ֫זֶר -- {'>BJ<ZR/'}\n",
      "אֲבִירָם -- {'>BJRM/'}\n",
      "אֲבִישַׁג -- {'>BJCG/'}\n",
      "אֲבִישַׁי -- {'>BJCJ/'}\n",
      "אֲבִישָׁלוֹם -- {'>BJCLWM/'}\n",
      "אֲבִישׁוּעַ -- {'>BJCW</'}\n",
      "אֲבִישׁוּר -- {'>BJCWR/'}\n",
      "אֲבַגְתָא -- {'>BGT>/'}\n",
      "אֲבַדּוֹן -- {'>BDWN/'}\n",
      "אֲגָג -- {'>GG/'}\n",
      "אֲדַלְיָא -- {'>DLJ>/'}\n",
      "אֲדָמִי הַנֶּ֫קֶב -- {'>DMJ_HNQB/'}\n",
      "אֲדָר -- {'>DR/', '>DR=/'}\n",
      "אֲדֹנִיָּ֫הוּ -- {'>DNJHW/'}\n",
      "אֲדֹנִי־בֶ֫זֶק -- {'>DNJ_BZQ/'}\n",
      "אֲדֹנִי־צֶ֫דֶק -- {'>DNJ_YDQ/'}\n",
      "אֲדֹנִיקָם -- {'>DNJQM/'}\n",
      "אֲדֹנִירָם -- {'>DNJRM/'}\n",
      "אֲדוֹרַ֫יִם -- {'>DWRJM/'}\n",
      "אֲחִיָּ֫הוּ -- {'>XJHW/'}\n",
      "אֲחִיאָם -- {'>XJ>M/'}\n",
      "אֲחִיהוּד -- {'>XJHWD/'}\n",
      "אֲחִיחֻד -- {'>XJXD/'}\n",
      "אֲחִיטוּב -- {'>XJVWB/'}\n",
      "אֲחִילוּד -- {'>XJLWD/'}\n",
      "אֲחִימֶ֫לֶךְ -- {'>XJMLK/'}\n",
      "אֲחִימַ֫עַץ -- {'>XJM<Y/'}\n",
      "אֲחִימַן -- {'>XJMN/'}\n",
      "אֲחִימוֹת -- {'>XJMWT/'}\n",
      "אֲחִינָדָב -- {'>XJNDB/'}\n",
      "אֲחִינֹ֫עַם -- {'>XJN<M/'}\n",
      "אֲחִיסָמָךְ -- {'>XJSMK/'}\n",
      "אֲחִיעֶ֫זֶר -- {'>XJ<ZR/'}\n",
      "אֲחִיקָם -- {'>XJQM/'}\n",
      "אֲחִירַע -- {'>XJR</'}\n",
      "אֲחִירָם -- {'>XJRM/'}\n",
      "אֲחִישָׁ֑חַר -- {'>XJCXR/'}\n",
      "אֲחִישָׁר -- {'>XJCR/'}\n",
      "אֲחִיתֹ֫פֶל -- {'>XJTPL/'}\n",
      "אֲחַזְיָ֫הוּ -- {'>XZJHW/'}\n",
      "אֲחַסְבַּי -- {'>XSBJ/'}\n",
      "אֲחַרְחֵל -- {'>XRXL/'}\n",
      "אֲחַשְׁתָּרִי -- {'>XCTRJ/'}\n",
      "אֲחֻזַּת -- {'>XZH/', '>XZT/'}\n",
      "אֲחֻזָּם -- {'>XZM/'}\n",
      "אֲחוֹחַ -- {'>XWX/'}\n",
      "אֲחוּמַי -- {'>XWMJ/'}\n",
      "אֲמִתַּי -- {'>MTJ/'}\n",
      "אֲמַצְיָ֫הוּ -- {'>MYJHW/'}\n",
      "אֲמַרְיָ֫הוּ -- {'>MRJHW/'}\n",
      "אֲמָם -- {'>MM/'}\n",
      "אֲנִיעָם -- {'>NJ<M/'}\n",
      "אֲסֵפָה -- {'>SPH/'}\n",
      "אֲפִיחַ -- {'>PJX/'}\n",
      "אֲפֵק -- {'>PQ/'}\n",
      "אֲפֵקָה -- {'>PQH/', '>PQ/'}\n",
      "אֲפָֽרְסָיֵא -- {'>PRSJ/'}\n",
      "אֲצַלְיָ֫הוּ -- {'>YLJHW/'}\n",
      "אֲרִידָ֑תָא -- {'>RJDT>/'}\n",
      "אֲרִיסַי -- {'>RJSJ/'}\n",
      "אֲרַוְנָה -- {'>RWNH/'}\n",
      "אֲרַע -- {'>R</'}\n",
      "אֲרָם -- {'>RM/'}\n",
      "אֲרָן -- {'>RN=/'}\n",
      "אֲרָרַט -- {'>RRV/'}\n",
      "אֲרֻבּוֹת -- {'>RBWT/', '>RBH=/'}\n",
      "אֲרוֹד -- {'>RWD/'}\n",
      "אֲשֵׁרָה -- {'>CRH/'}\n",
      "אֲשַׂרְאֵ֫לָה -- {'>FR>LH/'}\n",
      "אֲשַׂרְאֵל -- {'>FR>L/'}\n",
      "אֲתָרִים -- {'>TRJM/'}\n",
      "אִבְצָן -- {'>BYN/'}\n",
      "אִדּוֹ -- {'>DW/'}\n",
      "אִי כָבוֹד -- {'>JKBWD/'}\n",
      "אִיּוֹב -- {'>JWB/'}\n",
      "אִיזֶבֶל -- {'>JZBL/'}\n",
      "אִיתָמָר -- {'>JTMR/'}\n",
      "אִמְרִי -- {'>MRJ=/', '>MR['}\n",
      "אִמֵּר -- {'>MR===/'}\n",
      "אִתַּי -- {'>TJ/'}\n",
      "אֵ֫צֶר -- {'>YR/'}\n",
      "אֵהוּד -- {'>HWD/'}\n",
      "אֵחִי -- {'>XJ/'}\n",
      "אֵחוּד -- {'>XWD/'}\n",
      "אֵיל פָּארָן -- {'>JL_P>RN/'}\n",
      "אֵילִים -- {'>JL==/', '>JL=/', '>JL===/'}\n",
      "אֵילַת -- {'>JLT/'}\n",
      "אֵילוֹת -- {'>JLT/'}\n",
      "אֵימִים -- {'>JMH/', '>JMJM/'}\n",
      "אֵיתָן -- {'>JTN/', '>JTN=/'}\n",
      "אֵלִיָּה -- {'>LJH=/'}\n",
      "אֵלָא -- {'>L>/'}\n",
      "אֵלָה -- {'>LH/', '>LH===/'}\n",
      "אֵלוֹן -- {'>LWN/', '>LWN==/', '>JLWN/'}\n",
      "אֵפֹד -- {'>PD=/', '>PD/'}\n",
      "אֵתָם -- {'>TM/'}\n",
      "אֶ֫לֶף -- {'>LP/', '>LP===/', '>LP=/', '>LP==/'}\n",
      "אֶ֫פֶס דַּמִּים -- {'>PS_DMJM/'}\n",
      "אֶ֫רֶךְ -- {'>RK===/', '>RK/'}\n",
      "אֶבְיָתָר -- {'>BJTR/'}\n",
      "אֶגְלַ֫יִם -- {'>GLJM/'}\n",
      "אֶדְרֶ֫עִי -- {'>DR<J/'}\n",
      "אֶזְבָּ֑י -- {'>ZBJ/'}\n",
      "אֶלְדָּד -- {'>LDD/'}\n",
      "אֶלְדָּעָה -- {'>LD<H/'}\n",
      "אֶלְזָבָד -- {'>LZBD/'}\n",
      "אֶלְחָנָן -- {'>LXNN/'}\n",
      "אֶלְיְהוֹעֵינַי -- {'>LJHW<JNJ/'}\n",
      "אֶלְיַחְבָּא -- {'>LJXB>/'}\n",
      "אֶלְיָדָע -- {'>LJD</'}\n",
      "אֶלְיָסָף -- {'>LJSP/'}\n"
     ]
    }
   ],
   "source": [
    "for lemma in sorted(match_group)[:150]:\n",
    "    print(lemma, '--', match_etcbc(lemma, bib_lex))"
   ]
  },
  {
   "cell_type": "code",
   "execution_count": null,
   "metadata": {
    "collapsed": true
   },
   "outputs": [],
   "source": []
  }
 ],
 "metadata": {
  "anaconda-cloud": {},
  "kernelspec": {
   "display_name": "Python [conda root]",
   "language": "python",
   "name": "conda-root-py"
  },
  "language_info": {
   "codemirror_mode": {
    "name": "ipython",
    "version": 3
   },
   "file_extension": ".py",
   "mimetype": "text/x-python",
   "name": "python",
   "nbconvert_exporter": "python",
   "pygments_lexer": "ipython3",
   "version": "3.5.2"
  }
 },
 "nbformat": 4,
 "nbformat_minor": 1
}
