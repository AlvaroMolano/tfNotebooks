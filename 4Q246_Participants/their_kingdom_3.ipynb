{
 "cells": [
  {
   "cell_type": "markdown",
   "metadata": {},
   "source": [
    "# Part 3 of the Investigation into \"their kingdom\" of 4Q246 II.2\n",
    "\n",
    "<img src=\"images/their_kingdom.png\"></img>"
   ]
  },
  {
   "cell_type": "code",
   "execution_count": 1,
   "metadata": {},
   "outputs": [
    {
     "name": "stdout",
     "output_type": "stream",
     "text": [
      "Notebook last updated on 2017-05-20 22:18:30.863896\n"
     ]
    }
   ],
   "source": [
    "from datetime import datetime\n",
    "print(f'Notebook last updated on {datetime.now().__str__()}')"
   ]
  },
  {
   "cell_type": "markdown",
   "metadata": {},
   "source": [
    "# Introduction\n",
    "\n",
    "The two previous notebooks, `their_kingdom_1.ipynb` and `their_kingdom_2.ipynb` addressed..."
   ]
  },
  {
   "cell_type": "code",
   "execution_count": 2,
   "metadata": {},
   "outputs": [
    {
     "name": "stdout",
     "output_type": "stream",
     "text": [
      "  0.00s loading features ...\n",
      "   |     0.01s B book                 from /Users/Cody/github/text-fabric-data/hebrew/etcbc4c\n",
      "   |     0.01s B chapter              from /Users/Cody/github/text-fabric-data/hebrew/etcbc4c\n",
      "   |     0.01s B verse                from /Users/Cody/github/text-fabric-data/hebrew/etcbc4c\n",
      "   |     0.14s B lex                  from /Users/Cody/github/text-fabric-data/hebrew/etcbc4c\n",
      "   |     0.11s B prs                  from /Users/Cody/github/text-fabric-data/hebrew/etcbc4c\n",
      "   |     0.12s B prs_ps               from /Users/Cody/github/text-fabric-data/hebrew/etcbc4c\n",
      "   |     0.00s Feature overview: 103 for nodes; 5 for edges; 1 configs; 7 computed\n",
      "  5.13s All features loaded/computed - for details use loadLog()\n"
     ]
    }
   ],
   "source": [
    "# begin code\n",
    "\n",
    "# import tools\n",
    "import collections, csv\n",
    "\n",
    "# import text fabric\n",
    "from tf.fabric import Fabric\n",
    "\n",
    "# instantiate TF processor\n",
    "TF = Fabric(modules='hebrew/etcbc4c', silent=True)\n",
    "\n",
    "# load TF features\n",
    "api = TF.load('''\n",
    "              book chapter verse\n",
    "              lex prs prs_ps\n",
    "              ''')\n",
    "\n",
    "# prevent having to prefix all functions with .api\n",
    "api.makeAvailableIn(globals())"
   ]
  },
  {
   "cell_type": "code",
   "execution_count": 3,
   "metadata": {},
   "outputs": [
    {
     "name": "stdout",
     "output_type": "stream",
     "text": [
      "37\n"
     ]
    }
   ],
   "source": [
    "kingdom = tuple(wd for wd in F.otype.s('word')\n",
    "                  if F.lex.v(wd) in {'MMLKH/','MLKWT/'}\n",
    "                  and F.prs.v(wd) not in {'NA','absent'}\n",
    "                  and F.prs_ps.v(wd) == 'p3'\n",
    "               )\n",
    "\n",
    "print(len(kingdom))"
   ]
  }
 ],
 "metadata": {
  "kernelspec": {
   "display_name": "Python 3",
   "language": "python",
   "name": "python3"
  },
  "language_info": {
   "codemirror_mode": {
    "name": "ipython",
    "version": 3
   },
   "file_extension": ".py",
   "mimetype": "text/x-python",
   "name": "python",
   "nbconvert_exporter": "python",
   "pygments_lexer": "ipython3",
   "version": "3.6.0"
  }
 },
 "nbformat": 4,
 "nbformat_minor": 2
}
