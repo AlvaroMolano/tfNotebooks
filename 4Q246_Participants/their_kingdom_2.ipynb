{
 "cells": [
  {
   "cell_type": "markdown",
   "metadata": {},
   "source": [
    "# Part 2 of the Investigation into \"their kingdom\" of 4Q246 II.2\n",
    "\n",
    "<img src=\"images/their_kingdom.png\"></img>"
   ]
  },
  {
   "cell_type": "code",
   "execution_count": 1,
   "metadata": {
    "collapsed": false
   },
   "outputs": [
    {
     "name": "stdout",
     "output_type": "stream",
     "text": [
      "Notebook last updated on 2017-05-13 23:23:30.071588\n"
     ]
    }
   ],
   "source": [
    "from datetime import datetime\n",
    "print(f'Notebook last updated on {datetime.now().__str__()}')"
   ]
  },
  {
   "cell_type": "markdown",
   "metadata": {},
   "source": [
    "## Introduction \n",
    "In the previous notebook, [their_kingdom_1.ipynb](their_kingdom_1.ipynb), a query aimed to address whether the 3MP from יקרונה (\"**they** will name him\") in col II line 1 of 4Q246 was likely to be the same 3MP in the subsequent clause, כן מלכותהן תהוה (\"thus will **their** kingdom be.\" see the image above). To do so, the query surveyed cases in the Hebrew Bible wherein the PGN markers were the same but had different referents.\n",
    "\n",
    "Out of 405 matches<sup>1</sup> in Biblical Hebrew, 5 instances contained a verb with an impersonal subject which led to a disconnect between the two PGN markers. 2 of those examples were due to a passive verb. Further investigation into the phenomenon of impersonal subjects in Aramaic led to the recognition that the 3MP is commonly used in such a way in Aramaic, often as a parallel to passive verbs. Those same circumstances exist in 4Q246 II.1, and that would suggest the possibility that the PGN of the verb and following pronominal suffix are not actually referring to the same referent.\n",
    "\n",
    "In such a situation, it is necessary to account for a new antecedent for the \"their\" of מלכותהן. One possibility is provided by J.A. Fitzmeyer, who interprets the extant phrase, מלך אתור ומצרין (\"king of Assyria and Egypt\") as a reference to *two* kings. His reconstruction of the phrase is as follows:\n",
    "\n",
    "> ולקצת יומיא יאבדון] מלך אתור [ומ]צרין] <br>\n",
    "> [And at the end of the days they will perish] the king of Assyria [and Eg]ypt.<sup>2</sup>\n",
    "\n",
    "The phrase is intentionally rendered literally, but the hypothetical יאבדון is a plural. \n",
    "\n",
    "Fitzmeyer's suggestion does not receive a defense or explanation. On the other hand, it offers a interpretation of the phrase מלך אתור ומצרין (\"king of Assyria and Egypt\") which could provide an apt antecedent for the pronominal suffix on מלכותהן (\"their kingdom\"). If such is the case, an additional query will search for the role of semantics in linking PGN indicators.\n",
    "\n",
    "If Fitzmeyer's suggestion is not viable, though, it suggests some added difficulty for the positive interpretation. The lack of another extant plural subject might boost the likelihood that the antecedent of the plural 3MP of מלכותהן is the same 3MP that serves (יעבדון) the \"son of God\" (I.8), since that is the nearest alternative 3MP in the text.\n",
    "<br>\n",
    "<br>\n",
    "<hr width=\"500\" align=\"left\">\n",
    "<sup>1</sup>&nbsp;&nbsp;Clauses matched were those with a third person verb followed by a clause with a third person, identical pronominal suffix, without interruption by another PNG marker\n",
    "\n",
    "<sup>2</sup>&nbsp;&nbsp;Joseph A. Fitzmeyer, *The Dead Sea Scrolls and Christian Origins* (Grand Rapids: 2000), 44.\n",
    "\n",
    "<hr>"
   ]
  },
  {
   "cell_type": "markdown",
   "metadata": {},
   "source": [
    "## Research Question\n",
    "\n",
    "Is the following construction attested in the Hebrew Bible?\n",
    "\n",
    "* plural_verb + construct_noun_singular + absolute_noun_singular + coordinate_waw + absolute_noun_singular\n",
    "* i.e. \"they did X\" + (subj) \"something of\" + \"person 1\" + and + \"person 2\" \n",
    "    * or: \"king of Assyria and Egypt [they] will perish.\"\n",
    "    \n",
    "    \n",
    "## Query Strategy\n",
    "\n",
    "We query a list of clauses and look for two groups. Group 1 is the most stringent search parameters. Group 2 is less strict.\n",
    "\n",
    "**Group 1** - Clauses that have\n",
    "1. a plural predicate\n",
    "2. a singular subject in construct state\n",
    "    * followed by coordinated nouns\n",
    "    \n",
    "**Group 2** - Clauses that have\n",
    "1. a plural predicate\n",
    "2. a singular subject\n",
    "\n",
    "We search the whole HB, Hebrew and Aramaic together.\n",
    "\n",
    "Results are printed or exported to a spreadsheet, depending on the number of results."
   ]
  },
  {
   "cell_type": "code",
   "execution_count": 2,
   "metadata": {
    "collapsed": false
   },
   "outputs": [
    {
     "name": "stdout",
     "output_type": "stream",
     "text": [
      "This is Text-Fabric 2.3.6\n",
      "Api reference : https://github.com/ETCBC/text-fabric/wiki/Api\n",
      "Tutorial      : https://github.com/ETCBC/text-fabric/blob/master/docs/tutorial.ipynb\n",
      "Data sources  : https://github.com/ETCBC/text-fabric-data\n",
      "Data docs     : https://etcbc.github.io/text-fabric-data\n",
      "Shebanq docs  : https://shebanq.ancient-data.org/text\n",
      "Slack team    : https://shebanq.slack.com/signup\n",
      "Questions? Ask shebanq@ancient-data.org for an invite to Slack\n",
      "109 features found and 0 ignored\n",
      "  0.00s loading features ...\n",
      "   |     0.01s B book                 from /Users/Cody/github/text-fabric-data/hebrew/etcbc4c\n",
      "   |     0.01s B chapter              from /Users/Cody/github/text-fabric-data/hebrew/etcbc4c\n",
      "   |     0.01s B verse                from /Users/Cody/github/text-fabric-data/hebrew/etcbc4c\n",
      "   |     0.11s B nu                   from /Users/Cody/github/text-fabric-data/hebrew/etcbc4c\n",
      "   |     0.15s B function             from /Users/Cody/github/text-fabric-data/hebrew/etcbc4c\n",
      "   |     0.16s B pdp                  from /Users/Cody/github/text-fabric-data/hebrew/etcbc4c\n",
      "   |     0.20s B rela                 from /Users/Cody/github/text-fabric-data/hebrew/etcbc4c\n",
      "   |     0.25s B lex                  from /Users/Cody/github/text-fabric-data/hebrew/etcbc4c\n",
      "   |     0.19s B mother               from /Users/Cody/github/text-fabric-data/hebrew/etcbc4c\n",
      "   |     0.00s Feature overview: 103 for nodes; 5 for edges; 1 configs; 7 computed\n",
      "  6.57s All features loaded/computed - for details use loadLog()\n"
     ]
    }
   ],
   "source": [
    "# begin code\n",
    "\n",
    "# import tools\n",
    "import collections, csv\n",
    "\n",
    "# import text fabric\n",
    "from tf.fabric import Fabric\n",
    "\n",
    "# instantiate TF processor\n",
    "TF = Fabric(modules='hebrew/etcbc4c')\n",
    "\n",
    "# load TF features\n",
    "api = TF.load('''\n",
    "              book chapter verse\n",
    "              nu function pdp rela lex\n",
    "              mother\n",
    "              ''')\n",
    "\n",
    "# prevent having to prefix all functions with .api\n",
    "api.makeAvailableIn(globals())"
   ]
  },
  {
   "cell_type": "markdown",
   "metadata": {},
   "source": [
    "## Testing Out the Nomens Regens / Nomens Rectum in ETCBC Dataset\n",
    "\n",
    "In ETCBC4c, [only the the nomens rectum relationship is indicated on subphrase objects](https://etcbc.github.io/text-fabric-data/features/hebrew/etcbc4c/rela). First I want to understand how to access that data properly. Thus, I write a simple search and printout below."
   ]
  },
  {
   "cell_type": "code",
   "execution_count": 3,
   "metadata": {
    "collapsed": false
   },
   "outputs": [
    {
     "name": "stdout",
     "output_type": "stream",
     "text": [
      "('Genesis', 1, 2)\n",
      "וְחֹ֖שֶׁךְ עַל־פְּנֵ֣י תְהֹ֑ום \n",
      "פְּנֵ֣י \n",
      "תְהֹ֑ום \n",
      "\n",
      "('Genesis', 1, 2)\n",
      "וְר֣וּחַ אֱלֹהִ֔ים מְרַחֶ֖פֶת עַל־פְּנֵ֥י הַמָּֽיִם׃ \n",
      "ר֣וּחַ פְּנֵ֥י \n",
      "אֱלֹהִ֔ים הַמָּֽיִם׃ \n",
      "\n",
      "('Genesis', 1, 6)\n",
      "יְהִ֥י רָקִ֖יעַ בְּתֹ֣וךְ הַמָּ֑יִם \n",
      "תֹ֣וךְ \n",
      "הַמָּ֑יִם \n",
      "\n"
     ]
    }
   ],
   "source": [
    "# get chapter node for Genesis 1\n",
    "gen1 = T.nodeFromSection(('Genesis',1))\n",
    "\n",
    "# get only the first 20 clauses from Gen 1 for short results\n",
    "gen1_20_ca = [ca for ca in L.d(gen1, otype='clause_atom')][0:20] # slice\n",
    "\n",
    "# print all nomens regens/rectums in Genesis 1\n",
    "# go by clause atom\n",
    "for ca in gen1_20_ca:\n",
    "    \n",
    "    # list all nomens rectum subphrases in clause\n",
    "    nomens_rectum = [sp for sp in L.d(ca, otype='subphrase')\n",
    "                        if F.rela.v(sp) == 'rec'\n",
    "                    ] \n",
    "    # get the word nouns for nomens rectums subphrases\n",
    "    n_rectum_words = [word for sp in nomens_rectum   # use embedded list comprehension\n",
    "                         for word in L.d(sp, otype='word')\n",
    "                     ]\n",
    "    \n",
    "    # nomens regens are the mothers of the nomens rectums\n",
    "    nomens_regens = [E.mother.f(nr)[0] for nr in nomens_rectum]\n",
    "    \n",
    "    # print the results for verses with results\n",
    "    if nomens_regens and nomens_rectum:\n",
    "        \n",
    "        print(T.sectionFromNode(ca))\n",
    "        print(T.text(L.d(ca, otype='word')))\n",
    "        print(T.text(nomens_regens))\n",
    "        print(T.text(n_rectum_words))\n",
    "        print()"
   ]
  },
  {
   "cell_type": "markdown",
   "metadata": {},
   "source": [
    "## Get Clauses with Subject/Verb Disagreement in Number\n"
   ]
  },
  {
   "cell_type": "code",
   "execution_count": 6,
   "metadata": {
    "collapsed": false
   },
   "outputs": [
    {
     "name": "stdout",
     "output_type": "stream",
     "text": [
      "942 subjects disagree with their verb in the HB...\n"
     ]
    }
   ],
   "source": [
    "subj_disagree_cas = []\n",
    "\n",
    "# loop through all clauses\n",
    "for ca in F.otype.s('clause_atom'):\n",
    "    \n",
    "    # get the verb\n",
    "    verb = [wrd for phrs in L.d(ca, otype='phrase') \n",
    "                for wrd in L.d(phrs, otype='word')\n",
    "                if F.function.v(phrs) in {'Pred','PreO','PreS'}\n",
    "                and F.pdp.v(wrd) == 'verb'\n",
    "           ]\n",
    "    \n",
    "    # get the subject\n",
    "    subj = [wrd for phrs in L.d(ca, otype='phrase') \n",
    "                for wrd in L.d(phrs, otype='word')\n",
    "                if F.function.v(phrs) == 'Subj'\n",
    "                and F.pdp.v(wrd) in {'subs','nmpr'}\n",
    "                and F.lex.v(wrd) not in {'>LHJM/', 'KL/'}\n",
    "           ]\n",
    "    \n",
    "    if not verb or not subj:\n",
    "        continue\n",
    "    \n",
    "    verb_nu = F.nu.v(verb[0])\n",
    "    subj_nu = F.nu.v(subj[0])\n",
    "    \n",
    "    if any([verb_nu == 'pl' and subj_nu == 'sg',\n",
    "            verb_nu == 'sg' and subj_nu == 'pl'\n",
    "           ]):\n",
    "        \n",
    "        subj_disagree_cas.append(ca)\n",
    "    \n",
    "print(f'{len(subj_disagree_cas)} subjects disagree with their verb in the HB...')"
   ]
  },
  {
   "cell_type": "markdown",
   "metadata": {},
   "source": [
    "Before I move ahead, as a temporary stopping point for the evening, I would like to see what kinds of results there are. I will sample the results.\n",
    "\n",
    "* note: A large majority of the results appeared to arise due to subj/verb disagreement between אלהים and its verbs, as well as the word כל for plural verbs. I have omitted those results in the code above. I will make a more elegant solution tomorrow."
   ]
  },
  {
   "cell_type": "code",
   "execution_count": 7,
   "metadata": {
    "collapsed": false
   },
   "outputs": [
    {
     "name": "stdout",
     "output_type": "stream",
     "text": [
      "('Genesis', 1, 14)\n",
      "יְהִ֤י מְאֹרֹת֙ בִּרְקִ֣יעַ הַשָּׁמַ֔יִם \n",
      "\n",
      "('Genesis', 5, 23)\n",
      "וַיְהִ֖י כָּל־יְמֵ֣י חֲנֹ֑וךְ חָמֵ֤שׁ וְשִׁשִּׁים֙ שָׁנָ֔ה וּשְׁלֹ֥שׁ מֵאֹ֖ות שָׁנָֽה׃ \n",
      "\n",
      "('Genesis', 5, 31)\n",
      "וַֽיְהִי֙ כָּל־יְמֵי־לֶ֔מֶךְ שֶׁ֤בַע וְשִׁבְעִים֙ שָׁנָ֔ה וּשְׁבַ֥ע מֵאֹ֖ות שָׁנָ֑ה \n",
      "\n",
      "('Genesis', 6, 18)\n",
      "וּבָאתָ֙ אֶל־הַתֵּבָ֔ה אַתָּ֕ה וּבָנֶ֛יךָ וְאִשְׁתְּךָ֥ וּנְשֵֽׁי־בָנֶ֖יךָ אִתָּֽךְ׃ \n",
      "\n",
      "('Genesis', 8, 22)\n",
      "עֹ֖ד כָּל־יְמֵ֣י הָאָ֑רֶץ זֶ֡רַע וְ֠קָצִיר וְקֹ֨ר וָחֹ֜ם וְקַ֧יִץ וָחֹ֛רֶף וְיֹ֥ום וָלַ֖יְלָה לֹ֥א יִשְׁבֹּֽתוּ׃ \n",
      "\n",
      "('Genesis', 9, 15)\n",
      "וְלֹֽא־יִֽהְיֶ֨ה עֹ֤וד הַמַּ֨יִם֙ לְמַבּ֔וּל \n",
      "\n",
      "('Genesis', 14, 10)\n",
      "וַיָּנֻ֛סוּ מֶֽלֶךְ־סְדֹ֥ם וַעֲמֹרָ֖ה \n",
      "\n",
      "('Genesis', 14, 15)\n",
      "וַיֵּחָלֵ֨ק עֲלֵיהֶ֧ם׀ לַ֛יְלָה ה֥וּא וַעֲבָדָ֖יו \n",
      "\n",
      "('Genesis', 15, 16)\n",
      "וְדֹ֥ור רְבִיעִ֖י יָשׁ֣וּבוּ הֵ֑נָּה \n",
      "\n",
      "('Genesis', 17, 12)\n",
      "וּבֶן־שְׁמֹנַ֣ת יָמִ֗ים יִמֹּ֥ול לָכֶ֛ם כָּל־זָכָ֖ר לְדֹרֹתֵיכֶ֑ם יְלִ֣יד בָּ֔יִת וּמִקְנַת־כֶּ֨סֶף֙ מִכֹּ֣ל בֶּן־נֵכָ֔ר \n",
      "\n"
     ]
    }
   ],
   "source": [
    "for ca in subj_disagree_cas[0:10]:\n",
    "    print(T.sectionFromNode(ca))\n",
    "    print(T.text(L.d(ca, otype='word')))\n",
    "    print()"
   ]
  },
  {
   "cell_type": "markdown",
   "metadata": {},
   "source": [
    "Already in this initial query we see the kind of matching result we're seeking in Genesis 14:10.\n",
    "\n",
    "That passage is actually a perfect match for the potential reading in 4Q246!"
   ]
  }
 ],
 "metadata": {
  "kernelspec": {
   "display_name": "Python 3",
   "language": "python",
   "name": "python3"
  },
  "language_info": {
   "codemirror_mode": {
    "name": "ipython",
    "version": 3
   },
   "file_extension": ".py",
   "mimetype": "text/x-python",
   "name": "python",
   "nbconvert_exporter": "python",
   "pygments_lexer": "ipython3",
   "version": "3.6.0"
  }
 },
 "nbformat": 4,
 "nbformat_minor": 2
}
