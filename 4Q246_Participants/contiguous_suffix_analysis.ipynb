{
 "cells": [
  {
   "cell_type": "code",
   "execution_count": 5,
   "metadata": {
    "collapsed": true
   },
   "outputs": [],
   "source": [
    "import csv, collections\n",
    "from tf.fabric import Fabric"
   ]
  },
  {
   "cell_type": "code",
   "execution_count": 6,
   "metadata": {},
   "outputs": [
    {
     "name": "stdout",
     "output_type": "stream",
     "text": [
      "  0.00s loading features ...\n",
      "   |     0.01s B book                 from /Users/Cody/github/text-fabric-data/hebrew/etcbc4c\n",
      "   |     0.00s B chapter              from /Users/Cody/github/text-fabric-data/hebrew/etcbc4c\n",
      "   |     0.01s B verse                from /Users/Cody/github/text-fabric-data/hebrew/etcbc4c\n",
      "   |     0.00s Feature overview: 103 for nodes; 5 for edges; 1 configs; 7 computed\n",
      "  4.11s All features loaded/computed - for details use loadLog()\n"
     ]
    }
   ],
   "source": [
    "TF = Fabric(modules='hebrew/etcbc4c', silent=True)\n",
    "\n",
    "api = TF.load('''\n",
    "               book chapter verse\n",
    "              ''')\n",
    "\n",
    "api.makeAvailableIn(globals())"
   ]
  },
  {
   "cell_type": "code",
   "execution_count": 22,
   "metadata": {},
   "outputs": [
    {
     "name": "stdout",
     "output_type": "stream",
     "text": [
      "405 clauses ready for analysis...\n"
     ]
    }
   ],
   "source": [
    "# manually analyzed contigous suffix clauses\n",
    "\n",
    "with open('results/contiguous_suffixes_BH_Quotation.csv', 'r') as infile:\n",
    "    reader = csv.DictReader(infile)\n",
    "    \n",
    "    contiguous = [dict(row) for row in reader]\n",
    "    \n",
    "print(len(contiguous), 'clauses ready for analysis...')"
   ]
  },
  {
   "cell_type": "code",
   "execution_count": 24,
   "metadata": {},
   "outputs": [
    {
     "data": {
      "text/plain": [
       "[{'notes': '',\n",
       "  'pn_Cl_type': 'InfC',\n",
       "  'pron_ca': '514966',\n",
       "  'pronominal': 'כֹּחָ֖הּ ',\n",
       "  'reference': 'Genesis 4:12',\n",
       "  'same?': 'y',\n",
       "  'suffx_PGN': \"('p3', 'f', 'sg')\",\n",
       "  'text': 'לֹֽא־תֹסֵ֥ף תֵּת־כֹּחָ֖הּ לָ֑ךְ ',\n",
       "  'vb_Cl_type': 'xYq0',\n",
       "  'verb': 'תֹסֵ֥ף ',\n",
       "  'verb_PGN': \"('p3', 'f', 'sg')\",\n",
       "  'verb_ca': '514965'}]"
      ]
     },
     "execution_count": 24,
     "metadata": {},
     "output_type": "execute_result"
    }
   ],
   "source": [
    "contiguous[:1]"
   ]
  },
  {
   "cell_type": "code",
   "execution_count": 31,
   "metadata": {
    "scrolled": false
   },
   "outputs": [
    {
     "name": "stdout",
     "output_type": "stream",
     "text": [
      "Numbers 15:31\n",
      "בָּזָ֔ה  מִצְוָתֹ֖ו \n",
      "כִּ֤י דְבַר־יְהוָה֙ בָּזָ֔ה וְאֶת־מִצְוָתֹ֖ו הֵפַ֑ר \n",
      "\n",
      "2_Kings 18:29\n",
      "יוּכַ֔ל  יָּדֹֽו׃ \n",
      "כִּי־לֹ֣א יוּכַ֔ל לְהַצִּ֥יל אֶתְכֶ֖ם מִיָּדֹֽו׃ \n",
      "\n",
      "Isaiah 34:3\n",
      "יֻשְׁלָ֔כוּ  פִגְרֵיהֶ֖ם \n",
      "וְחַלְלֵיהֶ֣ם יֻשְׁלָ֔כוּ וּפִגְרֵיהֶ֖ם \n",
      "\n",
      "Isaiah 44:9\n",
      "יֹועִ֑ילוּ  עֵדֵיהֶ֣ם \n",
      "וַחֲמוּדֵיהֶ֖ם בַּל־יֹועִ֑ילוּ וְעֵדֵיהֶ֣ם הֵ֗ׄמָּׄהׄ \n",
      "\n",
      "Isaiah 53:10-11\n",
      "יִצְלָֽח׃  נַפְשֹׁו֙ \n",
      "וְחֵ֥פֶץ יְהוָ֖ה בְּיָדֹ֥ו יִצְלָֽח׃ מֵעֲמַ֤ל נַפְשֹׁו֙ יִרְאֶ֣ה \n",
      "\n",
      "Jeremiah 51:44-45\n",
      "נָפָֽלָה׃  תֹּוכָהּ֙ \n",
      "גַּם־חֹומַ֥ת בָּבֶ֖ל נָפָֽלָה׃ צְא֤וּ מִתֹּוכָהּ֙ \n",
      "\n",
      "Jeremiah 51:47\n",
      "תֵּבֹ֑ושׁ  חֲלָלֶ֖יהָ \n",
      "וְכָל־אַרְצָ֖הּ תֵּבֹ֑ושׁ וְכָל־חֲלָלֶ֖יהָ יִפְּל֥וּ בְתֹוכָֽהּ׃ \n",
      "\n",
      "Jeremiah 51:58\n",
      "תִּתְעַרְעָ֔ר  שְׁעָרֶ֥יהָ \n",
      "חֹ֠מֹות בָּבֶ֤ל הָֽרְחָבָה֙ עַרְעֵ֣ר תִּתְעַרְעָ֔ר וּשְׁעָרֶ֥יהָ הַגְּבֹהִ֖ים בָּאֵ֣שׁ יִצַּ֑תּוּ \n",
      "\n",
      "Ezekiel 7:19\n",
      "יְשַׂבֵּ֔עוּ  מֵעֵיהֶ֖ם \n",
      "נַפְשָׁם֙ לֹ֣א יְשַׂבֵּ֔עוּ וּמֵעֵיהֶ֖ם לֹ֣א יְמַלֵּ֑אוּ \n",
      "\n",
      "Ezekiel 7:19\n",
      "יְמַלֵּ֑אוּ  עֲוֹנָ֖ם \n",
      "וּמֵעֵיהֶ֖ם לֹ֣א יְמַלֵּ֑אוּ כִּֽי־מִכְשֹׁ֥ול עֲוֹנָ֖ם הָיָֽה׃ \n",
      "\n",
      "Ezekiel 46:2\n",
      "עָמַד֙  עֹֽולָתֹו֙ \n",
      "וְעָמַד֙ עַל־מְזוּזַ֣ת הַשַּׁ֔עַר וְעָשׂ֣וּ הַכֹּהֲנִ֗ים אֶת־עֹֽולָתֹו֙ וְאֶת־שְׁלָמָ֔יו \n",
      "\n",
      "Ezekiel 46:8\n",
      "יָבֹ֔וא  דַרְכֹּ֖ו \n",
      "דֶּ֣רֶךְ אוּלָ֤ם הַשַּׁ֨עַר֙ יָבֹ֔וא וּבְדַרְכֹּ֖ו יֵצֵֽא׃ \n",
      "\n",
      "Hosea 12:15\n",
      "יִטֹּ֔ושׁ  חֶ֨רְפָּתֹ֔ו \n",
      "וְדָמָיו֙ עָלָ֣יו יִטֹּ֔ושׁ וְחֶ֨רְפָּתֹ֔ו יָשִׁ֥יב לֹ֖ו אֲדֹנָֽיו׃ \n",
      "\n",
      "Micah 3:3\n",
      "אָכְלוּ֮  עֹורָם֙ \n",
      "וַאֲשֶׁ֣ר אָכְלוּ֮ שְׁאֵ֣ר עַמִּי֒ וְעֹורָם֙ מֵעֲלֵיהֶ֣ם הִפְשִׁ֔יטוּ \n",
      "\n",
      "Micah 3:3\n",
      "הִפְשִׁ֔יטוּ  עַצְמֹֽתֵיהֶ֖ם \n",
      "וְעֹורָם֙ מֵעֲלֵיהֶ֣ם הִפְשִׁ֔יטוּ וְאֶת־עַצְמֹֽתֵיהֶ֖ם פִּצֵּ֑חוּ \n",
      "\n",
      "Habakkuk 1:7-8\n",
      "יֵצֵֽא׃  סוּסָ֗יו \n",
      "מִמֶּ֕נּוּ מִשְׁפָּטֹ֥ו וּשְׂאֵתֹ֖ו יֵצֵֽא׃ וְקַלּ֨וּ מִנְּמֵרִ֜ים סוּסָ֗יו \n",
      "\n",
      "Psalms 34:7\n",
      "שָׁמֵ֑עַ  צָ֝רֹותָ֗יו \n",
      "וַיהוָ֣ה שָׁמֵ֑עַ וּמִכָּל־צָ֝רֹותָ֗יו הֹושִׁיעֹֽו׃ \n",
      "\n",
      "Psalms 79:7\n",
      "אָכַ֣ל  נָוֵ֥הוּ \n",
      "כִּ֭י אָכַ֣ל אֶֽת־יַעֲקֹ֑ב וְֽאֶת־נָוֵ֥הוּ הֵשַֽׁמּוּ׃ \n",
      "\n",
      "Psalms 89:37\n",
      "יִהְיֶ֑ה  כִסְאֹ֖ו \n",
      "זַ֭רְעֹו לְעֹולָ֣ם יִהְיֶ֑ה וְכִסְאֹ֖ו כַשֶּׁ֣מֶשׁ נֶגְדִּֽי׃ \n",
      "\n",
      "Psalms 91:10-11\n",
      "יִקְרַ֥ב  מַ֭לְאָכָיו \n",
      "וְ֝נֶ֗גַע לֹא־יִקְרַ֥ב בְּאָהֳלֶֽךָ׃ כִּ֣י מַ֭לְאָכָיו יְצַוֶּה־לָּ֑ךְ \n",
      "\n",
      "Psalms 109:31\n",
      "יַ֭עֲמֹד  נַפְשֹֽׁו׃ \n",
      "כִּֽי־יַ֭עֲמֹד לִימִ֣ין אֶבְיֹ֑ון לְ֝הֹושִׁ֗יעַ מִשֹּׁפְטֵ֥י נַפְשֹֽׁו׃ \n",
      "\n",
      "Psalms 139:16\n",
      "רָ֘א֤וּ  כֻּלָּ֪ם \n",
      "גָּלְמִ֤י׀ רָ֘א֤וּ עֵינֶ֗יךָ וְעַֽל־סִפְרְךָ֮ כֻּלָּ֪ם יִכָּ֫תֵ֥בוּ \n",
      "\n",
      "Job 4:17\n",
      "יִצְדָּ֑ק  עֹשֵׂ֗הוּ \n",
      "הַֽ֭אֱנֹושׁ מֵאֱלֹ֣והַ יִצְדָּ֑ק אִ֥ם מֵ֝עֹשֵׂ֗הוּ יִטְהַר־גָּֽבֶר׃ \n",
      "\n",
      "Job 14:22\n",
      "יִכְאָ֑ב  נַפְשֹׁ֗ו \n",
      "אַךְ־בְּ֭שָׂרֹו עָלָ֣יו יִכְאָ֑ב וְ֝נַפְשֹׁ֗ו עָלָ֥יו תֶּאֱבָֽל׃ פ \n",
      "\n",
      "Job 18:6-7\n",
      "יִדְעָֽךְ׃  אֹונֹ֑ו \n",
      "וְ֝נֵרֹ֗ו עָלָ֥יו יִדְעָֽךְ׃ יֵֽ֭צְרוּ צַעֲדֵ֣י אֹונֹ֑ו \n",
      "\n",
      "Job 20:6-7\n",
      "יַגִּֽיעַ׃  גֶלֲלֹו \n",
      "וְ֝רֹאשֹׁ֗ו לָעָ֥ב יַגִּֽיעַ׃ כְּֽ֭גֶלֲלֹו לָנֶ֣צַח יֹאבֵ֑ד \n",
      "\n",
      "Job 20:7\n",
      "יֹאבֵ֑ד  רֹ֝אָ֗יו \n",
      "כְּֽ֭גֶלֲלֹו לָנֶ֣צַח יֹאבֵ֑ד רֹ֝אָ֗יו יֹאמְר֥וּ \n",
      "\n",
      "Job 20:14\n",
      "נֶהְפָּ֑ךְ  קִרְבֹּֽו׃ \n",
      "לַ֭חְמֹו בְּמֵעָ֣יו נֶהְפָּ֑ךְ מְרֹורַ֖ת פְּתָנִ֣ים בְּקִרְבֹּֽו׃ \n",
      "\n",
      "Job 20:23\n",
      "יְהִ֤י׀  בִטְנֹ֗ו \n",
      "יְהִ֤י׀ לְמַלֵּ֬א בִטְנֹ֗ו \n",
      "\n",
      "Job 21:33\n",
      "יִמְשֹׁ֑וךְ  פָנָ֗יו \n",
      "וְ֭אַחֲרָיו כָּל־אָדָ֣ם יִמְשֹׁ֑וךְ וּ֝לְפָנָ֗יו \n",
      "\n",
      "Job 29:10\n",
      "נֶחְבָּ֑אוּ  לְשֹׁונָ֗ם \n",
      "קֹול־נְגִידִ֥ים נֶחְבָּ֑אוּ וּ֝לְשֹׁונָ֗ם לְחִכָּ֥ם דָּבֵֽקָה׃ \n",
      "\n",
      "Job 31:31\n",
      "יִתֵּ֥ן  בְּשָׂרֹ֗ו \n",
      "מִֽי־יִתֵּ֥ן מִ֝בְּשָׂרֹ֗ו לֹ֣א נִשְׂבָּֽע׃ \n",
      "\n",
      "Job 41:13-14\n",
      "יֵצֵֽא׃  צַוָּארֹו \n",
      "וְ֝לַ֗הַב מִפִּ֥יו יֵצֵֽא׃ בְּֽ֭צַוָּארֹו יָלִ֣ין עֹ֑ז \n",
      "\n",
      "Job 41:15-16\n",
      "יִמֹּֽוט׃  לִ֭בֹּו \n",
      "בַּל־יִמֹּֽוט׃ לִ֭בֹּו יָצ֣וּק כְּמֹו־אָ֑בֶן \n",
      "\n",
      "Esther 1:20\n",
      "יַעֲשֶׂה֙  מַלְכוּתֹ֔ו \n",
      "אֲשֶֽׁר־יַעֲשֶׂה֙ בְּכָל־מַלְכוּתֹ֔ו \n",
      "\n",
      "Esther 4:11\n",
      "יִקָּרֵ֗א  דָּתֹו֙ \n",
      "אֲשֶׁ֣ר לֹֽא־יִקָּרֵ֗א אַחַ֤ת דָּתֹו֙ \n",
      "\n"
     ]
    }
   ],
   "source": [
    "for clause in contiguous:\n",
    "    \n",
    "    if clause['notes'] == 'additional_noun' and clause['same?'] == 'n':\n",
    "        \n",
    "        print(clause['reference'])\n",
    "        print(clause['verb'], clause['pronominal'])\n",
    "        print(clause['text'])\n",
    "        print()"
   ]
  },
  {
   "cell_type": "code",
   "execution_count": null,
   "metadata": {
    "collapsed": true
   },
   "outputs": [],
   "source": []
  }
 ],
 "metadata": {
  "kernelspec": {
   "display_name": "Python 3",
   "language": "python",
   "name": "python3"
  },
  "language_info": {
   "codemirror_mode": {
    "name": "ipython",
    "version": 3
   },
   "file_extension": ".py",
   "mimetype": "text/x-python",
   "name": "python",
   "nbconvert_exporter": "python",
   "pygments_lexer": "ipython3",
   "version": "3.6.0"
  }
 },
 "nbformat": 4,
 "nbformat_minor": 2
}
