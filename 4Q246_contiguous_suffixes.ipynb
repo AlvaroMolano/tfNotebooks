{
 "cells": [
  {
   "cell_type": "code",
   "execution_count": 1,
   "metadata": {
    "collapsed": false,
    "deletable": true,
    "editable": true
   },
   "outputs": [
    {
     "name": "stdout",
     "output_type": "stream",
     "text": [
      "Notebook last updated on 2017-05-06 20:11:12.122145\n"
     ]
    }
   ],
   "source": [
    "from datetime import datetime\n",
    "print(f'Notebook last updated on {datetime.now().__str__()}')"
   ]
  },
  {
   "cell_type": "markdown",
   "metadata": {
    "deletable": true,
    "editable": true
   },
   "source": [
    "# Parallel Suffixes and the Continuation of Actants in 4Q246\n",
    "\n",
    "## Research Question:\n",
    "\n",
    "Are there places, first in Biblical Aramaic, where a suffix in a clause identifies in person, gender, and number with a subject suffix in an immediately preceding clause, but refers to a different referent?\n",
    "\n",
    "If so: What kinds of factors allow for distinguishing between the two participants? Are there any formal indicators?\n",
    "\n",
    "## Motivation:\n",
    "\n",
    "In [4Q246 (Aramaic)](http://www.deadseascrolls.org.il/explore-the-archive/manuscript/4Q246-1), a controversial figure appears who is called ברה די אל (\"son of God\") and בר עליון (\"son of the Most High\"). Much of the material before this point (column 2 line 1) is damaged, which complicates the identification of the figure. But the material which follows the reference leaves an open question as to whether the son of God is presented as a positive or negative character.\n",
    "\n",
    "The relevant text of the passage in question is:\n",
    "\n",
    "> ברה די אל יתאמר ובר עליון יקרונה <br>\n",
    "> כזיקיא חזותא כן מלכותהן תהוה <br>\n",
    "> שנין ימלכון על ארעא וכלא ידשון <br>\n",
    "> ...<br>\n",
    "> עד יקום עם אל\n",
    "\n",
    "<br>\n",
    "> The Son of God he will be called, and son of the Most High they will name him. <br>\n",
    "> Like the sparks/comets of the vision, thus will their kingdom be. <br>\n",
    "> Years they will reign over the land, and everyone they will trample. <br>\n",
    "> ... <br>\n",
    "> Until [the] people of God arise. (4Q246, Col 2, lns. 1-3, 5) <br>\n",
    "\n",
    "A major issue in interpreting the \"son of God\" figure is the identification of the 3MP \"they\" between lines 1-2. Specifically, the text says, \"...and son of the Most High **they** will name him\" and then progresses to say, \"Like the comets of the vision, thus will **their** kingdom be.\" Since the 3MP suffix on \"their kingdom\" refers to a tumultuous kingdom that ends after the people of God arise (\"until the people of God...\"), the \"son of God\" must be so named by a wicked people, that is, if the 3MP in both clauses refer to the same referent. \n",
    "\n",
    "## Inventory of Parameters\n",
    "\n",
    "Based on the problem described above, here is a set of parameters the code must find:\n",
    "\n",
    "* Two contiguous clauses\n",
    "    * If clause is defective or causus pendens, it must be considered together with its last portion.\n",
    "    * Clause 1 contains a verb with PGN X\n",
    "    * Clause 2 contains a noun with a pronominal suffix with PGN X\n",
    "    * No other PGN indicators can occur between PGN reference 1 and PGN reference 2\n",
    "        * Exception: if the PGN indicator is a noun with a comparative particle such as כ inside of a causus pendens\n",
    "    \n",
    "Export results to a spreadsheet for examination. Hits will need to be manually labled as Y or N on the question: is the same referent? Include a separate row in the spreadsheet for this.\n",
    "\n",
    "Begin first with Biblical Aramaic. If data is sparse, or if it is examined and further data is preferable, expand the search to Biblical Hebrew."
   ]
  },
  {
   "cell_type": "markdown",
   "metadata": {
    "deletable": true,
    "editable": true
   },
   "source": [
    "## See the Results of this Query: \n",
    "\n",
    "* [Aramaic](results/contiguous_suffixes_BA.csv)\n",
    "* [Hebrew](results/contiguous_suffixes_BH_Quotation.csv)"
   ]
  },
  {
   "cell_type": "code",
   "execution_count": 2,
   "metadata": {
    "collapsed": false,
    "deletable": true,
    "editable": true
   },
   "outputs": [
    {
     "name": "stdout",
     "output_type": "stream",
     "text": [
      "This is Text-Fabric 2.3.6\n",
      "Api reference : https://github.com/ETCBC/text-fabric/wiki/Api\n",
      "Tutorial      : https://github.com/ETCBC/text-fabric/blob/master/docs/tutorial.ipynb\n",
      "Data sources  : https://github.com/ETCBC/text-fabric-data\n",
      "Data docs     : https://etcbc.github.io/text-fabric-data\n",
      "Shebanq docs  : https://shebanq.ancient-data.org/text\n",
      "Slack team    : https://shebanq.slack.com/signup\n",
      "Questions? Ask shebanq@ancient-data.org for an invite to Slack\n",
      "109 features found and 0 ignored\n",
      "  0.00s loading features ...\n",
      "   |     0.01s B book                 from /Users/Cody/github/text-fabric-data/hebrew/etcbc4c\n",
      "   |     0.01s B chapter              from /Users/Cody/github/text-fabric-data/hebrew/etcbc4c\n",
      "   |     0.01s B verse                from /Users/Cody/github/text-fabric-data/hebrew/etcbc4c\n",
      "   |     0.11s B language             from /Users/Cody/github/text-fabric-data/hebrew/etcbc4c\n",
      "   |     0.12s B prs                  from /Users/Cody/github/text-fabric-data/hebrew/etcbc4c\n",
      "   |     0.12s B prs_gn               from /Users/Cody/github/text-fabric-data/hebrew/etcbc4c\n",
      "   |     0.12s B prs_nu               from /Users/Cody/github/text-fabric-data/hebrew/etcbc4c\n",
      "   |     0.13s B prs_ps               from /Users/Cody/github/text-fabric-data/hebrew/etcbc4c\n",
      "   |     0.10s B gn                   from /Users/Cody/github/text-fabric-data/hebrew/etcbc4c\n",
      "   |     0.12s B nu                   from /Users/Cody/github/text-fabric-data/hebrew/etcbc4c\n",
      "   |     0.12s B ps                   from /Users/Cody/github/text-fabric-data/hebrew/etcbc4c\n",
      "   |     0.07s B function             from /Users/Cody/github/text-fabric-data/hebrew/etcbc4c\n",
      "   |     0.12s B pdp                  from /Users/Cody/github/text-fabric-data/hebrew/etcbc4c\n",
      "   |     0.22s B typ                  from /Users/Cody/github/text-fabric-data/hebrew/etcbc4c\n",
      "   |     0.22s B rela                 from /Users/Cody/github/text-fabric-data/hebrew/etcbc4c\n",
      "   |     0.02s B domain               from /Users/Cody/github/text-fabric-data/hebrew/etcbc4c\n",
      "   |     0.00s Feature overview: 103 for nodes; 5 for edges; 1 configs; 7 computed\n",
      "  5.76s All features loaded/computed - for details use loadLog()\n"
     ]
    }
   ],
   "source": [
    "# import tools\n",
    "import collections, csv\n",
    "\n",
    "# import TF and data\n",
    "from tf.fabric import Fabric\n",
    "\n",
    "# initialize TF\n",
    "TF = Fabric(modules='hebrew/etcbc4c')\n",
    "\n",
    "# load features\n",
    "api = TF.load('''\n",
    "              book chapter verse language\n",
    "              prs prs_gn prs_nu prs_ps\n",
    "              gn nu ps\n",
    "              function pdp typ rela domain\n",
    "              ''')\n",
    "\n",
    "api.makeAvailableIn(globals())"
   ]
  },
  {
   "cell_type": "markdown",
   "metadata": {
    "deletable": true,
    "editable": true
   },
   "source": [
    "### PGN Matching Functions\n",
    "\n",
    "First we need some functions to match person, gender, and number indicators between pronominal suffixes -> verbs or nouns -> verbs. The key function is `match_pgn()`, which is made only for third person matching. Afterward, we provide some testing examples to ensure the algorithm works."
   ]
  },
  {
   "cell_type": "code",
   "execution_count": 3,
   "metadata": {
    "collapsed": false,
    "deletable": true,
    "editable": true
   },
   "outputs": [],
   "source": [
    "def get_pgn(word, pronom=False):\n",
    "    '''\n",
    "    Return a person, gender, number (PGN) tuple \n",
    "    for a word or pronominal suffix.\n",
    "    '''\n",
    "    # return word PGN tuple\n",
    "    if not pronom:\n",
    "        return (F.ps.v(word), F.gn.v(word), F.nu.v(word))\n",
    "    \n",
    "    # return pronominal suffix PGN tuple\n",
    "    else:\n",
    "        return (F.prs_ps.v(word), F.prs_gn.v(word), F.prs_nu.v(word))\n",
    "    \n",
    "    \n",
    "def match_pgn(main_pgn, cmp_pgn):\n",
    "    '''\n",
    "    Return True/False for person, gender, and number agreement between:\n",
    "        * a third person pronominal suffix and verbs\n",
    "        OR\n",
    "        * a third person pronominal suffix and nouns\n",
    "    Requires two tuples formatted as: (person, gender, number)\n",
    "        for the pronominal PGN and the compared PGN (verb or noun)\n",
    "    '''\n",
    "    # label pgn data\n",
    "    main_ps, main_gn, main_nu = main_pgn\n",
    "    cmp_ps, cmp_gn, cmp_nu = cmp_pgn\n",
    "    \n",
    "    # check the parameters for p3 subject/verb agreement\n",
    "    if all([main_ps in {'p3','unknown','NA'},\n",
    "            cmp_ps in {'p3','unknown','NA'},\n",
    "            main_nu == cmp_nu,\n",
    "            main_gn in {cmp_gn, 'unknown'} or cmp_gn == 'unknown']):\n",
    "        \n",
    "        return True\n",
    "    \n",
    "    else:\n",
    "        return False"
   ]
  },
  {
   "cell_type": "markdown",
   "metadata": {
    "deletable": true,
    "editable": true
   },
   "source": [
    "Testing the PGN matcher..."
   ]
  },
  {
   "cell_type": "code",
   "execution_count": 4,
   "metadata": {
    "collapsed": false,
    "deletable": true,
    "editable": true
   },
   "outputs": [
    {
     "name": "stdout",
     "output_type": "stream",
     "text": [
      "test A: True\n",
      "test B: True\n",
      "test C: False\n",
      "test D: True\n"
     ]
    }
   ],
   "source": [
    "pronA, cmpA = ('unknown','m','sg'),('p3','m','sg')\n",
    "pronB, cmpB = ('p3','f','sg'),('unknown','f','sg')\n",
    "pronC, cmpC = ('p3','m','sg'),('unknown','f','sg')\n",
    "pronD, cmpD = ('NA', 'm', 'sg'),('p3', 'm', 'sg')\n",
    "\n",
    "print('test A:', match_pgn(pronA, cmpA))\n",
    "print('test B:', match_pgn(pronB, cmpB))\n",
    "print('test C:', match_pgn(pronC, cmpC))\n",
    "print('test D:', match_pgn(pronD, cmpD))"
   ]
  },
  {
   "cell_type": "markdown",
   "metadata": {
    "deletable": true,
    "editable": true
   },
   "source": [
    "### Contiguous Verb Suffix // Pronominal Suffix Function\n",
    "\n",
    "Now we build a big function to find third person verbs in one clause, and the pronominal suffixes that agree with them in person, gender, and number. There can be no intervening PGN markers between these two points of reference that agree with the verb. Thus, there is, in theory, an unbroken chain of PGN indicators up to the suffix. This will allow for testing the problem as it appears in 4Q246. "
   ]
  },
  {
   "cell_type": "code",
   "execution_count": 5,
   "metadata": {
    "collapsed": false,
    "deletable": true,
    "editable": true
   },
   "outputs": [],
   "source": [
    "def get_contiguous_suffixes(clause_atoms):\n",
    "    '''\n",
    "    Return a list of dictionary matches that have:\n",
    "        * Clause 1 with verbal suffix X\n",
    "        * Clause 2 with noun + pronominal suffix X\n",
    "        * No interrupting PGN markers between the suffixes\n",
    "    Dictionary contains row data for a spreadsheet.\n",
    "    Requires a list of clauses in canonical order.\n",
    "    '''\n",
    "    \n",
    "    # print info to console with TF.info()\n",
    "    indent(level=0, reset=True)\n",
    "    info('Beginning search for contiguous suffixes...')\n",
    "    indent(level=1, reset=True)\n",
    "    \n",
    "    # put results here\n",
    "    matches = []\n",
    "    \n",
    "    # find matches\n",
    "    for ca in clause_atoms:\n",
    "        \n",
    "        # |1| Check for third person predicate verb.\n",
    "        \n",
    "        # get third person verb\n",
    "        verb = [word for word in L.d(ca, otype='word') # get all words in clause atom\n",
    "                    if F.function.v(L.u(word, otype='phrase')[0]) == 'Pred' # predicate word \n",
    "                    and F.pdp.v(word) == 'verb' # word must be verb\n",
    "                    and F.ps.v(word) == 'p3' # verb must be third person\n",
    "               ]\n",
    "        \n",
    "        # skip if no verb or third person verb\n",
    "        if not verb:\n",
    "            continue\n",
    "            \n",
    "        # take the last verb (in case there are multiples)\n",
    "        verb = verb[-1]\n",
    "        \n",
    "        # |2| Check subsequent clause atom for noun with pronominal suffix.\n",
    "        \n",
    "        # get subsequent clause atom\n",
    "        subsequent_ca = ca + 1 if ca + 1 in clause_atoms else None\n",
    "        \n",
    "        # skip if there is no following clause atom\n",
    "        if not subsequent_ca:\n",
    "            continue\n",
    "            \n",
    "        # get all words in subsequent ca \n",
    "        subs_words = L.d(subsequent_ca, otype='word')\n",
    "            \n",
    "        # if the subsequent ca is causus or defective, check the resumptive clause too\n",
    "        if F.typ.v(subsequent_ca) in {'CPen','Defc'}\\\n",
    "            and F.rela.v(subsequent_ca + 1) == 'Resu':\n",
    "                # get resumption clause atom\n",
    "                resume_ca = subsequent_ca + 1\n",
    "                # extend subsequent words with the words in the resumption clause atom\n",
    "                subs_words.extend(L.d(resume_ca, otype='word'))\n",
    "        \n",
    "        # get all words in subsequent words with \n",
    "        # a pronominal suffix that agree with the verb\n",
    "        suffixed_nouns = [word for word in subs_words\n",
    "                              if F.pdp.v(word) == 'subs' # word functions as noun\n",
    "                              and F.prs.v(word) not in {'NA','absent'} # word has pronominal sfx\n",
    "                              and match_pgn(get_pgn(word, pronom=True), get_pgn(verb)) # PGN agree\n",
    "                         ]\n",
    "        \n",
    "        # skip if there are no nouns with pronominal suffixes\n",
    "        if not suffixed_nouns:\n",
    "            continue\n",
    "            \n",
    "        # take first suffixed noun\n",
    "        suff_noun = suffixed_nouns[0]\n",
    "            \n",
    "        # |3| Check every word in between the verb in clause 1 \n",
    "        # and the suffixed noun in clause 2\n",
    "        # for any PGN marker that agrees with the verb.\n",
    "        # Skip ca if there is an interrupting marker.\n",
    "        \n",
    "        # get any intervening PGN markers\n",
    "        intervening_words = [word for word in range(verb+1,suff_noun)\n",
    "                                if F.typ.v(L.u(word, otype='phrase')[0]) != 'PP' # not in prep. phrase\n",
    "                                and match_pgn(get_pgn(word),get_pgn(verb)) # agrees with verb\n",
    "                                or match_pgn(get_pgn(word, pronom=True), get_pgn(verb)) # or has sfx\n",
    "                            ]\n",
    "        \n",
    "        # skip if there is an intervening word\n",
    "        if intervening_words:\n",
    "            continue\n",
    "        \n",
    "        # |4| Any clause atom up to this point is a match!\n",
    "        \n",
    "        # save and append match data\n",
    "        \n",
    "        # format reference\n",
    "        book, chapter, verse1, = T.sectionFromNode(ca)\n",
    "        verse2 = T.sectionFromNode(subsequent_ca)[2]\n",
    "        reference = f'{book} {chapter}:{verse1}' if verse1 == verse2\\\n",
    "                        else f'{book} {chapter}:{verse1}-{verse2}'\n",
    "        \n",
    "        # format rest of data\n",
    "        match_data = {'reference':reference,\n",
    "                      'text':T.text(L.d(ca, otype='word') + L.d(subsequent_ca, otype='word')),\n",
    "                      'same?': '', # empty column for manually sorting\n",
    "                      'notes':'', # empty column for notes on sorting\n",
    "                      'verb':T.text([verb]),\n",
    "                      'pronominal': T.text([suff_noun]),\n",
    "                      'verb_PGN': get_pgn(verb),\n",
    "                      'suffx_PGN': get_pgn(suff_noun, pronom=True),\n",
    "                      'vb_Cl_type': F.typ.v(ca), # clause type of verb\n",
    "                      'pn_Cl_type': F.typ.v(subsequent_ca), # cl type of pronom\n",
    "                      'verb_ca': ca,\n",
    "                      'pron_ca': subsequent_ca\n",
    "                     }\n",
    "        \n",
    "        # append the match data\n",
    "        matches.append(match_data)\n",
    "        \n",
    "        # print updates for larger datasets\n",
    "        if len(matches) % 50 == 0:\n",
    "            info(f'{len(matches)} matches found...')\n",
    "        \n",
    "    # give final report\n",
    "    indent(level=0)\n",
    "    info(f'DONE with {len(matches)} results.')\n",
    "    \n",
    "    # return the matches\n",
    "    return matches"
   ]
  },
  {
   "cell_type": "markdown",
   "metadata": {
    "deletable": true,
    "editable": true
   },
   "source": [
    "### Apply the Function to Aramaic Texts and Export the Results"
   ]
  },
  {
   "cell_type": "code",
   "execution_count": 6,
   "metadata": {
    "collapsed": false,
    "deletable": true,
    "editable": true
   },
   "outputs": [
    {
     "name": "stdout",
     "output_type": "stream",
     "text": [
      "1378 Aramaic clause atoms ready for processing...\n"
     ]
    }
   ],
   "source": [
    "# get all clauses in Aramaic\n",
    "\n",
    "aramaic_clauses = [ca for ca in F.otype.s('clause_atom')\n",
    "                      if F.language.v(L.d(ca, otype='word')[0]) == 'arc'\n",
    "                  ]\n",
    "\n",
    "print(f'{len(aramaic_clauses)} Aramaic clause atoms ready for processing...')"
   ]
  },
  {
   "cell_type": "code",
   "execution_count": 7,
   "metadata": {
    "collapsed": false,
    "deletable": true,
    "editable": true
   },
   "outputs": [
    {
     "name": "stdout",
     "output_type": "stream",
     "text": [
      "  0.00s Beginning search for contiguous suffixes...\n",
      "  0.13s DONE with 8 results.\n"
     ]
    }
   ],
   "source": [
    "# apply the function to the clauses\n",
    "\n",
    "aramaic_results = get_contiguous_suffixes(aramaic_clauses)"
   ]
  },
  {
   "cell_type": "code",
   "execution_count": 8,
   "metadata": {
    "collapsed": false,
    "deletable": true,
    "editable": true
   },
   "outputs": [],
   "source": [
    "# export the results\n",
    "\n",
    "# fieldnames for columns\n",
    "fieldnames = ('reference','text','same?','notes','verb','pronominal',\n",
    "              'verb_PGN','suffx_PGN', 'vb_Cl_type','pn_Cl_type','verb_ca',\n",
    "              'pron_ca')\n",
    "\n",
    "export = 'results/contiguous_suffixes_BA.csv'\n",
    "\n",
    "with open(export, 'w') as outfile:\n",
    "    writer = csv.DictWriter(outfile, fieldnames=fieldnames)\n",
    "    \n",
    "    writer.writeheader()\n",
    "    writer.writerows(aramaic_results)"
   ]
  },
  {
   "cell_type": "markdown",
   "metadata": {
    "deletable": true,
    "editable": true
   },
   "source": [
    "### For Hebrew\n",
    "\n",
    "There are too many Hebrew results without an additional filter. So we filter by Hebrew clauses that only appear within the `domain` of \"Q\" (quotation). "
   ]
  },
  {
   "cell_type": "code",
   "execution_count": 9,
   "metadata": {
    "collapsed": false,
    "deletable": true,
    "editable": true
   },
   "outputs": [
    {
     "name": "stdout",
     "output_type": "stream",
     "text": [
      "53238 Hebrew clause atoms ready for processing...\n"
     ]
    }
   ],
   "source": [
    "hebrew_clauses = [ca for ca in F.otype.s('clause_atom')\n",
    "                      if F.language.v(L.d(ca, otype='word')[0]) == 'hbo'\n",
    "                      and F.domain.v(L.u(ca, otype='clause')[0]) == 'Q'\n",
    "                  ]\n",
    "\n",
    "print(f'{len(hebrew_clauses)} Hebrew clause atoms ready for processing...')"
   ]
  },
  {
   "cell_type": "code",
   "execution_count": 10,
   "metadata": {
    "collapsed": false,
    "deletable": true,
    "editable": true
   },
   "outputs": [
    {
     "name": "stdout",
     "output_type": "stream",
     "text": [
      "  0.00s Beginning search for contiguous suffixes...\n",
      "   |     0.77s 50 matches found...\n",
      "   |     2.01s 100 matches found...\n",
      "   |     3.53s 150 matches found...\n",
      "   |     4.40s 200 matches found...\n",
      "   |     5.16s 250 matches found...\n",
      "   |     6.63s 300 matches found...\n",
      "   |     7.39s 350 matches found...\n",
      "   |     8.63s 400 matches found...\n",
      "  8.96s DONE with 405 results.\n"
     ]
    }
   ],
   "source": [
    "# apply the function to the clauses\n",
    "\n",
    "hebrew_results = get_contiguous_suffixes(hebrew_clauses)\n"
   ]
  },
  {
   "cell_type": "code",
   "execution_count": 11,
   "metadata": {
    "collapsed": false,
    "deletable": true,
    "editable": true
   },
   "outputs": [
    {
     "name": "stdout",
     "output_type": "stream",
     "text": [
      "Done!\n"
     ]
    }
   ],
   "source": [
    "Heb_export = 'results/contiguous_suffixes_BH_Quotation.csv'\n",
    "\n",
    "with open(Heb_export, 'w') as outfile:\n",
    "    writer = csv.DictWriter(outfile, fieldnames=fieldnames)\n",
    "    \n",
    "    writer.writeheader()\n",
    "    writer.writerows(hebrew_results)\n",
    "    \n",
    "print('Done!')"
   ]
  },
  {
   "cell_type": "markdown",
   "metadata": {
    "deletable": true,
    "editable": true
   },
   "source": [
    "## See Results\n",
    "\n",
    "* [Aramaic](results/contiguous_suffixes_BA.csv)\n",
    "* [Hebrew](results/contiguous_suffixes_BH_Quotation.csv)"
   ]
  }
 ],
 "metadata": {
  "kernelspec": {
   "display_name": "Python 3",
   "language": "python",
   "name": "python3"
  },
  "language_info": {
   "codemirror_mode": {
    "name": "ipython",
    "version": 3
   },
   "file_extension": ".py",
   "mimetype": "text/x-python",
   "name": "python",
   "nbconvert_exporter": "python",
   "pygments_lexer": "ipython3",
   "version": "3.6.0"
  }
 },
 "nbformat": 4,
 "nbformat_minor": 2
}
