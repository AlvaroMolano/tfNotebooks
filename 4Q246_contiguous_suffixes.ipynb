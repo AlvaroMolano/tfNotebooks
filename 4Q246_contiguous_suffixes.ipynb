{
 "cells": [
  {
   "cell_type": "code",
   "execution_count": 1,
   "metadata": {
    "collapsed": false,
    "deletable": true,
    "editable": true
   },
   "outputs": [
    {
     "name": "stdout",
     "output_type": "stream",
     "text": [
      "Notebook last updated on 2017-05-11 18:28:08.479105\n"
     ]
    }
   ],
   "source": [
    "from datetime import datetime\n",
    "print(f'Notebook last updated on {datetime.now().__str__()}')"
   ]
  },
  {
   "cell_type": "markdown",
   "metadata": {
    "deletable": true,
    "editable": true
   },
   "source": [
    "# Parallel Suffixes and the Continuation of Actants in 4Q246\n",
    "\n",
    "## Research Question:\n",
    "\n",
    "Are there places, first in Biblical Aramaic, where a suffix in a clause identifies in person, gender, and number with a subject suffix in an immediately preceding clause, but refers to a different referent?\n",
    "\n",
    "If so: What kinds of factors allow for distinguishing between the two participants? Are there any formal indicators?\n",
    "\n",
    "## Motivation:\n",
    "\n",
    "In [4Q246 (Aramaic)](http://www.deadseascrolls.org.il/explore-the-archive/manuscript/4Q246-1), a controversial figure appears who is called ברה די אל (\"son of God\") and בר עליון (\"son of the Most High\"). Much of the material before this point (column 2 line 1) is damaged, which complicates the identification of the figure. But the material which follows the reference leaves an open question as to whether the son of God is presented as a positive or negative character.\n",
    "\n",
    "The relevant text of the passage in question is:\n",
    "\n",
    "> ברה די אל יתאמר ובר עליון יקרונה <br>\n",
    "> כזיקיא חזותא כן מלכותהן תהוה <br>\n",
    "> שנין ימלכון על ארעא וכלא ידשון <br>\n",
    "> ...<br>\n",
    "> עד יקום עם אל\n",
    "\n",
    "<br>\n",
    "> The Son of God he will be called, and son of the Most High they will name him. <br>\n",
    "> Like the sparks/comets of the vision, thus will their kingdom be. <br>\n",
    "> Years they will reign over the land, and everyone they will trample. <br>\n",
    "> ... <br>\n",
    "> Until [the] people of God arise. (4Q246, Col 2, lns. 1-3, 5) <br>\n",
    "\n",
    "A major issue in interpreting the \"son of God\" figure is the identification of the 3MP \"they\" between lines 1-2. Specifically, the text says, \"...and son of the Most High **they** will name him\" and then progresses to say, \"Like the comets of the vision, thus will **their** kingdom be.\" Since the 3MP suffix on \"their kingdom\" refers to a tumultuous kingdom that ends after the people of God arise (\"until the people of God...\"), the \"son of God\" must be so named by a wicked people, that is, if the 3MP in both clauses refer to the same referent. \n",
    "\n",
    "## Inventory of Parameters\n",
    "\n",
    "Based on the problem described above, here is a set of parameters the code must find:\n",
    "\n",
    "* Two contiguous clauses\n",
    "    * If clause is defective or causus pendens, it must be considered together with its last portion.\n",
    "    * Clause 1 contains a verb with PGN X\n",
    "    * Clause 2 contains a noun with a pronominal suffix with PGN X\n",
    "    * No other PGN indicators can occur between PGN reference 1 and PGN reference 2\n",
    "        * Exception: if the PGN indicator is a noun with a comparative particle such as כ inside of a causus pendens\n",
    "    \n",
    "Export results to a spreadsheet for examination. Hits will need to be manually labled as Y or N on the question: is the same referent? Include a separate row in the spreadsheet for this.\n",
    "\n",
    "Begin first with Biblical Aramaic. If data is sparse, or if it is examined and further data is preferable, expand the search to Biblical Hebrew."
   ]
  },
  {
   "cell_type": "markdown",
   "metadata": {
    "deletable": true,
    "editable": true
   },
   "source": [
    "## See the Results of this Query: \n",
    "\n",
    "* [Aramaic](results/contiguous_suffixes_BA.csv)\n",
    "* [Hebrew](results/contiguous_suffixes_BH_Quotation.csv)"
   ]
  },
  {
   "cell_type": "code",
   "execution_count": 2,
   "metadata": {
    "collapsed": false,
    "deletable": true,
    "editable": true
   },
   "outputs": [
    {
     "name": "stdout",
     "output_type": "stream",
     "text": [
      "This is Text-Fabric 2.3.6\n",
      "Api reference : https://github.com/ETCBC/text-fabric/wiki/Api\n",
      "Tutorial      : https://github.com/ETCBC/text-fabric/blob/master/docs/tutorial.ipynb\n",
      "Data sources  : https://github.com/ETCBC/text-fabric-data\n",
      "Data docs     : https://etcbc.github.io/text-fabric-data\n",
      "Shebanq docs  : https://shebanq.ancient-data.org/text\n",
      "Slack team    : https://shebanq.slack.com/signup\n",
      "Questions? Ask shebanq@ancient-data.org for an invite to Slack\n",
      "109 features found and 0 ignored\n",
      "  0.00s loading features ...\n",
      "   |     0.01s B book                 from /Users/Cody/github/text-fabric-data/hebrew/etcbc4c\n",
      "   |     0.01s B chapter              from /Users/Cody/github/text-fabric-data/hebrew/etcbc4c\n",
      "   |     0.01s B verse                from /Users/Cody/github/text-fabric-data/hebrew/etcbc4c\n",
      "   |     0.12s B language             from /Users/Cody/github/text-fabric-data/hebrew/etcbc4c\n",
      "   |     0.13s B prs                  from /Users/Cody/github/text-fabric-data/hebrew/etcbc4c\n",
      "   |     0.21s B prs_gn               from /Users/Cody/github/text-fabric-data/hebrew/etcbc4c\n",
      "   |     0.26s B prs_nu               from /Users/Cody/github/text-fabric-data/hebrew/etcbc4c\n",
      "   |     0.15s B prs_ps               from /Users/Cody/github/text-fabric-data/hebrew/etcbc4c\n",
      "   |     0.10s B gn                   from /Users/Cody/github/text-fabric-data/hebrew/etcbc4c\n",
      "   |     0.12s B nu                   from /Users/Cody/github/text-fabric-data/hebrew/etcbc4c\n",
      "   |     0.12s B ps                   from /Users/Cody/github/text-fabric-data/hebrew/etcbc4c\n",
      "   |     0.07s B function             from /Users/Cody/github/text-fabric-data/hebrew/etcbc4c\n",
      "   |     0.14s B pdp                  from /Users/Cody/github/text-fabric-data/hebrew/etcbc4c\n",
      "   |     0.29s B typ                  from /Users/Cody/github/text-fabric-data/hebrew/etcbc4c\n",
      "   |     0.47s B rela                 from /Users/Cody/github/text-fabric-data/hebrew/etcbc4c\n",
      "   |     0.02s B domain               from /Users/Cody/github/text-fabric-data/hebrew/etcbc4c\n",
      "   |     0.00s Feature overview: 103 for nodes; 5 for edges; 1 configs; 7 computed\n",
      "  7.74s All features loaded/computed - for details use loadLog()\n"
     ]
    }
   ],
   "source": [
    "# import tools\n",
    "import collections, csv\n",
    "\n",
    "# import TF and data\n",
    "from tf.fabric import Fabric\n",
    "\n",
    "# initialize TF\n",
    "TF = Fabric(modules='hebrew/etcbc4c')\n",
    "\n",
    "# load features\n",
    "api = TF.load('''\n",
    "              book chapter verse language\n",
    "              prs prs_gn prs_nu prs_ps\n",
    "              gn nu ps\n",
    "              function pdp typ rela domain\n",
    "              ''')\n",
    "\n",
    "api.makeAvailableIn(globals())"
   ]
  },
  {
   "cell_type": "markdown",
   "metadata": {
    "deletable": true,
    "editable": true
   },
   "source": [
    "### PGN Matching Functions\n",
    "\n",
    "First we need some functions to match person, gender, and number indicators between pronominal suffixes -> verbs or nouns -> verbs. The key function is `match_pgn()`, which is made only for third person matching. Afterward, we provide some testing examples to ensure the algorithm works."
   ]
  },
  {
   "cell_type": "code",
   "execution_count": 3,
   "metadata": {
    "collapsed": false,
    "deletable": true,
    "editable": true
   },
   "outputs": [],
   "source": [
    "def get_pgn(word, pronom=False):\n",
    "    '''\n",
    "    Return a person, gender, number (PGN) tuple \n",
    "    for a word or pronominal suffix.\n",
    "    '''\n",
    "    # return word PGN tuple\n",
    "    if not pronom:\n",
    "        return (F.ps.v(word), F.gn.v(word), F.nu.v(word))\n",
    "    \n",
    "    # return pronominal suffix PGN tuple\n",
    "    else:\n",
    "        return (F.prs_ps.v(word), F.prs_gn.v(word), F.prs_nu.v(word))\n",
    "    \n",
    "    \n",
    "def match_pgn(main_pgn, cmp_pgn):\n",
    "    '''\n",
    "    Return True/False for person, gender, and number agreement between:\n",
    "        * a third person pronominal suffix and verbs\n",
    "        OR\n",
    "        * a third person pronominal suffix and nouns\n",
    "    Requires two tuples formatted as: (person, gender, number)\n",
    "        for the pronominal PGN and the compared PGN (verb or noun)\n",
    "    '''\n",
    "    # label pgn data\n",
    "    main_ps, main_gn, main_nu = main_pgn\n",
    "    cmp_ps, cmp_gn, cmp_nu = cmp_pgn\n",
    "    \n",
    "    # check the parameters for p3 subject/verb agreement\n",
    "    if all([main_ps in {'p3','unknown','NA'},\n",
    "            cmp_ps in {'p3','unknown','NA'},\n",
    "            main_nu == cmp_nu,\n",
    "            main_gn in {cmp_gn, 'unknown'} or cmp_gn == 'unknown']):\n",
    "        \n",
    "        return True\n",
    "    \n",
    "    else:\n",
    "        return False"
   ]
  },
  {
   "cell_type": "markdown",
   "metadata": {
    "deletable": true,
    "editable": true
   },
   "source": [
    "Testing the PGN matcher..."
   ]
  },
  {
   "cell_type": "code",
   "execution_count": 4,
   "metadata": {
    "collapsed": false,
    "deletable": true,
    "editable": true
   },
   "outputs": [
    {
     "name": "stdout",
     "output_type": "stream",
     "text": [
      "test A: True\n",
      "test B: True\n",
      "test C: False\n",
      "test D: True\n"
     ]
    }
   ],
   "source": [
    "pronA, cmpA = ('unknown','m','sg'),('p3','m','sg')\n",
    "pronB, cmpB = ('p3','f','sg'),('unknown','f','sg')\n",
    "pronC, cmpC = ('p3','m','sg'),('unknown','f','sg')\n",
    "pronD, cmpD = ('NA', 'm', 'sg'),('p3', 'm', 'sg')\n",
    "\n",
    "print('test A:', match_pgn(pronA, cmpA))\n",
    "print('test B:', match_pgn(pronB, cmpB))\n",
    "print('test C:', match_pgn(pronC, cmpC))\n",
    "print('test D:', match_pgn(pronD, cmpD))"
   ]
  },
  {
   "cell_type": "markdown",
   "metadata": {
    "deletable": true,
    "editable": true
   },
   "source": [
    "### Contiguous Verb Suffix // Pronominal Suffix Function\n",
    "\n",
    "Now we build a big function to find third person verbs in one clause, and the pronominal suffixes that agree with them in person, gender, and number. There can be no intervening PGN markers between these two points of reference that agree with the verb. Thus, there is, in theory, an unbroken chain of PGN indicators up to the suffix. This will allow for testing the problem as it appears in 4Q246. "
   ]
  },
  {
   "cell_type": "code",
   "execution_count": 5,
   "metadata": {
    "collapsed": false,
    "deletable": true,
    "editable": true
   },
   "outputs": [],
   "source": [
    "def get_contiguous_suffixes(clause_atoms):\n",
    "    '''\n",
    "    Return a list of dictionary matches that have:\n",
    "        * Clause 1 with verbal suffix X\n",
    "        * Clause 2 with noun + pronominal suffix X\n",
    "        * No interrupting PGN markers between the suffixes\n",
    "    Dictionary contains row data for a spreadsheet.\n",
    "    Requires a list of clauses in canonical order.\n",
    "    '''\n",
    "    \n",
    "    # print info to console with TF.info()\n",
    "    indent(level=0, reset=True)\n",
    "    info('Beginning search for contiguous suffixes...')\n",
    "    indent(level=1, reset=True)\n",
    "    \n",
    "    # put results here\n",
    "    matches = []\n",
    "    \n",
    "    # find matches\n",
    "    for ca in clause_atoms:\n",
    "        \n",
    "        # |1| Check for third person predicate verb.\n",
    "        \n",
    "        # get third person verb\n",
    "        verb = [word for word in L.d(ca, otype='word') # get all words in clause atom\n",
    "                    if F.function.v(L.u(word, otype='phrase')[0]) == 'Pred' # predicate word \n",
    "                    and F.pdp.v(word) == 'verb' # word must be verb\n",
    "                    and F.ps.v(word) == 'p3' # verb must be third person\n",
    "               ]\n",
    "        \n",
    "        # skip if no verb or third person verb\n",
    "        if not verb:\n",
    "            continue\n",
    "            \n",
    "        # take the last verb (in case there are multiples)\n",
    "        verb = verb[-1]\n",
    "        \n",
    "        # |2| Check subsequent clause atom for noun with pronominal suffix.\n",
    "        \n",
    "        # get subsequent clause atom\n",
    "        subsequent_ca = ca + 1 if ca + 1 in clause_atoms else None\n",
    "        \n",
    "        # skip if there is no following clause atom\n",
    "        if not subsequent_ca:\n",
    "            continue\n",
    "            \n",
    "        # get all words in subsequent ca \n",
    "        subs_words = L.d(subsequent_ca, otype='word')\n",
    "            \n",
    "        # if the subsequent ca is causus or defective, check the resumptive clause too\n",
    "        if F.typ.v(subsequent_ca) in {'CPen','Defc'}\\\n",
    "            and F.rela.v(subsequent_ca + 1) == 'Resu':\n",
    "                # get resumption clause atom\n",
    "                resume_ca = subsequent_ca + 1\n",
    "                # extend subsequent words with the words in the resumption clause atom\n",
    "                subs_words.extend(L.d(resume_ca, otype='word'))\n",
    "        \n",
    "        # get all words in subsequent words with \n",
    "        # a pronominal suffix that agree with the verb\n",
    "        suffixed_nouns = [word for word in subs_words\n",
    "                              if F.pdp.v(word) == 'subs' # word functions as noun\n",
    "                              and F.prs.v(word) not in {'NA','absent'} # word has pronominal sfx\n",
    "                              and match_pgn(get_pgn(word, pronom=True), get_pgn(verb)) # PGN agree\n",
    "                         ]\n",
    "        \n",
    "        # skip if there are no nouns with pronominal suffixes\n",
    "        if not suffixed_nouns:\n",
    "            continue\n",
    "            \n",
    "        # take first suffixed noun\n",
    "        suff_noun = suffixed_nouns[0]\n",
    "            \n",
    "        # |3| Check every word in between the verb in clause 1 \n",
    "        # and the suffixed noun in clause 2\n",
    "        # for any PGN marker that agrees with the verb.\n",
    "        # Skip ca if there is an interrupting marker.\n",
    "        \n",
    "        # get any intervening PGN markers\n",
    "        intervening_words = [word for word in range(verb+1,suff_noun)\n",
    "                                if F.typ.v(L.u(word, otype='phrase')[0]) != 'PP' # not prep phrs\n",
    "                                and match_pgn(get_pgn(word),get_pgn(verb)) # agrees with verb\n",
    "                                or match_pgn(get_pgn(word, pronom=True), get_pgn(verb)) # has sfx\n",
    "                            ]\n",
    "        \n",
    "        # skip if there is an intervening word\n",
    "        if intervening_words:\n",
    "            continue\n",
    "        \n",
    "        # |4| Any clause atom up to this point is a match!\n",
    "        \n",
    "        # save and append match data\n",
    "        \n",
    "        # format reference\n",
    "        book, chapter, verse1, = T.sectionFromNode(ca)\n",
    "        verse2 = T.sectionFromNode(subsequent_ca)[2]\n",
    "        reference = f'{book} {chapter}:{verse1}' if verse1 == verse2\\\n",
    "                        else f'{book} {chapter}:{verse1}-{verse2}'\n",
    "        \n",
    "        # format rest of data\n",
    "        match_data = {'reference':reference,\n",
    "                      'text':T.text(L.d(ca, otype='word') + L.d(subsequent_ca, otype='word')),\n",
    "                      'same?': '', # empty column for manually sorting\n",
    "                      'notes':'', # empty column for notes on sorting\n",
    "                      'verb':T.text([verb]),\n",
    "                      'pronominal': T.text([suff_noun]),\n",
    "                      'verb_PGN': get_pgn(verb),\n",
    "                      'suffx_PGN': get_pgn(suff_noun, pronom=True),\n",
    "                      'vb_Cl_type': F.typ.v(ca), # clause type of verb\n",
    "                      'pn_Cl_type': F.typ.v(subsequent_ca), # cl type of pronom\n",
    "                      'verb_ca': ca,\n",
    "                      'pron_ca': subsequent_ca\n",
    "                     }\n",
    "        \n",
    "        # append the match data\n",
    "        matches.append(match_data)\n",
    "        \n",
    "        # print updates for larger datasets\n",
    "        if len(matches) % 50 == 0:\n",
    "            info(f'{len(matches)} matches found...')\n",
    "        \n",
    "    # give final report\n",
    "    indent(level=0)\n",
    "    info(f'DONE with {len(matches)} results.')\n",
    "    \n",
    "    # return the matches\n",
    "    return matches"
   ]
  },
  {
   "cell_type": "markdown",
   "metadata": {
    "deletable": true,
    "editable": true
   },
   "source": [
    "### Apply the Function to Aramaic Texts and Export the Results"
   ]
  },
  {
   "cell_type": "code",
   "execution_count": 6,
   "metadata": {
    "collapsed": false,
    "deletable": true,
    "editable": true
   },
   "outputs": [
    {
     "name": "stdout",
     "output_type": "stream",
     "text": [
      "1378 Aramaic clause atoms ready for processing...\n"
     ]
    }
   ],
   "source": [
    "# get all clauses in Aramaic\n",
    "\n",
    "aramaic_clauses = [ca for ca in F.otype.s('clause_atom')\n",
    "                      if F.language.v(L.d(ca, otype='word')[0]) == 'arc'\n",
    "                  ]\n",
    "\n",
    "print(f'{len(aramaic_clauses)} Aramaic clause atoms ready for processing...')"
   ]
  },
  {
   "cell_type": "code",
   "execution_count": 7,
   "metadata": {
    "collapsed": false,
    "deletable": true,
    "editable": true
   },
   "outputs": [
    {
     "name": "stdout",
     "output_type": "stream",
     "text": [
      "  0.00s Beginning search for contiguous suffixes...\n",
      "  0.17s DONE with 8 results.\n"
     ]
    }
   ],
   "source": [
    "# apply the function to the clauses\n",
    "\n",
    "aramaic_results = get_contiguous_suffixes(aramaic_clauses)"
   ]
  },
  {
   "cell_type": "code",
   "execution_count": 8,
   "metadata": {
    "collapsed": false,
    "deletable": true,
    "editable": true
   },
   "outputs": [],
   "source": [
    "# export the results\n",
    "\n",
    "# fieldnames for columns\n",
    "fieldnames = ('reference','text','same?','notes','verb','pronominal',\n",
    "              'verb_PGN','suffx_PGN', 'vb_Cl_type','pn_Cl_type','verb_ca',\n",
    "              'pron_ca')\n",
    "\n",
    "aramaic_file = 'results/contiguous_suffixes_BA.csv'\n",
    "\n",
    "# export commented out to prevent overwrite of manually edited files\n",
    "# with open(export, 'w') as outfile:\n",
    "#    writer = csv.DictWriter(outfile, fieldnames=fieldnames)\n",
    "    \n",
    "#    writer.writeheader()\n",
    "#    writer.writerows(aramaic_results)"
   ]
  },
  {
   "cell_type": "markdown",
   "metadata": {
    "deletable": true,
    "editable": true
   },
   "source": [
    "### For Hebrew\n",
    "\n",
    "There are too many Hebrew results without an additional filter. So we filter by Hebrew clauses that only appear within the `domain` of \"Q\" (quotation). "
   ]
  },
  {
   "cell_type": "code",
   "execution_count": 9,
   "metadata": {
    "collapsed": false,
    "deletable": true,
    "editable": true
   },
   "outputs": [
    {
     "name": "stdout",
     "output_type": "stream",
     "text": [
      "53238 Hebrew clause atoms ready for processing...\n"
     ]
    }
   ],
   "source": [
    "hebrew_clauses = [ca for ca in F.otype.s('clause_atom')\n",
    "                      if F.language.v(L.d(ca, otype='word')[0]) == 'hbo'\n",
    "                      and F.domain.v(L.u(ca, otype='clause')[0]) == 'Q'\n",
    "                  ]\n",
    "\n",
    "print(f'{len(hebrew_clauses)} Hebrew clause atoms ready for processing...')"
   ]
  },
  {
   "cell_type": "code",
   "execution_count": 10,
   "metadata": {
    "collapsed": false,
    "deletable": true,
    "editable": true
   },
   "outputs": [
    {
     "name": "stdout",
     "output_type": "stream",
     "text": [
      "  0.00s Beginning search for contiguous suffixes...\n",
      "   |     0.72s 50 matches found...\n",
      "   |     2.67s 100 matches found...\n",
      "   |     4.48s 150 matches found...\n",
      "   |     5.64s 200 matches found...\n",
      "   |     6.41s 250 matches found...\n",
      "   |     8.00s 300 matches found...\n",
      "   |     8.82s 350 matches found...\n",
      "   |       10s 400 matches found...\n",
      "    10s DONE with 405 results.\n"
     ]
    }
   ],
   "source": [
    "# apply the function to the clauses\n",
    "\n",
    "hebrew_results = get_contiguous_suffixes(hebrew_clauses)\n"
   ]
  },
  {
   "cell_type": "code",
   "execution_count": 11,
   "metadata": {
    "collapsed": false,
    "deletable": true,
    "editable": true
   },
   "outputs": [],
   "source": [
    "hebrew_file = 'results/contiguous_suffixes_BH_Quotation.csv'\n",
    "\n",
    "# export commented out to prevent overwrite of manually edited files\n",
    "#with open(Heb_export, 'w') as outfile:\n",
    "#    writer = csv.DictWriter(outfile, fieldnames=fieldnames)\n",
    "    \n",
    "#    writer.writeheader()\n",
    "#    writer.writerows(hebrew_results)\n",
    "    \n",
    "# print('Done!')"
   ]
  },
  {
   "cell_type": "markdown",
   "metadata": {
    "deletable": true,
    "editable": true
   },
   "source": [
    "## See Results\n",
    "\n",
    "* [Aramaic](results/contiguous_suffixes_BA.csv)\n",
    "* [Hebrew](results/contiguous_suffixes_BH_Quotation.csv)"
   ]
  },
  {
   "cell_type": "markdown",
   "metadata": {},
   "source": [
    "# Analysis of Manually Categorized Results\n",
    "\n",
    "Now that the results above have been exported and manually tagged as to whether the verb and pronominal suffix refers to the same referent, we can now re-import the data, now with the manual tags (y for \"yes\" it is the same referent or n for \"no\" it is not the same referent).\n",
    "\n",
    "The goal of the analysis is to answer the question: When the referent is different between a verb and pronominal suffix with the same PGN data, and without an interrupting noun of the same PGN, what kind of factors are present? In other words: what kinds of factors lead to the disconnect of the pronominal suffix from the adjacent, agreeing verb?\n",
    "\n",
    "Finally, what do these results bear out for our understanding of the same problem in 4Q246?\n",
    "\n",
    "Since there were only about 8 Aramaic results, we focus on the Hebrew first.\n",
    "\n",
    "After the results were manually labeled, they were saved within the same directory by the same names. We will access their data by simply re-opening them."
   ]
  },
  {
   "cell_type": "code",
   "execution_count": 12,
   "metadata": {
    "collapsed": false
   },
   "outputs": [
    {
     "name": "stdout",
     "output_type": "stream",
     "text": [
      "405 Hebrew results loaded...\n"
     ]
    }
   ],
   "source": [
    "# (re)load the manually labeled data\n",
    "with open(hebrew_file, 'r') as hfile:\n",
    "    reader = csv.DictReader(hfile)\n",
    "    \n",
    "    # put results in list\n",
    "    hebrew_results = [r for r in reader]\n",
    "    \n",
    "print(f'{len(hebrew_results)} Hebrew results loaded...')"
   ]
  },
  {
   "cell_type": "markdown",
   "metadata": {},
   "source": [
    "## Simple Data Exploration\n",
    "\n",
    "What kind of results did the search find?"
   ]
  },
  {
   "cell_type": "code",
   "execution_count": 13,
   "metadata": {
    "collapsed": false
   },
   "outputs": [
    {
     "name": "stdout",
     "output_type": "stream",
     "text": [
      "y 342\n",
      "n 57\n",
      "? 6\n"
     ]
    }
   ],
   "source": [
    "# A counting object to count the kinds of results\n",
    "referent_match_counts = collections.Counter()\n",
    "\n",
    "# add the manual categorizations to the count\n",
    "for result in hebrew_results:\n",
    "    referent_match_counts[result['same?']] += 1\n",
    "    \n",
    "# print the results\n",
    "for category, count in referent_match_counts.items():\n",
    "    print(category, count)"
   ]
  },
  {
   "cell_type": "markdown",
   "metadata": {},
   "source": [
    "Thus: in 342 cases, the referent of the two suffixes is identical. In 57 cases (higher than I expected!), the referent is different. In 6 cases I chose to forego a formal classification because of the initial difficulties in disambiguating the referents. Now let's dive deeper into the 'no' results.\n",
    "\n",
    "There are tags on each 'no' result that gives a clue as to the reason the referents are different. Let's peak into those tags and their counts."
   ]
  },
  {
   "cell_type": "code",
   "execution_count": 14,
   "metadata": {
    "collapsed": false
   },
   "outputs": [
    {
     "name": "stdout",
     "output_type": "stream",
     "text": [
      "additional_noun\n",
      "\t 36\n",
      "\n",
      "new_referent\n",
      "\t 12\n",
      "\n",
      "placeholder_referent\n",
      "\t 5\n",
      "\n",
      "marked_discourse\n",
      "\t 2\n",
      "\n",
      "fronted_element\n",
      "\t 2\n",
      "\n"
     ]
    }
   ],
   "source": [
    "# counter object to count the reasons for \"no\"\n",
    "no_notes = collections.Counter()\n",
    "\n",
    "# count the no tags\n",
    "for result in hebrew_results:\n",
    "    \n",
    "    # count if result is tagged as no\n",
    "    if result['same?'] == 'n':\n",
    "        \n",
    "        # up the count\n",
    "        no_notes[result['notes']] += 1\n",
    "        \n",
    "    \n",
    "# print the results from most to least\n",
    "for category, count in sorted(no_notes.items(), key=lambda k: k[-1], reverse=True):\n",
    "    print(category)\n",
    "    print('\\t', count)\n",
    "    print()"
   ]
  },
  {
   "cell_type": "markdown",
   "metadata": {},
   "source": [
    "The meaning of the tags are as follows:\n",
    "\n",
    "* **additional_noun** - there is an additional noun subject, often it is a fronted, preverbal subject (hence it does not interrupt between the verb and the matched pronominal suffix). Occasionally the two subjects are a clause or few away. The interpretation of the referent then depends on a choice between two explicitly stated subjects.\n",
    "* **new_referent** - there is an intervening noun subject between the verb and the pronominal suffix that was allowed in the search results since I made an exception for prepositional phrases.\n",
    "* **placeholder_referent** - the verb is in the passive and has no actual referent, yet it agrees in PGN with pronominal suffix, which actually has a real referent (since such an exception occurs in 4Q246). \n",
    "* **marked_discourse** - the verb and the pronominal suffix are separated by the beginning of marked discourse...the verb is thus a verb of speaking. The two referents are different.\n",
    "* **fronted_element** - there are two examples in Numbers in which a fronted element sets off a new section and separates the verb from the pronominal suffix. \n",
    "\n",
    "It is the results with the tag `placeholder_referent` which are of the greatest interest to the 4Q246 problem. In the 4Q246 text, there are parallel statements, one in the passive, and one in the active 3MP, before the clause with the pronominal suffix:\n",
    "\n",
    "> ברה די אל יתאמר <br>\n",
    "> ובר עליון יקרונה <br>\n",
    "> \"The son of God **he will be called**,<br>\n",
    "> and son of the Most High **they** will name him.\"\n",
    "\n",
    "Tucker Ferda, a proponent of reading the \"son of God\" title as a positive one, explains the argument:\n",
    "\n",
    "> One initial reason for suspicion is the third-person masculine plural verb in ii 1 (יקרונה), which questions the notion that the previous three Ithpeel/Ithpaal forms are reflexive. It instead suggests the opposite: the figure “is named” by some unspecified subject/s throughout (discussed more below). - \"Naming the Messiah: A Contribution to the 4Q246 'Son of God' Debate,\" *Dead Sea Discoveries* 21 (2014): 165 \n",
    "\n",
    "Thus, we look more closely at these results. Their respective clause atom numbers are stored under the `verb_ca` and `pron_ca` keys."
   ]
  },
  {
   "cell_type": "code",
   "execution_count": 15,
   "metadata": {
    "collapsed": false
   },
   "outputs": [
    {
     "name": "stdout",
     "output_type": "stream",
     "text": [
      "1\n",
      "1_Samuel 6:3\n",
      "וְנֹודַ֣ע לָכֶ֔ם לָ֛מָּה לֹא־תָס֥וּר יָדֹ֖ו מִכֶּֽם׃ \n",
      "\n",
      "2\n",
      "1_Samuel 23:23\n",
      "וְהָיָה֙ אִם־יֶשְׁנֹ֣ו בָאָ֔רֶץ \n",
      "\n",
      "3\n",
      "Isaiah 66:23\n",
      "וְהָיָ֗ה מִֽדֵּי־חֹ֨דֶשׁ֙ בְּחָדְשֹׁ֔ו וּמִדֵּ֥י שַׁבָּ֖ת בְּשַׁבַּתֹּ֑ו יָבֹ֧וא כָל־בָּשָׂ֛ר \n",
      "\n",
      "4\n",
      "Joel 2:2-3\n",
      "וְאַֽחֲרָיו֙ לֹ֣א יֹוסֵ֔ף עַד־שְׁנֵ֖י דֹּ֥ור וָדֹֽור׃ לְפָנָיו֙ אָ֣כְלָה אֵ֔שׁ \n",
      "\n",
      "5\n",
      "Ecclesiastes 8:16\n",
      "אֲשֶׁ֥ר נַעֲשָׂ֖ה עַל־הָאָ֑רֶץ כִּ֣י גַ֤ם בַּיֹּום֙ וּבַלַּ֔יְלָה שֵׁנָ֕ה בְּעֵינָ֖יו אֵינֶ֥נּוּ רֹאֶֽה׃ \n",
      "\n"
     ]
    }
   ],
   "source": [
    "# count matching results here\n",
    "result_num = 0\n",
    "\n",
    "# print out the text and verses of the 'no' results with the placeholder tag\n",
    "for result in hebrew_results: # enumerate to ID results\n",
    "    \n",
    "    # print matching results\n",
    "    if result['same?'] == 'n' and result['notes'] == 'placeholder_referent':\n",
    "        \n",
    "        # up the results count\n",
    "        result_num += 1\n",
    "        \n",
    "        # print the results\n",
    "        print(result_num)\n",
    "        print(result['reference'])\n",
    "        print(result['text'])\n",
    "        print()"
   ]
  },
  {
   "cell_type": "markdown",
   "metadata": {},
   "source": [
    "To do: describe how these results are similar or different from the 4Q246 example."
   ]
  }
 ],
 "metadata": {
  "kernelspec": {
   "display_name": "Python 3",
   "language": "python",
   "name": "python3"
  },
  "language_info": {
   "codemirror_mode": {
    "name": "ipython",
    "version": 3
   },
   "file_extension": ".py",
   "mimetype": "text/x-python",
   "name": "python",
   "nbconvert_exporter": "python",
   "pygments_lexer": "ipython3",
   "version": "3.6.0"
  }
 },
 "nbformat": 4,
 "nbformat_minor": 2
}
