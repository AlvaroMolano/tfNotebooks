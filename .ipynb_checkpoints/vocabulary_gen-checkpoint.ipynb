{
 "cells": [
  {
   "cell_type": "markdown",
   "metadata": {},
   "source": [
    "# Generate Vocabulary Spreadsheets\n",
    "\n",
    "1. hapax legomena in canonical order\n",
    "2. order: reference, surface form, gloss\n",
    "\n",
    "Proper nouns are excluded.\n",
    "\n",
    "Data source: Eep Talstra Centre for Bible and Computer's [*Biblia Hebraica Amstelodamensis*](https://github.com/ETCBC/bhsa) Syntactic data."
   ]
  },
  {
   "cell_type": "code",
   "execution_count": 12,
   "metadata": {},
   "outputs": [
    {
     "name": "stdout",
     "output_type": "stream",
     "text": [
      "This is Text-Fabric 3.1.1\n",
      "Api reference : https://github.com/Dans-labs/text-fabric/wiki/Api\n",
      "Tutorial      : https://github.com/Dans-labs/text-fabric/blob/master/docs/tutorial.ipynb\n",
      "Example data  : https://github.com/Dans-labs/text-fabric-data\n",
      "\n",
      "114 features found and 0 ignored\n",
      "  0.00s loading features ...\n",
      "   |     0.01s B book                 from /Users/cody/github/etcbc/bhsa/tf/c\n",
      "   |     0.00s B chapter              from /Users/cody/github/etcbc/bhsa/tf/c\n",
      "   |     0.01s B verse                from /Users/cody/github/etcbc/bhsa/tf/c\n",
      "   |     0.00s B voc_lex_utf8         from /Users/cody/github/etcbc/bhsa/tf/c\n",
      "   |     0.00s B gloss                from /Users/cody/github/etcbc/bhsa/tf/c\n",
      "   |     0.10s B ls                   from /Users/cody/github/etcbc/bhsa/tf/c\n",
      "   |     0.11s B sp                   from /Users/cody/github/etcbc/bhsa/tf/c\n",
      "   |     0.07s B freq_lex             from /Users/cody/github/etcbc/bhsa/tf/c\n",
      "   |     0.00s Feature overview: 108 for nodes; 5 for edges; 1 configs; 7 computed\n",
      "  4.07s All features loaded/computed - for details use loadLog()\n"
     ]
    }
   ],
   "source": [
    "from tf.fabric import Fabric\n",
    "import csv\n",
    "\n",
    "TF = Fabric(locations='~/github/etcbc/bhsa/tf', modules='c')\n",
    "\n",
    "api = TF.load('''\n",
    "                book chapter verse\n",
    "                voc_lex_utf8 gloss ls sp\n",
    "                freq_lex\n",
    "              ''')\n",
    "api.makeAvailableIn(globals())"
   ]
  },
  {
   "cell_type": "code",
   "execution_count": 17,
   "metadata": {},
   "outputs": [
    {
     "name": "stdout",
     "output_type": "stream",
     "text": [
      "Done with 7581 words ready for export...\n"
     ]
    }
   ],
   "source": [
    "words = []\n",
    "proper_nouns = {'gntl', 'nmpr'}\n",
    "max_frequency = 5\n",
    "\n",
    "for word in F.otype.s('word'):\n",
    "    \n",
    "    lexeme = L.u(word, otype='lex')[0]\n",
    "    \n",
    "    if F.freq_lex.v(word) > max_frequency:\n",
    "        continue\n",
    "    elif F.sp.v(lexeme) in proper_nouns or F.ls.v(lexeme) in proper_nouns:\n",
    "        continue\n",
    "    \n",
    "    book, chapter, verse = T.sectionFromNode(word)\n",
    "        \n",
    "    surface_form = F.voc_lex_utf8.v(lexeme)\n",
    "    gloss = F.gloss.v(lexeme)\n",
    "    \n",
    "    if F.sp.v(lexeme) == 'verb':\n",
    "        gloss = 'to ' + gloss\n",
    "        \n",
    "    lex_data = [book, chapter, verse, surface_form, gloss, lexeme, word]\n",
    "        \n",
    "    words.append(lex_data)\n",
    "    \n",
    "print(f'Done with {len(words)} words ready for export...')"
   ]
  },
  {
   "cell_type": "code",
   "execution_count": 18,
   "metadata": {},
   "outputs": [],
   "source": [
    "freq_1 = 'hebrew_hapax.csv'\n",
    "freq_5 = 'hebrew_five&less.csv'\n",
    "\n",
    "with open(freq_5, 'w') as outfile:\n",
    "    writer = csv.writer(outfile)\n",
    "    writer.writerows(words)"
   ]
  }
 ],
 "metadata": {
  "kernelspec": {
   "display_name": "Python 3",
   "language": "python",
   "name": "python3"
  },
  "language_info": {
   "codemirror_mode": {
    "name": "ipython",
    "version": 3
   },
   "file_extension": ".py",
   "mimetype": "text/x-python",
   "name": "python",
   "nbconvert_exporter": "python",
   "pygments_lexer": "ipython3",
   "version": "3.6.3"
  }
 },
 "nbformat": 4,
 "nbformat_minor": 2
}
