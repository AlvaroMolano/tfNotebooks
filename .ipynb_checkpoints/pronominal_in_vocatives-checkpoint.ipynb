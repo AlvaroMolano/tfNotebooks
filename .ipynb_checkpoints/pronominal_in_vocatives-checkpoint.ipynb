{
 "cells": [
  {
   "cell_type": "markdown",
   "metadata": {
    "deletable": true,
    "editable": true
   },
   "source": [
    "# Description of Search\n",
    "\n",
    "Generate a list of every time in the Tanak there is a noun with a pronominal suffix functioning as a vocative...Special interest is on nouns within the semantic field of familial terms (father, mother, daughter, son, brother, sister). Also there is a special interest in the Torah passages.\n",
    "\n",
    "The results are exported to a spreadsheet.\n",
    "\n",
    "## Import ETCBC Database Processor"
   ]
  },
  {
   "cell_type": "code",
   "execution_count": 6,
   "metadata": {
    "collapsed": false,
    "deletable": true,
    "editable": true
   },
   "outputs": [
    {
     "name": "stdout",
     "output_type": "stream",
     "text": [
      "This is Text-Fabric 2.3.6\n",
      "Api reference : https://github.com/ETCBC/text-fabric/wiki/Api\n",
      "Tutorial      : https://github.com/ETCBC/text-fabric/blob/master/docs/tutorial.ipynb\n",
      "Data sources  : https://github.com/ETCBC/text-fabric-data\n",
      "Data docs     : https://etcbc.github.io/text-fabric-data\n",
      "Shebanq docs  : https://shebanq.ancient-data.org/text\n",
      "Slack team    : https://shebanq.slack.com/signup\n",
      "Questions? Ask shebanq@ancient-data.org for an invite to Slack\n",
      "109 features found and 0 ignored\n"
     ]
    }
   ],
   "source": [
    "import csv\n",
    "\n",
    "from tf.fabric import Fabric\n",
    "\n",
    "TF = Fabric(modules='hebrew/etcbc4c')"
   ]
  },
  {
   "cell_type": "markdown",
   "metadata": {
    "deletable": true,
    "editable": true
   },
   "source": [
    "## Import Features from the ETCBC Text (version 4c)\n",
    "\n",
    "### The following features are needed:\n",
    "\n",
    "* `typ`- type, a feature stored on clauses. To find vocative clauses. [see all possible codes](https://etcbc.github.io/text-fabric-data/features/hebrew/etcbc4c/typ)\n",
    "* `prs` - pronominal suffix, a feature stored on words. To find pronominal suffixes. [see description](https://etcbc.github.io/text-fabric-data/features/hebrew/etcbc4c/prs)\n",
    "* `lex` - lexeme, a \"feature\" associated with words in ETCBC transcription. To find familial terms. [description](https://etcbc.github.io/text-fabric-data/features/hebrew/etcbc4c/lex)\n",
    "\n",
    "### The following optional features will be added for additional comparisons [(see all features)](https://etcbc.github.io/text-fabric-data/features/hebrew/etcbc4c/0_overview.html):\n",
    "\n",
    "* `function` (for phrases), `domain` (narrative, discursive, quotation)"
   ]
  },
  {
   "cell_type": "code",
   "execution_count": 7,
   "metadata": {
    "collapsed": false,
    "deletable": true,
    "editable": true
   },
   "outputs": [
    {
     "name": "stdout",
     "output_type": "stream",
     "text": [
      "  0.00s loading features ...\n",
      "   |     0.01s B book                 from /Users/Cody/github/text-fabric-data/hebrew/etcbc4c\n",
      "   |     0.01s B chapter              from /Users/Cody/github/text-fabric-data/hebrew/etcbc4c\n",
      "   |     0.01s B verse                from /Users/Cody/github/text-fabric-data/hebrew/etcbc4c\n",
      "   |     0.21s B typ                  from /Users/Cody/github/text-fabric-data/hebrew/etcbc4c\n",
      "   |     0.13s B prs                  from /Users/Cody/github/text-fabric-data/hebrew/etcbc4c\n",
      "   |     0.12s B lex                  from /Users/Cody/github/text-fabric-data/hebrew/etcbc4c\n",
      "   |     0.08s B function             from /Users/Cody/github/text-fabric-data/hebrew/etcbc4c\n",
      "   |     0.02s B domain               from /Users/Cody/github/text-fabric-data/hebrew/etcbc4c\n",
      "   |     0.00s B gloss                from /Users/Cody/github/text-fabric-data/hebrew/etcbc4c\n",
      "   |     0.00s Feature overview: 103 for nodes; 5 for edges; 1 configs; 7 computed\n",
      "  5.67s All features loaded/computed - for details use loadLog()\n"
     ]
    }
   ],
   "source": [
    "# Features loaded here\n",
    "# grammatical units stored on linguistic \"objects\" in etcbc\n",
    "# we load the features associated with those objects\n",
    "api = TF.load('''\n",
    "              book chapter verse\n",
    "              typ\n",
    "              prs\n",
    "              lex\n",
    "              function domain gloss\n",
    "              ''')\n",
    "\n",
    "api.makeAvailableIn(globals())"
   ]
  },
  {
   "cell_type": "markdown",
   "metadata": {
    "deletable": true,
    "editable": true
   },
   "source": [
    "## Run the Search"
   ]
  },
  {
   "cell_type": "code",
   "execution_count": 8,
   "metadata": {
    "collapsed": false,
    "deletable": true,
    "editable": true
   },
   "outputs": [
    {
     "name": "stdout",
     "output_type": "stream",
     "text": [
      "Finished with 358 results!\n"
     ]
    }
   ],
   "source": [
    "# a list to store the results\n",
    "results = []\n",
    "\n",
    "# familial lexemes in ETCBC transcription\n",
    "familial_lexemes = {'>B/','>M/','BT/',\n",
    "                    'BN/','>X/','>XWT/'}\n",
    "\n",
    "# iterate through all clauses in HB\n",
    "for clause in F.otype.s('clause_atom'):\n",
    "    \n",
    "    # check for vocative\n",
    "    if F.typ.v(clause) == 'Voct':\n",
    "        \n",
    "        # list of words with pronominal suffixes, if any\n",
    "        suffixed_words = [word for word in L.d(clause, otype='word')\n",
    "                             if F.prs.v(word) not in {'absent','n/a'} # check for pronominal\n",
    "                         ]\n",
    "        \n",
    "        familial_words = [F.gloss.v(L.u(word, otype='lex')[0]) for word in suffixed_words\n",
    "                             if F.lex.v(word) in familial_lexemes\n",
    "                         ]\n",
    "\n",
    "        # if there are suffixed words, save results\n",
    "        if suffixed_words:\n",
    "            \n",
    "            # get data about the environment around the vocative\n",
    "            verse = L.u(clause, otype='verse')[0]\n",
    "            phrases = L.d(clause, otype='phrase')\n",
    "            phrase_functions = tuple(F.function.v(phrase) for phrase in phrases)\n",
    "            functional_clause = L.u(clause, otype='clause')[0]\n",
    "            domain = F.domain.v(functional_clause)\n",
    "            \n",
    "            # format data into plain text\n",
    "            passage_text = T.sectionFromNode(clause)\n",
    "            vocative_text = T.text(L.d(clause, otype='word'))\n",
    "            verse_text = T.text(L.d(verse, otype='word'))\n",
    "            functions_text = ', '.join(phrase_functions)\n",
    "            familial_words = ', '.join(familial_words)\n",
    "            \n",
    "            # consolidate data into dict\n",
    "            result_data = {'Passage':passage_text,\n",
    "                           'Familial?':familial_words,\n",
    "                           'Vocative':vocative_text,\n",
    "                           'Verse':verse_text,\n",
    "                           'Domain':domain,\n",
    "                           'Phrase Functions':functions_text}\n",
    "            \n",
    "            results.append(result_data)\n",
    "            \n",
    "print(f'Finished with {len(results)} results!')"
   ]
  },
  {
   "cell_type": "markdown",
   "metadata": {
    "deletable": true,
    "editable": true
   },
   "source": [
    "## Move Familial Results to the Front For Sorted Results"
   ]
  },
  {
   "cell_type": "code",
   "execution_count": 9,
   "metadata": {
    "collapsed": false,
    "deletable": true,
    "editable": true
   },
   "outputs": [
    {
     "name": "stdout",
     "output_type": "stream",
     "text": [
      "358 results sorted...\n"
     ]
    }
   ],
   "source": [
    "sorted_results = []\n",
    "\n",
    "for result in results:\n",
    "    if result['Familial?']:\n",
    "        sorted_results.append(result)\n",
    "        \n",
    "for result in results:\n",
    "    if not result['Familial?']:\n",
    "        sorted_results.append(result)\n",
    "        \n",
    "# double check we got everything\n",
    "print(f'{len(sorted_results)} results sorted...')"
   ]
  },
  {
   "cell_type": "markdown",
   "metadata": {
    "deletable": true,
    "editable": true
   },
   "source": [
    "## Export Both Sorted and Non-Sorted Results to Spreadsheet"
   ]
  },
  {
   "cell_type": "code",
   "execution_count": 10,
   "metadata": {
    "collapsed": false,
    "deletable": true,
    "editable": true
   },
   "outputs": [],
   "source": [
    "fieldnames = ('Passage','Familial?','Vocative','Verse','Domain','Phrase Functions')\n",
    "\n",
    "with open('familial_first.csv','w') as familial_results:\n",
    "    writer = csv.DictWriter(familial_results, fieldnames=fieldnames)\n",
    "    writer.writeheader()\n",
    "    writer.writerows(sorted_results)\n",
    "    \n",
    "with open('all.csv','w') as all_results:\n",
    "    writer = csv.DictWriter(all_results, fieldnames=fieldnames)\n",
    "    writer.writeheader()\n",
    "    writer.writerows(results)"
   ]
  }
 ],
 "metadata": {
  "kernelspec": {
   "display_name": "Python 3",
   "language": "python",
   "name": "python3"
  },
  "language_info": {
   "codemirror_mode": {
    "name": "ipython",
    "version": 3
   },
   "file_extension": ".py",
   "mimetype": "text/x-python",
   "name": "python",
   "nbconvert_exporter": "python",
   "pygments_lexer": "ipython3",
   "version": "3.6.0"
  }
 },
 "nbformat": 4,
 "nbformat_minor": 2
}
