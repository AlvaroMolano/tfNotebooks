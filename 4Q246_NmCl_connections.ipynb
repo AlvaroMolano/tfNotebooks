{
 "cells": [
  {
   "cell_type": "code",
   "execution_count": 1,
   "metadata": {
    "collapsed": false
   },
   "outputs": [
    {
     "name": "stdout",
     "output_type": "stream",
     "text": [
      "Notebook last updated on 2017-04-30 21:27:37.382897\n"
     ]
    }
   ],
   "source": [
    "from datetime import datetime\n",
    "print(f'Notebook last updated on {datetime.now().__str__()}')"
   ]
  },
  {
   "cell_type": "markdown",
   "metadata": {
    "deletable": true,
    "editable": true
   },
   "source": [
    "# Is NmCl -> xYqX or NmCL -> xYq0 More Common in Biblical Aramaic?\n",
    "\n",
    "During the encoding of 4Q246, an important clause connection decision must be made in clause 11 (of column II). The clause contains a 3MS suffix, for which there are two available antecedents: either \"the son of God\" in clause 1 or \"people of God\" in clause 9. Which clause is the mother will directly influence the interpretation:\n",
    "\n",
    "> 1 &nbsp;&nbsp;&nbsp;&nbsp;&nbsp;xYq0 &nbsp;&nbsp;&nbsp;&nbsp; ברה די אל יתאמר &nbsp;&nbsp;&nbsp;&nbsp;&nbsp;&nbsp;\"The son of God he will be called...\"<br>\n",
    "> 9 &nbsp;&nbsp;&nbsp;&nbsp;&nbsp;xYqX &nbsp;&nbsp;&nbsp;&nbsp; עד יקום עם אל &nbsp;&nbsp;&nbsp;&nbsp;&nbsp;&nbsp;&nbsp;&nbsp;&nbsp;&nbsp;\"Until the people of God arise.\"<br>\n",
    "> 11 &nbsp;&nbsp;&nbsp;NmCl &nbsp;&nbsp;&nbsp;&nbsp;מלכותה מלכות עלם&nbsp;&nbsp;&nbsp;&nbsp;\"His/Its kingdom will be an eternal kingdom...\"<br>\n",
    "\n",
    "In purely statistical terms, does the NmCl connect more often to the xYqX or xYq0 clause type? Alternatively, how often does the NmCl mark the beginning of a new major section in BA? Would it be statistcally likely to do so here?\n",
    "\n",
    "# Results Contained in this Notebook:\n",
    "\n",
    "This notebook resulted in inconclusive results for my research question. Even though the xYq0 connection occurs technically more often (5 vs. 0 times), the small number of results found limits the significance. Attempts to draw out additional results from the more general presence/absence of a subject proved equally inconclusive; 35 of the NmCl mother clauses contain an explicit subject (marked with 'X') while 40 have no explicit subject ('0'). This difference is hardly enough to posit any relationship between the presence/absence of a subject in the mother clause of a NmCl. -Cody, 30 April 2017"
   ]
  },
  {
   "cell_type": "markdown",
   "metadata": {},
   "source": [
    "## Import modules, Text-Fabric processor, and ETCBC data."
   ]
  },
  {
   "cell_type": "code",
   "execution_count": 2,
   "metadata": {
    "collapsed": false,
    "deletable": true,
    "editable": true
   },
   "outputs": [
    {
     "name": "stdout",
     "output_type": "stream",
     "text": [
      "This is Text-Fabric 2.3.6\n",
      "Api reference : https://github.com/ETCBC/text-fabric/wiki/Api\n",
      "Tutorial      : https://github.com/ETCBC/text-fabric/blob/master/docs/tutorial.ipynb\n",
      "Data sources  : https://github.com/ETCBC/text-fabric-data\n",
      "Data docs     : https://etcbc.github.io/text-fabric-data\n",
      "Shebanq docs  : https://shebanq.ancient-data.org/text\n",
      "Slack team    : https://shebanq.slack.com/signup\n",
      "Questions? Ask shebanq@ancient-data.org for an invite to Slack\n",
      "109 features found and 0 ignored\n",
      "  0.00s loading features ...\n",
      "   |     0.01s B book                 from /Users/Cody/github/text-fabric-data/hebrew/etcbc4c\n",
      "   |     0.01s B chapter              from /Users/Cody/github/text-fabric-data/hebrew/etcbc4c\n",
      "   |     0.01s B verse                from /Users/Cody/github/text-fabric-data/hebrew/etcbc4c\n",
      "   |     0.12s B language             from /Users/Cody/github/text-fabric-data/hebrew/etcbc4c\n",
      "   |     0.20s B typ                  from /Users/Cody/github/text-fabric-data/hebrew/etcbc4c\n",
      "   |     0.23s B mother               from /Users/Cody/github/text-fabric-data/hebrew/etcbc4c\n",
      "   |     0.00s Feature overview: 103 for nodes; 5 for edges; 1 configs; 7 computed\n",
      "  6.07s All features loaded/computed - for details use loadLog()\n"
     ]
    }
   ],
   "source": [
    "import collections\n",
    "\n",
    "# TF processor\n",
    "from tf.fabric import Fabric\n",
    "\n",
    "# instantiate processor with data location\n",
    "TF = Fabric(modules='hebrew/etcbc4c')\n",
    "\n",
    "# load features from data\n",
    "api = TF.load('''\n",
    "              language book chapter verse\n",
    "              typ mother \n",
    "              ''')\n",
    "\n",
    "# globalize the TF api methods to avoid having to prefix with api.\n",
    "api.makeAvailableIn(globals())"
   ]
  },
  {
   "cell_type": "markdown",
   "metadata": {},
   "source": [
    "## Get all Biblical Aramaic clause atoms that are nominal clauses (NmCl)."
   ]
  },
  {
   "cell_type": "code",
   "execution_count": 3,
   "metadata": {
    "collapsed": false
   },
   "outputs": [
    {
     "name": "stdout",
     "output_type": "stream",
     "text": [
      "179 clause atoms found...\n"
     ]
    }
   ],
   "source": [
    "# store all Aramaic nominal clauses in a tuple with a list comprehension\n",
    "BA_nominalclauses = tuple(ca for ca in F.otype.s('clause_atom')\n",
    "                       \n",
    "                          # restrict to Aramaic\n",
    "                          if F.language.v(L.d(ca, otype='word')[0]) == 'arc' \n",
    "                       \n",
    "                          # restrict to nominal clauses\n",
    "                          and F.typ.v(ca) == 'NmCl'\n",
    "                       )\n",
    "\n",
    "print(f'{len(BA_nominalclauses)} clause atoms found...')"
   ]
  },
  {
   "cell_type": "markdown",
   "metadata": {},
   "source": [
    "## Survey the kinds of mother clauses the NmCl takes."
   ]
  },
  {
   "cell_type": "code",
   "execution_count": 4,
   "metadata": {
    "collapsed": false
   },
   "outputs": [
    {
     "name": "stdout",
     "output_type": "stream",
     "text": [
      "done with 27 different results...\n"
     ]
    }
   ],
   "source": [
    "# keep count with collections object\n",
    "mother_counts = collections.Counter()\n",
    "\n",
    "# count the types for mother clauses of all BA nominal clauses\n",
    "for ca in BA_nominalclauses:\n",
    "    \n",
    "    # get mother of clause atom\n",
    "    mother = E.mother.f(ca)[0] if E.mother.f(ca)[0] else None\n",
    "    \n",
    "    # if ca has a mother, add mother's type to count\n",
    "    if mother:\n",
    "        \n",
    "        # get mother type\n",
    "        mother_type = F.typ.v(mother)\n",
    "        \n",
    "        # add to count\n",
    "        mother_counts[mother_type] += 1\n",
    "        \n",
    "    # if not mother, add count to \"NA\"\n",
    "    else:\n",
    "        mother_counts['NA'] += 1\n",
    "        \n",
    "print(f'done with {len(mother_counts)} different results...')"
   ]
  },
  {
   "cell_type": "code",
   "execution_count": 5,
   "metadata": {
    "collapsed": false
   },
   "outputs": [
    {
     "name": "stdout",
     "output_type": "stream",
     "text": [
      "NmCl 38\n",
      "Defc 24\n",
      "Ptcp 17\n",
      "CPen 10\n",
      "WQt0 10\n",
      "XQtl 9\n",
      "xQt0 7\n",
      "xQtX 7\n",
      "WXQt 7\n",
      "**xYq0 5\n",
      "WxQ0 4\n",
      "*WxY0 4\n",
      "AjCl 4\n",
      "InfC 4\n",
      "WxQX 3\n",
      "ZIm0 3\n",
      "Voct 3\n",
      "*WXYq 3\n",
      "Ellp 3\n",
      "*XYqt 3\n",
      "*WYq0 3\n",
      "*ZYq0 3\n",
      "*WxYX 1\n",
      "MSyn 1\n",
      "WQtX 1\n",
      "ZQtX 1\n",
      "ZQt0 1\n"
     ]
    }
   ],
   "source": [
    "# print the results\n",
    "\n",
    "# sort results from greatest to least\n",
    "sorted_mother_counts = sorted(mother_counts.items(), \n",
    "                              reverse=True, \n",
    "                              key=lambda k: k[-1]\n",
    "                             )\n",
    "\n",
    "# loop through and print results\n",
    "# highlight results of interest\n",
    "for mother_type, count in sorted_mother_counts:\n",
    "    \n",
    "    # highlight results of greatest interest\n",
    "    if mother_type in {'xYqX','xYq0'}:\n",
    "        print('**' + mother_type, count)\n",
    "        \n",
    "    # highlight results of secondary interest (with yiqtol)\n",
    "    elif 'Y' in mother_type:\n",
    "        print('*' + mother_type, count)\n",
    "        \n",
    "    # print all other results\n",
    "    else:\n",
    "        print(mother_type, count)"
   ]
  },
  {
   "cell_type": "markdown",
   "metadata": {},
   "source": [
    "## Reflection on Findings\n",
    "\n",
    "1. The pattern NmCl -> xYq0 is attested 5 times while the pattern NmCl -> xYqX is un-attested. The former is the most common, statistically speaking.\n",
    "\n",
    "2. By far the most common mother clause is a fellow nominal clause with 38 instances.\n",
    "\n",
    "3. There are no instances of a nominal clause without a mother.\n",
    "\n",
    "4. The prevalent connection with `CPen` is interesting because there is a causus pendens in 4Q246. But the two situations are probably different. In 4Q246 the causus pendens is in a כ...כן comparison formula where the `CPen` starts with כזקיא די חזותא (\"like the comets of the vision...\") and ends with כן מלכותהן תהוה (\"thus will their kingdom be\"); in other words, the causus pendens already has its completion in the XYqt clause beginning with כן.\n",
    "\n",
    "5. Even though xYqX is unattested, the NmCl -> xQtX has 7 attestations.\n",
    "\n",
    "6. In line with number 5, it appears that the NmCl prefers to follow clauses that introduce an explicit subject. It would be useful to measure this directly...\n",
    "\n",
    "### Testing number 6 further. Does the NmCl prefer clauses with an explicit subject?\n",
    "\n",
    "It would make sense that clauses with explicit subjects might be followed by nominal clauses, as the nominal in the nominal clause would (hypothetically) mirror the nominal subject."
   ]
  },
  {
   "cell_type": "code",
   "execution_count": 6,
   "metadata": {
    "collapsed": false
   },
   "outputs": [
    {
     "name": "stdout",
     "output_type": "stream",
     "text": [
      "11 different results found...\n"
     ]
    }
   ],
   "source": [
    "# a counter object to count mother connections with 'X', i.e. an explicit subject\n",
    "mother_subjects = collections.Counter()\n",
    "\n",
    "# count mother types with subjects\n",
    "for mother_type, count in mother_counts.items():\n",
    "    \n",
    "    # combine all clauses with 'X' together in the count\n",
    "    if 'X' in mother_type:\n",
    "        mother_subjects['with X'] += count\n",
    "        \n",
    "    # combine all clauses with '0' together in the count\n",
    "    elif '0' in mother_type:\n",
    "        mother_subjects['null X'] += count\n",
    "        \n",
    "    # if there is no 'X', count only the mother type individually\n",
    "    else:\n",
    "        mother_subjects[mother_type] += count\n",
    "    \n",
    "print(f'{len(mother_subjects)} different results found...')"
   ]
  },
  {
   "cell_type": "code",
   "execution_count": 7,
   "metadata": {
    "collapsed": false
   },
   "outputs": [
    {
     "name": "stdout",
     "output_type": "stream",
     "text": [
      "**null X 40\n",
      "NmCl 38\n",
      "**with X 35\n",
      "Defc 24\n",
      "Ptcp 17\n",
      "CPen 10\n",
      "AjCl 4\n",
      "InfC 4\n",
      "Voct 3\n",
      "Ellp 3\n",
      "MSyn 1\n"
     ]
    }
   ],
   "source": [
    "# sort\n",
    "mother_subj_sorted = sorted(mother_subjects.items(),\n",
    "                            reverse=True,\n",
    "                            key=lambda k: k[-1])\n",
    "\n",
    "# print results\n",
    "for sbj_type, count in mother_subj_sorted:\n",
    "    \n",
    "    # highlight results with subjects\n",
    "    if sbj_type in {'with X','null X'}:\n",
    "        print('**' + sbj_type, count)\n",
    "        \n",
    "    # print all other results normally \n",
    "    else:\n",
    "        print(sbj_type, count)"
   ]
  },
  {
   "cell_type": "markdown",
   "metadata": {},
   "source": [
    "### Reflections on Findings for Observation 6\n",
    "\n",
    "1. The NmCl actually does not seem any more or less likely to follow a mother with an explicit subject."
   ]
  }
 ],
 "metadata": {
  "kernelspec": {
   "display_name": "Python 3",
   "language": "python",
   "name": "python3"
  },
  "language_info": {
   "codemirror_mode": {
    "name": "ipython",
    "version": 3
   },
   "file_extension": ".py",
   "mimetype": "text/x-python",
   "name": "python",
   "nbconvert_exporter": "python",
   "pygments_lexer": "ipython3",
   "version": "3.6.0"
  }
 },
 "nbformat": 4,
 "nbformat_minor": 2
}
