{
 "cells": [
  {
   "cell_type": "code",
   "execution_count": 27,
   "metadata": {
    "collapsed": false
   },
   "outputs": [
    {
     "name": "stdout",
     "output_type": "stream",
     "text": [
      "This is Text-Fabric 2.3.0\n",
      "Api reference : https://github.com/ETCBC/text-fabric/wiki/Api\n",
      "Tutorial      : https://github.com/ETCBC/text-fabric/blob/master/docs/tutorial.ipynb\n",
      "Data sources  : https://github.com/ETCBC/text-fabric-data\n",
      "Data docs     : https://etcbc.github.io/text-fabric-data\n",
      "Shebanq docs  : https://shebanq.ancient-data.org/text\n",
      "Slack team    : https://shebanq.slack.com/signup\n",
      "Questions? Ask shebanq@ancient-data.org for an invite to Slack\n",
      "109 features found and 0 ignored\n",
      "  0.00s loading features ...\n",
      "   |     0.01s B book                 from /Users/Cody/github/text-fabric-data/Hebrew/etcbc4c\n",
      "   |     0.01s B chapter              from /Users/Cody/github/text-fabric-data/Hebrew/etcbc4c\n",
      "   |     0.01s B verse                from /Users/Cody/github/text-fabric-data/Hebrew/etcbc4c\n",
      "   |     0.33s B g_cons_utf8          from /Users/Cody/github/text-fabric-data/Hebrew/etcbc4c\n",
      "   |     0.20s B g_word_utf8          from /Users/Cody/github/text-fabric-data/Hebrew/etcbc4c\n",
      "   |     0.18s B lex_utf8             from /Users/Cody/github/text-fabric-data/Hebrew/etcbc4c\n",
      "   |     0.19s B lex                  from /Users/Cody/github/text-fabric-data/Hebrew/etcbc4c\n",
      "   |     0.18s B nu                   from /Users/Cody/github/text-fabric-data/Hebrew/etcbc4c\n",
      "   |     0.14s B gn                   from /Users/Cody/github/text-fabric-data/Hebrew/etcbc4c\n",
      "   |     0.09s B function             from /Users/Cody/github/text-fabric-data/Hebrew/etcbc4c\n",
      "   |     0.19s B pdp                  from /Users/Cody/github/text-fabric-data/Hebrew/etcbc4c\n",
      "   |     0.00s Feature overview: 103 nodes; 5 edges; 1 configs; 7 computeds\n",
      "  6.17s All features loaded/computed - for details use loadLog()\n"
     ]
    }
   ],
   "source": [
    "from pprint import pprint\n",
    "\n",
    "from tf.fabric import Fabric\n",
    "\n",
    "TF = Fabric(modules='Hebrew/etcbc4c')\n",
    "\n",
    "api = TF.load('''\n",
    "                 book chapter verse\n",
    "                 g_word_utf8 g_cons_utf8 lex_utf8 lex\n",
    "                 nu gn\n",
    "                 function pdp\n",
    "              ''')"
   ]
  },
  {
   "cell_type": "code",
   "execution_count": 28,
   "metadata": {
    "collapsed": true
   },
   "outputs": [],
   "source": [
    "api.makeAvailableIn(globals())"
   ]
  },
  {
   "cell_type": "markdown",
   "metadata": {},
   "source": [
    "# Find Instances of משכב \n",
    "\n",
    "See Lev 18.22 and 20.13 for the motivation of this search.\n",
    "\n",
    "## Return all Instances:"
   ]
  },
  {
   "cell_type": "code",
   "execution_count": 62,
   "metadata": {
    "collapsed": false
   },
   "outputs": [],
   "source": [
    "mckb = (L.u(w, otype='verse') for w in F.otype.s('word') \n",
    "        if F.lex.v(w) == 'MCKB/')"
   ]
  },
  {
   "cell_type": "code",
   "execution_count": 63,
   "metadata": {
    "collapsed": false,
    "scrolled": false
   },
   "outputs": [
    {
     "name": "stdout",
     "output_type": "stream",
     "text": [
      "('Genesis', 49, 4)\n",
      "פַּ֤חַז כַּמַּ֨יִם֙ אַל־תֹּותַ֔ר כִּ֥י עָלִ֖יתָ מִשְׁכְּבֵ֣י אָבִ֑יךָ אָ֥ז חִלַּ֖לְתָּ יְצוּעִ֥י עָלָֽה׃ פ \n",
      "\n",
      "('Exodus', 7, 28)\n",
      "וְשָׁרַ֣ץ הַיְאֹר֮ צְפַרְדְּעִים֒ וְעָלוּ֙ וּבָ֣אוּ בְּבֵיתֶ֔ךָ וּבַחֲדַ֥ר מִשְׁכָּבְךָ֖ וְעַל־מִטָּתֶ֑ךָ וּבְבֵ֤ית עֲבָדֶ֨יךָ֙ וּבְעַמֶּ֔ךָ וּבְתַנּוּרֶ֖יךָ וּבְמִשְׁאֲרֹותֶֽיךָ׃ \n",
      "\n",
      "('Exodus', 21, 18)\n",
      "וְכִֽי־יְרִיבֻ֣ן אֲנָשִׁ֔ים וְהִכָּה־אִישׁ֙ אֶת־רֵעֵ֔הוּ בְּאֶ֖בֶן אֹ֣ו בְאֶגְרֹ֑ף וְלֹ֥א יָמ֖וּת וְנָפַ֥ל לְמִשְׁכָּֽב׃ \n",
      "\n",
      "('Leviticus', 15, 4)\n",
      "כָּל־הַמִּשְׁכָּ֗ב אֲשֶׁ֨ר יִשְׁכַּ֥ב עָלָ֛יו הַזָּ֖ב יִטְמָ֑א וְכָֽל־הַכְּלִ֛י אֲשֶׁר־יֵשֵׁ֥ב עָלָ֖יו יִטְמָֽא׃ \n",
      "\n",
      "('Leviticus', 15, 5)\n",
      "וְאִ֕ישׁ אֲשֶׁ֥ר יִגַּ֖ע בְּמִשְׁכָּבֹ֑ו יְכַבֵּ֧ס בְּגָדָ֛יו וְרָחַ֥ץ בַּמַּ֖יִם וְטָמֵ֥א עַד־הָעָֽרֶב׃ \n",
      "\n",
      "('Leviticus', 15, 21)\n",
      "וְכָל־הַנֹּגֵ֖עַ בְּמִשְׁכָּבָ֑הּ יְכַבֵּ֧ס בְּגָדָ֛יו וְרָחַ֥ץ בַּמַּ֖יִם וְטָמֵ֥א עַד־הָעָֽרֶב׃ \n",
      "\n",
      "('Leviticus', 15, 23)\n",
      "וְאִ֨ם עַֽל־הַמִּשְׁכָּ֜ב ה֗וּא אֹ֧ו עַֽל־הַכְּלִ֛י אֲשֶׁר־הִ֥וא יֹשֶֽׁבֶת־עָלָ֖יו בְּנָגְעֹו־בֹ֑ו יִטְמָ֖א עַד־הָעָֽרֶב׃ \n",
      "\n",
      "('Leviticus', 15, 24)\n",
      "וְאִ֡ם שָׁכֹב֩ יִשְׁכַּ֨ב אִ֜ישׁ אֹתָ֗הּ וּתְהִ֤י נִדָּתָהּ֙ עָלָ֔יו וְטָמֵ֖א שִׁבְעַ֣ת יָמִ֑ים וְכָל־הַמִּשְׁכָּ֛ב אֲשֶׁר־יִשְׁכַּ֥ב עָלָ֖יו יִטְמָֽא׃ פ \n",
      "\n",
      "('Leviticus', 15, 26)\n",
      "כָּל־הַמִּשְׁכָּ֞ב אֲשֶׁר־תִּשְׁכַּ֤ב עָלָיו֙ כָּל־יְמֵ֣י זֹובָ֔הּ כְּמִשְׁכַּ֥ב נִדָּתָ֖הּ יִֽהְיֶה־לָּ֑הּ וְכָֽל־הַכְּלִי֙ אֲשֶׁ֣ר תֵּשֵׁ֣ב עָלָ֔יו טָמֵ֣א יִהְיֶ֔ה כְּטֻמְאַ֖ת נִדָּתָֽהּ׃ \n",
      "\n",
      "('Leviticus', 15, 26)\n",
      "כָּל־הַמִּשְׁכָּ֞ב אֲשֶׁר־תִּשְׁכַּ֤ב עָלָיו֙ כָּל־יְמֵ֣י זֹובָ֔הּ כְּמִשְׁכַּ֥ב נִדָּתָ֖הּ יִֽהְיֶה־לָּ֑הּ וְכָֽל־הַכְּלִי֙ אֲשֶׁ֣ר תֵּשֵׁ֣ב עָלָ֔יו טָמֵ֣א יִהְיֶ֔ה כְּטֻמְאַ֖ת נִדָּתָֽהּ׃ \n",
      "\n",
      "('Leviticus', 18, 22)\n",
      "וְאֶ֨ת־זָכָ֔ר לֹ֥א תִשְׁכַּ֖ב מִשְׁכְּבֵ֣י אִשָּׁ֑ה תֹּועֵבָ֖ה הִֽוא׃ \n",
      "\n",
      "('Leviticus', 20, 13)\n",
      "וְאִ֗ישׁ אֲשֶׁ֨ר יִשְׁכַּ֤ב אֶת־זָכָר֙ מִשְׁכְּבֵ֣י אִשָּׁ֔ה תֹּועֵבָ֥ה עָשׂ֖וּ שְׁנֵיהֶ֑ם מֹ֥ות יוּמָ֖תוּ דְּמֵיהֶ֥ם בָּֽם׃ \n",
      "\n",
      "('Numbers', 31, 17)\n",
      "וְעַתָּ֕ה הִרְג֥וּ כָל־זָכָ֖ר בַּטָּ֑ף וְכָל־אִשָּׁ֗ה יֹדַ֥עַת אִ֛ישׁ לְמִשְׁכַּ֥ב זָכָ֖ר הֲרֹֽגוּ׃ \n",
      "\n",
      "('Numbers', 31, 18)\n",
      "וְכֹל֙ הַטַּ֣ף בַּנָּשִׁ֔ים אֲשֶׁ֥ר לֹא־יָדְע֖וּ מִשְׁכַּ֣ב זָכָ֑ר הַחֲי֖וּ לָכֶֽם׃ \n",
      "\n",
      "('Numbers', 31, 35)\n",
      "וְנֶ֣פֶשׁ אָדָ֔ם מִן־הַ֨נָּשִׁ֔ים אֲשֶׁ֥ר לֹֽא־יָדְע֖וּ מִשְׁכַּ֣ב זָכָ֑ר כָּל־נֶ֕פֶשׁ שְׁנַ֥יִם וּשְׁלֹשִׁ֖ים אָֽלֶף׃ \n",
      "\n",
      "('Judges', 21, 11)\n",
      "וְזֶ֥ה הַדָּבָ֖ר אֲשֶׁ֣ר תַּעֲשׂ֑וּ כָּל־זָכָ֗ר וְכָל־אִשָּׁ֛ה יֹדַ֥עַת מִשְׁכַּב־זָכָ֖ר תַּחֲרִֽימוּ׃ \n",
      "\n",
      "('Judges', 21, 12)\n",
      "וַֽיִּמְצְא֞וּ מִיֹּושְׁבֵ֣י׀ יָבֵ֣ישׁ גִּלְעָ֗ד אַרְבַּ֤ע מֵאֹות֙ נַעֲרָ֣ה בְתוּלָ֔ה אֲשֶׁ֧ר לֹֽא־יָדְעָ֛ה אִ֖ישׁ לְמִשְׁכַּ֣ב זָכָ֑ר וַיָּבִ֨יאוּ אֹותָ֤ם אֶל־הַֽמַּחֲנֶה֙ שִׁלֹ֔ה אֲשֶׁ֖ר בְּאֶ֥רֶץ כְּנָֽעַן׃ ס \n",
      "\n",
      "('2_Samuel', 4, 5)\n",
      "וַיֵּ֨לְכ֜וּ בְּנֵֽי־רִמֹּ֤ון הַבְּאֵֽרֹתִי֙ רֵכָ֣ב וּבַעֲנָ֔ה וַיָּבֹ֨אוּ֙ כְּחֹ֣ם הַיֹּ֔ום אֶל־בֵּ֖ית אִ֣ישׁ בֹּ֑שֶׁת וְה֣וּא שֹׁכֵ֔ב אֵ֖ת מִשְׁכַּ֥ב הַֽצָּהֳרָֽיִם׃ \n",
      "\n",
      "('2_Samuel', 4, 7)\n",
      "וַיָּבֹ֣אוּ הַבַּ֗יִת וְהֽוּא־שֹׁכֵ֤ב עַל־מִטָּתֹו֙ בַּחֲדַ֣ר מִשְׁכָּבֹ֔ו וַיַּכֻּ֨הוּ֙ וַיְמִתֻ֔הוּ וַיָּסִ֖ירוּ אֶת־רֹאשֹׁ֑ו וַיִּקְחוּ֙ אֶת־רֹאשֹׁ֔ו וַיֵּֽלְכ֛וּ דֶּ֥רֶךְ הָעֲרָבָ֖ה כָּל־הַלָּֽיְלָה׃ \n",
      "\n",
      "('2_Samuel', 4, 11)\n",
      "אַ֞ף כִּֽי־אֲנָשִׁ֣ים רְשָׁעִ֗ים הָרְג֧וּ אֶת־אִישׁ־צַדִּ֛יק בְּבֵיתֹ֖ו עַל־מִשְׁכָּבֹ֑ו וְעַתָּ֗ה הֲלֹ֨וא אֲבַקֵּ֤שׁ אֶת־דָּמֹו֙ מִיֶּדְכֶ֔ם וּבִעַרְתִּ֥י אֶתְכֶ֖ם מִן־הָאָֽרֶץ׃ \n",
      "\n",
      "('2_Samuel', 11, 2)\n",
      "וַיְהִ֣י׀ לְעֵ֣ת הָעֶ֗רֶב וַיָּ֨קָם דָּוִ֜ד מֵעַ֤ל מִשְׁכָּבֹו֙ וַיִּתְהַלֵּךְ֙ עַל־גַּ֣ג בֵּית־הַמֶּ֔לֶךְ וַיַּ֥רְא אִשָּׁ֛ה רֹחֶ֖צֶת מֵעַ֣ל הַגָּ֑ג וְהָ֣אִשָּׁ֔ה טֹובַ֥ת מַרְאֶ֖ה מְאֹֽד׃ \n",
      "\n",
      "('2_Samuel', 11, 13)\n",
      "וַיִּקְרָא־לֹ֣ו דָוִ֗ד וַיֹּ֧אכַל לְפָנָ֛יו וַיֵּ֖שְׁתְּ וַֽיְשַׁכְּרֵ֑הוּ וַיֵּצֵ֣א בָעֶ֗רֶב לִשְׁכַּ֤ב בְּמִשְׁכָּבֹו֙ עִם־עַבְדֵ֣י אֲדֹנָ֔יו וְאֶל־בֵּיתֹ֖ו לֹ֥א יָרָֽד׃ \n",
      "\n",
      "('2_Samuel', 13, 5)\n",
      "וַיֹּ֤אמֶר לֹו֙ יְהֹ֣ונָדָ֔ב שְׁכַ֥ב עַל־מִשְׁכָּבְךָ֖ וְהִתְחָ֑ל וּבָ֧א אָבִ֣יךָ לִרְאֹותֶ֗ךָ וְאָמַרְתָּ֣ אֵלָ֡יו תָּ֣בֹא נָא֩ תָמָ֨ר אֲחֹותִ֜י וְתַבְרֵ֣נִי לֶ֗חֶם וְעָשְׂתָ֤ה לְעֵינַי֙ אֶת־הַבִּרְיָ֔ה לְמַ֨עַן֙ אֲשֶׁ֣ר אֶרְאֶ֔ה וְאָכַלְתִּ֖י מִיָּדָֽהּ׃ \n",
      "\n",
      "('2_Samuel', 17, 28)\n",
      "מִשְׁכָּ֤ב וְסַפֹּות֙ וּכְלִ֣י יֹוצֵ֔ר וְחִטִּ֥ים וּשְׂעֹרִ֖ים וְקֶ֣מַח וְקָלִ֑י וּפֹ֥ול וַעֲדָשִׁ֖ים וְקָלִֽי׃ \n",
      "\n",
      "('1_Kings', 1, 47)\n",
      "וְגַם־בָּ֜אוּ עַבְדֵ֣י הַמֶּ֗לֶךְ לְ֠בָרֵךְ אֶת־אֲדֹנֵ֜ינוּ הַמֶּ֣לֶךְ דָּוִד֮ לֵאמֹר֒ יֵיטֵ֨ב אֱלֹהִ֜ים אֶת־שֵׁ֤ם שְׁלֹמֹה֙ מִשְּׁמֶ֔ךָ וִֽיגַדֵּ֥ל אֶת־כִּסְאֹ֖ו מִכִּסְאֶ֑ךָ וַיִּשְׁתַּ֥חוּ הַמֶּ֖לֶךְ עַל־הַמִּשְׁכָּֽב׃ \n",
      "\n",
      "('2_Kings', 6, 12)\n",
      "וַיֹּ֨אמֶר֙ אַחַ֣ד מֵֽעֲבָדָ֔יו לֹ֖וא אֲדֹנִ֣י הַמֶּ֑לֶךְ כִּֽי־אֱלִישָׁ֤ע הַנָּבִיא֙ אֲשֶׁ֣ר בְּיִשְׂרָאֵ֔ל יַגִּיד֙ לְמֶ֣לֶךְ יִשְׂרָאֵ֔ל אֶת־הַ֨דְּבָרִ֔ים אֲשֶׁ֥ר תְּדַבֵּ֖ר בַּחֲדַ֥ר מִשְׁכָּבֶֽךָ׃ \n",
      "\n",
      "('Isaiah', 57, 2)\n",
      "יָבֹ֣וא שָׁלֹ֔ום יָנ֖וּחוּ עַל־מִשְׁכְּבֹותָ֑ם הֹלֵ֖ךְ נְכֹחֹֽו׃ \n",
      "\n",
      "('Isaiah', 57, 7)\n",
      "עַ֤ל הַר־גָּבֹ֨הַּ֙ וְנִשָּׂ֔א שַׂ֖מְתְּ מִשְׁכָּבֵ֑ךְ גַּם־שָׁ֥ם עָלִ֖ית לִזְבֹּ֥חַ זָֽבַח׃ \n",
      "\n",
      "('Isaiah', 57, 8)\n",
      "וְאַחַ֤ר הַדֶּ֨לֶת֙ וְהַמְּזוּזָ֔ה שַׂ֖מְתְּ זִכְרֹונֵ֑ךְ כִּ֣י מֵאִתִּ֞י גִּלִּ֣ית וַֽתַּעֲלִ֗י הִרְחַ֤בְתְּ מִשְׁכָּבֵךְ֙ וַתִּכְרָת־לָ֣ךְ מֵהֶ֔ם אָהַ֥בְתְּ מִשְׁכָּבָ֖ם יָ֥ד חָזִֽית׃ \n",
      "\n",
      "('Isaiah', 57, 8)\n",
      "וְאַחַ֤ר הַדֶּ֨לֶת֙ וְהַמְּזוּזָ֔ה שַׂ֖מְתְּ זִכְרֹונֵ֑ךְ כִּ֣י מֵאִתִּ֞י גִּלִּ֣ית וַֽתַּעֲלִ֗י הִרְחַ֤בְתְּ מִשְׁכָּבֵךְ֙ וַתִּכְרָת־לָ֣ךְ מֵהֶ֔ם אָהַ֥בְתְּ מִשְׁכָּבָ֖ם יָ֥ד חָזִֽית׃ \n",
      "\n",
      "('Ezekiel', 23, 17)\n",
      "וַיָּבֹ֨אוּ אֵלֶ֤יהָ בְנֵֽי־בָבֶל֙ לְמִשְׁכַּ֣ב דֹּדִ֔ים וַיְטַמְּא֥וּ אֹותָ֖הּ בְּתַזְנוּתָ֑ם וַתִּ֨טְמָא־בָ֔ם וַתֵּ֥קַע נַפְשָׁ֖הּ מֵהֶֽם׃ \n",
      "\n",
      "('Ezekiel', 32, 25)\n",
      "בְּתֹ֣וךְ חֲ֠לָלִים נָתְנ֨וּ מִשְׁכָּ֥ב לָהּ֙ בְּכָל־הֲמֹונָ֔הּ סְבִֽיבֹותָ֖יו קִבְרֹתֶ֑הָ כֻּלָּ֣ם עֲרֵלִ֣ים חַלְלֵי־חֶ֡רֶב כִּֽי־נִתַּ֨ן חִתִּיתָ֜ם בְּאֶ֣רֶץ חַיִּ֗ים וַיִּשְׂא֤וּ כְלִמָּתָם֙ אֶת־יֹ֣ורְדֵי בֹ֔ור בְּתֹ֥וךְ חֲלָלִ֖ים נִתָּֽן׃ \n",
      "\n",
      "('Hosea', 7, 14)\n",
      "וְלֹֽא־זָעֲק֤וּ אֵלַי֙ בְּלִבָּ֔ם כִּ֥י יְיֵלִ֖ילוּ עַל־מִשְׁכְּבֹותָ֑ם עַל־דָּגָ֧ן וְתִירֹ֛ושׁ יִתְגֹּורָ֖רוּ יָס֥וּרוּ בִֽי׃ \n",
      "\n",
      "('Micah', 2, 1)\n",
      "הֹ֧וי חֹֽשְׁבֵי־אָ֛וֶן וּפֹ֥עֲלֵי רָ֖ע עַל־מִשְׁכְּבֹותָ֑ם בְּאֹ֤ור הַבֹּ֨קֶר֙ יַעֲשׂ֔וּהָ כִּ֥י יֶשׁ־לְאֵ֖ל יָדָֽם׃ \n",
      "\n",
      "('Psalms', 4, 5)\n",
      "רִגְז֗וּ וְֽאַל־תֶּ֫חֱטָ֥אוּ אִמְר֣וּ בִ֭לְבַבְכֶם עַֽל־מִשְׁכַּבְכֶ֗ם וְדֹ֣מּוּ סֶֽלָה׃ \n",
      "\n",
      "('Psalms', 36, 5)\n",
      "אָ֤וֶן׀ יַחְשֹׁ֗ב עַֽל־מִשְׁכָּ֫בֹ֥ו יִ֭תְיַצֵּב עַל־דֶּ֣רֶךְ לֹא־טֹ֑וב רָ֝֗ע לֹ֣א יִמְאָֽס׃ \n",
      "\n",
      "('Psalms', 41, 4)\n",
      "יְֽהוָ֗ה יִ֭סְעָדֶנּוּ עַל־עֶ֣רֶשׂ דְּוָ֑י כָּל־מִ֝שְׁכָּבֹ֗ו הָפַ֥כְתָּ בְחָלְיֹֽו׃ \n",
      "\n",
      "('Psalms', 149, 5)\n",
      "יַעְלְז֣וּ חֲסִידִ֣ים בְּכָבֹ֑וד יְ֝רַנְּנ֗וּ עַל־מִשְׁכְּבֹותָֽם׃ \n",
      "\n",
      "('Job', 7, 13)\n",
      "כִּֽי־אָ֭מַרְתִּי תְּנַחֲמֵ֣נִי עַרְשִׂ֑י יִשָּׂ֥א בְ֝שִׂיחִ֗י מִשְׁכָּבִֽי׃ \n",
      "\n",
      "('Job', 33, 15)\n",
      "בַּחֲלֹ֤ום׀ חֶזְיֹ֬ון לַ֗יְלָה בִּנְפֹ֣ל תַּ֭רְדֵּמָה עַל־אֲנָשִׁ֑ים בִּ֝תְנוּמֹ֗ות עֲלֵ֣י מִשְׁכָּֽב׃ \n",
      "\n",
      "('Job', 33, 19)\n",
      "וְהוּכַ֣ח בְּ֭מַכְאֹוב עַל־מִשְׁכָּבֹ֑ו וְרֹ֖וב עֲצָמָ֣יו אֵתָֽן׃ \n",
      "\n",
      "('Proverbs', 7, 17)\n",
      "נַ֥פְתִּי מִשְׁכָּבִ֑י מֹ֥ר אֲ֝הָלִ֗ים וְקִנָּמֹֽון׃ \n",
      "\n",
      "('Proverbs', 22, 27)\n",
      "אִם־אֵֽין־לְךָ֥ לְשַׁלֵּ֑ם לָ֥מָּה יִקַּ֥ח מִ֝שְׁכָּבְךָ֗ מִתַּחְתֶּֽיךָ׃ \n",
      "\n",
      "('Song_of_songs', 3, 1)\n",
      "עַל־מִשְׁכָּבִי֙ בַּלֵּילֹ֔ות בִּקַּ֕שְׁתִּי אֵ֥ת שֶׁאָהֲבָ֖ה נַפְשִׁ֑י בִּקַּשְׁתִּ֖יו וְלֹ֥א מְצָאתִֽיו׃ \n",
      "\n",
      "('Ecclesiastes', 10, 20)\n",
      "גַּ֣ם בְּמַדָּֽעֲךָ֗ מֶ֚לֶךְ אַל־תְּקַלֵּ֔ל וּבְחַדְרֵי֙ מִשְׁכָּ֣בְךָ֔ אַל־תְּקַלֵּ֖ל עָשִׁ֑יר כִּ֣י עֹ֤וף הַשָּׁמַ֨יִם֙ יֹולִ֣יךְ אֶת־הַקֹּ֔ול וּבַ֥עַל כְּנָפַ֖יִם יַגֵּ֥יד דָּבָֽר׃ \n",
      "\n",
      "('Daniel', 2, 28)\n",
      "בְּרַ֡ם אִיתַ֞י אֱלָ֤הּ בִּשְׁמַיָּא֙ גָּלֵ֣א רָזִ֔ין וְהֹודַ֗ע לְמַלְכָּא֙ נְבֽוּכַדְנֶצַּ֔ר מָ֛ה דִּ֥י לֶהֱוֵ֖א בְּאַחֲרִ֣ית יֹומַיָּ֑א חֶלְמָ֨ךְ וְחֶזְוֵ֥י רֵאשָׁ֛ךְ עַֽל־מִשְׁכְּבָ֖ךְ דְּנָ֥ה הֽוּא׃ פ \n",
      "\n",
      "('Daniel', 2, 29)\n",
      "אַ֣נְתְּ מַלְכָּ֗א רַעְיֹונָךְ֙ עַל־מִשְׁכְּבָ֣ךְ סְלִ֔קוּ מָ֛ה דִּ֥י לֶהֱוֵ֖א אַחֲרֵ֣י דְנָ֑ה וְגָלֵ֧א רָזַיָּ֛א הֹודְעָ֖ךְ מָה־דִ֥י לֶהֱוֵֽא׃ \n",
      "\n",
      "('Daniel', 4, 2)\n",
      "חֵ֥לֶם חֲזֵ֖ית וִֽידַחֲלִנַּ֑נִי וְהַרְהֹרִין֙ עַֽל־מִשְׁכְּבִ֔י וְחֶזְוֵ֥י רֵאשִׁ֖י יְבַהֲלֻנַּֽנִי׃ \n",
      "\n",
      "('Daniel', 4, 7)\n",
      "וְחֶזְוֵ֥י רֵאשִׁ֖י עַֽל־מִשְׁכְּבִ֑י חָזֵ֣ה הֲוֵ֔ית וַאֲל֥וּ אִילָ֛ן בְּגֹ֥וא אַרְעָ֖א וְרוּמֵ֥הּ שַׂגִּֽיא׃ \n",
      "\n",
      "('Daniel', 4, 10)\n",
      "חָזֵ֥ה הֲוֵ֛ית בְּחֶזְוֵ֥י רֵאשִׁ֖י עַֽל־מִשְׁכְּבִ֑י וַאֲלוּ֙ עִ֣יר וְקַדִּ֔ישׁ מִן־שְׁמַיָּ֖א נָחִֽת׃ \n",
      "\n",
      "('Daniel', 7, 1)\n",
      "בִּשְׁנַ֣ת חֲדָ֗ה לְבֵלְאשַׁצַּר֙ מֶ֣לֶךְ בָּבֶ֔ל דָּנִיֵּאל֙ חֵ֣לֶם חֲזָ֔ה וְחֶזְוֵ֥י רֵאשֵׁ֖הּ עַֽל־מִשְׁכְּבֵ֑הּ בֵּאדַ֨יִן֙ חֶלְמָ֣א כְתַ֔ב רֵ֥אשׁ מִלִּ֖ין אֲמַֽר׃ \n",
      "\n",
      "('2_Chronicles', 16, 14)\n",
      "וַיִּקְבְּרֻ֣הוּ בְקִבְרֹתָ֗יו אֲשֶׁ֣ר כָּֽרָה־לֹו֮ בְּעִ֣יר דָּוִיד֒ וַיַּשְׁכִּיבֻ֗הוּ בַּמִּשְׁכָּב֙ אֲשֶׁ֤ר מִלֵּא֙ בְּשָׂמִ֣ים וּזְנִ֔ים מְרֻקָּחִ֖ים בְּמִרְקַ֣חַת מַעֲשֶׂ֑ה וַיִּשְׂרְפוּ־לֹ֥ו שְׂרֵפָ֖ה גְּדֹולָ֥ה עַד־לִמְאֹֽד׃ פ \n",
      "\n"
     ]
    }
   ],
   "source": [
    "for verse in mckb:\n",
    "    words = L.d(verse[0], otype='word')\n",
    "    print(T.sectionFromNode(verse[0]))\n",
    "    print(T.text(words))\n",
    "    print()"
   ]
  },
  {
   "cell_type": "markdown",
   "metadata": {},
   "source": [
    "## Find plural instances of משכב"
   ]
  },
  {
   "cell_type": "code",
   "execution_count": 64,
   "metadata": {
    "collapsed": false
   },
   "outputs": [
    {
     "name": "stdout",
     "output_type": "stream",
     "text": [
      "('Genesis', 49, 4)\n",
      "פַּ֤חַז כַּמַּ֨יִם֙ אַל־תֹּותַ֔ר כִּ֥י עָלִ֖יתָ מִשְׁכְּבֵ֣י אָבִ֑יךָ אָ֥ז חִלַּ֖לְתָּ יְצוּעִ֥י עָלָֽה׃ פ \n",
      "\n",
      "('Leviticus', 18, 22)\n",
      "וְאֶ֨ת־זָכָ֔ר לֹ֥א תִשְׁכַּ֖ב מִשְׁכְּבֵ֣י אִשָּׁ֑ה תֹּועֵבָ֖ה הִֽוא׃ \n",
      "\n",
      "('Leviticus', 20, 13)\n",
      "וְאִ֗ישׁ אֲשֶׁ֨ר יִשְׁכַּ֤ב אֶת־זָכָר֙ מִשְׁכְּבֵ֣י אִשָּׁ֔ה תֹּועֵבָ֥ה עָשׂ֖וּ שְׁנֵיהֶ֑ם מֹ֥ות יוּמָ֖תוּ דְּמֵיהֶ֥ם בָּֽם׃ \n",
      "\n",
      "('Isaiah', 57, 2)\n",
      "יָבֹ֣וא שָׁלֹ֔ום יָנ֖וּחוּ עַל־מִשְׁכְּבֹותָ֑ם הֹלֵ֖ךְ נְכֹחֹֽו׃ \n",
      "\n",
      "('Hosea', 7, 14)\n",
      "וְלֹֽא־זָעֲק֤וּ אֵלַי֙ בְּלִבָּ֔ם כִּ֥י יְיֵלִ֖ילוּ עַל־מִשְׁכְּבֹותָ֑ם עַל־דָּגָ֧ן וְתִירֹ֛ושׁ יִתְגֹּורָ֖רוּ יָס֥וּרוּ בִֽי׃ \n",
      "\n",
      "('Micah', 2, 1)\n",
      "הֹ֧וי חֹֽשְׁבֵי־אָ֛וֶן וּפֹ֥עֲלֵי רָ֖ע עַל־מִשְׁכְּבֹותָ֑ם בְּאֹ֤ור הַבֹּ֨קֶר֙ יַעֲשׂ֔וּהָ כִּ֥י יֶשׁ־לְאֵ֖ל יָדָֽם׃ \n",
      "\n",
      "('Psalms', 149, 5)\n",
      "יַעְלְז֣וּ חֲסִידִ֣ים בְּכָבֹ֑וד יְ֝רַנְּנ֗וּ עַל־מִשְׁכְּבֹותָֽם׃ \n",
      "\n"
     ]
    }
   ],
   "source": [
    "PLmckb = (L.u(w, otype='verse') for w in F.otype.s('word') \n",
    "        if F.lex.v(w) == 'MCKB/'\n",
    "        and F.nu.v(w) == 'pl')\n",
    "\n",
    "for verse in PLmckb:\n",
    "    words = L.d(verse[0], otype='word')\n",
    "    print(T.sectionFromNode(verse[0]))\n",
    "    print(T.text(words))\n",
    "    print()"
   ]
  },
  {
   "cell_type": "markdown",
   "metadata": {
    "collapsed": true
   },
   "source": [
    "# Various Statistical Analyses of שכב "
   ]
  },
  {
   "cell_type": "code",
   "execution_count": 45,
   "metadata": {
    "collapsed": false
   },
   "outputs": [
    {
     "data": {
      "text/plain": [
       "195"
      ]
     },
     "execution_count": 45,
     "metadata": {},
     "output_type": "execute_result"
    }
   ],
   "source": [
    "import csv\n",
    "\n",
    "newRowLabels = list()\n",
    "CKBdata = {}\n",
    "\n",
    "with open('CKB_valency_groups.csv', 'r') as file:\n",
    "    reader = csv.reader(file)\n",
    "    header = next(reader)\n",
    "    for column in header:\n",
    "        if column in newRowLabels:\n",
    "            column += '2' # I know already that the labels are duplicated only once\n",
    "        newRowLabels.append(column)\n",
    "    for row in reader:\n",
    "        data = dict(zip(newRowLabels, row))\n",
    "        CKBdata[int(data['clauseAtom'])] = data\n",
    "        \n",
    "len(CKBdata)"
   ]
  },
  {
   "cell_type": "markdown",
   "metadata": {},
   "source": [
    "## Use of שכב with Feminine Subject"
   ]
  },
  {
   "cell_type": "code",
   "execution_count": 46,
   "metadata": {
    "collapsed": false
   },
   "outputs": [
    {
     "name": "stdout",
     "output_type": "stream",
     "text": [
      "('Genesis', 19, 34)\n",
      "שִׁכְבִ֣י עִמֹּ֔ו \n",
      "('Genesis', 19, 35)\n",
      "וַתִּשְׁכַּ֣ב עִמֹּ֔ו \n",
      "('2_Samuel', 13, 11)\n",
      "שִׁכְבִ֥י עִמִּ֖י \n",
      "('Genesis', 19, 33)\n",
      "וַתִּשְׁכַּ֣ב אֶת־אָבִ֔יהָ \n"
     ]
    }
   ],
   "source": [
    "predicateFunctions = {'Pred', 'PreS', 'PreO', 'PreC', 'PtcO', 'PrcS'} \n",
    "\n",
    "for clauseAtom, data in CKBdata.items():\n",
    "    if data['Category'] == 'sex' or data['Category2'] == 'sex':\n",
    "        predicatePhrase = next(p for p in L.d(clauseAtom, otype='phrase')\n",
    "                           if F.function.v(p) in predicateFunctions)\n",
    "        verb = next(w for w in L.d(predicatePhrase, otype='word') if F.pdp.v(w) == 'verb')\n",
    "        if F.gn.v(verb) == 'f':\n",
    "            print(data['reference'])\n",
    "            print(data['Clause'])"
   ]
  },
  {
   "cell_type": "markdown",
   "metadata": {},
   "source": [
    "## Use of שכב with Various Prepositions in Reference to Sexual Intercourse"
   ]
  },
  {
   "cell_type": "code",
   "execution_count": 52,
   "metadata": {
    "collapsed": false
   },
   "outputs": [
    {
     "name": "stdout",
     "output_type": "stream",
     "text": [
      "שכב used with reference to sexual intercourse 47 times.\n",
      "20 the verb with sexual intercourse appears alongside את\n",
      "26 the verb with sexual intercourse appears alongside עמ\n"
     ]
    }
   ],
   "source": [
    "sexCount = 0\n",
    "etCount = 0\n",
    "omCount = 0\n",
    "\n",
    "for clauseAtom, data in CKBdata.items():\n",
    "    if data['Category'] == 'sex' or data['Category2'] == 'sex':\n",
    "        sexCount += 1\n",
    "    \n",
    "    if data['preposition'] == 'עמ' and data['Category'] == 'sex' \\\n",
    "    or data['preposition2'] == 'עמ' and data['Category2'] == 'sex':\n",
    "        omCount += 1\n",
    "        \n",
    "    \n",
    "    if data['preposition'] == 'את' and data['Category'] == 'sex' \\\n",
    "    or data['preposition2'] == 'את' and data['Category2'] == 'sex':\n",
    "        etCount += 1\n",
    "    \n",
    "print(f'שכב used with reference to sexual intercourse {sexCount} times.')\n",
    "print(f'{etCount} the verb with sexual intercourse appears alongside את')\n",
    "print(f'{omCount} the verb with sexual intercourse appears alongside עמ')"
   ]
  },
  {
   "cell_type": "code",
   "execution_count": null,
   "metadata": {
    "collapsed": true
   },
   "outputs": [],
   "source": []
  }
 ],
 "metadata": {
  "kernelspec": {
   "display_name": "Python 3",
   "language": "python",
   "name": "python3"
  },
  "language_info": {
   "codemirror_mode": {
    "name": "ipython",
    "version": 3
   },
   "file_extension": ".py",
   "mimetype": "text/x-python",
   "name": "python",
   "nbconvert_exporter": "python",
   "pygments_lexer": "ipython3",
   "version": "3.6.0"
  }
 },
 "nbformat": 4,
 "nbformat_minor": 2
}
