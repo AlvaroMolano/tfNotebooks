{
 "cells": [
  {
   "cell_type": "markdown",
   "metadata": {},
   "source": [
    "# Words in the Psalms\n",
    "\n",
    "In this simple notebook we will get all the words in the Psalms and export them to csv.\n",
    "\n",
    "There will be 3 columns, with a row for each word:\n",
    "* utf8 word\n",
    "* ascii transcription of word\n",
    "* english gloss of the lexeme"
   ]
  },
  {
   "cell_type": "code",
   "execution_count": 1,
   "metadata": {},
   "outputs": [
    {
     "name": "stdout",
     "output_type": "stream",
     "text": [
      "This is Text-Fabric 2.3.7\n",
      "Api reference : https://github.com/ETCBC/text-fabric/wiki/Api\n",
      "Tutorial      : https://github.com/ETCBC/text-fabric/blob/master/docs/tutorial.ipynb\n",
      "Data sources  : https://github.com/ETCBC/text-fabric-data\n",
      "Data docs     : https://etcbc.github.io/text-fabric-data\n",
      "Shebanq docs  : https://shebanq.ancient-data.org/text\n",
      "Slack team    : https://shebanq.slack.com/signup\n",
      "Questions? Ask shebanq@ancient-data.org for an invite to Slack\n",
      "109 features found and 0 ignored\n",
      "  0.00s loading features ...\n",
      "   |     0.01s B book                 from /Users/Cody/github/text-fabric-data/hebrew/etcbc4c\n",
      "   |     0.00s B chapter              from /Users/Cody/github/text-fabric-data/hebrew/etcbc4c\n",
      "   |     0.01s B verse                from /Users/Cody/github/text-fabric-data/hebrew/etcbc4c\n",
      "   |     0.15s B g_cons               from /Users/Cody/github/text-fabric-data/hebrew/etcbc4c\n",
      "   |     0.19s B g_word_utf8          from /Users/Cody/github/text-fabric-data/hebrew/etcbc4c\n",
      "   |     0.00s B gloss                from /Users/Cody/github/text-fabric-data/hebrew/etcbc4c\n",
      "   |     0.00s Feature overview: 103 for nodes; 5 for edges; 1 configs; 7 computed\n",
      "  4.42s All features loaded/computed - for details use loadLog()\n"
     ]
    }
   ],
   "source": [
    "import csv\n",
    "\n",
    "# import text-fabric\n",
    "from tf.fabric import Fabric\n",
    "\n",
    "# get data processor\n",
    "TF = Fabric(modules='hebrew/etcbc4c')\n",
    "\n",
    "# load node features \n",
    "api = TF.load('''\n",
    "              book chapter verse\n",
    "              g_word_utf8 g_cons gloss\n",
    "              ''')\n",
    "\n",
    "# globalize TF methods\n",
    "api.makeAvailableIn(globals())"
   ]
  },
  {
   "cell_type": "code",
   "execution_count": 2,
   "metadata": {},
   "outputs": [
    {
     "name": "stdout",
     "output_type": "stream",
     "text": [
      "25371 words loaded from the Psalms...\n"
     ]
    }
   ],
   "source": [
    "# get the Psalms book node number\n",
    "psalms = T.nodeFromSection(('Psalms',))\n",
    "\n",
    "# get all word nodes in the Psalms\n",
    "psalms_words = L.d(psalms, otype='word')\n",
    "\n",
    "print(f'{len(psalms_words)} words loaded from the Psalms...')"
   ]
  },
  {
   "cell_type": "code",
   "execution_count": 3,
   "metadata": {},
   "outputs": [],
   "source": [
    "# get the word data\n",
    "\n",
    "# list to hold rows\n",
    "word_rows = []\n",
    "\n",
    "# iterate, call features on words, and append to word_rows\n",
    "for word in psalms_words:\n",
    "    \n",
    "    # get lex object stored on word (for gloss)\n",
    "    lex = L.u(word, otype='lex')[0] # returns tuple with 1 item; get it with index\n",
    "    \n",
    "    # call features on the word nodes\n",
    "    utf = F.g_word_utf8.v(word)\n",
    "    transliterated = F.g_cons.v(word)\n",
    "    gloss = F.gloss.v(lex) # with lex object\n",
    "    \n",
    "    # gather into tuple\n",
    "    word_data = (utf, transliterated, gloss)\n",
    "    \n",
    "    # append to rows list\n",
    "    word_rows.append(word_data)"
   ]
  },
  {
   "cell_type": "code",
   "execution_count": 4,
   "metadata": {},
   "outputs": [
    {
     "name": "stdout",
     "output_type": "stream",
     "text": [
      "('אַ֥שְֽׁרֵי', '>CRJ', 'happiness')\n",
      "\n",
      "('הָ', 'H', 'the')\n"
     ]
    }
   ],
   "source": [
    "# example 1\n",
    "print(word_rows[0])\n",
    "\n",
    "print()\n",
    "\n",
    "# example 2\n",
    "print(word_rows[1])"
   ]
  },
  {
   "cell_type": "code",
   "execution_count": 5,
   "metadata": {},
   "outputs": [],
   "source": [
    "# export to csv\n",
    "\n",
    "# header\n",
    "header = ('utf8', 'transcription', 'gloss')\n",
    "\n",
    "with open('psalms_words.csv', 'w') as file:\n",
    "    \n",
    "    writer = csv.writer(file)\n",
    "    \n",
    "    writer.writerow(header)\n",
    "    writer.writerows(word_rows)"
   ]
  }
 ],
 "metadata": {
  "kernelspec": {
   "display_name": "Python 3",
   "language": "python",
   "name": "python3"
  },
  "language_info": {
   "codemirror_mode": {
    "name": "ipython",
    "version": 3
   },
   "file_extension": ".py",
   "mimetype": "text/x-python",
   "name": "python",
   "nbconvert_exporter": "python",
   "pygments_lexer": "ipython3",
   "version": "3.6.0"
  }
 },
 "nbformat": 4,
 "nbformat_minor": 2
}
