{
 "cells": [
  {
   "cell_type": "code",
   "execution_count": 13,
   "metadata": {},
   "outputs": [],
   "source": [
    "import collections\n",
    "from tf.fabric import Fabric\n",
    "from pprint import pprint"
   ]
  },
  {
   "cell_type": "code",
   "execution_count": 3,
   "metadata": {
    "collapsed": true
   },
   "outputs": [],
   "source": [
    "TF = Fabric(modules='hebrew/etcbc4c', silent=True)"
   ]
  },
  {
   "cell_type": "code",
   "execution_count": 15,
   "metadata": {},
   "outputs": [
    {
     "name": "stdout",
     "output_type": "stream",
     "text": [
      "  0.00s loading features ...\n",
      "   |     0.00s B freq_lex             from /Users/Cody/github/text-fabric-data/hebrew/etcbc4c\n",
      "   |     0.00s Feature overview: 103 for nodes; 5 for edges; 1 configs; 7 computed\n",
      "  0.02s All features loaded/computed - for details use loadLog()\n"
     ]
    }
   ],
   "source": [
    "api = TF.load('''\n",
    "                book chapter verse\n",
    "                lex pdp freq_lex\n",
    "              ''')\n",
    "\n",
    "api.makeAvailableIn(globals())"
   ]
  },
  {
   "cell_type": "code",
   "execution_count": 108,
   "metadata": {},
   "outputs": [
    {
     "name": "stdout",
     "output_type": "stream",
     "text": [
      "19 chapters contain lexical matches with Psalms 1\n"
     ]
    }
   ],
   "source": [
    "good_pdp = {'verb', 'subs'}\n",
    "\n",
    "psalms_ch = T.nodeFromSection(('Psalms', 1))\n",
    "\n",
    "psalms_ch_lexemes = set(F.lex.v(word) for word in L.d(psalms_ch, otype='word')\n",
    "                          if F.pdp.v(word) in good_pdp\n",
    "                          and F.freq_lex.v(L.u(word, otype='lex')[0]) < 30)\n",
    "\n",
    "matches = []\n",
    "\n",
    "psalms = T.nodeFromSection(('Psalms',))\n",
    "\n",
    "# do an exploratory check for matches\n",
    "for chapter in L.d(psalms, otype='chapter'):\n",
    "    \n",
    "    # avoid matching chapter to itself\n",
    "    if chapter == psalms_ch:\n",
    "        continue\n",
    "    \n",
    "    lexemes = set(F.lex.v(word) for word in L.d(chapter, otype='word')\n",
    "                     if F.pdp.v(word) in good_pdp)\n",
    "    \n",
    "    if lexemes & psalms_ch_lexemes:\n",
    "        matches.append((T.sectionFromNode(chapter), lexemes&psalms_ch_lexemes))\n",
    "        \n",
    "print(f'{len(matches)} chapters contain lexical matches with Psalms {F.chapter.v(psalms_ch)}')"
   ]
  },
  {
   "cell_type": "code",
   "execution_count": 109,
   "metadata": {
    "scrolled": false
   },
   "outputs": [
    {
     "name": "stdout",
     "output_type": "stream",
     "text": [
      "[(('Psalms', 2, 1), {'HGH['}),\n",
      " (('Psalms', 18, 1), {'NBL['}),\n",
      " (('Psalms', 25, 1), {'XV>=/'}),\n",
      " (('Psalms', 26, 1), {'XV>=/'}),\n",
      " (('Psalms', 35, 1), {'MY/', 'HGH['}),\n",
      " (('Psalms', 37, 1), {'NBL[', 'HGH['}),\n",
      " (('Psalms', 38, 1), {'HGH['}),\n",
      " (('Psalms', 46, 1), {'PLG/'}),\n",
      " (('Psalms', 51, 1), {'XV>=/'}),\n",
      " (('Psalms', 63, 1), {'HGH['}),\n",
      " (('Psalms', 65, 1), {'PLG/'}),\n",
      " (('Psalms', 68, 1), {'NDP['}),\n",
      " (('Psalms', 71, 1), {'HGH['}),\n",
      " (('Psalms', 77, 1), {'HGH['}),\n",
      " (('Psalms', 92, 1), {'CTL['}),\n",
      " (('Psalms', 104, 1), {'XV>=/'}),\n",
      " (('Psalms', 115, 1), {'HGH['}),\n",
      " (('Psalms', 119, 1), {'PLG/'}),\n",
      " (('Psalms', 143, 1), {'HGH['})]\n"
     ]
    }
   ],
   "source": [
    "pprint(matches)"
   ]
  }
 ],
 "metadata": {
  "kernelspec": {
   "display_name": "Python 3",
   "language": "python",
   "name": "python3"
  },
  "language_info": {
   "codemirror_mode": {
    "name": "ipython",
    "version": 3
   },
   "file_extension": ".py",
   "mimetype": "text/x-python",
   "name": "python",
   "nbconvert_exporter": "python",
   "pygments_lexer": "ipython3",
   "version": "3.6.0"
  }
 },
 "nbformat": 4,
 "nbformat_minor": 2
}
