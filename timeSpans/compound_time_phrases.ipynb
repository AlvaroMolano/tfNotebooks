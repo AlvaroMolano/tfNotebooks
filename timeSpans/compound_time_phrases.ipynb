{
 "cells": [
  {
   "cell_type": "code",
   "execution_count": 3,
   "metadata": {
    "collapsed": false
   },
   "outputs": [
    {
     "name": "stdout",
     "output_type": "stream",
     "text": [
      "This is Text-Fabric 2.0.0\n",
      "Api reference : https://github.com/ETCBC/text-fabric/wiki/Api\n",
      "Tutorial      : https://github.com/ETCBC/text-fabric/blob/master/docs/tutorial.ipynb\n",
      "Data sources  : https://github.com/ETCBC/text-fabric-data\n",
      "Data docs     : https://etcbc.github.io/text-fabric-data/features/hebrew/etcbc4c/0_overview.html\n",
      "Shebanq docs  : https://shebanq.ancient-data.org/text\n",
      "Slack team    : https://shebanq.slack.com/signup\n",
      "Questions? Ask shebanq@ancient-data.org for an invite to Slack\n",
      "106 features found and 0 ignored\n",
      "\n",
      "  0.00s loading features ...\n",
      "   |     0.00s Feature overview: 101 nodes; 4 edges; 1 configs; 6 computeds\n",
      "  6.43s All features loaded/computed - for details use loadLog()\n"
     ]
    }
   ],
   "source": [
    "from tf.fabric import Fabric\n",
    "TF = Fabric(modules='Hebrew/etcbc4c')\n",
    "print()\n",
    "api = TF.load('')\n",
    "api.makeAvailableIn(globals())"
   ]
  },
  {
   "cell_type": "code",
   "execution_count": 55,
   "metadata": {
    "collapsed": true
   },
   "outputs": [],
   "source": [
    "query = \"\"\"\n",
    "book book=Psalmi\n",
    "  chapter\n",
    "    verse\n",
    "      clause\n",
    "        phrase function=Time\n",
    "          w1:word pdp=prep\n",
    "          w2:word pdp=subs\n",
    "          w3:word pdp=conj\n",
    "          w4:word pdp=subs\n",
    "          w1 < w2\n",
    "          w2 < w3\n",
    "          w3 < w4\n",
    "\"\"\""
   ]
  },
  {
   "cell_type": "code",
   "execution_count": 56,
   "metadata": {
    "collapsed": false
   },
   "outputs": [
    {
     "name": "stdout",
     "output_type": "stream",
     "text": [
      "  0.00s Checking search template ...\n",
      "  0.00s Setting up search space for 9 objects ...\n",
      "  2.24s Constraining search space with 11 relations ...\n",
      "  2.70s Setting up retrieval plan ...\n",
      "  2.71s Ready to deliver results from 125565 nodes\n",
      "Iterate over S.fetch() to get the results\n",
      "See S.showPlan() to interpret the results\n"
     ]
    }
   ],
   "source": [
    "S.study(query)"
   ]
  },
  {
   "cell_type": "code",
   "execution_count": 57,
   "metadata": {
    "collapsed": false
   },
   "outputs": [
    {
     "name": "stdout",
     "output_type": "stream",
     "text": [
      "  4.65s The results are connected to the original search template as follows:\n",
      " 0     \n",
      " 1 R0  book book=Psalmi\n",
      " 2 R1    chapter\n",
      " 3 R2      verse\n",
      " 4 R3        clause\n",
      " 5 R4          phrase function=Time\n",
      " 6 R5            w1:word pdp=prep\n",
      " 7 R6            w2:word pdp=subs\n",
      " 8 R7            w3:word pdp=conj\n",
      " 9 R8            w4:word pdp=subs\n",
      "10               w1 < w2\n",
      "11               w2 < w3\n",
      "12               w3 < w4\n",
      "13     \n"
     ]
    }
   ],
   "source": [
    "S.showPlan()"
   ]
  },
  {
   "cell_type": "code",
   "execution_count": 58,
   "metadata": {
    "collapsed": false
   },
   "outputs": [
    {
     "name": "stdout",
     "output_type": "stream",
     "text": [
      "  0.00s Counting results per 100 up to  the end of the results ...\n",
      "  0.01s Done: 19 results\n"
     ]
    }
   ],
   "source": [
    "S.count(progress=100, limit=-1)"
   ]
  },
  {
   "cell_type": "code",
   "execution_count": 59,
   "metadata": {
    "collapsed": false
   },
   "outputs": [
    {
     "name": "stdout",
     "output_type": "stream",
     "text": [
      "  Psalms 85:6 clause[תִּמְשֹׁ֥ךְ אַ֝פְּךָ֗ לְדֹ֣ר וָ...] phrase[לְדֹ֣ר וָדֹֽר׃ ]    \n",
      "  Psalms 119:44 clause[וְאֶשְׁמְרָ֖ה תֹורָתְךָ֥ תָמִ֗יד לְ...] phrase[לְעֹולָ֥ם וָעֶֽד׃ ]    \n",
      "  Psalms 89:5 clause[וּבָנִ֨יתִי לְדֹר־וָ...] phrase[לְדֹר־וָדֹ֖ור ]    \n",
      "  Psalms 89:2 clause[לְדֹ֥ר וָדֹ֓ר׀ אֹודִ֖יעַ ...] phrase[לְדֹ֥ר וָדֹ֓ר׀ ]    \n",
      "  Psalms 90:1 clause[מָעֹ֣ון אַ֭תָּה הָיִ֥יתָ לָּ֗נוּ בְּ...] phrase[בְּדֹ֣ר וָדֹֽר׃ ]    \n",
      "  Psalms 33:11 clause[מַחְשְׁבֹ֥ות לִ֝בֹּ֗ו לְדֹ֣ר וָ...] phrase[לְדֹ֣ר וָדֹֽר׃ ]    \n",
      "  Psalms 113:6 clause[לִרְאֹ֑ות בַּשָּׁמַ֥יִם ...] phrase[בַּשָּׁמַ֥יִם וּבָ...]    \n",
      "  Psalms 9:6 clause[שְׁמָ֥ם מָ֝חִ֗יתָ לְעֹולָ֥ם וָ...] phrase[לְעֹולָ֥ם וָעֶֽד׃ ]    \n",
      "  Psalms 106:31 clause[וַתֵּחָ֣שֶׁב לֹ֭ו לִצְדָקָ֑ה ...] phrase[לְדֹ֥ר וָ֝דֹ֗ר עַד־...]    \n",
      "  Psalms 106:31 clause[וַתֵּחָ֣שֶׁב לֹ֭ו לִצְדָקָ֑ה ...] phrase[לְדֹ֥ר וָ֝דֹ֗ר עַד־...]    \n",
      "  Psalms 106:48 clause[בָּר֤וּךְ־יְהוָ֨ה אֱלֹהֵ֪י יִשְׂרָאֵ֡ל מִן־...] phrase[מִן־הָ֤עֹולָ֨ם׀ וְעַ֬ד ...]    \n",
      "  Psalms 10:6 clause[בַּל־אֶמֹּ֑וט לְדֹ֥ר וָ֝...] phrase[לְדֹ֥ר וָ֝דֹ֗ר ]    \n",
      "  Psalms 41:14 clause[בָּ֘ר֤וּךְ יְהוָ֨ה׀ אֱלֹ֘הֵ֤י יִשְׂרָאֵ֗ל מֵֽ֭...] phrase[מֵֽ֭הָעֹולָם וְעַ֥ד ...]    \n",
      "  Psalms 45:18 clause[עַל־כֵּ֥ן עַמִּ֥ים יְ֝הֹודֻ֗ךָ לְ...] phrase[לְעֹלָ֥ם וָעֶֽד׃ ]    \n",
      "  Psalms 79:13 clause[וַאֲנַ֤חְנוּ עַמְּךָ֨׀ וְצֹ֥אן ...] phrase[לְדֹ֥ר וָדֹ֑ר ]    \n",
      "  Psalms 145:21 clause[וִיבָרֵ֣ךְ כָּל־בָּ֭שָׂר שֵׁ֥ם ...] phrase[לְעֹולָ֥ם וָעֶֽד׃ ]    \n",
      "  Psalms 145:1 clause[וַאֲבָרֲכָ֥ה שִׁ֝מְךָ֗ לְעֹולָ֥ם ...] phrase[לְעֹולָ֥ם וָעֶֽד׃ ]    \n",
      "  Psalms 145:2 clause[וַאֲהַלְלָ֥ה שִׁ֝מְךָ֗ לְעֹולָ֥ם ...] phrase[לְעֹולָ֥ם וָעֶֽד׃ ]    \n",
      "  Psalms 77:9 clause[גָּ֥מַר אֹ֝֗מֶר לְדֹ֣ר וָ...] phrase[לְדֹ֣ר וָדֹֽר׃ ]    \n"
     ]
    }
   ],
   "source": [
    "for result in S.fetch(amount=100):\n",
    "    print(S.glean(result))"
   ]
  },
  {
   "cell_type": "code",
   "execution_count": null,
   "metadata": {
    "collapsed": true
   },
   "outputs": [],
   "source": []
  }
 ],
 "metadata": {
  "anaconda-cloud": {},
  "kernelspec": {
   "display_name": "Python [conda root]",
   "language": "python",
   "name": "conda-root-py"
  },
  "language_info": {
   "codemirror_mode": {
    "name": "ipython",
    "version": 3
   },
   "file_extension": ".py",
   "mimetype": "text/x-python",
   "name": "python",
   "nbconvert_exporter": "python",
   "pygments_lexer": "ipython3",
   "version": "3.5.2"
  }
 },
 "nbformat": 4,
 "nbformat_minor": 1
}
