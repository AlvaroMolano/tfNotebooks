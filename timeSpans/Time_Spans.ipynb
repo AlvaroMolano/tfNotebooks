{
 "cells": [
  {
   "cell_type": "markdown",
   "metadata": {},
   "source": [
    "<div style=\"text-align:center; font-size: 120%\">\n",
    "<h1>Time Spans</h1>\n",
    "\n",
    "<table>\n",
    "<tr>\n",
    "<td>\n",
    "<img src=\"https://camo.githubusercontent.com/b6d477b661f86325a7701d8102ceb4d7ff51e29a/68747470733a2f2f7261772e6769746875622e636f6d2f45544342432f746578742d6661627269632f6d61737465722f646f63732f74662e706e67\" \n",
    "style=\"width:250px; height:150px;\"\n",
    ">\n",
    "</td>\n",
    "<td>\n",
    "<img src=\"https://camo.githubusercontent.com/f5e0eae3d290577fe2e5722031f7306a9817e8cd/68747470733a2f2f7261772e6769746875622e636f6d2f45544342432f6c61662d6661627269632d6e62732f6d61737465722f696d616765732f56552d45544342432d736d616c6c2e706e67\"\n",
    "style=\"width:315px; height:150;\"\n",
    ">\n",
    "</td>\n",
    "</tr>\n",
    "</table>\n",
    "<p style='clear:both'>In this project, we use the [Text-Fabric](https://github.com/ETCBC/text-fabric) Python package combined with the Biblical Hebrew data from the [Eep Talstra Centre for Bible and Computer](http://www.wi.th.vu.nl) to create an advanced visualization of the use of time phrases in Biblical Hebrew.</span>\n",
    "</p>\n",
    "</div>"
   ]
  },
  {
   "cell_type": "code",
   "execution_count": 76,
   "metadata": {
    "collapsed": true
   },
   "outputs": [],
   "source": [
    "import collections as collect\n",
    "from IPython.display import display, HTML\n",
    "import os, glob"
   ]
  },
  {
   "cell_type": "markdown",
   "metadata": {},
   "source": [
    "## Load Text-Fabric Data\n",
    "\n",
    "**<span style=\"color:red\">Before moving on to this step,</span>** <br>\n",
    "please run [Text_Fabric_Tutorial.ipynb]() to set up the package and data on your system.<br>\n",
    "The api information contained in it is also crucial for understanding the code in this notebook."
   ]
  },
  {
   "cell_type": "code",
   "execution_count": 116,
   "metadata": {
    "collapsed": false
   },
   "outputs": [
    {
     "name": "stdout",
     "output_type": "stream",
     "text": [
      "This is Text-Fabric 2.3.0\n",
      "Api reference : https://github.com/ETCBC/text-fabric/wiki/Api\n",
      "Tutorial      : https://github.com/ETCBC/text-fabric/blob/master/docs/tutorial.ipynb\n",
      "Data sources  : https://github.com/ETCBC/text-fabric-data\n",
      "Data docs     : https://etcbc.github.io/text-fabric-data\n",
      "Shebanq docs  : https://shebanq.ancient-data.org/text\n",
      "Slack team    : https://shebanq.slack.com/signup\n",
      "Questions? Ask shebanq@ancient-data.org for an invite to Slack\n",
      "108 features found and 0 ignored\n"
     ]
    }
   ],
   "source": [
    "from tf.fabric import Fabric\n",
    "\n",
    "TF_data_dir = '/Users/Cody/Desktop/text-fabric-data/' # specify your TF data directory\n",
    "\n",
    "text_fabric = Fabric(locations=TF_data_dir,      # instantiate processor\n",
    "                     modules='Hebrew/etcbc4c')   # module path in TF data dir"
   ]
  },
  {
   "cell_type": "code",
   "execution_count": 117,
   "metadata": {
    "collapsed": false
   },
   "outputs": [
    {
     "name": "stdout",
     "output_type": "stream",
     "text": [
      "  0.00s loading features ...\n",
      "   |     0.01s B book                 from /Users/Cody/Desktop/text-fabric-data//Hebrew/etcbc4c\n",
      "   |     0.00s B chapter              from /Users/Cody/Desktop/text-fabric-data//Hebrew/etcbc4c\n",
      "   |     0.01s B verse                from /Users/Cody/Desktop/text-fabric-data//Hebrew/etcbc4c\n",
      "   |     0.19s B g_word_utf8          from /Users/Cody/Desktop/text-fabric-data//Hebrew/etcbc4c\n",
      "   |     0.19s B lex_utf8             from /Users/Cody/Desktop/text-fabric-data//Hebrew/etcbc4c\n",
      "   |     0.08s B function             from /Users/Cody/Desktop/text-fabric-data//Hebrew/etcbc4c\n",
      "   |     0.15s B pdp                  from /Users/Cody/Desktop/text-fabric-data//Hebrew/etcbc4c\n",
      "   |     0.13s B vt                   from /Users/Cody/Desktop/text-fabric-data//Hebrew/etcbc4c\n",
      "   |     0.14s B lex                  from /Users/Cody/Desktop/text-fabric-data//Hebrew/etcbc4c\n",
      "   |     0.39s B mother               from /Users/Cody/Desktop/text-fabric-data//Hebrew/etcbc4c\n",
      "   |     0.02s B tab                  from /Users/Cody/Desktop/text-fabric-data//Hebrew/etcbc4c\n",
      "   |     0.00s Feature overview: 102 nodes; 5 edges; 1 configs; 7 computeds\n",
      "  6.71s All features loaded/computed - for details use loadLog()\n"
     ]
    }
   ],
   "source": [
    "# load the features\n",
    "tf = text_fabric.load('''\n",
    "                      book chapter verse \n",
    "                      function pdp vt\n",
    "                      lex lex_utf8 g_word_utf8\n",
    "                      mother tab\n",
    "                    ''')"
   ]
  },
  {
   "cell_type": "code",
   "execution_count": 119,
   "metadata": {
    "collapsed": true
   },
   "outputs": [],
   "source": [
    "# globalize the TF objects:\n",
    "# cf. explanation in Text_Fabric_Tutorial.ipynb\n",
    "\n",
    "tf.makeAvailableIn(globals()) "
   ]
  },
  {
   "cell_type": "markdown",
   "metadata": {},
   "source": [
    "Linguistic data is also available:"
   ]
  },
  {
   "cell_type": "code",
   "execution_count": null,
   "metadata": {
    "collapsed": true
   },
   "outputs": [],
   "source": [
    "def GetLabel(clause_node):\n",
    "    '''\n",
    "    convert a Text-Fabric node number into a label\n",
    "    return a label of the format: book.chapter.verse.clause\n",
    "    '''\n",
    "    book_node = L.u(clause_node, otype='book')[0]\n",
    "    chapter_node = L.u(clause_node, otype='chapter')[0]\n",
    "    verse_node = L.u(clause_node, otype='verse')[0]\n",
    "    verse_clauses = L.d(verse_node, otype='clause_atom')\n",
    "    clause_num = verse_clauses.index(clause_node) + 1\n",
    "    clause_label = '{}.{}.{}.{}'.format(F.book.v(book_node), \n",
    "                                        F.chapter.v(chapter_node), \n",
    "                                        F.verse.v(verse_node), \n",
    "                                        clause_num)\n",
    "    return clause_label\n",
    "    "
   ]
  },
  {
   "cell_type": "code",
   "execution_count": 17,
   "metadata": {
    "collapsed": false
   },
   "outputs": [],
   "source": [
    "def mapMotherToDaugher(clause_nodes):\n",
    "     '''map each mother clause to its daughter clauses\n",
    "        in Text-Fabric that information is stored the other way around\n",
    "        so we build up that data with a defaultdict with a list value'''\n",
    "    motherToDaughters = collect.defaultdict(list)\n",
    "    for clause in clauseNodes:\n",
    "        if F.tab.v(clause) == 0: # do not store parallel daughter clauses\n",
    "            continue\n",
    "        daughter = getLabel(clause)\n",
    "        for mother in E.mother.f(clause):\n",
    "            motherToDaughters[mother].append(daughter)\n",
    "    \n",
    "    \n",
    "def getEtcbcData(corpus):\n",
    "    '''\n",
    "    Gather the needed data from the Text-Fabric module;\n",
    "    label clauses with a simple reference tag (ex. Psalms.1.1.1)\n",
    "    return an embedded dictionary keyed by data labels...;\n",
    "    '''\n",
    "    # the corpus argument is a string; \n",
    "    # find the node number with a feature value that matches the corpus string\n",
    "    # there will be only 1 result, so we use 'next' to pull the first result from the generator \n",
    "    corpus = next(book for book in F.otype.s('book') if F.book.v(book) == corpus)\n",
    "    \n",
    "    # now we pull all the clause node numbers from the corpus:\n",
    "    clauseNodes = L.d(corpus, otype='clause_atom')\n",
    "    \n",
    "    # we will store all of the clause data in this dict:\n",
    "    clauses = collect.OrderedDict()\n",
    "    \n",
    "    # iterate over the clause node numbers and gather the data to be returned\n",
    "    # the data is stored in the clauses ordered dictionary\n",
    "    for clause in clauseNodes:\n",
    "        clauseLabel = getLabel(clause)\n",
    "        wordNodes = L.d(clause, otype='word')\n",
    "        text = T.text(wordNodes)\n",
    "        indentation = F.tab.v(clause)\n",
    "        phraseNodes = L.d(clause, otype='phrase')\n",
    "        timePhrases = tuple(phrase for phrase in phraseNodes if F.function.v(phrase) == 'Time')\n",
    "        timePhraseText = tuple(T.text(L.d(phrase, otype='word')) for phrase in timePhrases)\n",
    "        daughters = motherToDaughters.get(clause, [])\n",
    "        mother = getLabel(E.mother.f(clause)[0]) if E.mother.f(clause) else None\n",
    "        clauses[clauseLabel] = {\n",
    "                                'text': text,\n",
    "                                'timePhraseText': timePhraseText,\n",
    "                                'daughters': daughters,\n",
    "                                'mother': mother,\n",
    "                                'timeCategories':[],\n",
    "                                'indentation':indentation,\n",
    "                                'etcbcClauseNode': clause #!! REMOVE LATER\n",
    "                                }\n",
    "    return clauses"
   ]
  },
  {
   "cell_type": "markdown",
   "metadata": {},
   "source": [
    "## Process Time Spans"
   ]
  },
  {
   "cell_type": "code",
   "execution_count": 5,
   "metadata": {
    "collapsed": false
   },
   "outputs": [],
   "source": [
    "def climbClauseTree(clause, clauseDict, span, coverage):\n",
    "    '''\n",
    "    recursively climb the clause tree and build the time spans\n",
    "    if a time marker occurs inside the tree, break the span \n",
    "    span is a list that accrues as the code descends the tree\n",
    "    coverage is a set that tracks which clauses are accounted for\n",
    "    '''    \n",
    "    for daughter in clauseDict[clause]['daughters']:\n",
    "        timeMarkers = clauseDict[daughter]['timePhraseText']\n",
    "        if timeMarkers:\n",
    "            continue\n",
    "        else:\n",
    "            span.append(daughter)\n",
    "            coverage.add(daughter)\n",
    "            climbClauseTree(daughter, clauseDict, span, coverage)\n",
    "\n",
    "def buildTimeSpans(clauseDict):\n",
    "    '''\n",
    "    loop through all clauses and call the climbClauseTree function\n",
    "    each timespan is stored in timeSpans dict, keyed by its first clause\n",
    "    coverage tracks which clauses are accounted for to avoid overlap\n",
    "    '''\n",
    "    timeSpans = collect.OrderedDict()\n",
    "    coverage = set()\n",
    "    for clause, cData in clauseDict.items():\n",
    "        if clause not in coverage and cData['timePhraseText']:\n",
    "            span = []\n",
    "            span.append(clause)\n",
    "            climbClauseTree(clause, clauseDict, span, coverage)\n",
    "            timeSpans[clause] = span\n",
    "    return timeSpans"
   ]
  },
  {
   "cell_type": "markdown",
   "metadata": {},
   "source": [
    "## Write HTML Visualization"
   ]
  },
  {
   "cell_type": "code",
   "execution_count": 6,
   "metadata": {
    "collapsed": false
   },
   "outputs": [],
   "source": [
    "from HTMLWriter import writeHTML\n",
    "\n",
    "corpus = 'Genesis'\n",
    "test = getEtcbcData(corpus)"
   ]
  },
  {
   "cell_type": "code",
   "execution_count": 7,
   "metadata": {
    "collapsed": false
   },
   "outputs": [],
   "source": [
    "spans = buildTimeSpans(test)"
   ]
  },
  {
   "cell_type": "code",
   "execution_count": 8,
   "metadata": {
    "collapsed": false
   },
   "outputs": [],
   "source": [
    "title = 'Time Spans in {corpus}'.format(corpus=corpus)\n",
    "\n",
    "timeSpanDoc = writeHTML(test, spans, title)\n",
    "with open('test.html', 'w') as file:\n",
    "    file.write(timeSpanDoc)"
   ]
  },
  {
   "cell_type": "code",
   "execution_count": 10,
   "metadata": {
    "collapsed": false
   },
   "outputs": [],
   "source": [
    "class test:\n",
    "    def __init__(self, string):\n",
    "        self.string = string"
   ]
  },
  {
   "cell_type": "code",
   "execution_count": 13,
   "metadata": {
    "collapsed": false
   },
   "outputs": [],
   "source": [
    "frog = test('ribbit')"
   ]
  },
  {
   "cell_type": "code",
   "execution_count": 15,
   "metadata": {
    "collapsed": false
   },
   "outputs": [
    {
     "data": {
      "text/plain": [
       "'ribbit'"
      ]
     },
     "execution_count": 15,
     "metadata": {},
     "output_type": "execute_result"
    }
   ],
   "source": [
    "frog.string"
   ]
  },
  {
   "cell_type": "code",
   "execution_count": 18,
   "metadata": {
    "collapsed": true
   },
   "outputs": [],
   "source": [
    "bok = next(b for b in F.otype.s('book'))"
   ]
  },
  {
   "cell_type": "code",
   "execution_count": 20,
   "metadata": {
    "collapsed": false
   },
   "outputs": [
    {
     "data": {
      "text/plain": [
       "()"
      ]
     },
     "execution_count": 20,
     "metadata": {},
     "output_type": "execute_result"
    }
   ],
   "source": [
    "L.u(bok, otype='book')"
   ]
  },
  {
   "cell_type": "code",
   "execution_count": null,
   "metadata": {
    "collapsed": true
   },
   "outputs": [],
   "source": []
  }
 ],
 "metadata": {
  "kernelspec": {
   "display_name": "Python 3",
   "language": "python",
   "name": "python3"
  },
  "language_info": {
   "codemirror_mode": {
    "name": "ipython",
    "version": 3
   },
   "file_extension": ".py",
   "mimetype": "text/x-python",
   "name": "python",
   "nbconvert_exporter": "python",
   "pygments_lexer": "ipython3",
   "version": "3.6.0"
  }
 },
 "nbformat": 4,
 "nbformat_minor": 2
}
