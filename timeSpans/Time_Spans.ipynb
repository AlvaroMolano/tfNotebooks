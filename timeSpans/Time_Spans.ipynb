{
 "cells": [
  {
   "cell_type": "markdown",
   "metadata": {},
   "source": [
    "<div style=\"text-align:center; font-size: 120%\">\n",
    "<h1>Time Spans</h1>\n",
    "\n",
    "<table>\n",
    "<tr>\n",
    "<td>\n",
    "<img src=\"images/tf.png\" \n",
    "style=\"width:250px; height:150px;\"\n",
    ">\n",
    "</td>\n",
    "<td>\n",
    "<img src=\"images/vuEtcbc.png\"\n",
    "style=\"width:315px; height:150;\"\n",
    ">\n",
    "</td>\n",
    "</tr>\n",
    "</table>\n",
    "</div>"
   ]
  },
  {
   "cell_type": "markdown",
   "metadata": {},
   "source": [
    "In this project, we use the [Text-Fabric](https://github.com/ETCBC/text-fabric) Python package combined with the Biblical Hebrew data from the [Eep Talstra Centre for Bible and Computer](http://www.wi.th.vu.nl) to create an advanced visualization of the use of time phrases in Biblical Hebrew."
   ]
  },
  {
   "cell_type": "code",
   "execution_count": 1,
   "metadata": {
    "collapsed": true
   },
   "outputs": [],
   "source": [
    "from IPython.display import display, HTML\n",
    "import os, glob, collections"
   ]
  },
  {
   "cell_type": "markdown",
   "metadata": {},
   "source": [
    "## Load Text-Fabric Data\n",
    "\n",
    "**<span style=\"color:red\">Before moving on to this step,</span>** <br>\n",
    "please run [Text_Fabric_Tutorial.ipynb](Text_Fabric_Tutorial.ipynb) to set up the package and data on your system.<br>\n",
    "The api information contained in it is also crucial for understanding the code in this notebook."
   ]
  },
  {
   "cell_type": "code",
   "execution_count": 2,
   "metadata": {
    "collapsed": false
   },
   "outputs": [
    {
     "name": "stdout",
     "output_type": "stream",
     "text": [
      "This is Text-Fabric 2.3.0\n",
      "Api reference : https://github.com/ETCBC/text-fabric/wiki/Api\n",
      "Tutorial      : https://github.com/ETCBC/text-fabric/blob/master/docs/tutorial.ipynb\n",
      "Data sources  : https://github.com/ETCBC/text-fabric-data\n",
      "Data docs     : https://etcbc.github.io/text-fabric-data\n",
      "Shebanq docs  : https://shebanq.ancient-data.org/text\n",
      "Slack team    : https://shebanq.slack.com/signup\n",
      "Questions? Ask shebanq@ancient-data.org for an invite to Slack\n",
      "109 features found and 0 ignored\n"
     ]
    }
   ],
   "source": [
    "from tf.fabric import Fabric\n",
    "\n",
    "TF_data_dir = '/Users/Cody/github/text-fabric-data/' # specify your TF data directory\n",
    "\n",
    "text_fabric = Fabric(locations=TF_data_dir,      # instantiate processor\n",
    "                     modules='Hebrew/etcbc4c')   # module path in TF data dir"
   ]
  },
  {
   "cell_type": "code",
   "execution_count": 3,
   "metadata": {
    "collapsed": false
   },
   "outputs": [
    {
     "name": "stdout",
     "output_type": "stream",
     "text": [
      "  0.00s loading features ...\n",
      "   |     0.01s B book                 from /Users/Cody/github/text-fabric-data//Hebrew/etcbc4c\n",
      "   |     0.01s B chapter              from /Users/Cody/github/text-fabric-data//Hebrew/etcbc4c\n",
      "   |     0.01s B verse                from /Users/Cody/github/text-fabric-data//Hebrew/etcbc4c\n",
      "   |     0.21s B g_word_utf8          from /Users/Cody/github/text-fabric-data//Hebrew/etcbc4c\n",
      "   |     0.20s B lex_utf8             from /Users/Cody/github/text-fabric-data//Hebrew/etcbc4c\n",
      "   |     0.14s B function             from /Users/Cody/github/text-fabric-data//Hebrew/etcbc4c\n",
      "   |     0.14s B pdp                  from /Users/Cody/github/text-fabric-data//Hebrew/etcbc4c\n",
      "   |     0.12s B vt                   from /Users/Cody/github/text-fabric-data//Hebrew/etcbc4c\n",
      "   |     0.13s B lex                  from /Users/Cody/github/text-fabric-data//Hebrew/etcbc4c\n",
      "   |     0.20s B mother               from /Users/Cody/github/text-fabric-data//Hebrew/etcbc4c\n",
      "   |     0.03s B tab                  from /Users/Cody/github/text-fabric-data//Hebrew/etcbc4c\n",
      "   |     0.00s Feature overview: 103 nodes; 5 edges; 1 configs; 7 computeds\n",
      "  6.42s All features loaded/computed - for details use loadLog()\n"
     ]
    }
   ],
   "source": [
    "# load the features\n",
    "tf = text_fabric.load('''\n",
    "                      book chapter verse \n",
    "                      function pdp vt\n",
    "                      lex lex_utf8 g_word_utf8\n",
    "                      mother tab\n",
    "                    ''')"
   ]
  },
  {
   "cell_type": "code",
   "execution_count": 4,
   "metadata": {
    "collapsed": true
   },
   "outputs": [],
   "source": [
    "# globalize the TF objects:\n",
    "# cf. explanation in Text_Fabric_Tutorial.ipynb\n",
    "\n",
    "tf.makeAvailableIn(globals()) "
   ]
  },
  {
   "cell_type": "markdown",
   "metadata": {},
   "source": [
    "## Gather ETCBC Data\n",
    "\n",
    "**!! Add short API reference !!**\n",
    "\n",
    "**L.d/u returns a tuple of contained or containing objects (up/down)\n",
    "F.[feature].v(node) returns a string of the specified node feature\n",
    "see Text_Fabric_Tutorial.ipynb for api details**"
   ]
  },
  {
   "cell_type": "code",
   "execution_count": 5,
   "metadata": {
    "collapsed": false
   },
   "outputs": [],
   "source": [
    "def getCorpusClauses(corpus):\n",
    "    '''\n",
    "    Requires a corpus string.\n",
    "    Returns all the clause nodes for that corpus.\n",
    "    '''\n",
    "    corpus = next(book for book in F.otype.s('book') \n",
    "                  if F.book.v(book) == corpus)\n",
    "\n",
    "    corpus_clauses = L.d(corpus, otype='clause_atom') # all clauses in corpus\n",
    "    \n",
    "    return corpus_clauses"
   ]
  },
  {
   "cell_type": "code",
   "execution_count": 6,
   "metadata": {
    "collapsed": false
   },
   "outputs": [],
   "source": [
    "def mapDaughterToMother(corpus_clauses):\n",
    "    '''\n",
    "     In the ETCBC, mother/daughter clauses specify \n",
    "     discourse analysis categories between clauses.\n",
    "     Mother clauses give rise to daughter clauses based on\n",
    "     calculated similarities, conjunctions, etc.\n",
    "\n",
    "     In TF, these relations are only mapped from daughter to mother.\n",
    "     We need to reverse that mapping to build a complete clause tree.\n",
    "\n",
    "     We iterate through all clause nodes and \n",
    "     build the mapping into mother_daughters, a defaultdict.\n",
    "     Mother clause nodes serve as keys with list values;\n",
    "     in the list, the daughters are progressively appended.\n",
    "    '''\n",
    "\n",
    "    mother_daughters = collections.defaultdict(list)\n",
    "\n",
    "    for clause in corpus_clauses:\n",
    "        if F.tab.v(clause) == 0: # skip parallel clauses\n",
    "            continue\n",
    "\n",
    "        daughter_node = clause\n",
    "        for mother_node in E.mother.f(daughter_node): # edge feature; tuple\n",
    "            mother_daughters[mother_node].append(daughter_node)\n",
    "\n",
    "    return mother_daughters"
   ]
  },
  {
   "cell_type": "markdown",
   "metadata": {},
   "source": [
    "## Build Time Spans"
   ]
  },
  {
   "cell_type": "code",
   "execution_count": 7,
   "metadata": {
    "collapsed": true
   },
   "outputs": [],
   "source": [
    "def checkTime(clause_node):\n",
    "    '''\n",
    "    Check to see if a given clause has a time indicator.\n",
    "    Return True or False.\n",
    "    \n",
    "    The ETCBC stores time phrases as a phrase function feature.\n",
    "    However, other markers of time are not as obvious.\n",
    "    \n",
    "    This function also checks for less obvious markers.\n",
    "    '''\n",
    "    # ETCBC time-phrase functions\n",
    "    phrases = L.d(clause_node, otype='phrase') # phrases in clause\n",
    "    phrase_functions = set(F.function.v(phrase) for phrase in phrases) # phr functions\n",
    "    \n",
    "    # substantives with a time sense\n",
    "    # \"when\" preposition (ב + infinitive)\n",
    "    \n",
    "    if any(['Time' in phrase_functions]):\n",
    "        return True\n",
    "    else:\n",
    "        return False"
   ]
  },
  {
   "cell_type": "code",
   "execution_count": 21,
   "metadata": {
    "collapsed": false
   },
   "outputs": [],
   "source": [
    "def climbClauseTree(root_clause, mother_daughters, span, coverage):\n",
    "    '''\n",
    "    With mother/daughter clause relations, we have \n",
    "    something like a syntax tree, but on a text level.\n",
    "    This function takes a clause with an initial time phrase and\n",
    "    recursively iterates through its descendants to gather them.\n",
    "    \n",
    "    span is a list; coverage is a set.\n",
    "    \n",
    "    We add descendants to the span if they don't have \n",
    "    an intervening time indicator. They also go into\n",
    "    the coverage set, so that we don't double-cover \n",
    "    them in a later loop.\n",
    "    '''    \n",
    "    for daughter in mother_daughters[root_clause]:\n",
    "        \n",
    "        # skip if intervening time marker\n",
    "        if checkTime(daughter):\n",
    "            break\n",
    "\n",
    "        # add to span and coverage\n",
    "        span.append(daughter)\n",
    "        coverage.add(daughter)\n",
    "        \n",
    "        # move down the tree with recursive call\n",
    "        climbClauseTree(daughter, mother_daughters, span, coverage)"
   ]
  },
  {
   "cell_type": "code",
   "execution_count": 22,
   "metadata": {
    "collapsed": false
   },
   "outputs": [],
   "source": [
    "def buildTimeSpans(corpus_clauses):\n",
    "    '''\n",
    "    Gather the time spans by calling climbClauseTree while\n",
    "    looping over all clauses in the corpus.\n",
    "    \n",
    "    Return time spans as list with  !!! FIX !!!\n",
    "    root clause as key and span list as value \n",
    "    \n",
    "    Skip clauses already in the coverage set.\n",
    "    Save the time spans in an OrderedDict, keyed by the root clause node\n",
    "    '''\n",
    "    mother_daughters = mapDaughterToMother(corpus_clauses)\n",
    "    time_spans = list()\n",
    "    coverage = set()\n",
    "    \n",
    "    # add timeless spans here:\n",
    "    timeless_span = list() \n",
    "    \n",
    "    for clause in corpus_clauses:\n",
    "        \n",
    "        # build spans for clauses not yet visited that have time marker\n",
    "        if clause not in coverage and checkTime(clause):\n",
    "            \n",
    "            # save/reset timeless_span\n",
    "            if timeless_span:\n",
    "                time_spans.append({'time':False, 'clauses':timeless_span})\n",
    "                timeless_span = list()\n",
    "            \n",
    "            # calculate timespan\n",
    "            span = []\n",
    "            span.append(clause) # add root clause\n",
    "            climbClauseTree(clause, mother_daughters, span, coverage) # build the rest\n",
    "            time_spans.append({'time':True, 'clauses':span})\n",
    "            \n",
    "        elif clause not in coverage and not checkTime(clause):\n",
    "            # add to timeless span\n",
    "            timeless_span.append(clause)\n",
    "            \n",
    "    return time_spans"
   ]
  },
  {
   "cell_type": "code",
   "execution_count": 23,
   "metadata": {
    "collapsed": false
   },
   "outputs": [],
   "source": [
    "corpus = 'Genesis'\n",
    "corpus_clauses = getCorpusClauses(corpus)\n",
    "time_spans = buildTimeSpans(corpus_clauses)"
   ]
  },
  {
   "cell_type": "markdown",
   "metadata": {},
   "source": [
    "## Create HTML Visualization"
   ]
  },
  {
   "cell_type": "code",
   "execution_count": 24,
   "metadata": {
    "collapsed": true
   },
   "outputs": [],
   "source": [
    "def getClauseLabel(clause_node):\n",
    "    '''\n",
    "    Convert a Text-Fabric node integer into a clean label.\n",
    "    return a label: \"book.chapter.verse.NthClause\"\n",
    "    '''\n",
    "    # find book, chapter, verse nodes containing given clause\n",
    "    book_node = L.u(clause_node, otype='book')[0]   \n",
    "    chapter_node = L.u(clause_node, otype='chapter')[0] \n",
    "    verse_node = L.u(clause_node, otype='verse')[0]  \n",
    "    \n",
    "    # convert section nodes to their string representations\n",
    "    book = F.book.v(book_node)\n",
    "    chapter = F.chapter.v(chapter_node)\n",
    "    verse = F.verse.v(verse_node)\n",
    "    \n",
    "    # find which clause number this clause node is\n",
    "    verse_clauses = L.d(verse_node, otype='clause_atom') # all verse's clauses\n",
    "    clause_num = verse_clauses.index(clause_node) + 1    # N'th clause; +1 for aesthetics\n",
    "    \n",
    "    # format into label and return string\n",
    "    clause_label = '{book}.{chap}.{ver}.{clause}'.format(book=book,\n",
    "                                                         chap=chapter,\n",
    "                                                         ver=verse,\n",
    "                                                         clause=clause_num)\n",
    "    return clause_label"
   ]
  },
  {
   "cell_type": "code",
   "execution_count": 27,
   "metadata": {
    "collapsed": false
   },
   "outputs": [],
   "source": [
    "import itertools\n",
    "\n",
    "def writeHTMLDoc(all_spans, title):\n",
    "    '''\n",
    "    Write HTML visualization.\n",
    "    '''\n",
    "    \n",
    "    # open html templates: \n",
    "    with open('HTMLTemplates/doc.txt') as doc:\n",
    "        doc_template = doc.read()\n",
    "    with open('HTMLTemplates/data.txt') as data:\n",
    "        data_template = data.read().replace('\\n','').replace('\\t','')\n",
    "\n",
    "    # html chars/formats \n",
    "    indent = '&nbsp;&nbsp;&nbsp;&nbsp;'\n",
    "    colors = itertools.cycle(('#addfff','#a3e2a1'))\n",
    "\n",
    "    # compile html code to this str:\n",
    "    html_body = ''\n",
    "\n",
    "    for span in all_spans:\n",
    "        \n",
    "        color = next(colors) if span['time'] else '' # assign shading\n",
    "        \n",
    "        for clause in span['clauses']:\n",
    "            label = indent + getClauseLabel(clause)\n",
    "            indentation = F.tab.v(clause) * indent # etcbc clause relation\n",
    "            \n",
    "            # assemble plain-text representation:\n",
    "            words = L.d(clause, otype='word')\n",
    "            text = T.text(words) + indentation\n",
    "            \n",
    "            # fill template; add to html code\n",
    "            html_body += data_template.format(color=color,\n",
    "                                                 text=text,\n",
    "                                                 label=label)\n",
    "    \n",
    "    # complete html code         \n",
    "    html_doc = doc_template.format(data=html_body,\n",
    "                                   title=title)\n",
    "    return html_doc"
   ]
  },
  {
   "cell_type": "code",
   "execution_count": 28,
   "metadata": {
    "collapsed": false
   },
   "outputs": [],
   "source": [
    "title = 'Time Spans in {corpus}'.format(corpus=corpus)\n",
    "\n",
    "time_span_visualization = writeHTMLDoc(time_spans, title)\n",
    "\n",
    "with open('{}_timespans.html'.format(corpus), 'w') as htmlfile:\n",
    "    htmlfile.write(time_span_visualization)"
   ]
  },
  {
   "cell_type": "markdown",
   "metadata": {
    "collapsed": true
   },
   "source": [
    "** [See Time Span Visualization](Genesis_timespans.html) **"
   ]
  },
  {
   "cell_type": "code",
   "execution_count": null,
   "metadata": {
    "collapsed": true
   },
   "outputs": [],
   "source": []
  }
 ],
 "metadata": {
  "kernelspec": {
   "display_name": "Python 3",
   "language": "python",
   "name": "python3"
  },
  "language_info": {
   "codemirror_mode": {
    "name": "ipython",
    "version": 3
   },
   "file_extension": ".py",
   "mimetype": "text/x-python",
   "name": "python",
   "nbconvert_exporter": "python",
   "pygments_lexer": "ipython3",
   "version": "3.6.0"
  }
 },
 "nbformat": 4,
 "nbformat_minor": 2
}
