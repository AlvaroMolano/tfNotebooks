{
 "cells": [
  {
   "cell_type": "markdown",
   "metadata": {
    "deletable": true,
    "editable": true
   },
   "source": [
    "<div style=\"text-align:center; font-size: 120%\">\n",
    "<h1>Time Spans in Genesis</h1>\n",
    "\n",
    "<table>\n",
    "<tr>\n",
    "<td>\n",
    "<img src=\"images/tf.png\" \n",
    "style=\"width:250px; height:150px;\"\n",
    ">\n",
    "</td>\n",
    "<td>\n",
    "<img src=\"images/vuEtcbc.png\"\n",
    "style=\"width:315px; height:150;\"\n",
    ">\n",
    "</td>\n",
    "</tr>\n",
    "</table>\n",
    "</div>"
   ]
  },
  {
   "cell_type": "markdown",
   "metadata": {
    "deletable": true,
    "editable": true
   },
   "source": [
    "**\"How do time markers influence the choice of Hebrew verb forms within Genesis clause chains?\"**\n",
    "\n",
    "The goal of this project is to begin, in some small way, to chip away at the question above. We do that looking for \"time spans.\" \n",
    "\n",
    "For the purpose of this project, we define time spans as chains of clauses (or clause trees) that are influenced by a time indicator in the first, root clause. After the time spans are constructed, we measure and visualize the data. The last visualization specifically aims at the issue of verb tense and its use amongst certain time indicators. Verb tense in Biblical Hebrew continues to be an area of interest for Hebraists due to its enigmatic use.\n",
    "\n",
    "In this project, we use the [Text-Fabric](https://github.com/ETCBC/text-fabric) Python package combined with the Biblical Hebrew data from the [Eep Talstra Centre for Bible and Computer](http://www.wi.th.vu.nl).\n",
    "\n",
    "There are four major steps along the way.\n",
    "\n",
    "1. Load the Text-Fabric/ETCBC data.\n",
    "2. Build the time spans.\n",
    "3. Visualize the time spans by highlighting them in their plain-text form. We use an html document.\n",
    "4. Gather and analyze statistics including the distribution of time spans, the most common time indicators, and the distribution of verbal tense among the top 10 time phrase indicators."
   ]
  },
  {
   "cell_type": "code",
   "execution_count": 1,
   "metadata": {
    "collapsed": true,
    "deletable": true,
    "editable": true
   },
   "outputs": [],
   "source": [
    "import collections"
   ]
  },
  {
   "cell_type": "markdown",
   "metadata": {
    "deletable": true,
    "editable": true
   },
   "source": [
    "## Load Text-Fabric Data\n",
    "\n",
    "**<span style=\"color:red\">Before moving on to this step,</span>** <br>\n",
    "please run [Text_Fabric_Tutorial.ipynb](Text_Fabric_Tutorial.ipynb) to set up the package and data on your system.<br>\n",
    "The api information contained in it is also crucial for understanding the code in this notebook."
   ]
  },
  {
   "cell_type": "code",
   "execution_count": 2,
   "metadata": {
    "collapsed": false,
    "deletable": true,
    "editable": true
   },
   "outputs": [
    {
     "name": "stdout",
     "output_type": "stream",
     "text": [
      "This is Text-Fabric 2.3.0\n",
      "Api reference : https://github.com/ETCBC/text-fabric/wiki/Api\n",
      "Tutorial      : https://github.com/ETCBC/text-fabric/blob/master/docs/tutorial.ipynb\n",
      "Data sources  : https://github.com/ETCBC/text-fabric-data\n",
      "Data docs     : https://etcbc.github.io/text-fabric-data\n",
      "Shebanq docs  : https://shebanq.ancient-data.org/text\n",
      "Slack team    : https://shebanq.slack.com/signup\n",
      "Questions? Ask shebanq@ancient-data.org for an invite to Slack\n",
      "109 features found and 0 ignored\n"
     ]
    }
   ],
   "source": [
    "from tf.fabric import Fabric\n",
    "\n",
    "TF_data_dir = '/Users/Cody/github/text-fabric-data/' # specify your TF data directory\n",
    "\n",
    "text_fabric = Fabric(locations=TF_data_dir,      # instantiate processor\n",
    "                     modules='Hebrew/etcbc4c')   # module path in TF data dir"
   ]
  },
  {
   "cell_type": "code",
   "execution_count": 3,
   "metadata": {
    "collapsed": false,
    "deletable": true,
    "editable": true
   },
   "outputs": [
    {
     "name": "stdout",
     "output_type": "stream",
     "text": [
      "  0.00s loading features ...\n",
      "   |     0.01s B book                 from /Users/Cody/github/text-fabric-data//Hebrew/etcbc4c\n",
      "   |     0.01s B chapter              from /Users/Cody/github/text-fabric-data//Hebrew/etcbc4c\n",
      "   |     0.01s B verse                from /Users/Cody/github/text-fabric-data//Hebrew/etcbc4c\n",
      "   |     0.19s B g_word_utf8          from /Users/Cody/github/text-fabric-data//Hebrew/etcbc4c\n",
      "   |     0.17s B lex_utf8             from /Users/Cody/github/text-fabric-data//Hebrew/etcbc4c\n",
      "   |     0.07s B function             from /Users/Cody/github/text-fabric-data//Hebrew/etcbc4c\n",
      "   |     0.13s B pdp                  from /Users/Cody/github/text-fabric-data//Hebrew/etcbc4c\n",
      "   |     0.12s B vt                   from /Users/Cody/github/text-fabric-data//Hebrew/etcbc4c\n",
      "   |     0.13s B lex                  from /Users/Cody/github/text-fabric-data//Hebrew/etcbc4c\n",
      "   |     0.01s B gloss                from /Users/Cody/github/text-fabric-data//Hebrew/etcbc4c\n",
      "   |     0.19s B mother               from /Users/Cody/github/text-fabric-data//Hebrew/etcbc4c\n",
      "   |     0.02s B tab                  from /Users/Cody/github/text-fabric-data//Hebrew/etcbc4c\n",
      "   |     0.00s Feature overview: 103 nodes; 5 edges; 1 configs; 7 computeds\n",
      "  5.34s All features loaded/computed - for details use loadLog()\n"
     ]
    }
   ],
   "source": [
    "# load the ETCBC features\n",
    "tf = text_fabric.load('''\n",
    "                      book chapter verse \n",
    "                      function pdp vt\n",
    "                      lex lex_utf8 g_word_utf8 gloss\n",
    "                      mother tab\n",
    "                    ''')"
   ]
  },
  {
   "cell_type": "code",
   "execution_count": 4,
   "metadata": {
    "collapsed": true,
    "deletable": true,
    "editable": true
   },
   "outputs": [],
   "source": [
    "# globalize the TF objects:\n",
    "# cf. explanation in Text_Fabric_Tutorial.ipynb\n",
    "\n",
    "tf.makeAvailableIn(globals()) "
   ]
  },
  {
   "cell_type": "markdown",
   "metadata": {
    "deletable": true,
    "editable": true
   },
   "source": [
    "## Gather ETCBC Data\n",
    "\n",
    "In this brief section, we perform some preliminary formatting. We build two dictionaries using the `getCorpusClauses()` and `mapDaughterToMother()` functions. The first dictionary provides the clauses from which we will build the time spans. \n",
    "\n",
    "The second dictionary contains a necessary mapping from mother clauses to their daughters. In the ETCBC, mother/daughter clauses specify discourse analysis categories between clauses. Mother clauses give rise to daughter clauses based on calculated similarities, conjunctions, etc. Since the ETCBC stores those relationships one way, i.e. `daughter -> mother`, we need to make a reverse mapping: `mother -> list_of_daughters`.\n",
    "\n",
    "\n",
    "**Text-Fabric API Cheatsheet**\n",
    "* **`F.otype.s('obj_str')`**\n",
    "    * generator function that yields specified linguistic object type\n",
    "* **`F.[feature].v(node_int)`**\n",
    "    * feature look up function that returns feature string when supplied node\n",
    "* **`L.u(node_int, otype='obj_str')`**\n",
    "    * retrieves embedding linguistic object nodes\n",
    "    * returns as tuple; often indexed due to redundancy\n",
    "* **`L.d(node_int, otype='obj_str')`**\n",
    "    * retrieves embedded linguistic object nodes\n",
    "    * returns tuple; should be iterated through\n",
    "* **`T.text((node_ints,))`**\n",
    "    * returns plain text Hebrew, requires iterable of word nodes\n",
    "    \n",
    "**Now the formatting...**"
   ]
  },
  {
   "cell_type": "code",
   "execution_count": 5,
   "metadata": {
    "collapsed": false,
    "deletable": true,
    "editable": true
   },
   "outputs": [],
   "source": [
    "def getCorpusClauses(corpus):\n",
    "    '''\n",
    "    Returns all the clause nodes in a corpus from the ETCBC database.\n",
    "    Requires a corpus string argument.\n",
    "    ex: 'Genesis'\n",
    "    '''\n",
    "    # get corpus node\n",
    "    corpus = next(book for book in F.otype.s('book') # next() gets first & only match\n",
    "                  if F.book.v(book) == corpus)  \n",
    "    \n",
    "    # get all clauses in corpus\n",
    "    corpus_clauses = L.d(corpus, otype='clause_atom')\n",
    "    \n",
    "    return corpus_clauses"
   ]
  },
  {
   "cell_type": "code",
   "execution_count": 6,
   "metadata": {
    "collapsed": false,
    "deletable": true,
    "editable": true
   },
   "outputs": [],
   "source": [
    "def mapDaughterToMother(corpus_clauses):\n",
    "    '''\n",
    "     Return reverse mapping of mother/daughter as a dict.\n",
    "\n",
    "     The ETCBC stores relationships from daughter to mother,\n",
    "     but we need to reverse it to build the clause chains.\n",
    "    '''\n",
    "\n",
    "    mother_daughters = collections.defaultdict(list)\n",
    "\n",
    "    # append clause to its mother's daughter list\n",
    "    for clause in corpus_clauses:\n",
    "        \n",
    "        daughter_node = clause \n",
    "        \n",
    "        # skip parallel clauses\n",
    "        if F.tab.v(clause) == 0: \n",
    "            continue\n",
    "        \n",
    "        # look up the mother node and use it as a key\n",
    "        # append daughter_node to list value \n",
    "        for mother_node in E.mother.f(daughter_node): # edge feature; tuple\n",
    "            mother_daughters[mother_node].append(daughter_node)\n",
    "\n",
    "    return mother_daughters"
   ]
  },
  {
   "cell_type": "markdown",
   "metadata": {
    "deletable": true,
    "editable": true
   },
   "source": [
    "## Build Time Spans\n",
    "\n",
    "We use 4 functions to construct the time spans:\n",
    "1. `getTime()` checks for time markers in first, root clauses and returns the time indicating phrase nodes.\n",
    "2. `climbClauseTree()` recursively moves through the clause tree and adds the clauses from the chain to a list.\n",
    "3. `getSpanData()` retrieves data from the clause spans for later use. Returns it as a dictionary.\n",
    "4. `buildTimeSpans()` does it all. It iterates through the corpus clauses and calls `climbClauseTree()` in the process. It returns a list of dictionaries (dicts are formatted with `getSpanData()`^ containing the span data."
   ]
  },
  {
   "cell_type": "code",
   "execution_count": 29,
   "metadata": {
    "collapsed": true,
    "deletable": true,
    "editable": true
   },
   "outputs": [],
   "source": [
    "def getTime(clause_node):\n",
    "    '''\n",
    "    Return the phrase nodes of a time marker if there is one.\n",
    "    \n",
    "    The ETCBC stores time phrases as a phrase function feature.\n",
    "    However, other markers of time are not as obvious.\n",
    "    This function also checks for less obvious markers.\n",
    "    '''\n",
    "    # stores time marker phrase nodes\n",
    "    time_markers = list()\n",
    "    \n",
    "    # ETCBC time-phrase functions\n",
    "    phrases = list(phrase for phrase in L.d(clause_node, otype='phrase')\n",
    "                    if F.function.v(phrase) == 'Time')\n",
    "    time_markers.extend(phrases)\n",
    "    \n",
    "    # TO DO: add...\n",
    "    # substantives with a time sense\n",
    "    # \"when\" preposition (ב + infinitive)\n",
    "    \n",
    "    return time_markers"
   ]
  },
  {
   "cell_type": "code",
   "execution_count": 8,
   "metadata": {
    "collapsed": false,
    "deletable": true,
    "editable": true
   },
   "outputs": [],
   "source": [
    "def climbClauseTree(root_clause, mother_daughters, span, coverage):\n",
    "    '''\n",
    "    Modify a given span list and coverage set recursively\n",
    "    by climbing a tree (mother_daughters), beginning with root clause.\n",
    "    \n",
    "    With mother/daughter clause relations, we have \n",
    "    something like a syntax tree, but on a text level.\n",
    "    This function takes a clause with an initial time phrase and\n",
    "    recursively iterates through its descendants to gather them.\n",
    "    \n",
    "    We add descendants to the span if they don't have \n",
    "    an intervening time indicator. They also go into\n",
    "    the coverage set, so that we don't double-cover \n",
    "    them in a later loop.\n",
    "    '''    \n",
    "    for daughter in mother_daughters[root_clause]:\n",
    "        \n",
    "        # stop if intervening time marker\n",
    "        if getTime(daughter):\n",
    "            break\n",
    "\n",
    "        # add to span and coverage\n",
    "        span.append(daughter)\n",
    "        coverage.add(daughter)\n",
    "        \n",
    "        # move down the tree with recursive call\n",
    "        climbClauseTree(daughter, mother_daughters, span, coverage)"
   ]
  },
  {
   "cell_type": "code",
   "execution_count": 9,
   "metadata": {
    "collapsed": false,
    "deletable": true,
    "editable": true
   },
   "outputs": [],
   "source": [
    "def getSpanData(clause_list):\n",
    "    '''\n",
    "    Returns a dictionary containing data on a supplied span.\n",
    "    A span is a list of clause nodes\n",
    "    and a time marker in the first clause (root).\n",
    "    Timeless spans do not begin with a time marker.\n",
    "    '''\n",
    "    root = clause_list[0] # first clause\n",
    "    time_markers = getTime(root) # list of time marker phrase nodes\n",
    "    is_time = True if time_markers else False\n",
    "    \n",
    "    span_data = {'time': is_time,\n",
    "                 'clauses': clause_list,\n",
    "                 'time_markers': time_markers,\n",
    "                }\n",
    "    \n",
    "    return span_data\n",
    "\n",
    "    \n",
    "def buildTimeSpans(corpus_clauses):\n",
    "    '''\n",
    "    Gather the time spans by calling climbClauseTree while\n",
    "    looping over all clauses in the corpus.\n",
    "    \n",
    "    Return time spans as list of dictionaries;\n",
    "    the dictionaries contain keys of data for each span\n",
    "    \n",
    "    Skip clauses already in the coverage set.\n",
    "    Save the time spans in an OrderedDict, keyed by the root clause node\n",
    "    '''\n",
    "    mother_daughters = mapDaughterToMother(corpus_clauses)\n",
    "    time_spans = list()\n",
    "    coverage = set()\n",
    "    \n",
    "    # add timeless spans here:\n",
    "    timeless_span = list() \n",
    "    \n",
    "    for clause in corpus_clauses:\n",
    "        \n",
    "        # build spans for clauses not yet visited that have time marker\n",
    "        if clause not in coverage and getTime(clause):\n",
    "            \n",
    "            # save/reset timeless_span\n",
    "            if timeless_span:\n",
    "                time_spans.append(getSpanData(timeless_span))\n",
    "                timeless_span = list()\n",
    "            \n",
    "            # calculate timespan\n",
    "            span = []\n",
    "            span.append(clause) # add root clause\n",
    "            climbClauseTree(clause, mother_daughters, span, coverage) # build the rest\n",
    "            time_spans.append(getSpanData(span))\n",
    "            \n",
    "        elif clause not in coverage and not getTime(clause):\n",
    "            # add to timeless span\n",
    "            timeless_span.append(clause)\n",
    "            \n",
    "    return time_spans"
   ]
  },
  {
   "cell_type": "markdown",
   "metadata": {
    "deletable": true,
    "editable": true
   },
   "source": [
    "### Put it all together\n",
    "\n",
    "Now we make the time spans from which we will produce statistics and visualizations. \n",
    "\n",
    "* First we define a corpus with its string representation. \n",
    "* Next, we retrieve all its clauses with `getCorpusClauses`. \n",
    "* Finally, we feed the `buildTimeSpans` function the clauses.\n",
    "\n",
    "The result is stored in `spans`, a list of dictionaries which each contain information on its enclosed span."
   ]
  },
  {
   "cell_type": "code",
   "execution_count": 10,
   "metadata": {
    "collapsed": false,
    "deletable": true,
    "editable": true
   },
   "outputs": [],
   "source": [
    "corpus = 'Genesis'\n",
    "corpus_clauses = getCorpusClauses(corpus)\n",
    "spans = buildTimeSpans(corpus_clauses)"
   ]
  },
  {
   "cell_type": "markdown",
   "metadata": {
    "deletable": true,
    "editable": true
   },
   "source": [
    "#### Sample of the `spans` data:"
   ]
  },
  {
   "cell_type": "code",
   "execution_count": 11,
   "metadata": {
    "collapsed": false,
    "deletable": true,
    "editable": true
   },
   "outputs": [
    {
     "data": {
      "text/plain": [
       "[{'clauses': [514720, 514721], 'time': True, 'time_markers': [605530]},\n",
       " {'clauses': [514722, 514723], 'time': True, 'time_markers': [605536]},\n",
       " {'clauses': [514724,\n",
       "   514725,\n",
       "   514726,\n",
       "   514727,\n",
       "   514728,\n",
       "   514729,\n",
       "   514730,\n",
       "   514731,\n",
       "   514732],\n",
       "  'time': False,\n",
       "  'time_markers': []}]"
      ]
     },
     "execution_count": 11,
     "metadata": {},
     "output_type": "execute_result"
    }
   ],
   "source": [
    "spans[2:5]"
   ]
  },
  {
   "cell_type": "markdown",
   "metadata": {
    "deletable": true,
    "editable": true
   },
   "source": [
    "## Create HTML Visualization\n",
    "\n",
    "Before moving on to basic statistics, it would be nice to visualize what it is exactly that we are measuring ('time spans' can sound a bit vague). One way to do this is to show the plain text representation of the time spans we've found. \n",
    "\n",
    "This visualization will highlight all clauses affected by a time marker. The result is an html document that contains the plain Hebrew text (read right-to-left) with highlighting to reveal which clauses belong to time spans.\n",
    "\n",
    "The colors alternate between blue and green to distinguish separate time spans. The visualization is stored in a seperate [html file](Genesis_timespans.html)."
   ]
  },
  {
   "cell_type": "code",
   "execution_count": 12,
   "metadata": {
    "collapsed": true,
    "deletable": true,
    "editable": true
   },
   "outputs": [],
   "source": [
    "def getClauseLabel(clause_node):\n",
    "    '''\n",
    "    Convert a Text-Fabric node integer into a clean label.\n",
    "    return a label: \"book.chapter.verse.NthClause\"\n",
    "    '''\n",
    "    # find book, chapter, verse nodes containing given clause\n",
    "    book_node = L.u(clause_node, otype='book')[0]   \n",
    "    chapter_node = L.u(clause_node, otype='chapter')[0] \n",
    "    verse_node = L.u(clause_node, otype='verse')[0]  \n",
    "    \n",
    "    # convert section nodes to their string representations\n",
    "    book = F.book.v(book_node)\n",
    "    chapter = F.chapter.v(chapter_node)\n",
    "    verse = F.verse.v(verse_node)\n",
    "    \n",
    "    # find which clause number this clause node is\n",
    "    verse_clauses = L.d(verse_node, otype='clause_atom') # all verse's clauses\n",
    "    clause_num = verse_clauses.index(clause_node) + 1    # N'th clause; +1 for aesthetics\n",
    "    \n",
    "    # format into label and return string\n",
    "    clause_label = '{book}.{chap}.{ver}.{clause}'.format(book=book,\n",
    "                                                         chap=chapter,\n",
    "                                                         ver=verse,\n",
    "                                                         clause=clause_num)\n",
    "    return clause_label"
   ]
  },
  {
   "cell_type": "code",
   "execution_count": 13,
   "metadata": {
    "collapsed": false,
    "deletable": true,
    "editable": true
   },
   "outputs": [],
   "source": [
    "import itertools\n",
    "\n",
    "def writeHTMLDoc(all_spans, title):\n",
    "    '''\n",
    "    Write HTML visualization.\n",
    "    '''\n",
    "    \n",
    "    # open html templates: \n",
    "    with open('HTMLTemplates/doc.txt') as doc:\n",
    "        doc_template = doc.read()\n",
    "    with open('HTMLTemplates/data.txt') as data:\n",
    "        data_template = data.read().replace('\\n','').replace('\\t','')\n",
    "\n",
    "    # html chars/formats \n",
    "    indent = '&nbsp;&nbsp;&nbsp;&nbsp;'\n",
    "    colors = itertools.cycle(('#addfff','#a3e2a1'))\n",
    "\n",
    "    # compile html code to this str:\n",
    "    html_body = ''\n",
    "\n",
    "    for span in all_spans:\n",
    "        \n",
    "        color = next(colors) if span['time'] else '' # assign shading\n",
    "        \n",
    "        for clause in span['clauses']:\n",
    "            label = indent + getClauseLabel(clause)\n",
    "            indentation = F.tab.v(clause) * indent # etcbc clause relation\n",
    "            \n",
    "            # assemble plain-text representation:\n",
    "            words = L.d(clause, otype='word')\n",
    "            text = T.text(words) + indentation\n",
    "            \n",
    "            # fill template; add to html code\n",
    "            html_body += data_template.format(color=color,\n",
    "                                                 text=text,\n",
    "                                                 label=label)\n",
    "    \n",
    "    # complete html code         \n",
    "    html_doc = doc_template.format(data=html_body,\n",
    "                                   title=title)\n",
    "    return html_doc"
   ]
  },
  {
   "cell_type": "markdown",
   "metadata": {
    "deletable": true,
    "editable": true
   },
   "source": [
    "### Put it all together:\n",
    "\n",
    "Now we create the final product by\n",
    "* giving it a title formatted by corpus name\n",
    "* calling the `writeHTMLDoc` function with the data and title\n",
    "* writing the data to the html file with the corpus formatted into its name"
   ]
  },
  {
   "cell_type": "code",
   "execution_count": 14,
   "metadata": {
    "collapsed": false,
    "deletable": true,
    "editable": true
   },
   "outputs": [],
   "source": [
    "title = 'Time Spans in {corpus}'.format(corpus=corpus)\n",
    "\n",
    "time_span_visualization = writeHTMLDoc(spans, title)\n",
    "\n",
    "with open('{}_timespans.html'.format(corpus), 'w') as htmlfile:\n",
    "    htmlfile.write(time_span_visualization)"
   ]
  },
  {
   "cell_type": "markdown",
   "metadata": {
    "collapsed": true,
    "deletable": true,
    "editable": true
   },
   "source": [
    "#### See the final product here!\n",
    "\n",
    "** [Time Span Visualization](https://cdn.rawgit.com/codykingham/tfNotebooks/fb422cbf/timeSpans/Genesis_timespans.html) **"
   ]
  },
  {
   "cell_type": "markdown",
   "metadata": {
    "deletable": true,
    "editable": true
   },
   "source": [
    "# Statistics\n",
    "\n",
    "Now that we've gathered and visually examined the time spans, we can begin to answer some basic questions:\n",
    "\n",
    "* What kinds of time indicators were found? \n",
    "* How are time indicators distributed across the corpus? \n",
    "* How are verb tenses influenced by the time indicators?"
   ]
  },
  {
   "cell_type": "markdown",
   "metadata": {
    "deletable": true,
    "editable": true
   },
   "source": [
    "## Time Marker Inventory\n",
    "\n",
    "We pull the time indicators saved to each time span, and save their plain text representation to an inventory."
   ]
  },
  {
   "cell_type": "code",
   "execution_count": 15,
   "metadata": {
    "collapsed": false,
    "deletable": true,
    "editable": true
   },
   "outputs": [],
   "source": [
    "def HebEngLabel(phrase_node):\n",
    "    '''\n",
    "    Returns concatonated Hebrew txt/English gloss of a time phrase node.\n",
    "    English for my non-Hebrew reading friends :)\n",
    "    '''\n",
    "    # get word nodes\n",
    "    word_nodes = L.d(phrase_node, otype='word')\n",
    "    \n",
    "    # convert to lexemes\n",
    "    lexemes = ((L.u(word, otype='lex')[0] \n",
    "                    for word in word_nodes))\n",
    "    \n",
    "    # concatenate words\n",
    "    english_gloss = ' '.join(F.gloss.v(lex) for lex in lexemes)\n",
    "    hebrew_words = T.text(word_nodes)\n",
    "    \n",
    "    label = hebrew_words + ', ' + english_gloss\n",
    "    \n",
    "    return label"
   ]
  },
  {
   "cell_type": "markdown",
   "metadata": {
    "deletable": true,
    "editable": true
   },
   "source": [
    "#### Now make the inventory...\n",
    "\n",
    "First we make a new time spans list that contains ONLY spans with time indicators..."
   ]
  },
  {
   "cell_type": "code",
   "execution_count": 16,
   "metadata": {
    "collapsed": true,
    "deletable": true,
    "editable": true
   },
   "outputs": [],
   "source": [
    "# get clauses with time spans\n",
    "time_spans = list(span for span in spans \n",
    "                      if span['time'])"
   ]
  },
  {
   "cell_type": "markdown",
   "metadata": {
    "deletable": true,
    "editable": true
   },
   "source": [
    "Now we create the inventory..."
   ]
  },
  {
   "cell_type": "code",
   "execution_count": 17,
   "metadata": {
    "collapsed": false,
    "deletable": true,
    "editable": true
   },
   "outputs": [],
   "source": [
    "# map time-span label to its span data\n",
    "# to be used later...\n",
    "marker_to_span = collections.defaultdict(list)\n",
    "\n",
    "# build the inventory...\n",
    "timespan_inventory = collections.Counter()\n",
    "\n",
    "for span in time_spans:\n",
    "        \n",
    "    # create label to count\n",
    "    time_marker = ' ' .join(HebEngLabel(phrase) for phrase \n",
    "                                in span['time_markers'])\n",
    "    # count it\n",
    "    timespan_inventory[time_marker] += 1\n",
    "    # keep its span\n",
    "    marker_to_span[time_marker].append(span)"
   ]
  },
  {
   "cell_type": "markdown",
   "metadata": {
    "deletable": true,
    "editable": true
   },
   "source": [
    "#### Total Time Markers:"
   ]
  },
  {
   "cell_type": "code",
   "execution_count": 18,
   "metadata": {
    "collapsed": false,
    "deletable": true,
    "editable": true
   },
   "outputs": [
    {
     "name": "stdout",
     "output_type": "stream",
     "text": [
      "There are 220 DIFFERENT time markers in Genesis.\n"
     ]
    }
   ],
   "source": [
    "print('There are {} DIFFERENT time markers in {}.'.format(len(timespan_inventory), corpus))"
   ]
  },
  {
   "cell_type": "markdown",
   "metadata": {
    "deletable": true,
    "editable": true
   },
   "source": [
    "### Basic Time Marker Stats\n",
    "\n",
    "There's quite a lot of variation. Let's see what kinds of time markers the code found...\n",
    "\n",
    "We create a data frame using Pandas in order to display a simple table. The table only contains time markers with an occurrence greater than 1."
   ]
  },
  {
   "cell_type": "code",
   "execution_count": 19,
   "metadata": {
    "collapsed": false,
    "deletable": true,
    "editable": true
   },
   "outputs": [],
   "source": [
    "import pandas as pd\n",
    "\n",
    "# every marker with > 1 occurrence\n",
    "top_markers = list(marker for marker \n",
    "                       in timespan_inventory.most_common() \n",
    "                       if marker[1] > 1)\n",
    "\n",
    "markers_df = pd.DataFrame(top_markers, columns=['Markers','Count'])"
   ]
  },
  {
   "cell_type": "code",
   "execution_count": 20,
   "metadata": {
    "collapsed": false,
    "deletable": true,
    "editable": true
   },
   "outputs": [
    {
     "data": {
      "text/html": [
       "<div>\n",
       "<table border=\"1\" class=\"dataframe\">\n",
       "  <thead>\n",
       "    <tr style=\"text-align: right;\">\n",
       "      <th></th>\n",
       "      <th>Markers</th>\n",
       "      <th>Count</th>\n",
       "    </tr>\n",
       "  </thead>\n",
       "  <tbody>\n",
       "    <tr>\n",
       "      <th>0</th>\n",
       "      <td>בַּבֹּ֗קֶר , in the morning</td>\n",
       "      <td>4</td>\n",
       "    </tr>\n",
       "    <tr>\n",
       "      <th>1</th>\n",
       "      <td>שְׁלֹשִׁ֣ים שָׁנָ֑ה , three year</td>\n",
       "      <td>3</td>\n",
       "    </tr>\n",
       "    <tr>\n",
       "      <th>2</th>\n",
       "      <td>הַלָּ֑יְלָה , the night</td>\n",
       "      <td>3</td>\n",
       "    </tr>\n",
       "    <tr>\n",
       "      <th>3</th>\n",
       "      <td>אַחַר֙ הַדְּבָרִ֣ים הָאֵ֔לֶּה , after the word...</td>\n",
       "      <td>3</td>\n",
       "    </tr>\n",
       "    <tr>\n",
       "      <th>4</th>\n",
       "      <td>הַיֹּ֔ום , the day</td>\n",
       "      <td>3</td>\n",
       "    </tr>\n",
       "    <tr>\n",
       "      <th>5</th>\n",
       "      <td>בַבֹּ֔קֶר , in the morning</td>\n",
       "      <td>3</td>\n",
       "    </tr>\n",
       "    <tr>\n",
       "      <th>6</th>\n",
       "      <td>עַתָּה֙ , now</td>\n",
       "      <td>3</td>\n",
       "    </tr>\n",
       "    <tr>\n",
       "      <th>7</th>\n",
       "      <td>בַּיֹּ֣ום הַשְּׁבִיעִ֔י , in the day the seventh</td>\n",
       "      <td>2</td>\n",
       "    </tr>\n",
       "    <tr>\n",
       "      <th>8</th>\n",
       "      <td>הַיֹּ֗ום , the day</td>\n",
       "      <td>2</td>\n",
       "    </tr>\n",
       "    <tr>\n",
       "      <th>9</th>\n",
       "      <td>בְּיֹ֖ום , in day</td>\n",
       "      <td>2</td>\n",
       "    </tr>\n",
       "    <tr>\n",
       "      <th>10</th>\n",
       "      <td>שִׁבְעִ֣ים שָׁנָ֑ה , seven year</td>\n",
       "      <td>2</td>\n",
       "    </tr>\n",
       "    <tr>\n",
       "      <th>11</th>\n",
       "      <td>שִׁבְעַ֥ת יָמִ֖ים אֲחֵרִ֑ים , seven day other</td>\n",
       "      <td>2</td>\n",
       "    </tr>\n",
       "    <tr>\n",
       "      <th>12</th>\n",
       "      <td>אַחַ֣ר , after</td>\n",
       "      <td>2</td>\n",
       "    </tr>\n",
       "    <tr>\n",
       "      <th>13</th>\n",
       "      <td>שָׁלֹ֣שׁ שָׁנִ֔ים וְאַרְבַּ֥ע מֵאֹ֖ות שָׁנָ֑ה ...</td>\n",
       "      <td>2</td>\n",
       "    </tr>\n",
       "    <tr>\n",
       "      <th>14</th>\n",
       "      <td>אָ֥ז , then</td>\n",
       "      <td>2</td>\n",
       "    </tr>\n",
       "    <tr>\n",
       "      <th>15</th>\n",
       "      <td>עַד־הֵֽנָּה׃ , unto here</td>\n",
       "      <td>2</td>\n",
       "    </tr>\n",
       "    <tr>\n",
       "      <th>16</th>\n",
       "      <td>בַּיֹּ֣ום הַה֗וּא , in the day the he</td>\n",
       "      <td>2</td>\n",
       "    </tr>\n",
       "    <tr>\n",
       "      <th>17</th>\n",
       "      <td>בְּעֶ֨צֶם֙ הַיֹּ֣ום הַזֶּ֔ה , in bone the day ...</td>\n",
       "      <td>2</td>\n",
       "    </tr>\n",
       "    <tr>\n",
       "      <th>18</th>\n",
       "      <td>בַּלַּ֣יְלָה , in the night</td>\n",
       "      <td>2</td>\n",
       "    </tr>\n",
       "    <tr>\n",
       "      <th>19</th>\n",
       "      <td>עַד־הַיֹּֽום׃ , unto the day</td>\n",
       "      <td>2</td>\n",
       "    </tr>\n",
       "    <tr>\n",
       "      <th>20</th>\n",
       "      <td>עַתָּ֗ה , now</td>\n",
       "      <td>2</td>\n",
       "    </tr>\n",
       "    <tr>\n",
       "      <th>21</th>\n",
       "      <td>בָּעֵ֣ת הַהִ֔וא , in the time the she</td>\n",
       "      <td>2</td>\n",
       "    </tr>\n",
       "    <tr>\n",
       "      <th>22</th>\n",
       "      <td>אַחֲרֵי֙ הַדְּבָרִ֣ים הָאֵ֔לֶּה , after the wo...</td>\n",
       "      <td>2</td>\n",
       "    </tr>\n",
       "    <tr>\n",
       "      <th>23</th>\n",
       "      <td>הַיֹּ֑ום , the day</td>\n",
       "      <td>2</td>\n",
       "    </tr>\n",
       "    <tr>\n",
       "      <th>24</th>\n",
       "      <td>אַחַ֖ר , after</td>\n",
       "      <td>2</td>\n",
       "    </tr>\n",
       "    <tr>\n",
       "      <th>25</th>\n",
       "      <td>שֶֽׁבַע־שָׁנִ֥ים אֲחֵרֹֽות׃ , seven year other</td>\n",
       "      <td>2</td>\n",
       "    </tr>\n",
       "    <tr>\n",
       "      <th>26</th>\n",
       "      <td>עַתָּ֖ה , now</td>\n",
       "      <td>2</td>\n",
       "    </tr>\n",
       "    <tr>\n",
       "      <th>27</th>\n",
       "      <td>הַיֹּֽום׃ , the day</td>\n",
       "      <td>2</td>\n",
       "    </tr>\n",
       "    <tr>\n",
       "      <th>28</th>\n",
       "      <td>בְּעֹ֣וד׀ שְׁלֹ֣שֶׁת יָמִ֗ים , in duration thr...</td>\n",
       "      <td>2</td>\n",
       "    </tr>\n",
       "    <tr>\n",
       "      <th>29</th>\n",
       "      <td>הַיֹּ֛ום , the day</td>\n",
       "      <td>2</td>\n",
       "    </tr>\n",
       "    <tr>\n",
       "      <th>30</th>\n",
       "      <td>כָּל־הַיָּמִֽים׃ , whole the day</td>\n",
       "      <td>2</td>\n",
       "    </tr>\n",
       "  </tbody>\n",
       "</table>\n",
       "</div>"
      ],
      "text/plain": [
       "                                              Markers  Count\n",
       "0                         בַּבֹּ֗קֶר , in the morning      4\n",
       "1                    שְׁלֹשִׁ֣ים שָׁנָ֑ה , three year      3\n",
       "2                             הַלָּ֑יְלָה , the night      3\n",
       "3   אַחַר֙ הַדְּבָרִ֣ים הָאֵ֔לֶּה , after the word...      3\n",
       "4                                  הַיֹּ֔ום , the day      3\n",
       "5                          בַבֹּ֔קֶר , in the morning      3\n",
       "6                                       עַתָּה֙ , now      3\n",
       "7    בַּיֹּ֣ום הַשְּׁבִיעִ֔י , in the day the seventh      2\n",
       "8                                  הַיֹּ֗ום , the day      2\n",
       "9                                   בְּיֹ֖ום , in day      2\n",
       "10                    שִׁבְעִ֣ים שָׁנָ֑ה , seven year      2\n",
       "11      שִׁבְעַ֥ת יָמִ֖ים אֲחֵרִ֑ים , seven day other      2\n",
       "12                                     אַחַ֣ר , after      2\n",
       "13  שָׁלֹ֣שׁ שָׁנִ֔ים וְאַרְבַּ֥ע מֵאֹ֖ות שָׁנָ֑ה ...      2\n",
       "14                                        אָ֥ז , then      2\n",
       "15                           עַד־הֵֽנָּה׃ , unto here      2\n",
       "16              בַּיֹּ֣ום הַה֗וּא , in the day the he      2\n",
       "17  בְּעֶ֨צֶם֙ הַיֹּ֣ום הַזֶּ֔ה , in bone the day ...      2\n",
       "18                        בַּלַּ֣יְלָה , in the night      2\n",
       "19                       עַד־הַיֹּֽום׃ , unto the day      2\n",
       "20                                      עַתָּ֗ה , now      2\n",
       "21              בָּעֵ֣ת הַהִ֔וא , in the time the she      2\n",
       "22  אַחֲרֵי֙ הַדְּבָרִ֣ים הָאֵ֔לֶּה , after the wo...      2\n",
       "23                                 הַיֹּ֑ום , the day      2\n",
       "24                                     אַחַ֖ר , after      2\n",
       "25     שֶֽׁבַע־שָׁנִ֥ים אֲחֵרֹֽות׃ , seven year other      2\n",
       "26                                      עַתָּ֖ה , now      2\n",
       "27                                הַיֹּֽום׃ , the day      2\n",
       "28  בְּעֹ֣וד׀ שְׁלֹ֣שֶׁת יָמִ֗ים , in duration thr...      2\n",
       "29                                 הַיֹּ֛ום , the day      2\n",
       "30                   כָּל־הַיָּמִֽים׃ , whole the day      2"
      ]
     },
     "execution_count": 20,
     "metadata": {},
     "output_type": "execute_result"
    }
   ],
   "source": [
    "markers_df"
   ]
  },
  {
   "cell_type": "markdown",
   "metadata": {
    "deletable": true,
    "editable": true
   },
   "source": [
    "The data shows that much of the variation is due to differences in the noun object. In a future project, we could seek to separate content terms from their modifiers in order to get better time indicator groups."
   ]
  },
  {
   "cell_type": "markdown",
   "metadata": {
    "deletable": true,
    "editable": true
   },
   "source": [
    "## Distribution of Time Marked Clauses\n",
    "\n",
    "How are time indicators distributed throughout the corpus?\n",
    "\n",
    "First we look across the corpus. We will measure the number of clauses under the governance of an explicit time indicator and examine that per chapter. We present the results in a graph."
   ]
  },
  {
   "cell_type": "code",
   "execution_count": 21,
   "metadata": {
    "collapsed": true,
    "deletable": true,
    "editable": true
   },
   "outputs": [],
   "source": [
    "%matplotlib inline\n",
    "import matplotlib.pyplot as plt\n",
    "import numpy as np\n",
    "import seaborn as sns\n",
    "\n",
    "sns.set(style='whitegrid')"
   ]
  },
  {
   "cell_type": "code",
   "execution_count": 22,
   "metadata": {
    "collapsed": false,
    "deletable": true,
    "editable": true
   },
   "outputs": [],
   "source": [
    "def getChapter(node):\n",
    "    '''\n",
    "    Return the chapter number of a supplied node.\n",
    "    Requires TF node contained within a chapter unit.\n",
    "    '''\n",
    "    chapter_node = L.u(node, otype='chapter')[0]\n",
    "    chapter = F.chapter.v(chapter_node)\n",
    "    return chapter\n",
    "\n",
    "# lists of span clauses\n",
    "span_clauses = (span['clauses'] for span in time_spans)\n",
    "\n",
    "# holds the counts\n",
    "ch_counts = collections.Counter()\n",
    "\n",
    "# Based on ETCBC data structure,\n",
    "# it is expected that spans don't contain > 1 chapter,\n",
    "# due to the encoding process.\n",
    "# So we harvest chapter from 1st clause only, span[0]\n",
    "\n",
    "for span in span_clauses:\n",
    "    chapter = getChapter(span[0])\n",
    "    \n",
    "    # add any missing chapters to the count with 0 clauses\n",
    "    if chapter - 1 not in ch_counts:\n",
    "        ch_counts[chapter-1] = 0\n",
    "    \n",
    "    len_clauses = len(span)\n",
    "    ch_counts[chapter] += len_clauses "
   ]
  },
  {
   "cell_type": "code",
   "execution_count": 23,
   "metadata": {
    "collapsed": false,
    "deletable": true,
    "editable": true
   },
   "outputs": [],
   "source": [
    "# get x and y axes for plot\n",
    "clause_counts = list(count for count in ch_counts.values())\n",
    "chapters = list(chapter for chapter in ch_counts.keys())"
   ]
  },
  {
   "cell_type": "code",
   "execution_count": 24,
   "metadata": {
    "collapsed": false,
    "deletable": true,
    "editable": true,
    "scrolled": false
   },
   "outputs": [
    {
     "data": {
      "image/png": "[encoded data removed]",
      "text/plain": [
       "<matplotlib.figure.Figure at 0x1937a4780>"
      ]
     },
     "metadata": {},
     "output_type": "display_data"
    }
   ],
   "source": [
    "# configure plot\n",
    "plt.figure(figsize=(15,5.5)) # plot size\n",
    "plt.xticks(list(ch for ch in chapters)) # tick marks \n",
    "plt.xlabel('chapters', fontsize=12)\n",
    "plt.ylabel('marked clauses', fontsize=12)\n",
    "plt.title(s='Time-Span Marked Clauses Per Chapter in {}'.format(corpus), fontsize=15)\n",
    "\n",
    "chapter_plot = plt.plot(chapters, # x\n",
    "                        clause_counts, # y\n",
    "                        linewidth=1.5, \n",
    "                        color='#930b12')"
   ]
  },
  {
   "cell_type": "markdown",
   "metadata": {
    "deletable": true,
    "editable": true
   },
   "source": [
    "There are some interesting things happening between chapters 25 and 37, where the average number of marked clauses appears lower. Likewise with chapters 18-24, where the average appears higher.\n",
    "\n",
    "\n",
    "What, then, is the overall average number of clauses per chapter that are marked with a governing time marker?"
   ]
  },
  {
   "cell_type": "code",
   "execution_count": 25,
   "metadata": {
    "collapsed": false,
    "deletable": true,
    "editable": true
   },
   "outputs": [
    {
     "name": "stdout",
     "output_type": "stream",
     "text": [
      "45.49 average clauses under an explicit time marker per chapter\n"
     ]
    }
   ],
   "source": [
    "import statistics as stats\n",
    "\n",
    "# average marked clauses per chapter\n",
    "avg_clauses = stats.mean(ch_counts.values()) \n",
    "avg_clauses = round(avg_clauses, 2)\n",
    "\n",
    "print('{} average clauses under an explicit time marker per chapter'.format(avg_clauses))"
   ]
  },
  {
   "cell_type": "markdown",
   "metadata": {
    "deletable": true,
    "editable": true
   },
   "source": [
    "# Verb Use Among the Top 10 Most Common Markers \n",
    "\n",
    "Finally, we count the kinds of verb tenses found among the top 5 most common time markers in the corpus. We return to the `marker_to_span` dict created when we made the time markers inventory."
   ]
  },
  {
   "cell_type": "code",
   "execution_count": 26,
   "metadata": {
    "collapsed": false,
    "deletable": true,
    "editable": true
   },
   "outputs": [
    {
     "data": {
      "text/plain": [
       "[('בַּבֹּ֗קֶר , in the morning',\n",
       "  Counter({'impf': 10,\n",
       "           'impv': 1,\n",
       "           'infc': 1,\n",
       "           'perf': 9,\n",
       "           'total': 76,\n",
       "           'wayq': 55})),\n",
       " ('שְׁלֹשִׁ֣ים שָׁנָ֑ה , three year',\n",
       "  Counter({'infc': 3, 'perf': 1, 'total': 12, 'wayq': 8}))]"
      ]
     },
     "execution_count": 26,
     "metadata": {},
     "output_type": "execute_result"
    }
   ],
   "source": [
    "# gather top 10 most common time markers as keys\n",
    "# values are Counter objects in which verbs can be counted\n",
    "\n",
    "top_ten = dict((label[0], collections.Counter()) # tuple\n",
    "                       for label \n",
    "                       in timespan_inventory.most_common()[:10]) # top 10\n",
    "\n",
    "# create the counts \n",
    "# use marker_to_span to pull clause data\n",
    "for time_marker in top_ten:\n",
    "    \n",
    "    # all time spans with that marker\n",
    "    spans = marker_to_span[time_marker]\n",
    "\n",
    "    # find the clause, then the verb(s) and count the tenses\n",
    "    for span in spans:\n",
    "        \n",
    "        clauses = span['clauses'] # pull span clauses\n",
    "        \n",
    "        # find verb(s)\n",
    "        for clause in clauses: \n",
    "            verbs = (word for word in L.d(clause, otype='word') # get verbs\n",
    "                         if F.pdp.v(word) == 'verb') # word must be verb\n",
    "            \n",
    "            tenses = tuple(F.vt.v(verb) for verb in verbs) # get vb tenses\n",
    "            top_ten[time_marker]['total'] += len(tenses) # add to total\n",
    "            top_ten[time_marker].update(tenses) # update count\n",
    "\n",
    "\n",
    "top_ten = collections.OrderedDict(top_ten) # preserve order\n",
    "    \n",
    "# sample:\n",
    "list(top_ten.items())[:2]"
   ]
  },
  {
   "cell_type": "markdown",
   "metadata": {
    "deletable": true,
    "editable": true
   },
   "source": [
    "### Now we create the visualization! \n",
    "\n",
    "For each of the top 10 time markers, we make a pie chart. Each slice of the pie will represent a verb tense. Each verb tense is presented as a proportion of the total tenses in the time span. To keep the charts close together, we use a subplot..."
   ]
  },
  {
   "cell_type": "code",
   "execution_count": 27,
   "metadata": {
    "collapsed": true,
    "deletable": true,
    "editable": true
   },
   "outputs": [],
   "source": [
    "def getPercent(amount, total):\n",
    "    '''\n",
    "    Return a simple percentage rounded to nearest 2.\n",
    "    '''\n",
    "    return round((amount/total)*100,2)"
   ]
  },
  {
   "cell_type": "code",
   "execution_count": 28,
   "metadata": {
    "collapsed": false,
    "deletable": true,
    "editable": true
   },
   "outputs": [
    {
     "data": {
      "image/png": "[encoded data removed]",
      "text/plain": [
       "<matplotlib.figure.Figure at 0x193aebba8>"
      ]
     },
     "metadata": {},
     "output_type": "display_data"
    }
   ],
   "source": [
    "# get all verb tenses for labels\n",
    "all_tenses = sorted(set(tense for marker in top_ten\n",
    "                           for tense in top_ten[marker]\n",
    "                               if tense != 'total'))\n",
    "\n",
    "# separator value for pie chart\n",
    "explode = (list(0.03 for i in \n",
    "                    range(len(all_tenses))\n",
    "                        ))\n",
    "\n",
    "# hex codes for pie chart\n",
    "colors = ('#e3d9f2','#225767', \n",
    "          '#256f61','#3784a4',\n",
    "          '#81c5d5','#3a7a29',\n",
    "          '#39ac9b')\n",
    "\n",
    "# rows / columns of subplot\n",
    "nrows, ncols = 2, 5 \n",
    "    \n",
    "fig = plt.figure() # initialize plt fig\n",
    "\n",
    "# create the subplot pie charts for each of the 10 top markers\n",
    "# enumerate to assign chart location in the subplot\n",
    "for i, marker in enumerate(top_ten):\n",
    "    \n",
    "    i += 1 # subplot grid location\n",
    "    data = top_ten[marker] # get verb data\n",
    "\n",
    "    # fill in any missing tenses\n",
    "    tense_percentages = list()\n",
    "    for tense in all_tenses:\n",
    "        tense_total = data.get(tense, 0) # return 0 if not present\n",
    "        tense_percent = getPercent(tense_total, data['total']) \\\n",
    "                            if tense_total != 0 else 0 # avoid zero error on percentage calc.\n",
    "        tense_percentages.append(tense_percent)\n",
    "    \n",
    "    # build subplots\n",
    "    fig.add_subplot(nrows, ncols, i)\n",
    " \n",
    "    # set dimensions\n",
    "    fig.set_figheight(10)\n",
    "    fig.set_figwidth(25)\n",
    "    \n",
    "    plt.pie(tense_percentages, \n",
    "            colors=colors,\n",
    "            explode=explode, # separate slices\n",
    "            labels=all_tenses, \n",
    "            autopct='%.0f%%')\n",
    "    plt.title(marker.split(',')[1]) # title with English gloss"
   ]
  },
  {
   "cell_type": "markdown",
   "metadata": {
    "deletable": true,
    "editable": true
   },
   "source": [
    "The lavender slices represent the 'imperfect' verb (\"yiqtol\"), the typical verb of discourse, while the aquamarine slices represent the 'preterite' (\"wayyiqtol\"), the typical verb of narrative.\n",
    "\n",
    "Already an interesting pattern may be developing with the time indicators \"day,\" and \"now.\" \"Day\" is included more than once, it seems, because of a slight difference in vocalization. It may be useful in the future to weed out these sorts of differences. But for now, the tendency of these time phrases to line up with the \"imperfect\" verb form shows some promising possibilities for future analysis."
   ]
  },
  {
   "cell_type": "markdown",
   "metadata": {
    "collapsed": true,
    "deletable": true,
    "editable": true
   },
   "source": [
    "## Conclusions\n",
    "\n",
    "Not all time indicators are yet accounted for in the time spans builder. For example, infinitives with certain prepositions (ex: ב + infinitive), or substantives with a time sense, need to be accounted for in the `getTime()` function to account for more possibilities. For an actual example, see [Gen. 2.4.2 in the time spans visualization](https://cdn.rawgit.com/codykingham/tfNotebooks/fb422cbf/timeSpans/Genesis_timespans.html) where the phrase בהבראם (\"when they were made\") occurs but is not detected.\n",
    "\n",
    "Another adjustment to be made in the future: the time phrases ought to be grouped together by similar construction, but in some cases, the difference in substantive should not be accounted for. \n",
    "\n",
    "Questions for further investigation:\n",
    "1. Does ביום (\"in the day/time\") occur most frequently alongside the yiqtol and other discourse verbs elsewhere in Hebrew narratives as it does here? What about within the time indicators that occur less than the top ten?\n",
    "2. What exactly constitutes the semantic information of a \"time indicator\" in a given substantive, and can it be automatically generated from the text through certain patterns? "
   ]
  }
 ],
 "metadata": {
  "kernelspec": {
   "display_name": "Python 3",
   "language": "python",
   "name": "python3"
  },
  "language_info": {
   "codemirror_mode": {
    "name": "ipython",
    "version": 3
   },
   "file_extension": ".py",
   "mimetype": "text/x-python",
   "name": "python",
   "nbconvert_exporter": "python",
   "pygments_lexer": "ipython3",
   "version": "3.6.0"
  }
 },
 "nbformat": 4,
 "nbformat_minor": 2
}
