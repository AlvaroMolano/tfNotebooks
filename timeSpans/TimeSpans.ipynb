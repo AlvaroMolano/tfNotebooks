{
 "cells": [
  {
   "cell_type": "markdown",
   "metadata": {},
   "source": [
    "<div style=\"text-align:center; font-size: 120%\">\n",
    "<h1>Time Spans</h1>\n",
    "<br>\n",
    "<span>A project to identify and mark time-markers in clauses and the clause chains that they affect.</span>\n",
    "</div>"
   ]
  },
  {
   "cell_type": "markdown",
   "metadata": {},
   "source": [
    "## Get ETCBC Data"
   ]
  },
  {
   "cell_type": "code",
   "execution_count": 1,
   "metadata": {
    "collapsed": true
   },
   "outputs": [],
   "source": [
    "import collections as collect\n",
    "import itertools\n",
    "from IPython.display import display, HTML"
   ]
  },
  {
   "cell_type": "code",
   "execution_count": 2,
   "metadata": {
    "collapsed": false
   },
   "outputs": [
    {
     "name": "stdout",
     "output_type": "stream",
     "text": [
      "This is Text-Fabric 2.3.0\n",
      "Api reference : https://github.com/ETCBC/text-fabric/wiki/Api\n",
      "Tutorial      : https://github.com/ETCBC/text-fabric/blob/master/docs/tutorial.ipynb\n",
      "Data sources  : https://github.com/ETCBC/text-fabric-data\n",
      "Data docs     : https://etcbc.github.io/text-fabric-data\n",
      "Shebanq docs  : https://shebanq.ancient-data.org/text\n",
      "Slack team    : https://shebanq.slack.com/signup\n",
      "Questions? Ask shebanq@ancient-data.org for an invite to Slack\n",
      "109 features found and 0 ignored\n",
      "  0.00s loading features ...\n",
      "   |     0.01s B book                 from /Users/Cody/github/text-fabric-data/Hebrew/etcbc4c\n",
      "   |     0.01s B chapter              from /Users/Cody/github/text-fabric-data/Hebrew/etcbc4c\n",
      "   |     0.01s B verse                from /Users/Cody/github/text-fabric-data/Hebrew/etcbc4c\n",
      "   |     0.19s B g_word_utf8          from /Users/Cody/github/text-fabric-data/Hebrew/etcbc4c\n",
      "   |     0.23s B lex_utf8             from /Users/Cody/github/text-fabric-data/Hebrew/etcbc4c\n",
      "   |     0.07s B function             from /Users/Cody/github/text-fabric-data/Hebrew/etcbc4c\n",
      "   |     0.13s B pdp                  from /Users/Cody/github/text-fabric-data/Hebrew/etcbc4c\n",
      "   |     0.12s B vt                   from /Users/Cody/github/text-fabric-data/Hebrew/etcbc4c\n",
      "   |     0.13s B lex                  from /Users/Cody/github/text-fabric-data/Hebrew/etcbc4c\n",
      "   |     0.18s B mother               from /Users/Cody/github/text-fabric-data/Hebrew/etcbc4c\n",
      "   |     0.02s B tab                  from /Users/Cody/github/text-fabric-data/Hebrew/etcbc4c\n",
      "   |     0.00s Feature overview: 103 nodes; 5 edges; 1 configs; 7 computeds\n",
      "  5.55s All features loaded/computed - for details use loadLog()\n"
     ]
    }
   ],
   "source": [
    "from tf.fabric import Fabric\n",
    "\n",
    "TF = Fabric(modules='Hebrew/etcbc4c')\n",
    "api = TF.load('''\n",
    "              book chapter verse \n",
    "              function pdp vt\n",
    "              lex lex_utf8 g_word_utf8\n",
    "              mother tab\n",
    "              ''')\n",
    "api.makeAvailableIn(globals())"
   ]
  },
  {
   "cell_type": "code",
   "execution_count": 11,
   "metadata": {
    "collapsed": false
   },
   "outputs": [],
   "source": [
    "def getLabel(clauseNode):\n",
    "    '''\n",
    "    convert a Text-Fabric node number into a label\n",
    "    return a label of form: book.chapter.verse.clause\n",
    "    '''\n",
    "    bookNode = L.u(clauseNode, otype='book')[0]\n",
    "    chapterNode = L.u(clauseNode, otype='chapter')[0]\n",
    "    verseNode = L.u(clauseNode, otype='verse')[0]\n",
    "    verseClauses = list(L.d(verseNode, otype='clause_atom'))\n",
    "    clauseNum = verseClauses.index(clauseNode) + 1\n",
    "    clauseLabel = '{}.{}.{}.{}'.format(F.book.v(bookNode), \n",
    "                                       F.chapter.v(chapterNode), \n",
    "                                       F.verse.v(verseNode), \n",
    "                                       clauseNum)\n",
    "    return clauseLabel\n",
    "    \n",
    "def getEtcbcData(corpus):\n",
    "    '''\n",
    "    Gather the needed data from the Text-Fabric module;\n",
    "    label clauses with a simple reference tag (ex. Psalms.1.1.1)\n",
    "    return an embedded dictionary keyed by data labels...;\n",
    "    '''\n",
    "    # the corpus argument is a string; \n",
    "    # find the node number with a feature value that matches the corpus string\n",
    "    # there will be only 1 result, so we use 'next' to pull the first result from the generator \n",
    "    corpus = next(book for book in F.otype.s('book') if F.book.v(book) == corpus)\n",
    "    \n",
    "    # now we pull all the clause node numbers from the corpus:\n",
    "    clauseNodes = L.d(corpus, otype='clause_atom')\n",
    "\n",
    "    # create a mapping for each mother clause to its daughter clauses\n",
    "    # in Text-Fabric that information is stored the other way around\n",
    "    # so we build up that data with a defaultdict with a list value:\n",
    "    motherToDaughters = collect.defaultdict(list)\n",
    "    for clause in clauseNodes:\n",
    "        if F.tab.v(clause) == 0: # do not store parallel daughter clauses\n",
    "            continue\n",
    "        daughter = getLabel(clause)\n",
    "        for mother in E.mother.f(clause):\n",
    "            motherToDaughters[mother].append(daughter)\n",
    "    \n",
    "    # we will store all of the clause data in this dict:\n",
    "    clauses = collect.OrderedDict()\n",
    "    \n",
    "    # iterate over the clause node numbers and gather the data to be returned\n",
    "    # the data is stored in the clauses ordered dictionary\n",
    "    for clause in clauseNodes:\n",
    "        clauseLabel = getLabel(clause)\n",
    "        wordNodes = L.d(clause, otype='word')\n",
    "        text = T.text(wordNodes)\n",
    "        indentation = F.tab.v(clause)\n",
    "        phraseNodes = L.d(clause, otype='phrase')\n",
    "        timePhrases = tuple(phrase for phrase in phraseNodes if F.function.v(phrase) == 'Time')\n",
    "        timePhraseText = tuple(T.text(L.d(phrase, otype='word')) for phrase in timePhrases)\n",
    "        daughters = motherToDaughters.get(clause, [])\n",
    "        mother = getLabel(E.mother.f(clause)[0]) if E.mother.f(clause) else None\n",
    "        clauses[clauseLabel] = {\n",
    "                                'text': text,\n",
    "                                'timePhraseText': timePhraseText,\n",
    "                                'daughters': daughters,\n",
    "                                'mother': mother,\n",
    "                                'timeCategories':[],\n",
    "                                'indentation':indentation,\n",
    "                                'etcbcClauseNode': clause #!! REMOVE LATER\n",
    "                                }\n",
    "    return clauses"
   ]
  },
  {
   "cell_type": "markdown",
   "metadata": {},
   "source": [
    "# Process Time Spans"
   ]
  },
  {
   "cell_type": "code",
   "execution_count": 16,
   "metadata": {
    "collapsed": false
   },
   "outputs": [],
   "source": [
    "def climbClauseTree(clause, clauseDict, span, coverage):\n",
    "    '''\n",
    "    recursively climb the clause tree and build the time spans\n",
    "    if a time marker occurs inside the tree, break the span \n",
    "    span is a list that accrues as the code descends the tree\n",
    "    coverage is a set that tracks which clauses are accounted for\n",
    "    '''    \n",
    "    for daughter in clauseDict[clause]['daughters']:\n",
    "        timeMarkers = clauseDict[daughter]['timePhraseText']\n",
    "        if timeMarkers:\n",
    "            continue\n",
    "        else:\n",
    "            span.append(daughter)\n",
    "            coverage.add(daughter)\n",
    "            climbClauseTree(daughter, clauseDict, span, coverage)\n",
    "\n",
    "def buildTimeSpans(clauseDict):\n",
    "    '''\n",
    "    loop through all clauses and call the climbClauseTree function\n",
    "    each timespan is stored in timeSpans dict, keyed by its first clause\n",
    "    coverage tracks which clauses are accounted for to avoid overlap\n",
    "    '''\n",
    "    timeSpans = collect.OrderedDict()\n",
    "    coverage = set()\n",
    "    for clause, cData in clauseDict.items():\n",
    "        if clause not in coverage and cData['timePhraseText']:\n",
    "            span = []\n",
    "            span.append(clause)\n",
    "            climbClauseTree(clause, clauseDict, span, coverage)\n",
    "            timeSpans[clause] = span\n",
    "    return timeSpans"
   ]
  },
  {
   "cell_type": "code",
   "execution_count": 80,
   "metadata": {
    "collapsed": false
   },
   "outputs": [],
   "source": [
    "def writeHTML(clauseDict, spanDict, title):\n",
    "    '''\n",
    "    compile HTML code to display:\n",
    "        1. plain text clauses\n",
    "        2. indent clauses based on relationship to each other\n",
    "        3. shade each clause within each time-span\n",
    "    '''\n",
    "    \n",
    "    # open and assign the required HTML templates: \n",
    "    with open('HTMLTemplates/doc.txt') as docTemplate, \\\n",
    "             open('HTMLTemplates/dataPlain.txt') as dataPlainTemplate, \\\n",
    "             open('HTMLTemplates/dataColor.txt') as dataColorTemplate: \n",
    "        document = docTemplate.read()\n",
    "        dataPlain = dataPlainTemplate.read().replace('\\n','').replace('\\t','')\n",
    "        dataColor = dataColorTemplate.read().replace('\\n','').replace('\\t','')\n",
    "\n",
    "    # basic HTML characters/formatting \n",
    "    formatting = {\n",
    "                'tab' : '&nbsp&nbsp&nbsp&nbsp',\n",
    "                'colors' : itertools.cycle(('#addfff','#a3e2a1'))\n",
    "                 }\n",
    "\n",
    "    # clauses in this set will receive color formatting\n",
    "    inTimeSpan = set(clause for span in spanDict \n",
    "                     for clause in spanDict[span])\n",
    "    \n",
    "    HTMLBody = ''\n",
    "\n",
    "    for clause, clauseData in clauseDict.items():\n",
    "\n",
    "        if clause in spanDict:    # receives special formatting\n",
    "            firstClause = clause\n",
    "            switchColor = next(formatting['colors'])\n",
    "            for spanClause in spanDict[firstClause]:\n",
    "                spanClauseData = clauseDict[spanClause]\n",
    "                currentColor = switchColor\n",
    "                clauseLabel = formatting['tab'] + spanClause\n",
    "                indentation = formatting['tab'] * spanClauseData['indentation']\n",
    "                text = spanClauseData['text'] + indentation\n",
    "                formattedClause = dataColor.format(color=currentColor, # fill HTML template\n",
    "                                                   text=text,\n",
    "                                                   label=clauseLabel)\n",
    "                HTMLBody += formattedClause # full code\n",
    "                \n",
    "        elif clause not in inTimeSpan: # do not receive special formatting\n",
    "            clauseLabel = formatting['tab'] + clause\n",
    "            indentation = formatting['tab'] * clauseData['indentation']\n",
    "            text = clauseData['text'] + indentation\n",
    "            formattedClause = dataPlain.format(text=text,\n",
    "                                               label=clauseLabel)\n",
    "            HTMLBody += formattedClause\n",
    "            \n",
    "        else:\n",
    "            continue\n",
    "            \n",
    "    HTMLDocument = document.format(data=HTMLBody,\n",
    "                                   title=title)\n",
    "    return HTMLDocument"
   ]
  },
  {
   "cell_type": "code",
   "execution_count": 90,
   "metadata": {
    "collapsed": false
   },
   "outputs": [],
   "source": [
    "corpus = 'Genesis'\n",
    "test = getEtcbcData(corpus)"
   ]
  },
  {
   "cell_type": "code",
   "execution_count": 91,
   "metadata": {
    "collapsed": false
   },
   "outputs": [],
   "source": [
    "spans = buildTimeSpans(test)"
   ]
  },
  {
   "cell_type": "code",
   "execution_count": 92,
   "metadata": {
    "collapsed": false
   },
   "outputs": [],
   "source": [
    "title = fr'Time Spans in {corpus}'\n",
    "\n",
    "timeSpanDoc = writeHTML(test, spans, title)\n",
    "with open('test.html', 'w') as file:\n",
    "    file.write(timeSpanDoc)"
   ]
  },
  {
   "cell_type": "code",
   "execution_count": null,
   "metadata": {
    "collapsed": true
   },
   "outputs": [],
   "source": []
  }
 ],
 "metadata": {
  "kernelspec": {
   "display_name": "Python 3",
   "language": "python",
   "name": "python3"
  },
  "language_info": {
   "codemirror_mode": {
    "name": "ipython",
    "version": 3
   },
   "file_extension": ".py",
   "mimetype": "text/x-python",
   "name": "python",
   "nbconvert_exporter": "python",
   "pygments_lexer": "ipython3",
   "version": "3.6.0"
  }
 },
 "nbformat": 4,
 "nbformat_minor": 2
}
