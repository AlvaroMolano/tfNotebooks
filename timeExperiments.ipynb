{
 "cells": [
  {
   "cell_type": "markdown",
   "metadata": {},
   "source": [
    "# Tense, Aspect, and Time in Hebrew Psalms\n",
    "Goal: Explore the relationship between tense, aspect, and time markers in biblical Hebrew poetry by examining the correlation between time markers in biblical Hebrew clauses and verb forms.<br>\n",
    "<br>\n",
    "What is needed to **build** the data?<br>\n",
    "1. **collect and categorise time markers into kind of time or aspect indicators** - This is the most difficult step, as seen below\n",
    "2. gather all clauses that contain a time or aspect indicator\n",
    "3. segment clause sections until:\n",
    "    * a new time indicator occurs OR\n",
    "    * the inheritance line is broken by a higher connection"
   ]
  },
  {
   "cell_type": "markdown",
   "metadata": {},
   "source": [
    "## Discussion for the 3 needs:\n",
    "\n",
    "### Categorising time markers\n",
    "What kinds of features in the ETCBC4c are relevant for building the data? What other kinds of parameters can I think of? Time indicators should not only be time-oriented lexemes, but also syntactic constructions.<br><br>\n",
    "Relevant features:\n",
    "* `function`\n",
    "    * = `'Time'`\n",
    "* `pdp`\n",
    "    * = `'adverb'`\n",
    "    * = `'preposition'`, esp. temporal expressions, how to determine?\n",
    "    * = `'adjective'` ?, i.e. in the case of verbless statements, or as modifier of nouns? -explore\n",
    "\n",
    "Other features, i.e. exploration and custom searches such as patterns (יום ביום)\n",
    "* `nametype` ? - explore\n",
    "    * =`'mens'` \"measurement units\" ?\n",
    "* `ls`\n",
    "    * = `'nmdi'` -  distributive noun\n",
    "    * = `'padv'` - potential adverb\n",
    "    * = `'ordn'` ordinal numbers\n",
    "\n",
    "Let's perform some cursory searches to inventory what is present in the features already..."
   ]
  },
  {
   "cell_type": "code",
   "execution_count": 1,
   "metadata": {
    "collapsed": false
   },
   "outputs": [
    {
     "name": "stdout",
     "output_type": "stream",
     "text": [
      "This is Text-Fabric 2.0.0\n",
      "Api reference : https://github.com/ETCBC/text-fabric/wiki/Api\n",
      "Tutorial      : https://github.com/ETCBC/text-fabric/blob/master/docs/tutorial.ipynb\n",
      "Data sources  : https://github.com/ETCBC/text-fabric-data\n",
      "Data docs     : https://etcbc.github.io/text-fabric-data/features/hebrew/etcbc4c/0_overview.html\n",
      "Shebanq docs  : https://shebanq.ancient-data.org/text\n",
      "Slack team    : https://shebanq.slack.com/signup\n",
      "Questions? Ask shebanq@ancient-data.org for an invite to Slack\n",
      "106 features found and 0 ignored\n"
     ]
    }
   ],
   "source": [
    "from tf.fabric import Fabric\n",
    "\n",
    "TF = Fabric(modules='Hebrew/etcbc4c')"
   ]
  },
  {
   "cell_type": "code",
   "execution_count": 2,
   "metadata": {
    "collapsed": false
   },
   "outputs": [
    {
     "name": "stdout",
     "output_type": "stream",
     "text": [
      "  0.00s loading features ...\n",
      "   |     0.05s B otype                from /Users/Cody/github/text-fabric-data/Hebrew/etcbc4c\n",
      "   |     0.01s B book                 from /Users/Cody/github/text-fabric-data/Hebrew/etcbc4c\n",
      "   |     0.01s B chapter              from /Users/Cody/github/text-fabric-data/Hebrew/etcbc4c\n",
      "   |     0.01s B verse                from /Users/Cody/github/text-fabric-data/Hebrew/etcbc4c\n",
      "   |     0.29s B g_cons               from /Users/Cody/github/text-fabric-data/Hebrew/etcbc4c\n",
      "   |     0.29s B g_cons_utf8          from /Users/Cody/github/text-fabric-data/Hebrew/etcbc4c\n",
      "   |     0.10s B function             from /Users/Cody/github/text-fabric-data/Hebrew/etcbc4c\n",
      "   |     0.20s B pdp                  from /Users/Cody/github/text-fabric-data/Hebrew/etcbc4c\n",
      "   |     0.01s B nametype             from /Users/Cody/github/text-fabric-data/Hebrew/etcbc4c\n",
      "   |     0.27s B ls                   from /Users/Cody/github/text-fabric-data/Hebrew/etcbc4c\n",
      "   |     0.20s B vt                   from /Users/Cody/github/text-fabric-data/Hebrew/etcbc4c\n",
      "   |     0.21s B lex                  from /Users/Cody/github/text-fabric-data/Hebrew/etcbc4c\n",
      "   |     0.01s B gloss                from /Users/Cody/github/text-fabric-data/Hebrew/etcbc4c\n",
      "   |     0.00s Feature overview: 101 nodes; 4 edges; 1 configs; 6 computeds\n",
      "  7.75s All features loaded/computed - for details use loadLog()\n"
     ]
    }
   ],
   "source": [
    "api = TF.load(\"\"\"\n",
    "otype book chapter verse\n",
    "function pdp nametype ls\n",
    "vt lex g_cons g_cons_utf8 gloss\n",
    "\"\"\")"
   ]
  },
  {
   "cell_type": "code",
   "execution_count": 3,
   "metadata": {
    "collapsed": true
   },
   "outputs": [],
   "source": [
    "api.makeAvailableIn(globals())"
   ]
  },
  {
   "cell_type": "code",
   "execution_count": 4,
   "metadata": {
    "collapsed": true
   },
   "outputs": [],
   "source": [
    "# set corpus to Psalms\n",
    "corpus = 'Psalmi'"
   ]
  },
  {
   "cell_type": "code",
   "execution_count": 5,
   "metadata": {
    "collapsed": false
   },
   "outputs": [
    {
     "name": "stdout",
     "output_type": "stream",
     "text": [
      "101 function_time phrases in the Psalms\n",
      "271 occurrences of function_time phrases in the Psalms\n",
      "\n",
      "39             L <WLM\n",
      "25           KL H JWM\n",
      "11               TMJD\n",
      "11              L NYX\n",
      "7              B JWM\n",
      "6          L DR W DR\n",
      "6               L <D\n",
      "6             B  BQR\n",
      "5               JWMM\n",
      "5            B  LJLH\n",
      "5    M <TH W <D <WLM\n",
      "5             <D >NH\n",
      "5        L <WLM W <D\n",
      "5               <WLM\n",
      "5            B KL <T\n",
      "4             <DJ <D\n",
      "4        JWMM W LJLH\n",
      "3              H JWM\n",
      "3           B KL JWM\n",
      "3            <D <WLM\n",
      "3             L  <RB\n",
      "3          <WLM W <D\n",
      "3               LJLH\n",
      "3                <TH\n",
      "3             <D MTJ\n",
      "2          B JWM YRH\n",
      "2             L  BQR\n",
      "2          B JWM R<H\n",
      "2         B JWM YRTJ\n",
      "2                NYX\n",
      "2                QDM\n",
      "2            JWM JWM\n",
      "2             B <WDJ\n",
      "2         KL JMJ XJJ\n",
      "2                BQR\n",
      "2              L <LM\n",
      "2        L <D L <WLM\n",
      "2         L >RK JMJM\n",
      "2                 >Z\n",
      "2           B  LJLWT\n",
      "2                JWM\n",
      "2              B XJJ\n",
      "1         B KL JMJNW\n",
      "1    MN H <WLM W <D H <WLM\n",
      "1                >XR\n",
      "1              <D <T\n",
      "1             <WLMJM\n",
      "1             KL JWM\n",
      "1    B  CMJM W B  >RY\n",
      "1         L DR W DWR\n",
      "1              YHRJM\n",
      "1             B  XDC\n",
      "1             B  <RB\n",
      "1          B JWM QRB\n",
      "1       B  JWM H HW>\n",
      "1    M H <WLM W <D H <WLM\n",
      "1              B <TW\n",
      "1     M <WLM <D <WLM\n",
      "1          B XYJ JMJ\n",
      "1             B JMJW\n",
      "1              <D MH\n",
      "1        B JMJ R<BWN\n",
      "1          B JWM NCQ\n",
      "1              K RG<\n",
      "1                 <T\n",
      "1    B  KSH L JWM XGNW\n",
      "1          KL H LJLH\n",
      "1         B JWM >JDJ\n",
      "1             L PNJM\n",
      "1        KL JMJ XJJK\n",
      "1          B DWR >XR\n",
      "1          B KL LJLH\n",
      "1         >RB<JM CNH\n",
      "1            <DJ <RB\n",
      "1         L <LM W <D\n",
      "1        K JMWT CNWT\n",
      "1          L <T PNJK\n",
      "1            <T RYWN\n",
      "1          DWR DWRJM\n",
      "1           B JMJ R<\n",
      "1             <D NYX\n",
      "1             B FJBH\n",
      "1               L <T\n",
      "1    L DR W DR <D <WLM\n",
      "1    <RB W BQR W YHRJM\n",
      "1        M JWM L JWM\n",
      "1             B XJJW\n",
      "1    B JWM XJLK B HDRJ QDC\n",
      "1          B DR W DR\n",
      "1             <D HNH\n",
      "1      L <TWT B  YRH\n",
      "1           B <T YRH\n",
      "1          L <T ZQNH\n",
      "1           L <WLMJM\n",
      "1           L  BQRJM\n",
      "1    B JMJHM B JMJ QDM\n",
      "1           >P LJLWT\n",
      "1          XYWT LJLH\n",
      "1          B JWM >PW\n",
      "1           B <T R<H\n",
      "1               M >Z\n"
     ]
    }
   ],
   "source": [
    "import collections as col\n",
    "\n",
    "# make an inventory of phrases with time function\n",
    "# the dict's keys are the consonantal, transliterated texts of the phrase\n",
    "# clauses are stored in set for printing passage text\n",
    "function_time = col.defaultdict(set)\n",
    "function_time_occ = 0\n",
    "\n",
    "# loop through all phrase types; take only phrases in corpus\n",
    "for phrase in F.otype.s('phrase'):\n",
    "    book = L.u(phrase, otype='book')[0]     # calculate current book node\n",
    "    book = F.book.v(book)                   # convert book node number to book string\n",
    "    if book != corpus:                      # check book string against corpus name\n",
    "        continue                            # skip to the next node if not in corpus\n",
    "    if F.function.v(phrase) == 'Time':\n",
    "        words = [F.g_cons.v(word) for word in L.d(phrase, otype = 'word')] # list comprehension to gather consonantal text of phrases \n",
    "        time_tag = ' '.join(words)              # compile into string to function as dict key in inventory\n",
    "        clause = L.u(phrase, otype = 'clause')  # look up the embedding clause\n",
    "        function_time[time_tag].add(clause)     # store it\n",
    "        function_time_occ += 1                  # up the occurrence count\n",
    "         \n",
    "# Let's look at the results...\n",
    "# print all to analyze\n",
    "print('{} function_time phrases in the Psalms'.format(len(function_time)))\n",
    "print('{} occurrences of function_time phrases in the Psalms\\n'.format(function_time_occ))\n",
    "for time_tag, occurrence in sorted(list((key, len(data)) for key, data in function_time.items()),\\\n",
    "key = lambda k: -k[1]):\n",
    "    print('{}    {:>15}'.format(occurrence, time_tag))"
   ]
  },
  {
   "cell_type": "code",
   "execution_count": 22,
   "metadata": {
    "collapsed": false
   },
   "outputs": [
    {
     "data": {
      "text/plain": [
       "['prep', 'subs']"
      ]
     },
     "execution_count": 22,
     "metadata": {},
     "output_type": "execute_result"
    }
   ],
   "source": [
    "phrase_node = None\n",
    "\n",
    "for phrase in L.d(489272, otype='phrase'): phrase_node = phrase if F.function.v(phrase) == 'Time' else phrase_node\n",
    "    \n",
    "[F.pdp.v(word) for word in L.d(phrase_node, otype='word')]"
   ]
  },
  {
   "cell_type": "markdown",
   "metadata": {},
   "source": [
    "Methodological problem: <br>\n",
    "By what methodology can tense or aspect be linked to a given lexeme? What is considered a past, present, or future tense lemma? And does it always function as such? If other contextual elements contribute to the sense, what elements?\n",
    "<br><br>\n",
    "ל (L) &nbsp;&nbsp;-&nbsp;&nbsp; seems to sometimes convey duration followed by a time-noun<br>\n",
    "    * See for example L <WLM, L NYX, L <D, L  <RB\n",
    "ב (B) &nbsp;&nbsp;-&nbsp;&nbsp; conveys specific times\n",
    "    * B JWM, B  BQR, B  LJLH\n",
    "But also B can convey more \"durative\"? time lengths when paired with a modifier like KL:\n",
    "    * B KL <T, B KL JWM\n",
    "These provide some basic working theories...but they are still based on intuition. Is there a way to establish the preposition's role in time phrases more objectively?<br>\n",
    "ideas:\n",
    "    * examine prepositions' roles in simpler, narrative texts that might clarify the roles.\n",
    "    * other ways?...\n",
    "<br><br>\n",
    "The common pattern, at least in these examples, seems to be:<br> &nbsp;&nbsp;&nbsp;&nbsp;`preposition + time_noun`<br>\n",
    "The time noun can also take on an adjective like KL.<br><br>**To do later: inventory phrase constituents in function_time phrases.**<br>\n",
    "\n"
   ]
  },
  {
   "cell_type": "code",
   "execution_count": 121,
   "metadata": {
    "collapsed": false
   },
   "outputs": [
    {
     "name": "stdout",
     "output_type": "stream",
     "text": [
      "CHAPTERS WITHOUT TIME_PHRASES in Psalmi:\n",
      "\n",
      "3, 4, 8, 11, 14, 24, 26, 28, 29, 36, 39, 40, 43, 46, 47, 51, 53, 54, 57, 58, 60, 63, 64, 65, 67, 70, 76, 84, 87, 94, 97, 98, 99, 100, 107, 108, 114, 116, 117, 118, 120, 122, 123, 124, 126, 127, 129, 130, 133, 135, 136, 137, 139, 141, 142, 144, 147, 149, 150, \n",
      "\n",
      "59/150 (39.33%) chapters of Psalmi contain no time_phrases\n",
      "\n",
      "\n"
     ]
    }
   ],
   "source": [
    "# side query:\n",
    "# are there any chapters that occur without function_time phrases in Psalms?\n",
    "\n",
    "def time_phrase_ch(chapter_node):\n",
    "    \"\"\"\n",
    "    inventory phrase-functions for a given chapter node\n",
    "    return boolean for presence or absence of function_time phrase\n",
    "    \"\"\"\n",
    "    cn = chapter_node                # abbreviate, long name fyi\n",
    "    phrase_functions = set(F.function.v(pf) for pf in L.d(cn, otype='phrase'))  # find all the phrase functions in the chapter \n",
    "    if 'Time' in phrase_functions:\n",
    "        return True\n",
    "    else:\n",
    "        return False\n",
    "    \n",
    "def percent(occ, total):\n",
    "    \"\"\"\n",
    "    calculate and return rounded percentages for result printing\n",
    "    \"\"\"\n",
    "    raw_percent = (occ/total) * 100\n",
    "    round_off_2 = round(raw_percent, 2)\n",
    "    return round_off_2\n",
    "    \n",
    "def give_tp_chs(corp):\n",
    "    \"\"\"\n",
    "    display time_phrase chapters and stats for a given corpus\n",
    "    \"\"\"\n",
    "    total_none = 0\n",
    "    total_chs = 0\n",
    "    print('CHAPTERS WITHOUT TIME_PHRASES in {}:\\n'.format(corp))\n",
    "    for cn in F.otype.s('chapter'):\n",
    "        if F.book.v(cn) != corp:\n",
    "            continue\n",
    "        total_chs += 1\n",
    "        if not time_phrase_ch(cn):\n",
    "            print(F.chapter.v(cn), end= ', ')\n",
    "            total_none += 1\n",
    "    print('\\n\\n{}/{} ({}%) chapters of {} contain no time_phrases\\n\\n'.format(total_none, total_chs, \n",
    "                                                                       percent(total_none, total_chs),\n",
    "                                                                        corp\n",
    "                                                                      ))\n",
    "    \n",
    "give_tp_chs(corpus)"
   ]
  },
  {
   "cell_type": "markdown",
   "metadata": {},
   "source": [
    "This highlights the necessity of identifying other kinds of tense/aspect indicators. Also, what if a text contains no  identifiable external time/aspect indicators? Then what role does TA play if any? Does the verb contribute to TA in this case, or are the functions purely a-temporal and discourse-oriented?<br><br>\n",
    "How does this compare with a narrative text like Genesis?"
   ]
  },
  {
   "cell_type": "code",
   "execution_count": 122,
   "metadata": {
    "collapsed": false
   },
   "outputs": [
    {
     "name": "stdout",
     "output_type": "stream",
     "text": [
      "CHAPTERS WITHOUT TIME_PHRASES in Genesis:\n",
      "\n",
      "36, \n",
      "\n",
      "1/50 (2.0%) chapters of Genesis contain no time_phrases\n",
      "\n",
      "\n"
     ]
    }
   ],
   "source": [
    "give_tp_chs('Genesis')"
   ]
  },
  {
   "cell_type": "markdown",
   "metadata": {},
   "source": [
    "A significant difference! Data-wise, the Psalms poetry contains far fewer explicit time_phrases (leaving aside for the time being the size diff. between corpora). What is Gen. 36?"
   ]
  },
  {
   "cell_type": "code",
   "execution_count": 136,
   "metadata": {
    "collapsed": false
   },
   "outputs": [
    {
     "name": "stdout",
     "output_type": "stream",
     "text": [
      "1 וְאֵ֛לֶּה תֹּלְדֹ֥ות עֵשָׂ֖ו ה֥וּא אֱדֹֽום׃ \n",
      "2 עֵשָׂ֛ו לָקַ֥ח אֶת־נָשָׁ֖יו מִבְּנֹ֣ות כְּנָ֑עַן אֶת־עָדָ֗ה בַּת־אֵילֹון֙ הַֽחִתִּ֔י וְאֶת־אָהֳלִֽיבָמָה֙ בַּת־עֲנָ֔ה בַּת־צִבְעֹ֖ון הַֽחִוִּֽי׃ \n",
      "3 וְאֶת־בָּשְׂמַ֥ת בַּת־יִשְׁמָעֵ֖אל אֲחֹ֥ות נְבָיֹֽות׃ \n",
      "4 וַתֵּ֧לֶד עָדָ֛ה לְעֵשָׂ֖ו אֶת־אֱלִיפָ֑ז וּבָ֣שְׂמַ֔ת יָלְדָ֖ה אֶת־רְעוּאֵֽל׃ \n",
      "5 וְאָהֳלִֽיבָמָה֙ יָֽלְדָ֔ה אֶת־יְע֥וּשׁ וְאֶת־יַעְלָ֖ם וְאֶת־קֹ֑רַח אֵ֚לֶּה בְּנֵ֣י עֵשָׂ֔ו אֲשֶׁ֥ר יֻלְּדוּ־לֹ֖ו בְּאֶ֥רֶץ כְּנָֽעַן׃ \n",
      "6 וַיִּקַּ֣ח עֵשָׂ֡ו אֶת־נָ֠שָׁיו וְאֶת־בָּנָ֣יו וְאֶת־בְּנֹתָיו֮ וְאֶת־כָּל־נַפְשֹׁ֣ות בֵּיתֹו֒ וְאֶת־מִקְנֵ֣הוּ וְאֶת־כָּל־בְּהֶמְתֹּ֗ו וְאֵת֙ כָּל־קִנְיָנֹ֔ו אֲשֶׁ֥ר רָכַ֖שׁ בְּאֶ֣רֶץ כְּנָ֑עַן וַיֵּ֣לֶךְ אֶל־אֶ֔רֶץ מִפְּנֵ֖י יַעֲקֹ֥ב אָחִֽיו׃ \n",
      "7 כִּֽי־הָיָ֧ה רְכוּשָׁ֛ם רָ֖ב מִשֶּׁ֣בֶת יַחְדָּ֑ו וְלֹ֨א יָֽכְלָ֜ה אֶ֤רֶץ מְגֽוּרֵיהֶם֙ לָשֵׂ֣את אֹתָ֔ם מִפְּנֵ֖י מִקְנֵיהֶֽם׃ \n",
      "8 וַיֵּ֤שֶׁב עֵשָׂו֙ בְּהַ֣ר שֵׂעִ֔יר עֵשָׂ֖ו ה֥וּא אֱדֹֽום׃ \n",
      "9 וְאֵ֛לֶּה תֹּלְדֹ֥ות עֵשָׂ֖ו אֲבִ֣י אֱדֹ֑ום בְּהַ֖ר שֵׂעִֽיר׃ \n",
      "10 אֵ֖לֶּה שְׁמֹ֣ות בְּנֵֽי־עֵשָׂ֑ו אֱלִיפַ֗ז בֶּן־עָדָה֙ אֵ֣שֶׁת עֵשָׂ֔ו רְעוּאֵ֕ל בֶּן־בָּשְׂמַ֖ת אֵ֥שֶׁת עֵשָֽׂו׃ \n",
      "11 וַיִּהְי֖וּ בְּנֵ֣י אֱלִיפָ֑ז תֵּימָ֣ן אֹומָ֔ר צְפֹ֥ו וְגַעְתָּ֖ם וּקְנַֽז׃ \n",
      "12 וְתִמְנַ֣ע׀ הָיְתָ֣ה פִילֶ֗גֶשׁ לֶֽאֱלִיפַז֙ בֶּן־עֵשָׂ֔ו וַתֵּ֥לֶד לֶאֱלִיפַ֖ז אֶת־עֲמָלֵ֑ק אֵ֕לֶּה בְּנֵ֥י עָדָ֖ה אֵ֥שֶׁת עֵשָֽׂו׃ \n",
      "13 וְאֵ֨לֶּה֙ בְּנֵ֣י רְעוּאֵ֔ל נַ֥חַת וָזֶ֖רַח שַׁמָּ֣ה וּמִזָּ֑ה אֵ֣לֶּ֣ה הָי֔וּ בְּנֵ֥י בָשְׂמַ֖ת אֵ֥שֶׁת עֵשָֽׂו׃ \n",
      "14 וְאֵ֣לֶּה הָי֗וּ בְּנֵ֨י אָהֳלִיבָמָ֧ה בַת־עֲנָ֛ה בַּת־צִבְעֹ֖ון אֵ֣שֶׁת עֵשָׂ֑ו וַתֵּ֣לֶד לְעֵשָׂ֔ו אֶת־יְע֥וּשׁ וְאֶת־יַעְלָ֖ם וְאֶת־קֹֽרַח׃ \n",
      "15 אֵ֖לֶּה אַלּוּפֵ֣י בְנֵֽי־עֵשָׂ֑ו בְּנֵ֤י אֱלִיפַז֙ בְּכֹ֣ור עֵשָׂ֔ו אַלּ֤וּף תֵּימָן֙ אַלּ֣וּף אֹומָ֔ר אַלּ֥וּף צְפֹ֖ו אַלּ֥וּף קְנַֽז׃ \n",
      "16 אַלּֽוּף־קֹ֛רַח אַלּ֥וּף גַּעְתָּ֖ם אַלּ֣וּף עֲמָלֵ֑ק אֵ֣לֶּה אַלּוּפֵ֤י אֱלִיפַז֙ בְּאֶ֣רֶץ אֱדֹ֔ום אֵ֖לֶּה בְּנֵ֥י עָדָֽה׃ \n",
      "17 וְאֵ֗לֶּה בְּנֵ֤י רְעוּאֵל֙ בֶּן־עֵשָׂ֔ו אַלּ֥וּף נַ֨חַת֙ אַלּ֣וּף זֶ֔רַח אַלּ֥וּף שַׁמָּ֖ה אַלּ֣וּף מִזָּ֑ה אֵ֣לֶּה אַלּוּפֵ֤י רְעוּאֵל֙ בְּאֶ֣רֶץ אֱדֹ֔ום אֵ֕לֶּה בְּנֵ֥י בָשְׂמַ֖ת אֵ֥שֶׁת עֵשָֽׂו׃ \n",
      "18 וְאֵ֗לֶּה בְּנֵ֤י אָהֳלִֽיבָמָה֙ אֵ֣שֶׁת עֵשָׂ֔ו אַלּ֥וּף יְע֛וּשׁ אַלּ֥וּף יַעְלָ֖ם אַלּ֣וּף קֹ֑רַח אֵ֣לֶּה אַלּוּפֵ֞י אָֽהֳלִיבָמָ֛ה בַּת־עֲנָ֖ה אֵ֥שֶׁת עֵשָֽׂו׃ \n",
      "19 אֵ֧לֶּה בְנֵי־עֵשָׂ֛ו וְאֵ֥לֶּה אַלּוּפֵיהֶ֖ם ה֥וּא אֱדֹֽום׃ ס \n",
      "20 אֵ֤לֶּה בְנֵֽי־שֵׂעִיר֙ הַחֹרִ֔י יֹשְׁבֵ֖י הָאָ֑רֶץ לֹוטָ֥ן וְשֹׁובָ֖ל וְצִבְעֹ֥ון וַעֲנָֽה׃ \n",
      "21 וְדִשֹׁ֥ון וְאֵ֖צֶר וְדִישָׁ֑ן אֵ֣לֶּה אַלּוּפֵ֧י הַחֹרִ֛י בְּנֵ֥י שֵׂעִ֖יר בְּאֶ֥רֶץ אֱדֹֽום׃ \n",
      "22 וַיִּהְי֥וּ בְנֵי־לֹוטָ֖ן חֹרִ֣י וְהֵימָ֑ם וַאֲחֹ֥ות לֹוטָ֖ן תִּמְנָֽע׃ \n",
      "23 וְאֵ֨לֶּה֙ בְּנֵ֣י שֹׁובָ֔ל עַלְוָ֥ן וּמָנַ֖חַת וְעֵיבָ֑ל שְׁפֹ֖ו וְאֹונָֽם׃ \n",
      "24 וְאֵ֥לֶּה בְנֵֽי־צִבְעֹ֖ון וְאַיָּ֣ה וַעֲנָ֑ה ה֣וּא עֲנָ֗ה אֲשֶׁ֨ר מָצָ֤א אֶת־הַיֵּמִם֙ בַּמִּדְבָּ֔ר בִּרְעֹתֹ֥ו אֶת־הַחֲמֹרִ֖ים לְצִבְעֹ֥ון אָבִֽיו׃ \n",
      "25 וְאֵ֥לֶּה בְנֵֽי־עֲנָ֖ה דִּשֹׁ֑ן וְאָהֳלִיבָמָ֖ה בַּת־עֲנָֽה׃ \n",
      "26 וְאֵ֖לֶּה בְּנֵ֣י דִישָׁ֑ן חֶמְדָּ֥ן וְאֶשְׁבָּ֖ן וְיִתְרָ֥ן וּכְרָֽן׃ \n",
      "27 אֵ֖לֶּה בְּנֵי־אֵ֑צֶר בִּלְהָ֥ן וְזַעֲוָ֖ן וַעֲקָֽן׃ \n",
      "28 אֵ֥לֶּה בְנֵֽי־דִישָׁ֖ן ע֥וּץ וַאֲרָֽן׃ \n",
      "29 אֵ֖לֶּה אַלּוּפֵ֣י הַחֹרִ֑י אַלּ֤וּף לֹוטָן֙ אַלּ֣וּף שֹׁובָ֔ל אַלּ֥וּף צִבְעֹ֖ון אַלּ֥וּף עֲנָֽה׃ \n",
      "30 אַלּ֥וּף דִּשֹׁ֛ן אַלּ֥וּף אֵ֖צֶר אַלּ֣וּף דִּישָׁ֑ן אֵ֣לֶּה אַלּוּפֵ֧י הַחֹרִ֛י לְאַלֻּפֵיהֶ֖ם בְּאֶ֥רֶץ שֵׂעִֽיר׃ פ \n",
      "31 וְאֵ֨לֶּה֙ הַמְּלָכִ֔ים אֲשֶׁ֥ר מָלְכ֖וּ בְּאֶ֣רֶץ אֱדֹ֑ום לִפְנֵ֥י מְלָךְ־מֶ֖לֶךְ לִבְנֵ֥י יִשְׂרָאֵֽל׃ \n",
      "32 וַיִּמְלֹ֣ךְ בֶּאֱדֹ֔ום בֶּ֖לַע בֶּן־בְּעֹ֑ור וְשֵׁ֥ם עִירֹ֖ו דִּנְהָֽבָה׃ \n",
      "33 וַיָּ֖מָת בָּ֑לַע וַיִּמְלֹ֣ךְ תַּחְתָּ֔יו יֹובָ֥ב בֶּן־זֶ֖רַח מִבָּצְרָֽה׃ \n",
      "34 וַיָּ֖מָת יֹובָ֑ב וַיִּמְלֹ֣ךְ תַּחְתָּ֔יו חֻשָׁ֖ם מֵאֶ֥רֶץ הַתֵּימָנִֽי׃ \n",
      "35 וַיָּ֖מָת חֻשָׁ֑ם וַיִּמְלֹ֨ךְ תַּחְתָּ֜יו הֲדַ֣ד בֶּן־בְּדַ֗ד הַמַּכֶּ֤ה אֶת־מִדְיָן֙ בִּשְׂדֵ֣ה מֹואָ֔ב וְשֵׁ֥ם עִירֹ֖ו עֲוִֽית׃ \n",
      "36 וַיָּ֖מָת הֲדָ֑ד וַיִּמְלֹ֣ךְ תַּחְתָּ֔יו שַׂמְלָ֖ה מִמַּשְׂרֵקָֽה׃ \n",
      "37 וַיָּ֖מָת שַׂמְלָ֑ה וַיִּמְלֹ֣ךְ תַּחְתָּ֔יו שָׁא֖וּל מֵרְחֹבֹ֥ות הַנָּהָֽר׃ \n",
      "38 וַיָּ֖מָת שָׁא֑וּל וַיִּמְלֹ֣ךְ תַּחְתָּ֔יו בַּ֥עַל חָנָ֖ן בֶּן־עַכְבֹּֽור׃ \n",
      "39 וַיָּמָת֮ בַּ֣עַל חָנָ֣ן בֶּן־עַכְבֹּור֒ וַיִּמְלֹ֤ךְ תַּחְתָּיו֙ הֲדַ֔ר וְשֵׁ֥ם עִירֹ֖ו פָּ֑עוּ וְשֵׁ֨ם אִשְׁתֹּ֤ו מְהֵֽיטַבְאֵל֙ בַּת־מַטְרֵ֔ד בַּ֖ת מֵ֥י זָהָֽב׃ \n",
      "40 וְ֠אֵלֶּה שְׁמֹ֞ות אַלּוּפֵ֤י עֵשָׂו֙ לְמִשְׁפְּחֹתָ֔ם לִמְקֹמֹתָ֖ם בִּשְׁמֹתָ֑ם אַלּ֥וּף תִּמְנָ֛ע אַלּ֥וּף עַֽלְוָ֖ה אַלּ֥וּף יְתֵֽת׃ \n",
      "41 אַלּ֧וּף אָהֳלִיבָמָ֛ה אַלּ֥וּף אֵלָ֖ה אַלּ֥וּף פִּינֹֽן׃ \n",
      "42 אַלּ֥וּף קְנַ֛ז אַלּ֥וּף תֵּימָ֖ן אַלּ֥וּף מִבְצָֽר׃ \n",
      "43 אַלּ֥וּף מַגְדִּיאֵ֖ל אַלּ֣וּף עִירָ֑ם אֵ֣לֶּה׀ אַלּוּפֵ֣י אֱדֹ֗ום לְמֹֽשְׁבֹתָם֙ בְּאֶ֣רֶץ אֲחֻזָּתָ֔ם ה֥וּא עֵשָׂ֖ו אֲבִ֥י אֱדֹֽום׃ פ \n"
     ]
    }
   ],
   "source": [
    "# print Hebrew text for Genesis 36\n",
    "gen_36 = T.nodeFromSection(('Genesis', 36)) # grab the chapter node\n",
    "for verse in L.d(gen_36, otype = 'verse'):  # loop through verse nodes with a look down into chapter\n",
    "    words = [w for w in L.d(verse, 'word')] # gather word nodes\n",
    "    print(F.verse.v(verse), T.text(words))  # feed to T.text and print with vs. numbers"
   ]
  },
  {
   "cell_type": "markdown",
   "metadata": {},
   "source": [
    "So we have a geneaology text without time_phrase. Makes sense!"
   ]
  },
  {
   "cell_type": "code",
   "execution_count": 137,
   "metadata": {
    "collapsed": true
   },
   "outputs": [],
   "source": [
    "# explore the different kinds of adverbs, what parameters can distinguish time?\n",
    "# explore the different kinds of prep phrases, what parameters can specify\n",
    "\n",
    "pdp_adverb = set()\n",
    "prep_temp = set()"
   ]
  },
  {
   "cell_type": "code",
   "execution_count": null,
   "metadata": {
    "collapsed": true
   },
   "outputs": [],
   "source": []
  }
 ],
 "metadata": {
  "anaconda-cloud": {},
  "kernelspec": {
   "display_name": "Python 3",
   "language": "python",
   "name": "python3"
  },
  "language_info": {
   "codemirror_mode": {
    "name": "ipython",
    "version": 3
   },
   "file_extension": ".py",
   "mimetype": "text/x-python",
   "name": "python",
   "nbconvert_exporter": "python",
   "pygments_lexer": "ipython3",
   "version": "3.6.0"
  }
 },
 "nbformat": 4,
 "nbformat_minor": 1
}
