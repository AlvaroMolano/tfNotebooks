{
 "cells": [
  {
   "cell_type": "markdown",
   "metadata": {},
   "source": [
    "Original by Dirk Roorda [here](https://github.com/ETCBC/bhsa/blob/master/programs/versionPhrases.ipynb). In this version I seek to quantify the changes.\n",
    "\n",
    "# Phrases in versions of the BHSA\n",
    "\n",
    "In [versionMappings](versionMappings.ipynb)\n",
    "we have constructed edge features that map the nodes from one version of the data to the next.\n",
    "In this notebook we are going to use those edges to study what happened to the feature `function`\n",
    "of `phrases`.\n",
    "\n",
    "# Overview\n",
    "\n",
    "We explore:\n",
    "* how the values of the `function` feature have changed;\n",
    "* to what degree phrases have other boundaries.\n",
    "\n",
    "# Discussion\n",
    "The feature `function` was called `phrase_function` in version `3`.\n",
    "\n",
    "## Phrase boundaries\n",
    "In order to see whether phrase boundaries have changed, we follow the `omap@` edges from \n",
    "phrases in one version to their counterparts in the next version.\n",
    "\n",
    "We make use of the dissimilarity values that are attached to such edges.\n",
    "If there is no value, or the value is `0`, we have a match without a boundary change.\n",
    "All other dissimilarities imply that boundaries have changed.\n",
    "\n",
    "# Results\n",
    "For the sake of presentation,\n",
    "we start with the result cells, **they should be run after the other cells**.\n",
    "The computation starts [here](#Start)."
   ]
  },
  {
   "cell_type": "markdown",
   "metadata": {},
   "source": [
    "# Changes in `function` values"
   ]
  },
  {
   "cell_type": "code",
   "execution_count": 11,
   "metadata": {
    "scrolled": true
   },
   "outputs": [
    {
     "name": "stdout",
     "output_type": "stream",
     "text": [
      "\n",
      "##############################################################################################\n",
      "#                                                                                            #\n",
      "#      4m 17s Phrase function change from version 3 to 2017                                  #\n",
      "#                                                                                            #\n",
      "##############################################################################################\n",
      "\n"
     ]
    },
    {
     "data": {
      "text/html": [
       "<table><tr><td>3\\2017</td><td>Adju</td><td>Cmpl</td><td>Conj</td><td>EPPr</td><td>ExsS</td><td>Exst</td><td>Frnt</td><td>IntS</td><td>Intj</td><td>Loca</td><td>ModS</td><td>Modi</td><td>NCoS</td><td>NCop</td><td>Nega</td><td>Objc</td><td>PrAd</td><td>PrcS</td><td>PreC</td><td>PreO</td><td>PreS</td><td>Pred</td><td>PtcO</td><td>Ques</td><td>Rela</td><td>Subj</td><td>Supp</td><td>Time</td><td>Voct</td></tr><tr><td>Adju</td><td>5438</td><td>142</td><td>15</td><td></td><td></td><td></td><td>18</td><td></td><td></td><td>17</td><td></td><td>169</td><td></td><td></td><td>2</td><td>171</td><td>84</td><td></td><td>111</td><td>4</td><td></td><td></td><td></td><td>9</td><td>2</td><td>177</td><td>3</td><td>20</td><td>1</td></tr><tr><td>Cmpl</td><td>186</td><td>22005</td><td>9</td><td></td><td></td><td></td><td>11</td><td></td><td></td><td>25</td><td></td><td>11</td><td></td><td></td><td></td><td>168</td><td>27</td><td></td><td>110</td><td></td><td></td><td>5</td><td>1</td><td>3</td><td>1</td><td>160</td><td>3</td><td>8</td><td>3</td></tr><tr><td>Conj</td><td>101</td><td>51</td><td>33064</td><td></td><td></td><td></td><td>10</td><td></td><td></td><td>17</td><td></td><td>151</td><td></td><td></td><td></td><td>105</td><td>3</td><td></td><td>10</td><td>2</td><td>3</td><td>19</td><td></td><td></td><td>73</td><td>29</td><td></td><td>10</td><td>1</td></tr><tr><td>ExsS</td><td></td><td></td><td></td><td></td><td>7</td><td></td><td></td><td></td><td></td><td></td><td></td><td></td><td></td><td></td><td></td><td></td><td></td><td></td><td></td><td></td><td></td><td></td><td></td><td></td><td></td><td></td><td></td><td></td><td></td></tr><tr><td>Exst</td><td></td><td></td><td>2</td><td></td><td>2</td><td>90</td><td></td><td></td><td></td><td></td><td>1</td><td></td><td>3</td><td>7</td><td></td><td></td><td></td><td></td><td></td><td></td><td></td><td></td><td></td><td></td><td></td><td></td><td></td><td></td><td></td></tr><tr><td>Frnt</td><td>8</td><td>7</td><td></td><td></td><td></td><td></td><td>755</td><td></td><td></td><td></td><td></td><td>1</td><td></td><td></td><td></td><td>9</td><td></td><td></td><td>12</td><td></td><td></td><td></td><td>1</td><td></td><td></td><td>45</td><td></td><td></td><td>5</td></tr><tr><td>IntS</td><td></td><td></td><td></td><td></td><td></td><td></td><td></td><td>161</td><td></td><td></td><td></td><td></td><td></td><td></td><td></td><td></td><td></td><td></td><td>1</td><td></td><td></td><td></td><td></td><td></td><td></td><td></td><td></td><td></td><td></td></tr><tr><td>Intj</td><td></td><td>1</td><td>1</td><td></td><td></td><td></td><td></td><td>17</td><td>1199</td><td></td><td></td><td>6</td><td></td><td></td><td></td><td>5</td><td></td><td></td><td>9</td><td></td><td></td><td>3</td><td></td><td>5</td><td></td><td>5</td><td></td><td>12</td><td>1</td></tr><tr><td>IrpC</td><td>1</td><td>18</td><td></td><td></td><td></td><td></td><td></td><td></td><td></td><td></td><td></td><td></td><td></td><td></td><td></td><td></td><td></td><td></td><td>3</td><td></td><td></td><td></td><td></td><td></td><td></td><td></td><td></td><td></td><td></td></tr><tr><td>IrpO</td><td>1</td><td>3</td><td></td><td></td><td></td><td></td><td></td><td></td><td></td><td></td><td></td><td></td><td></td><td></td><td></td><td>120</td><td></td><td></td><td>5</td><td></td><td></td><td></td><td></td><td>4</td><td></td><td>2</td><td></td><td></td><td></td></tr><tr><td>IrpP</td><td></td><td></td><td></td><td></td><td></td><td></td><td></td><td></td><td></td><td></td><td></td><td></td><td></td><td></td><td></td><td>4</td><td></td><td>1</td><td>142</td><td></td><td></td><td></td><td></td><td>4</td><td></td><td>3</td><td></td><td></td><td></td></tr><tr><td>IrpS</td><td>1</td><td></td><td></td><td></td><td></td><td></td><td>1</td><td></td><td></td><td></td><td></td><td></td><td></td><td></td><td></td><td>2</td><td></td><td>3</td><td>3</td><td></td><td></td><td></td><td></td><td>2</td><td></td><td>184</td><td></td><td></td><td></td></tr><tr><td>Loca</td><td>18</td><td>80</td><td></td><td></td><td></td><td></td><td>2</td><td></td><td></td><td>1992</td><td></td><td>49</td><td></td><td></td><td></td><td>17</td><td></td><td></td><td>7</td><td></td><td></td><td></td><td></td><td>1</td><td></td><td>18</td><td></td><td></td><td></td></tr><tr><td>ModS</td><td></td><td></td><td></td><td></td><td></td><td></td><td></td><td></td><td></td><td></td><td>25</td><td>2</td><td></td><td></td><td></td><td></td><td></td><td></td><td></td><td></td><td></td><td></td><td></td><td></td><td></td><td></td><td></td><td>2</td><td></td></tr><tr><td>Modi</td><td>61</td><td>80</td><td>11</td><td></td><td></td><td></td><td>28</td><td></td><td>24</td><td>21</td><td></td><td>2271</td><td></td><td>1</td><td>40</td><td>141</td><td>18</td><td></td><td>36</td><td>1</td><td></td><td></td><td></td><td>21</td><td></td><td>254</td><td></td><td>210</td><td></td></tr><tr><td>NegS</td><td></td><td></td><td></td><td></td><td></td><td></td><td></td><td></td><td></td><td></td><td></td><td></td><td>50</td><td></td><td></td><td></td><td></td><td></td><td></td><td></td><td></td><td></td><td></td><td></td><td></td><td></td><td></td><td></td><td></td></tr><tr><td>Nega</td><td>21</td><td>7</td><td>13</td><td></td><td></td><td>1</td><td></td><td></td><td></td><td></td><td></td><td></td><td>24</td><td>415</td><td>4234</td><td>5</td><td></td><td></td><td>7</td><td>3</td><td>1</td><td>39</td><td></td><td></td><td>2</td><td>1</td><td></td><td>2</td><td></td></tr><tr><td>Objc</td><td>32</td><td>81</td><td>2</td><td></td><td></td><td></td><td>18</td><td></td><td></td><td>7</td><td></td><td>15</td><td></td><td></td><td></td><td>15351</td><td>32</td><td></td><td>40</td><td>3</td><td></td><td></td><td></td><td></td><td></td><td>182</td><td></td><td>4</td><td>8</td></tr><tr><td>PreC</td><td>80</td><td>80</td><td>5</td><td>1</td><td></td><td>3</td><td>26</td><td></td><td>2</td><td>19</td><td></td><td>7</td><td>1</td><td>1</td><td></td><td>63</td><td>25</td><td></td><td>13567</td><td></td><td></td><td>834</td><td></td><td>1</td><td>4</td><td>167</td><td></td><td>6</td><td>14</td></tr><tr><td>PreO</td><td>9</td><td>1</td><td></td><td></td><td></td><td></td><td>1</td><td></td><td></td><td>1</td><td></td><td></td><td></td><td></td><td></td><td>6</td><td></td><td></td><td>2</td><td>5348</td><td>234</td><td>13</td><td>66</td><td></td><td></td><td>1</td><td></td><td>9</td><td></td></tr><tr><td>PreS</td><td>1</td><td></td><td></td><td></td><td></td><td></td><td></td><td></td><td></td><td></td><td></td><td></td><td></td><td></td><td></td><td></td><td></td><td></td><td></td><td>5</td><td>619</td><td>2</td><td></td><td></td><td></td><td></td><td></td><td>12</td><td></td></tr><tr><td>Pred</td><td>2</td><td>3</td><td></td><td></td><td></td><td></td><td>3</td><td></td><td></td><td>1</td><td></td><td>1</td><td></td><td></td><td></td><td>4</td><td></td><td></td><td>206</td><td>42</td><td>7</td><td>56155</td><td></td><td></td><td></td><td>8</td><td></td><td>19</td><td></td></tr><tr><td>PtSp</td><td></td><td></td><td></td><td></td><td></td><td></td><td></td><td></td><td></td><td></td><td></td><td></td><td></td><td></td><td></td><td></td><td></td><td></td><td>1</td><td></td><td></td><td></td><td></td><td></td><td></td><td>1</td><td></td><td></td><td></td></tr><tr><td>PtcO</td><td></td><td></td><td></td><td></td><td></td><td></td><td>1</td><td></td><td></td><td></td><td></td><td></td><td></td><td></td><td></td><td>5</td><td></td><td></td><td></td><td></td><td></td><td></td><td>87</td><td></td><td></td><td>14</td><td></td><td></td><td>1</td></tr><tr><td>Ques</td><td>11</td><td>9</td><td>3</td><td></td><td></td><td></td><td></td><td></td><td>2</td><td></td><td></td><td></td><td></td><td>1</td><td>2</td><td>21</td><td></td><td></td><td>9</td><td></td><td></td><td></td><td></td><td>797</td><td></td><td>19</td><td></td><td>25</td><td></td></tr><tr><td>Rela</td><td>1</td><td>3</td><td>591</td><td></td><td></td><td></td><td>3</td><td></td><td></td><td></td><td></td><td>2</td><td></td><td></td><td>1</td><td>11</td><td></td><td></td><td>1</td><td></td><td></td><td></td><td></td><td>1</td><td>4829</td><td>4</td><td></td><td></td><td></td></tr><tr><td>Subj</td><td>25</td><td>16</td><td>2</td><td>6</td><td></td><td></td><td>55</td><td></td><td>1</td><td>9</td><td></td><td>10</td><td>1</td><td></td><td>1</td><td>123</td><td>8</td><td>2</td><td>175</td><td>3</td><td>2</td><td>1</td><td>1</td><td>15</td><td>1</td><td>21238</td><td></td><td>9</td><td>36</td></tr><tr><td>Supp</td><td>65</td><td>110</td><td></td><td></td><td></td><td></td><td></td><td></td><td></td><td>1</td><td></td><td></td><td></td><td></td><td></td><td>5</td><td></td><td></td><td>7</td><td></td><td></td><td></td><td></td><td></td><td></td><td>3</td><td>140</td><td></td><td></td></tr><tr><td>Time</td><td>15</td><td>5</td><td>9</td><td></td><td></td><td></td><td>9</td><td></td><td></td><td>1</td><td>1</td><td>47</td><td></td><td></td><td></td><td>22</td><td></td><td></td><td>8</td><td>1</td><td></td><td>2</td><td></td><td>1</td><td></td><td>36</td><td></td><td>2745</td><td>1</td></tr><tr><td>Unkn</td><td>3992</td><td>7979</td><td>11890</td><td>18</td><td>5</td><td>49</td><td>360</td><td>73</td><td>401</td><td>620</td><td>8</td><td>1029</td><td>22</td><td>166</td><td>1761</td><td>7260</td><td>55</td><td>5</td><td>5584</td><td>14</td><td>13</td><td>42</td><td>4</td><td>363</td><td>1356</td><td>10507</td><td>32</td><td>1219</td><td>775</td></tr><tr><td>Voct</td><td>1</td><td>2</td><td></td><td></td><td></td><td></td><td>6</td><td></td><td></td><td></td><td></td><td></td><td></td><td></td><td></td><td>3</td><td></td><td></td><td></td><td></td><td></td><td></td><td></td><td></td><td></td><td>24</td><td></td><td></td><td>821</td></tr></table>"
      ],
      "text/plain": [
       "<IPython.core.display.HTML object>"
      ]
     },
     "metadata": {},
     "output_type": "display_data"
    },
    {
     "name": "stdout",
     "output_type": "stream",
     "text": [
      "\n",
      "##############################################################################################\n",
      "#                                                                                            #\n",
      "#      4m 18s Phrase function change from version 2016 to 2017                               #\n",
      "#                                                                                            #\n",
      "##############################################################################################\n",
      "\n"
     ]
    },
    {
     "data": {
      "text/html": [
       "<table><tr><td>2016\\2017</td><td>Adju</td><td>Cmpl</td><td>Conj</td><td>EPPr</td><td>ExsS</td><td>Exst</td><td>Frnt</td><td>IntS</td><td>Intj</td><td>Loca</td><td>ModS</td><td>Modi</td><td>NCoS</td><td>NCop</td><td>Nega</td><td>Objc</td><td>PrAd</td><td>PrcS</td><td>PreC</td><td>PreO</td><td>PreS</td><td>Pred</td><td>PtcO</td><td>Ques</td><td>Rela</td><td>Subj</td><td>Supp</td><td>Time</td><td>Voct</td></tr><tr><td>Adju</td><td>9508</td><td>12</td><td>2</td><td></td><td></td><td></td><td>5</td><td></td><td></td><td>2</td><td></td><td></td><td></td><td></td><td></td><td>5</td><td></td><td></td><td>4</td><td></td><td></td><td></td><td></td><td></td><td></td><td>2</td><td></td><td>6</td><td></td></tr><tr><td>Cmpl</td><td>16</td><td>30002</td><td>4</td><td></td><td></td><td></td><td></td><td></td><td></td><td></td><td></td><td></td><td></td><td></td><td></td><td>13</td><td></td><td></td><td>1</td><td></td><td></td><td></td><td></td><td></td><td></td><td>1</td><td></td><td></td><td></td></tr><tr><td>Conj</td><td>1</td><td></td><td>46135</td><td></td><td></td><td></td><td></td><td></td><td></td><td></td><td></td><td></td><td></td><td></td><td></td><td>3</td><td></td><td></td><td></td><td></td><td></td><td></td><td></td><td></td><td>3</td><td>1</td><td></td><td></td><td></td></tr><tr><td>EPPr</td><td></td><td></td><td></td><td>21</td><td></td><td></td><td></td><td></td><td></td><td></td><td></td><td></td><td></td><td></td><td></td><td></td><td></td><td></td><td></td><td></td><td></td><td></td><td></td><td></td><td></td><td></td><td></td><td></td><td></td></tr><tr><td>ExsS</td><td></td><td></td><td></td><td></td><td>14</td><td></td><td></td><td></td><td></td><td></td><td></td><td></td><td></td><td></td><td></td><td></td><td></td><td></td><td></td><td></td><td></td><td></td><td></td><td></td><td></td><td></td><td></td><td></td><td></td></tr><tr><td>Exst</td><td></td><td></td><td></td><td></td><td></td><td>143</td><td></td><td></td><td></td><td></td><td></td><td></td><td></td><td></td><td></td><td></td><td></td><td></td><td></td><td></td><td></td><td></td><td></td><td></td><td></td><td></td><td></td><td></td><td></td></tr><tr><td>Frnt</td><td></td><td>1</td><td></td><td></td><td></td><td></td><td>1119</td><td></td><td></td><td></td><td></td><td></td><td></td><td></td><td></td><td></td><td></td><td></td><td>1</td><td></td><td></td><td></td><td>1</td><td></td><td></td><td>9</td><td></td><td></td><td></td></tr><tr><td>IntS</td><td></td><td></td><td></td><td></td><td></td><td></td><td></td><td>251</td><td></td><td></td><td></td><td></td><td></td><td></td><td></td><td></td><td></td><td></td><td></td><td></td><td></td><td></td><td></td><td></td><td></td><td></td><td></td><td></td><td></td></tr><tr><td>Intj</td><td></td><td></td><td></td><td></td><td></td><td></td><td></td><td></td><td>1621</td><td></td><td></td><td></td><td></td><td></td><td></td><td></td><td></td><td></td><td></td><td></td><td></td><td></td><td></td><td></td><td></td><td></td><td></td><td></td><td></td></tr><tr><td>Loca</td><td>2</td><td></td><td></td><td></td><td></td><td></td><td></td><td></td><td></td><td>2621</td><td></td><td></td><td></td><td></td><td></td><td></td><td></td><td></td><td></td><td></td><td></td><td></td><td></td><td></td><td></td><td></td><td></td><td></td><td></td></tr><tr><td>ModS</td><td></td><td></td><td></td><td></td><td></td><td></td><td></td><td></td><td></td><td></td><td>35</td><td></td><td></td><td></td><td></td><td></td><td></td><td></td><td></td><td></td><td></td><td></td><td></td><td></td><td></td><td></td><td></td><td></td><td></td></tr><tr><td>Modi</td><td></td><td></td><td></td><td></td><td></td><td></td><td></td><td></td><td></td><td></td><td></td><td>3738</td><td></td><td></td><td></td><td></td><td></td><td></td><td>32</td><td></td><td></td><td></td><td></td><td></td><td></td><td></td><td></td><td>216</td><td></td></tr><tr><td>NCoS</td><td></td><td></td><td></td><td></td><td></td><td></td><td></td><td></td><td></td><td></td><td></td><td></td><td>101</td><td></td><td></td><td></td><td></td><td></td><td></td><td></td><td></td><td></td><td></td><td></td><td></td><td></td><td></td><td></td><td></td></tr><tr><td>NCop</td><td></td><td></td><td></td><td></td><td></td><td></td><td></td><td></td><td></td><td></td><td></td><td></td><td></td><td>595</td><td></td><td></td><td></td><td></td><td></td><td></td><td></td><td></td><td></td><td></td><td></td><td></td><td></td><td></td><td></td></tr><tr><td>Nega</td><td></td><td></td><td></td><td></td><td></td><td></td><td></td><td></td><td></td><td></td><td></td><td></td><td></td><td></td><td>6047</td><td></td><td></td><td></td><td></td><td></td><td></td><td></td><td></td><td></td><td></td><td></td><td></td><td></td><td></td></tr><tr><td>Objc</td><td>2</td><td>6</td><td></td><td></td><td></td><td></td><td>5</td><td></td><td></td><td>2</td><td></td><td></td><td></td><td></td><td></td><td>22627</td><td></td><td></td><td>1</td><td></td><td></td><td></td><td></td><td></td><td></td><td>19</td><td></td><td>7</td><td></td></tr><tr><td>PrAd</td><td></td><td></td><td></td><td></td><td></td><td></td><td></td><td></td><td></td><td></td><td></td><td></td><td></td><td></td><td></td><td></td><td>242</td><td></td><td></td><td></td><td></td><td></td><td></td><td></td><td></td><td></td><td></td><td></td><td></td></tr><tr><td>PrcS</td><td></td><td></td><td></td><td></td><td></td><td></td><td></td><td></td><td></td><td></td><td></td><td></td><td></td><td></td><td></td><td></td><td></td><td>8</td><td></td><td></td><td></td><td></td><td></td><td></td><td></td><td></td><td></td><td></td><td></td></tr><tr><td>PreC</td><td>6</td><td>4</td><td></td><td></td><td></td><td></td><td>8</td><td></td><td></td><td>1</td><td></td><td></td><td></td><td></td><td></td><td>2</td><td>1</td><td></td><td>19333</td><td></td><td></td><td>1</td><td></td><td></td><td></td><td>12</td><td></td><td></td><td></td></tr><tr><td>PreO</td><td></td><td></td><td></td><td></td><td></td><td></td><td></td><td></td><td></td><td></td><td></td><td></td><td></td><td></td><td></td><td></td><td></td><td></td><td></td><td>5402</td><td>1</td><td></td><td></td><td></td><td></td><td></td><td></td><td></td><td></td></tr><tr><td>PreS</td><td></td><td></td><td></td><td></td><td></td><td></td><td></td><td></td><td></td><td></td><td></td><td></td><td></td><td></td><td></td><td></td><td></td><td></td><td></td><td></td><td>886</td><td></td><td></td><td></td><td></td><td></td><td></td><td></td><td></td></tr><tr><td>Pred</td><td></td><td></td><td></td><td></td><td></td><td></td><td></td><td></td><td></td><td></td><td></td><td></td><td></td><td></td><td></td><td></td><td></td><td></td><td></td><td></td><td></td><td>57069</td><td></td><td></td><td></td><td></td><td></td><td></td><td></td></tr><tr><td>PtcO</td><td></td><td></td><td></td><td></td><td></td><td></td><td></td><td></td><td></td><td></td><td></td><td></td><td></td><td></td><td></td><td></td><td></td><td></td><td></td><td></td><td></td><td></td><td>162</td><td></td><td></td><td></td><td></td><td></td><td></td></tr><tr><td>Ques</td><td></td><td></td><td></td><td></td><td></td><td></td><td></td><td></td><td></td><td></td><td></td><td></td><td></td><td></td><td></td><td></td><td></td><td></td><td>1</td><td></td><td></td><td></td><td></td><td>1203</td><td></td><td></td><td></td><td></td><td></td></tr><tr><td>Rela</td><td></td><td></td><td>1</td><td></td><td></td><td></td><td>1</td><td></td><td></td><td></td><td></td><td></td><td></td><td></td><td></td><td></td><td></td><td></td><td></td><td></td><td></td><td></td><td></td><td></td><td>6327</td><td></td><td></td><td></td><td></td></tr><tr><td>Subj</td><td>1</td><td>1</td><td>3</td><td></td><td></td><td></td><td>5</td><td></td><td></td><td></td><td></td><td></td><td></td><td></td><td></td><td>19</td><td>3</td><td></td><td>13</td><td>1</td><td></td><td></td><td></td><td></td><td></td><td>31907</td><td></td><td>1</td><td>1</td></tr><tr><td>Supp</td><td></td><td></td><td></td><td></td><td></td><td></td><td></td><td></td><td></td><td></td><td></td><td></td><td></td><td></td><td></td><td></td><td></td><td></td><td></td><td></td><td></td><td></td><td></td><td></td><td></td><td></td><td>178</td><td></td><td></td></tr><tr><td>Time</td><td></td><td></td><td></td><td></td><td></td><td></td><td></td><td></td><td></td><td></td><td></td><td>6</td><td></td><td></td><td></td><td></td><td></td><td></td><td></td><td>1</td><td></td><td></td><td></td><td></td><td></td><td></td><td></td><td>3850</td><td></td></tr><tr><td>Voct</td><td></td><td>1</td><td></td><td></td><td></td><td></td><td></td><td></td><td></td><td></td><td></td><td></td><td></td><td></td><td></td><td></td><td></td><td></td><td></td><td></td><td></td><td></td><td></td><td></td><td></td><td>2</td><td></td><td></td><td>1605</td></tr></table>"
      ],
      "text/plain": [
       "<IPython.core.display.HTML object>"
      ]
     },
     "metadata": {},
     "output_type": "display_data"
    },
    {
     "name": "stdout",
     "output_type": "stream",
     "text": [
      "\n",
      "##############################################################################################\n",
      "#                                                                                            #\n",
      "#      4m 19s Phrase function change from version 4b to 2016                                 #\n",
      "#                                                                                            #\n",
      "##############################################################################################\n",
      "\n"
     ]
    },
    {
     "data": {
      "text/html": [
       "<table><tr><td>4b\\2016</td><td>Adju</td><td>Cmpl</td><td>Conj</td><td>EPPr</td><td>ExsS</td><td>Exst</td><td>Frnt</td><td>IntS</td><td>Intj</td><td>Loca</td><td>ModS</td><td>Modi</td><td>NCoS</td><td>NCop</td><td>Nega</td><td>Objc</td><td>PrAd</td><td>PrcS</td><td>PreC</td><td>PreO</td><td>PreS</td><td>Pred</td><td>PtcO</td><td>Ques</td><td>Rela</td><td>Subj</td><td>Supp</td><td>Time</td><td>Voct</td></tr><tr><td>Adju</td><td>9477</td><td>31</td><td>1</td><td></td><td></td><td></td><td>5</td><td></td><td></td><td>1</td><td></td><td>1</td><td></td><td></td><td>1</td><td>11</td><td>1</td><td></td><td>6</td><td></td><td></td><td></td><td></td><td></td><td>1</td><td>8</td><td>2</td><td>1</td><td></td></tr><tr><td>Cmpl</td><td>39</td><td>29921</td><td>1</td><td></td><td></td><td></td><td>6</td><td></td><td></td><td>8</td><td></td><td>1</td><td></td><td></td><td>2</td><td>41</td><td></td><td></td><td>24</td><td></td><td></td><td></td><td></td><td></td><td></td><td>11</td><td></td><td>7</td><td></td></tr><tr><td>Conj</td><td>1</td><td></td><td>46124</td><td></td><td></td><td></td><td></td><td></td><td></td><td></td><td></td><td></td><td></td><td></td><td></td><td></td><td></td><td></td><td>1</td><td></td><td></td><td></td><td></td><td></td><td>2</td><td>1</td><td></td><td></td><td></td></tr><tr><td>EPPr</td><td></td><td></td><td></td><td>9</td><td></td><td></td><td></td><td></td><td></td><td></td><td></td><td></td><td></td><td></td><td></td><td></td><td></td><td></td><td></td><td></td><td></td><td></td><td></td><td></td><td></td><td></td><td></td><td></td><td></td></tr><tr><td>ExsS</td><td></td><td></td><td></td><td></td><td>14</td><td></td><td></td><td></td><td></td><td></td><td></td><td></td><td></td><td></td><td></td><td></td><td></td><td></td><td></td><td></td><td></td><td></td><td></td><td></td><td></td><td></td><td></td><td></td><td></td></tr><tr><td>Exst</td><td></td><td></td><td></td><td></td><td></td><td>143</td><td></td><td></td><td></td><td></td><td></td><td></td><td></td><td></td><td></td><td></td><td></td><td></td><td></td><td></td><td></td><td></td><td></td><td></td><td></td><td></td><td></td><td></td><td></td></tr><tr><td>Frnt</td><td></td><td></td><td></td><td></td><td></td><td></td><td>1087</td><td></td><td></td><td></td><td></td><td></td><td></td><td></td><td></td><td></td><td></td><td></td><td></td><td></td><td></td><td></td><td></td><td></td><td></td><td>25</td><td></td><td></td><td></td></tr><tr><td>IntS</td><td></td><td></td><td></td><td></td><td></td><td></td><td></td><td>251</td><td></td><td></td><td></td><td></td><td></td><td></td><td></td><td></td><td></td><td></td><td></td><td></td><td></td><td></td><td></td><td></td><td></td><td></td><td></td><td></td><td></td></tr><tr><td>Intj</td><td></td><td></td><td></td><td></td><td></td><td></td><td></td><td></td><td>1621</td><td></td><td></td><td></td><td></td><td></td><td></td><td></td><td></td><td></td><td></td><td></td><td></td><td></td><td></td><td></td><td></td><td></td><td></td><td></td><td></td></tr><tr><td>Loca</td><td>3</td><td>53</td><td></td><td></td><td></td><td></td><td></td><td></td><td></td><td>2613</td><td></td><td></td><td></td><td></td><td>1</td><td>4</td><td></td><td></td><td>2</td><td></td><td></td><td></td><td></td><td></td><td></td><td>4</td><td></td><td></td><td></td></tr><tr><td>ModS</td><td></td><td></td><td></td><td></td><td></td><td></td><td></td><td></td><td></td><td></td><td>35</td><td></td><td></td><td></td><td></td><td></td><td></td><td></td><td></td><td></td><td></td><td></td><td></td><td></td><td></td><td></td><td></td><td></td><td></td></tr><tr><td>Modi</td><td></td><td></td><td>1</td><td></td><td></td><td></td><td></td><td></td><td></td><td></td><td></td><td>3980</td><td></td><td></td><td></td><td>1</td><td></td><td></td><td>3</td><td></td><td></td><td></td><td></td><td></td><td></td><td></td><td></td><td>1</td><td></td></tr><tr><td>NCoS</td><td></td><td></td><td></td><td></td><td></td><td></td><td></td><td></td><td></td><td></td><td></td><td></td><td>101</td><td></td><td></td><td></td><td></td><td></td><td></td><td></td><td></td><td></td><td></td><td></td><td></td><td></td><td></td><td></td><td></td></tr><tr><td>NCop</td><td></td><td></td><td></td><td></td><td></td><td></td><td></td><td></td><td></td><td></td><td></td><td></td><td></td><td>594</td><td>1</td><td></td><td></td><td></td><td></td><td></td><td></td><td></td><td></td><td></td><td></td><td></td><td></td><td></td><td></td></tr><tr><td>Nega</td><td>1</td><td></td><td>1</td><td></td><td></td><td></td><td></td><td></td><td></td><td></td><td></td><td></td><td></td><td>1</td><td>6040</td><td></td><td></td><td></td><td></td><td></td><td></td><td></td><td></td><td></td><td></td><td></td><td></td><td></td><td></td></tr><tr><td>Objc</td><td>7</td><td>24</td><td>10</td><td></td><td></td><td></td><td>4</td><td></td><td></td><td></td><td></td><td>3</td><td></td><td></td><td>2</td><td>22596</td><td>2</td><td></td><td>14</td><td>1</td><td></td><td></td><td></td><td></td><td></td><td>60</td><td></td><td></td><td></td></tr><tr><td>PrAd</td><td></td><td>2</td><td></td><td></td><td></td><td></td><td></td><td></td><td></td><td></td><td></td><td></td><td></td><td></td><td></td><td></td><td>235</td><td></td><td>1</td><td></td><td></td><td></td><td></td><td></td><td></td><td></td><td></td><td></td><td></td></tr><tr><td>PrcS</td><td></td><td></td><td></td><td></td><td></td><td></td><td></td><td></td><td></td><td></td><td></td><td></td><td></td><td></td><td></td><td></td><td></td><td>8</td><td></td><td></td><td></td><td></td><td></td><td></td><td></td><td></td><td></td><td></td><td></td></tr><tr><td>PreC</td><td>15</td><td>5</td><td>1</td><td>1</td><td></td><td></td><td>1</td><td></td><td></td><td>1</td><td></td><td>1</td><td></td><td></td><td></td><td>10</td><td>3</td><td></td><td>19327</td><td></td><td></td><td>1</td><td></td><td></td><td>1</td><td>25</td><td></td><td></td><td></td></tr><tr><td>PreO</td><td></td><td></td><td></td><td></td><td></td><td></td><td></td><td></td><td></td><td></td><td></td><td></td><td></td><td></td><td></td><td></td><td></td><td></td><td>1</td><td>5404</td><td>30</td><td></td><td></td><td></td><td></td><td></td><td></td><td></td><td></td></tr><tr><td>PreS</td><td></td><td>1</td><td></td><td></td><td></td><td></td><td></td><td></td><td></td><td></td><td></td><td></td><td></td><td></td><td></td><td></td><td></td><td></td><td></td><td></td><td>855</td><td></td><td></td><td></td><td></td><td></td><td></td><td>10</td><td></td></tr><tr><td>Pred</td><td></td><td></td><td></td><td></td><td></td><td></td><td></td><td></td><td></td><td></td><td></td><td></td><td></td><td></td><td></td><td></td><td></td><td></td><td>1</td><td></td><td>1</td><td>57068</td><td></td><td></td><td></td><td></td><td></td><td>4</td><td></td></tr><tr><td>PtcO</td><td></td><td></td><td></td><td></td><td></td><td></td><td></td><td></td><td></td><td></td><td></td><td></td><td></td><td></td><td></td><td></td><td></td><td></td><td></td><td></td><td></td><td></td><td>162</td><td></td><td></td><td></td><td></td><td></td><td></td></tr><tr><td>Ques</td><td></td><td></td><td></td><td></td><td></td><td></td><td></td><td></td><td></td><td></td><td></td><td></td><td></td><td></td><td></td><td></td><td></td><td></td><td></td><td></td><td></td><td></td><td></td><td>1204</td><td></td><td></td><td></td><td></td><td></td></tr><tr><td>Rela</td><td></td><td></td><td>3</td><td></td><td></td><td></td><td></td><td></td><td></td><td></td><td></td><td></td><td></td><td></td><td></td><td></td><td></td><td></td><td></td><td></td><td></td><td></td><td></td><td></td><td>6325</td><td>1</td><td></td><td></td><td></td></tr><tr><td>Subj</td><td>3</td><td>1</td><td>1</td><td>11</td><td></td><td></td><td>17</td><td></td><td></td><td>1</td><td></td><td>1</td><td></td><td></td><td></td><td>14</td><td>1</td><td>1</td><td>14</td><td></td><td>1</td><td></td><td></td><td></td><td></td><td>31811</td><td></td><td>1</td><td></td></tr><tr><td>Supp</td><td>2</td><td>9</td><td></td><td></td><td></td><td></td><td></td><td></td><td></td><td></td><td></td><td></td><td></td><td></td><td></td><td></td><td></td><td></td><td></td><td></td><td></td><td></td><td></td><td></td><td></td><td></td><td>176</td><td></td><td></td></tr><tr><td>Time</td><td>1</td><td>1</td><td></td><td></td><td></td><td></td><td>9</td><td></td><td></td><td></td><td></td><td></td><td></td><td></td><td></td><td></td><td></td><td></td><td></td><td></td><td></td><td></td><td></td><td></td><td></td><td></td><td></td><td>3835</td><td></td></tr><tr><td>Voct</td><td></td><td></td><td></td><td></td><td></td><td></td><td></td><td></td><td></td><td></td><td></td><td></td><td></td><td></td><td></td><td>2</td><td></td><td></td><td>2</td><td></td><td></td><td></td><td></td><td></td><td></td><td></td><td></td><td></td><td>1607</td></tr></table>"
      ],
      "text/plain": [
       "<IPython.core.display.HTML object>"
      ]
     },
     "metadata": {},
     "output_type": "display_data"
    },
    {
     "name": "stdout",
     "output_type": "stream",
     "text": [
      "\n",
      "##############################################################################################\n",
      "#                                                                                            #\n",
      "#      4m 20s Phrase function change from version 4 to 4b                                    #\n",
      "#                                                                                            #\n",
      "##############################################################################################\n",
      "\n"
     ]
    },
    {
     "data": {
      "text/html": [
       "<table><tr><td>4\\4b</td><td>Adju</td><td>Cmpl</td><td>Conj</td><td>EPPr</td><td>ExsS</td><td>Exst</td><td>Frnt</td><td>IntS</td><td>Intj</td><td>Loca</td><td>ModS</td><td>Modi</td><td>NCoS</td><td>NCop</td><td>Nega</td><td>Objc</td><td>PrAd</td><td>PrcS</td><td>PreC</td><td>PreO</td><td>PreS</td><td>Pred</td><td>PtcO</td><td>Ques</td><td>Rela</td><td>Subj</td><td>Supp</td><td>Time</td><td>Voct</td></tr><tr><td>Adju</td><td>8061</td><td>94</td><td>13</td><td></td><td></td><td></td><td>7</td><td></td><td></td><td>10</td><td></td><td>206</td><td></td><td></td><td>1</td><td>155</td><td>82</td><td></td><td>65</td><td>5</td><td>1</td><td></td><td></td><td>8</td><td>1</td><td>186</td><td>3</td><td>17</td><td></td></tr><tr><td>Cmpl</td><td>77</td><td>27606</td><td>9</td><td></td><td></td><td></td><td>2</td><td></td><td></td><td>10</td><td></td><td>8</td><td></td><td></td><td></td><td>65</td><td>7</td><td></td><td>105</td><td></td><td></td><td>3</td><td>1</td><td>1</td><td>5</td><td>86</td><td></td><td>2</td><td>3</td></tr><tr><td>Conj</td><td>44</td><td>39</td><td>45936</td><td></td><td></td><td></td><td>17</td><td></td><td></td><td>10</td><td></td><td>6</td><td></td><td></td><td></td><td>110</td><td>1</td><td></td><td>19</td><td>1</td><td></td><td>3</td><td></td><td></td><td>74</td><td>42</td><td></td><td>7</td><td>1</td></tr><tr><td>EPPr</td><td></td><td></td><td></td><td>4</td><td></td><td></td><td></td><td></td><td></td><td></td><td></td><td></td><td></td><td></td><td></td><td></td><td></td><td></td><td></td><td></td><td></td><td></td><td></td><td></td><td></td><td></td><td></td><td></td><td></td></tr><tr><td>ExsS</td><td></td><td></td><td></td><td></td><td>14</td><td></td><td></td><td></td><td></td><td></td><td></td><td></td><td></td><td></td><td></td><td></td><td></td><td></td><td></td><td></td><td></td><td></td><td></td><td></td><td></td><td></td><td></td><td></td><td></td></tr><tr><td>Exst</td><td></td><td></td><td></td><td></td><td></td><td>143</td><td></td><td></td><td></td><td></td><td></td><td></td><td></td><td>1</td><td></td><td></td><td></td><td></td><td></td><td></td><td></td><td></td><td></td><td></td><td></td><td></td><td></td><td></td><td></td></tr><tr><td>Frnt</td><td>1</td><td>5</td><td></td><td></td><td></td><td></td><td>1007</td><td>1</td><td></td><td></td><td></td><td></td><td></td><td></td><td></td><td>2</td><td></td><td></td><td>5</td><td></td><td></td><td></td><td></td><td></td><td></td><td>5</td><td></td><td></td><td>3</td></tr><tr><td>IntS</td><td></td><td></td><td></td><td></td><td></td><td></td><td></td><td>250</td><td></td><td></td><td></td><td></td><td></td><td></td><td></td><td></td><td></td><td></td><td></td><td></td><td></td><td></td><td></td><td></td><td></td><td></td><td></td><td></td><td></td></tr><tr><td>Intj</td><td></td><td></td><td></td><td></td><td></td><td></td><td></td><td></td><td>1624</td><td></td><td></td><td></td><td></td><td></td><td></td><td></td><td></td><td></td><td></td><td></td><td></td><td></td><td></td><td></td><td></td><td>1</td><td></td><td></td><td>3</td></tr><tr><td>Loca</td><td>7</td><td>18</td><td></td><td></td><td></td><td></td><td></td><td></td><td></td><td>2433</td><td></td><td>43</td><td></td><td></td><td></td><td>5</td><td></td><td></td><td>4</td><td></td><td></td><td></td><td></td><td></td><td></td><td>2</td><td></td><td></td><td></td></tr><tr><td>ModS</td><td></td><td></td><td></td><td></td><td></td><td></td><td></td><td></td><td></td><td></td><td>35</td><td></td><td></td><td></td><td></td><td></td><td></td><td></td><td></td><td></td><td></td><td></td><td></td><td></td><td></td><td></td><td></td><td>1</td><td></td></tr><tr><td>Modi</td><td>39</td><td>19</td><td>6</td><td></td><td></td><td></td><td>1</td><td></td><td></td><td>4</td><td></td><td>3526</td><td></td><td></td><td></td><td>11</td><td>24</td><td></td><td>13</td><td></td><td></td><td>2</td><td></td><td>34</td><td></td><td>19</td><td></td><td>15</td><td></td></tr><tr><td>NCoS</td><td></td><td></td><td></td><td></td><td></td><td></td><td></td><td></td><td></td><td></td><td></td><td></td><td>101</td><td></td><td></td><td></td><td></td><td></td><td></td><td></td><td></td><td></td><td></td><td></td><td></td><td></td><td></td><td></td><td></td></tr><tr><td>NCop</td><td>13</td><td>2</td><td>2</td><td></td><td></td><td></td><td></td><td></td><td></td><td></td><td></td><td></td><td></td><td>587</td><td>2</td><td></td><td></td><td></td><td>3</td><td></td><td></td><td></td><td></td><td></td><td></td><td></td><td></td><td></td><td></td></tr><tr><td>Nega</td><td>6</td><td>1</td><td>4</td><td></td><td></td><td></td><td></td><td></td><td></td><td></td><td></td><td>1</td><td></td><td>4</td><td>6039</td><td></td><td></td><td></td><td>1</td><td></td><td></td><td>2</td><td></td><td></td><td>2</td><td>4</td><td></td><td>1</td><td></td></tr><tr><td>Objc</td><td>15</td><td>35</td><td>20</td><td></td><td></td><td></td><td>1</td><td></td><td></td><td>5</td><td></td><td>13</td><td></td><td></td><td></td><td>20672</td><td>22</td><td></td><td>26</td><td>1</td><td></td><td></td><td></td><td>4</td><td>2</td><td>60</td><td></td><td></td><td>3</td></tr><tr><td>PrAd</td><td>1</td><td></td><td></td><td></td><td></td><td></td><td></td><td></td><td></td><td></td><td></td><td>1</td><td></td><td></td><td></td><td></td><td>79</td><td></td><td></td><td>1</td><td></td><td></td><td></td><td></td><td></td><td>2</td><td></td><td></td><td></td></tr><tr><td>PrcS</td><td></td><td></td><td></td><td></td><td></td><td></td><td></td><td></td><td></td><td></td><td></td><td></td><td></td><td></td><td></td><td></td><td></td><td>8</td><td></td><td></td><td></td><td></td><td></td><td></td><td></td><td></td><td></td><td></td><td></td></tr><tr><td>PreC</td><td>36</td><td>41</td><td>7</td><td></td><td></td><td></td><td>11</td><td></td><td></td><td>5</td><td></td><td>4</td><td></td><td></td><td></td><td>35</td><td>12</td><td></td><td>17550</td><td></td><td></td><td>19</td><td></td><td>1</td><td>4</td><td>77</td><td></td><td>2</td><td>8</td></tr><tr><td>PreO</td><td>1</td><td></td><td>4</td><td></td><td></td><td></td><td></td><td></td><td></td><td>1</td><td></td><td></td><td></td><td></td><td></td><td>5</td><td></td><td></td><td></td><td>5434</td><td>76</td><td>1</td><td>1</td><td></td><td></td><td>1</td><td></td><td>2</td><td></td></tr><tr><td>PreS</td><td>1</td><td></td><td></td><td></td><td></td><td></td><td></td><td></td><td></td><td></td><td></td><td></td><td></td><td></td><td></td><td></td><td></td><td></td><td></td><td></td><td>777</td><td></td><td></td><td></td><td></td><td></td><td></td><td>1</td><td></td></tr><tr><td>Pred</td><td>1</td><td>1</td><td>1</td><td></td><td></td><td></td><td></td><td></td><td></td><td></td><td></td><td>1</td><td></td><td></td><td></td><td>4</td><td></td><td></td><td>4</td><td></td><td></td><td>57042</td><td></td><td></td><td></td><td>9</td><td></td><td>13</td><td></td></tr><tr><td>PtcO</td><td></td><td></td><td></td><td></td><td></td><td></td><td></td><td></td><td></td><td></td><td></td><td></td><td></td><td></td><td></td><td>1</td><td></td><td></td><td></td><td></td><td></td><td></td><td>161</td><td></td><td></td><td>4</td><td></td><td></td><td></td></tr><tr><td>Ques</td><td>15</td><td>9</td><td>4</td><td></td><td></td><td></td><td></td><td></td><td></td><td></td><td></td><td></td><td></td><td></td><td></td><td>24</td><td></td><td></td><td>18</td><td></td><td></td><td></td><td></td><td>1156</td><td></td><td>18</td><td></td><td>31</td><td></td></tr><tr><td>Rela</td><td>3</td><td>1</td><td>62</td><td></td><td></td><td></td><td>3</td><td></td><td></td><td>1</td><td></td><td></td><td></td><td></td><td></td><td>7</td><td></td><td></td><td>13</td><td></td><td></td><td></td><td></td><td></td><td>6239</td><td>12</td><td></td><td>1</td><td></td></tr><tr><td>Subj</td><td>15</td><td>12</td><td>3</td><td>5</td><td></td><td></td><td>18</td><td></td><td></td><td>3</td><td></td><td>9</td><td></td><td>1</td><td></td><td>50</td><td>5</td><td></td><td>79</td><td></td><td>1</td><td>4</td><td></td><td>18</td><td></td><td>28763</td><td></td><td>4</td><td>16</td></tr><tr><td>Supp</td><td>60</td><td>49</td><td></td><td></td><td></td><td></td><td></td><td></td><td></td><td></td><td></td><td></td><td></td><td></td><td></td><td>2</td><td></td><td></td><td>2</td><td></td><td></td><td></td><td></td><td></td><td></td><td>3</td><td>180</td><td></td><td></td></tr><tr><td>Time</td><td>2</td><td>1</td><td>8</td><td></td><td></td><td></td><td>1</td><td></td><td></td><td>1</td><td></td><td>40</td><td></td><td></td><td></td><td>2</td><td></td><td></td><td>5</td><td></td><td></td><td>1</td><td></td><td>1</td><td></td><td>6</td><td></td><td>3489</td><td></td></tr><tr><td>Unkn</td><td>1391</td><td>2357</td><td>65</td><td></td><td></td><td></td><td>113</td><td></td><td></td><td>235</td><td></td><td>167</td><td></td><td>2</td><td>1</td><td>2043</td><td>13</td><td></td><td>1840</td><td>1</td><td>2</td><td>3</td><td></td><td>1</td><td>10</td><td>2957</td><td>4</td><td>337</td><td>79</td></tr><tr><td>Voct</td><td></td><td></td><td></td><td></td><td></td><td></td><td>2</td><td></td><td></td><td></td><td></td><td></td><td></td><td></td><td></td><td>2</td><td></td><td></td><td>1</td><td></td><td></td><td></td><td></td><td></td><td></td><td>17</td><td></td><td></td><td>1504</td></tr></table>"
      ],
      "text/plain": [
       "<IPython.core.display.HTML object>"
      ]
     },
     "metadata": {},
     "output_type": "display_data"
    },
    {
     "name": "stdout",
     "output_type": "stream",
     "text": [
      "\n",
      "##############################################################################################\n",
      "#                                                                                            #\n",
      "#      4m 21s Phrase function change from version 3 to 4                                     #\n",
      "#                                                                                            #\n",
      "##############################################################################################\n",
      "\n"
     ]
    },
    {
     "data": {
      "text/html": [
       "<table><tr><td>3\\4</td><td>Adju</td><td>Cmpl</td><td>Conj</td><td>EPPr</td><td>ExsS</td><td>Exst</td><td>Frnt</td><td>IntS</td><td>Intj</td><td>Loca</td><td>ModS</td><td>Modi</td><td>NCoS</td><td>NCop</td><td>Nega</td><td>Objc</td><td>PrAd</td><td>PrcS</td><td>PreC</td><td>PreO</td><td>PreS</td><td>Pred</td><td>PtcO</td><td>Ques</td><td>Rela</td><td>Subj</td><td>Supp</td><td>Time</td><td>Unkn</td><td>Voct</td></tr><tr><td>Adju</td><td>6067</td><td>74</td><td>15</td><td></td><td></td><td></td><td>6</td><td></td><td></td><td>10</td><td></td><td>31</td><td></td><td></td><td></td><td>43</td><td>19</td><td></td><td>65</td><td></td><td></td><td></td><td></td><td></td><td>1</td><td>43</td><td></td><td>15</td><td></td><td>2</td></tr><tr><td>Cmpl</td><td>90</td><td>22418</td><td>12</td><td></td><td></td><td></td><td>5</td><td></td><td></td><td>14</td><td></td><td>6</td><td></td><td></td><td>1</td><td>79</td><td>26</td><td></td><td>21</td><td></td><td></td><td>3</td><td></td><td>1</td><td>1</td><td>71</td><td>3</td><td>6</td><td></td><td>2</td></tr><tr><td>Conj</td><td>87</td><td>27</td><td>33540</td><td></td><td></td><td></td><td>6</td><td></td><td></td><td>8</td><td></td><td>154</td><td></td><td></td><td></td><td>36</td><td>2</td><td></td><td>5</td><td>2</td><td>3</td><td>18</td><td></td><td></td><td>39</td><td>22</td><td></td><td>7</td><td></td><td>1</td></tr><tr><td>ExsS</td><td></td><td></td><td></td><td></td><td>7</td><td></td><td></td><td></td><td></td><td></td><td></td><td></td><td></td><td></td><td></td><td></td><td></td><td></td><td></td><td></td><td></td><td></td><td></td><td></td><td></td><td></td><td></td><td></td><td></td><td></td></tr><tr><td>Exst</td><td></td><td></td><td></td><td></td><td>2</td><td>90</td><td></td><td></td><td></td><td></td><td>1</td><td></td><td>3</td><td>9</td><td></td><td></td><td></td><td></td><td></td><td></td><td></td><td></td><td></td><td></td><td></td><td></td><td></td><td></td><td></td><td></td></tr><tr><td>Frnt</td><td>8</td><td>2</td><td>1</td><td></td><td></td><td></td><td>785</td><td></td><td></td><td></td><td></td><td></td><td></td><td></td><td></td><td>8</td><td></td><td></td><td>12</td><td></td><td></td><td></td><td></td><td></td><td></td><td>22</td><td></td><td></td><td></td><td>5</td></tr><tr><td>IntS</td><td></td><td></td><td></td><td></td><td></td><td></td><td></td><td>161</td><td></td><td></td><td></td><td></td><td></td><td></td><td></td><td></td><td></td><td></td><td>1</td><td></td><td></td><td></td><td></td><td></td><td></td><td></td><td></td><td></td><td></td><td></td></tr><tr><td>Intj</td><td></td><td>1</td><td>2</td><td></td><td></td><td></td><td></td><td>17</td><td>1199</td><td></td><td></td><td>16</td><td></td><td></td><td></td><td>5</td><td></td><td></td><td>9</td><td></td><td></td><td>3</td><td></td><td>5</td><td></td><td>5</td><td></td><td>1</td><td></td><td>1</td></tr><tr><td>IrpC</td><td>1</td><td>18</td><td></td><td></td><td></td><td></td><td></td><td></td><td></td><td></td><td></td><td></td><td></td><td></td><td></td><td></td><td></td><td></td><td>3</td><td></td><td></td><td></td><td></td><td></td><td></td><td></td><td></td><td></td><td></td><td></td></tr><tr><td>IrpO</td><td>1</td><td>1</td><td></td><td></td><td></td><td></td><td></td><td></td><td></td><td></td><td></td><td></td><td></td><td></td><td></td><td>130</td><td></td><td></td><td>1</td><td></td><td></td><td></td><td></td><td>2</td><td></td><td></td><td></td><td></td><td></td><td></td></tr><tr><td>IrpP</td><td></td><td></td><td></td><td></td><td></td><td></td><td></td><td></td><td></td><td></td><td></td><td>2</td><td></td><td></td><td></td><td>4</td><td></td><td>1</td><td>139</td><td></td><td></td><td></td><td></td><td>7</td><td></td><td>3</td><td></td><td></td><td></td><td></td></tr><tr><td>IrpS</td><td></td><td></td><td></td><td></td><td></td><td></td><td>1</td><td></td><td></td><td></td><td></td><td></td><td></td><td></td><td></td><td></td><td></td><td>3</td><td>2</td><td></td><td></td><td></td><td></td><td>2</td><td></td><td>188</td><td></td><td></td><td></td><td></td></tr><tr><td>Loca</td><td>12</td><td>17</td><td></td><td></td><td></td><td></td><td>2</td><td></td><td></td><td>2119</td><td></td><td>6</td><td></td><td></td><td></td><td>11</td><td></td><td></td><td>3</td><td></td><td></td><td></td><td></td><td>1</td><td></td><td>14</td><td></td><td></td><td></td><td></td></tr><tr><td>ModS</td><td></td><td></td><td></td><td></td><td></td><td></td><td></td><td></td><td></td><td></td><td>26</td><td>2</td><td></td><td></td><td></td><td></td><td></td><td></td><td></td><td></td><td></td><td></td><td></td><td></td><td></td><td></td><td></td><td>1</td><td></td><td></td></tr><tr><td>Modi</td><td>35</td><td>62</td><td>7</td><td></td><td></td><td></td><td>28</td><td></td><td>24</td><td>18</td><td></td><td>2567</td><td></td><td>1</td><td>40</td><td>135</td><td></td><td></td><td>15</td><td></td><td></td><td></td><td></td><td>2</td><td></td><td>241</td><td></td><td>46</td><td></td><td></td></tr><tr><td>NegS</td><td></td><td></td><td></td><td></td><td></td><td></td><td></td><td></td><td></td><td></td><td></td><td></td><td>50</td><td></td><td></td><td></td><td></td><td></td><td></td><td></td><td></td><td></td><td></td><td></td><td></td><td></td><td></td><td></td><td></td><td></td></tr><tr><td>Nega</td><td>10</td><td>6</td><td>10</td><td></td><td></td><td>1</td><td></td><td></td><td></td><td></td><td></td><td></td><td>24</td><td>433</td><td>4242</td><td>5</td><td></td><td></td><td>3</td><td>3</td><td>1</td><td>36</td><td></td><td></td><td></td><td>1</td><td></td><td>1</td><td></td><td></td></tr><tr><td>Objc</td><td>22</td><td>44</td><td>14</td><td></td><td></td><td></td><td>8</td><td></td><td></td><td>2</td><td></td><td>5</td><td></td><td></td><td></td><td>15588</td><td>10</td><td></td><td>15</td><td>2</td><td></td><td>1</td><td></td><td></td><td></td><td>93</td><td></td><td>2</td><td></td><td>7</td></tr><tr><td>PreC</td><td>48</td><td>50</td><td>10</td><td></td><td></td><td>3</td><td>18</td><td></td><td>2</td><td>14</td><td></td><td>7</td><td>1</td><td>1</td><td></td><td>49</td><td>11</td><td></td><td>13797</td><td></td><td></td><td>817</td><td></td><td>2</td><td>1</td><td>108</td><td></td><td>7</td><td></td><td>13</td></tr><tr><td>PreO</td><td>9</td><td>1</td><td></td><td></td><td></td><td></td><td>1</td><td></td><td></td><td></td><td></td><td></td><td></td><td></td><td></td><td>1</td><td></td><td></td><td>2</td><td>5463</td><td>141</td><td>12</td><td>67</td><td></td><td></td><td></td><td></td><td>6</td><td></td><td></td></tr><tr><td>PreS</td><td></td><td></td><td></td><td></td><td></td><td></td><td></td><td></td><td></td><td></td><td></td><td></td><td></td><td></td><td></td><td></td><td></td><td></td><td></td><td>7</td><td>630</td><td>2</td><td></td><td></td><td></td><td></td><td></td><td>2</td><td></td><td></td></tr><tr><td>Pred</td><td>1</td><td>4</td><td>1</td><td></td><td></td><td></td><td>1</td><td></td><td></td><td>1</td><td></td><td>1</td><td></td><td></td><td></td><td>2</td><td></td><td></td><td>202</td><td>42</td><td>7</td><td>56189</td><td></td><td></td><td></td><td>9</td><td></td><td>4</td><td></td><td></td></tr><tr><td>PtSp</td><td></td><td></td><td></td><td></td><td></td><td></td><td></td><td></td><td></td><td></td><td></td><td></td><td></td><td></td><td></td><td></td><td></td><td></td><td>1</td><td></td><td></td><td></td><td></td><td></td><td></td><td>1</td><td></td><td></td><td></td><td></td></tr><tr><td>PtcO</td><td></td><td></td><td></td><td></td><td></td><td></td><td>1</td><td></td><td></td><td></td><td></td><td></td><td></td><td></td><td></td><td>4</td><td></td><td></td><td></td><td>1</td><td></td><td></td><td>90</td><td></td><td></td><td>11</td><td></td><td></td><td></td><td>1</td></tr><tr><td>Ques</td><td>2</td><td>2</td><td>1</td><td></td><td></td><td></td><td></td><td></td><td>2</td><td></td><td></td><td></td><td></td><td>1</td><td>2</td><td>1</td><td></td><td></td><td></td><td></td><td></td><td></td><td></td><td>885</td><td></td><td>2</td><td></td><td>1</td><td></td><td></td></tr><tr><td>Rela</td><td>1</td><td>3</td><td>569</td><td></td><td></td><td></td><td></td><td></td><td></td><td></td><td></td><td>2</td><td></td><td></td><td>1</td><td>8</td><td></td><td></td><td></td><td></td><td></td><td></td><td></td><td>1</td><td>4903</td><td></td><td></td><td></td><td></td><td></td></tr><tr><td>Subj</td><td>19</td><td>10</td><td>4</td><td></td><td></td><td></td><td>40</td><td></td><td>1</td><td>7</td><td></td><td>8</td><td>1</td><td></td><td>1</td><td>89</td><td>3</td><td>1</td><td>143</td><td>2</td><td></td><td>3</td><td>2</td><td>2</td><td>1</td><td>21407</td><td></td><td>5</td><td></td><td>28</td></tr><tr><td>Supp</td><td>15</td><td>44</td><td></td><td></td><td></td><td></td><td></td><td></td><td></td><td>1</td><td></td><td></td><td></td><td></td><td></td><td>3</td><td></td><td></td><td>4</td><td></td><td></td><td></td><td></td><td></td><td></td><td></td><td>264</td><td></td><td></td><td></td></tr><tr><td>Time</td><td>15</td><td>5</td><td>2</td><td></td><td></td><td></td><td>1</td><td></td><td></td><td>1</td><td>1</td><td>19</td><td></td><td></td><td></td><td>22</td><td></td><td></td><td>6</td><td></td><td></td><td>2</td><td></td><td></td><td></td><td>38</td><td></td><td>2807</td><td></td><td>1</td></tr><tr><td>Unkn</td><td>2726</td><td>5589</td><td>12119</td><td>4</td><td>5</td><td>50</td><td>214</td><td>72</td><td>402</td><td>385</td><td>8</td><td>910</td><td>22</td><td>164</td><td>1772</td><td>5243</td><td>22</td><td>5</td><td>3756</td><td>10</td><td>8</td><td>36</td><td>7</td><td>369</td><td>1401</td><td>7609</td><td>29</td><td>803</td><td>11416</td><td>692</td></tr><tr><td>Voct</td><td>1</td><td>1</td><td></td><td></td><td></td><td></td><td>8</td><td></td><td>2</td><td></td><td></td><td></td><td></td><td></td><td></td><td>2</td><td></td><td></td><td>1</td><td></td><td></td><td></td><td></td><td></td><td>1</td><td>8</td><td></td><td></td><td></td><td>835</td></tr></table>"
      ],
      "text/plain": [
       "<IPython.core.display.HTML object>"
      ]
     },
     "metadata": {},
     "output_type": "display_data"
    }
   ],
   "source": [
    "for (v, w) in reversed(phraseMapping):\n",
    "    caption(1, 'Phrase function change from version {} to {}'.format(v, w))\n",
    "    featureDiff(v, w, 'FUNCTION')"
   ]
  },
  {
   "cell_type": "markdown",
   "metadata": {},
   "source": [
    "# Boundary statistics"
   ]
  },
  {
   "cell_type": "code",
   "execution_count": 12,
   "metadata": {
    "scrolled": true
   },
   "outputs": [
    {
     "name": "stdout",
     "output_type": "stream",
     "text": [
      "\n",
      "##############################################################################################\n",
      "#                                                                                            #\n",
      "#      1m 30s Phrase boundary change from version 3 to 2017                                  #\n",
      "#                                                                                            #\n",
      "##############################################################################################\n",
      "\n"
     ]
    },
    {
     "data": {
      "text/html": [
       "<table><tr><td>dissimilarity</td><td>number of phrases</td></tr><tr><td>0</td><td>251551</td></tr><tr><td>1</td><td>29</td></tr><tr><td>2</td><td>26</td></tr><tr><td>3</td><td>22</td></tr><tr><td>4</td><td>13</td></tr><tr><td>5</td><td>10</td></tr><tr><td>6</td><td>5</td></tr><tr><td>7</td><td>6</td></tr><tr><td>8</td><td>1</td></tr><tr><td>9</td><td>13</td></tr><tr><td>10</td><td>3</td></tr><tr><td>11</td><td>4</td></tr><tr><td>12</td><td>4</td></tr><tr><td>13</td><td>1</td></tr><tr><td>14</td><td>3</td></tr><tr><td>15</td><td>1</td></tr><tr><td>16</td><td>1</td></tr><tr><td>17</td><td></td></tr><tr><td>18</td><td></td></tr><tr><td>19</td><td>2</td></tr><tr><td>20</td><td>1</td></tr><tr><td>21</td><td></td></tr><tr><td>22</td><td></td></tr><tr><td>23</td><td>1</td></tr><tr><td>24</td><td></td></tr><tr><td>25</td><td></td></tr><tr><td>26</td><td>1</td></tr><tr><td>27</td><td></td></tr><tr><td>28</td><td>1</td></tr></table>"
      ],
      "text/plain": [
       "<IPython.core.display.HTML object>"
      ]
     },
     "metadata": {},
     "output_type": "display_data"
    },
    {
     "name": "stdout",
     "output_type": "stream",
     "text": [
      "\n",
      "##############################################################################################\n",
      "#                                                                                            #\n",
      "#      1m 30s Phrase boundary change from version 2016 to 2017                               #\n",
      "#                                                                                            #\n",
      "##############################################################################################\n",
      "\n"
     ]
    },
    {
     "data": {
      "text/html": [
       "<table><tr><td>dissimilarity</td><td>number of phrases</td></tr><tr><td>0</td><td>253073</td></tr><tr><td>1</td><td>29</td></tr><tr><td>2</td><td>26</td></tr><tr><td>3</td><td>22</td></tr><tr><td>4</td><td>13</td></tr><tr><td>5</td><td>10</td></tr><tr><td>6</td><td>5</td></tr><tr><td>7</td><td>6</td></tr><tr><td>8</td><td>1</td></tr><tr><td>9</td><td>13</td></tr><tr><td>10</td><td>3</td></tr><tr><td>11</td><td>4</td></tr><tr><td>12</td><td>4</td></tr><tr><td>13</td><td>1</td></tr><tr><td>14</td><td>3</td></tr><tr><td>15</td><td>1</td></tr><tr><td>16</td><td>1</td></tr><tr><td>17</td><td></td></tr><tr><td>18</td><td></td></tr><tr><td>19</td><td>2</td></tr><tr><td>20</td><td>1</td></tr><tr><td>21</td><td></td></tr><tr><td>22</td><td></td></tr><tr><td>23</td><td>1</td></tr><tr><td>24</td><td></td></tr><tr><td>25</td><td></td></tr><tr><td>26</td><td>1</td></tr><tr><td>27</td><td></td></tr><tr><td>28</td><td>1</td></tr></table>"
      ],
      "text/plain": [
       "<IPython.core.display.HTML object>"
      ]
     },
     "metadata": {},
     "output_type": "display_data"
    },
    {
     "name": "stdout",
     "output_type": "stream",
     "text": [
      "\n",
      "##############################################################################################\n",
      "#                                                                                            #\n",
      "#      1m 30s Phrase boundary change from version 4b to 2016                                 #\n",
      "#                                                                                            #\n",
      "##############################################################################################\n",
      "\n"
     ]
    },
    {
     "data": {
      "text/html": [
       "<table><tr><td>dissimilarity</td><td>number of phrases</td></tr><tr><td>0</td><td>252881</td></tr><tr><td>1</td><td>128</td></tr><tr><td>2</td><td>82</td></tr><tr><td>3</td><td>65</td></tr><tr><td>4</td><td>26</td></tr><tr><td>5</td><td>16</td></tr><tr><td>6</td><td>11</td></tr><tr><td>7</td><td>14</td></tr><tr><td>8</td><td>11</td></tr><tr><td>9</td><td>5</td></tr><tr><td>10</td><td>3</td></tr><tr><td>11</td><td>2</td></tr><tr><td>12</td><td>1</td></tr><tr><td>13</td><td>1</td></tr><tr><td>14</td><td></td></tr><tr><td>15</td><td></td></tr><tr><td>16</td><td>1</td></tr><tr><td>17</td><td></td></tr><tr><td>18</td><td>1</td></tr><tr><td>19</td><td></td></tr><tr><td>20</td><td>1</td></tr></table>"
      ],
      "text/plain": [
       "<IPython.core.display.HTML object>"
      ]
     },
     "metadata": {},
     "output_type": "display_data"
    },
    {
     "name": "stdout",
     "output_type": "stream",
     "text": [
      "\n",
      "##############################################################################################\n",
      "#                                                                                            #\n",
      "#      1m 30s Phrase boundary change from version 4 to 4b                                    #\n",
      "#                                                                                            #\n",
      "##############################################################################################\n",
      "\n"
     ]
    },
    {
     "data": {
      "text/html": [
       "<table><tr><td>dissimilarity</td><td>number of phrases</td></tr><tr><td>0</td><td>250751</td></tr><tr><td>1</td><td>750</td></tr><tr><td>2</td><td>745</td></tr><tr><td>3</td><td>618</td></tr><tr><td>4</td><td>372</td></tr><tr><td>5</td><td>305</td></tr><tr><td>6</td><td>188</td></tr><tr><td>7</td><td>141</td></tr><tr><td>8</td><td>123</td></tr><tr><td>9</td><td>77</td></tr><tr><td>10</td><td>67</td></tr><tr><td>11</td><td>64</td></tr><tr><td>12</td><td>43</td></tr><tr><td>13</td><td>41</td></tr><tr><td>14</td><td>27</td></tr><tr><td>15</td><td>22</td></tr><tr><td>16</td><td>15</td></tr><tr><td>17</td><td>17</td></tr><tr><td>18</td><td>20</td></tr><tr><td>19</td><td>15</td></tr><tr><td>20</td><td>11</td></tr><tr><td>21</td><td>9</td></tr><tr><td>22</td><td>3</td></tr><tr><td>23</td><td>4</td></tr><tr><td>24</td><td>5</td></tr><tr><td>25</td><td>2</td></tr><tr><td>26</td><td></td></tr><tr><td>27</td><td>5</td></tr><tr><td>28</td><td>2</td></tr><tr><td>29</td><td>5</td></tr><tr><td>30</td><td>2</td></tr><tr><td>31</td><td>3</td></tr><tr><td>32</td><td>1</td></tr><tr><td>33</td><td>2</td></tr><tr><td>34</td><td></td></tr><tr><td>35</td><td>1</td></tr><tr><td>36</td><td>1</td></tr><tr><td>37</td><td>1</td></tr></table>"
      ],
      "text/plain": [
       "<IPython.core.display.HTML object>"
      ]
     },
     "metadata": {},
     "output_type": "display_data"
    },
    {
     "name": "stdout",
     "output_type": "stream",
     "text": [
      "\n",
      "##############################################################################################\n",
      "#                                                                                            #\n",
      "#      1m 30s Phrase boundary change from version 3 to 4                                     #\n",
      "#                                                                                            #\n",
      "##############################################################################################\n",
      "\n"
     ]
    },
    {
     "data": {
      "text/html": [
       "<table><tr><td>dissimilarity</td><td>number of phrases</td></tr><tr><td>0</td><td>250346</td></tr><tr><td>1</td><td>2837</td></tr><tr><td>2</td><td>1164</td></tr><tr><td>3</td><td>788</td></tr><tr><td>4</td><td>457</td></tr><tr><td>5</td><td>287</td></tr><tr><td>6</td><td>166</td></tr><tr><td>7</td><td>127</td></tr><tr><td>8</td><td>86</td></tr><tr><td>9</td><td>61</td></tr><tr><td>10</td><td>66</td></tr><tr><td>11</td><td>33</td></tr><tr><td>12</td><td>39</td></tr><tr><td>13</td><td>19</td></tr><tr><td>14</td><td>22</td></tr><tr><td>15</td><td>16</td></tr><tr><td>16</td><td>16</td></tr><tr><td>17</td><td>10</td></tr><tr><td>18</td><td>10</td></tr><tr><td>19</td><td>7</td></tr><tr><td>20</td><td>4</td></tr><tr><td>21</td><td>2</td></tr><tr><td>22</td><td></td></tr><tr><td>23</td><td>3</td></tr><tr><td>24</td><td>1</td></tr><tr><td>25</td><td></td></tr><tr><td>26</td><td></td></tr><tr><td>27</td><td></td></tr><tr><td>28</td><td></td></tr><tr><td>29</td><td></td></tr><tr><td>30</td><td>1</td></tr></table>"
      ],
      "text/plain": [
       "<IPython.core.display.HTML object>"
      ]
     },
     "metadata": {},
     "output_type": "display_data"
    }
   ],
   "source": [
    "for (v, w) in reversed(phraseMapping):\n",
    "    caption(1, 'Phrase boundary change from version {} to {}'.format(v, w))\n",
    "    showStats(v, w)"
   ]
  },
  {
   "cell_type": "markdown",
   "metadata": {},
   "source": [
    "# Start\n",
    "Start the program here."
   ]
  },
  {
   "cell_type": "code",
   "execution_count": 1,
   "metadata": {
    "collapsed": true
   },
   "outputs": [],
   "source": [
    "import os, sys, collections\n",
    "from functools import reduce\n",
    "from utils import caption\n",
    "from tf.fabric import Fabric\n",
    "\n",
    "from IPython.display import HTML, display"
   ]
  },
  {
   "cell_type": "markdown",
   "metadata": {},
   "source": [
    "We specify our versions and the subtle differences between them as far as they are relevant."
   ]
  },
  {
   "cell_type": "code",
   "execution_count": 2,
   "metadata": {
    "collapsed": true
   },
   "outputs": [],
   "source": [
    "REPO = os.path.expanduser('~/github/etcbc/bhsa')\n",
    "baseDir = '{}/tf'.format(REPO)\n",
    "tempDir = '{}/_temp'.format(REPO)\n",
    "\n",
    "versions = '''\n",
    "    3 \n",
    "    4 \n",
    "    4b \n",
    "    2016\n",
    "    2017\n",
    "'''.strip().split()\n",
    "\n",
    "versionInfoSpec = {\n",
    "    '': dict(\n",
    "            OCC='g_word',\n",
    "            LEX='lex',\n",
    "            FUNCTION='function',\n",
    "        ),\n",
    "    '3': dict(\n",
    "            OCC='text_plain',\n",
    "            LEX='lexeme',\n",
    "            FUNCTION='phrase_function',\n",
    "        ),\n",
    "}\n",
    "\n",
    "versionInfo = {}\n",
    "\n",
    "defaults = versionInfoSpec[''].items()\n",
    "\n",
    "for (i, v) in enumerate(versions):\n",
    "    versionInfo.setdefault(v, {})['OMAP'] = '' if i == 0 else 'omap@{}-{}'.format(versions[i-1], v)\n",
    "    versionInfo[v].update(versionInfoSpec.get('', {}))\n",
    "    versionInfo[v].update(versionInfoSpec.get(v, {}))"
   ]
  },
  {
   "cell_type": "markdown",
   "metadata": {},
   "source": [
    "Load all versions in one go, with the version mapping feature if present."
   ]
  },
  {
   "cell_type": "code",
   "execution_count": 3,
   "metadata": {},
   "outputs": [
    {
     "name": "stdout",
     "output_type": "stream",
     "text": [
      "..............................................................................................\n",
      ".       0.00s Version -> 3 <- loading ...                                                    .\n",
      "..............................................................................................\n",
      "This is Text-Fabric 5.5.18\n",
      "Api reference : https://dans-labs.github.io/text-fabric/Api/General/\n",
      "Tutorial      : https://github.com/Dans-labs/text-fabric/blob/master/docs/tutorial.ipynb\n",
      "Example data  : https://github.com/Dans-labs/text-fabric-data\n",
      "\n",
      "118 features found and 0 ignored\n",
      "  0.00s loading features ...\n",
      "   |     0.63s T otype                from /Users/cody/github/etcbc/bhsa/tf/3\n",
      "   |     7.50s T oslots               from /Users/cody/github/etcbc/bhsa/tf/3\n",
      "   |     0.06s T book                 from /Users/cody/github/etcbc/bhsa/tf/3\n",
      "   |     0.04s T chapter              from /Users/cody/github/etcbc/bhsa/tf/3\n",
      "   |     0.03s T verse                from /Users/cody/github/etcbc/bhsa/tf/3\n",
      "   |     1.04s T graphical_lexeme     from /Users/cody/github/etcbc/bhsa/tf/3\n",
      "   |     1.13s T graphical_lexeme_utf8 from /Users/cody/github/etcbc/bhsa/tf/3\n",
      "   |     1.11s T graphical_word       from /Users/cody/github/etcbc/bhsa/tf/3\n",
      "   |     0.96s T lexeme               from /Users/cody/github/etcbc/bhsa/tf/3\n",
      "   |     1.07s T lexeme_utf8          from /Users/cody/github/etcbc/bhsa/tf/3\n",
      "   |     0.77s T suffix               from /Users/cody/github/etcbc/bhsa/tf/3\n",
      "   |     0.95s T surface_consonants   from /Users/cody/github/etcbc/bhsa/tf/3\n",
      "   |     1.08s T surface_consonants_utf8 from /Users/cody/github/etcbc/bhsa/tf/3\n",
      "   |     1.20s T text                 from /Users/cody/github/etcbc/bhsa/tf/3\n",
      "   |     0.00s M otext                from /Users/cody/github/etcbc/bhsa/tf/3\n",
      "   |      |     0.82s C __levels__           from otype, oslots, otext\n",
      "   |      |       12s C __order__            from otype, oslots, __levels__\n",
      "   |      |     0.74s C __rank__             from otype, __order__\n",
      "   |      |       11s C __levUp__            from otype, oslots, __rank__\n",
      "   |      |     9.66s C __levDown__          from otype, __levUp__, __rank__\n",
      "   |      |     3.00s C __boundary__         from otype, oslots, __rank__\n",
      "   |     0.00s M otext                from /Users/cody/github/etcbc/bhsa/tf/3\n",
      "   |      |     0.15s C __sections__         from otype, oslots, otext, __levUp__, __levels__, book, chapter, verse\n",
      "   |     1.18s T text_plain           from /Users/cody/github/etcbc/bhsa/tf/3\n",
      "   |     0.56s T phrase_function      from /Users/cody/github/etcbc/bhsa/tf/3\n",
      "   |     0.00s T book@am              from /Users/cody/github/etcbc/bhsa/tf/3\n",
      "   |     0.00s T book@ar              from /Users/cody/github/etcbc/bhsa/tf/3\n",
      "   |     0.00s T book@bn              from /Users/cody/github/etcbc/bhsa/tf/3\n",
      "   |     0.00s T book@da              from /Users/cody/github/etcbc/bhsa/tf/3\n",
      "   |     0.00s T book@de              from /Users/cody/github/etcbc/bhsa/tf/3\n",
      "   |     0.00s T book@el              from /Users/cody/github/etcbc/bhsa/tf/3\n",
      "   |     0.00s T book@en              from /Users/cody/github/etcbc/bhsa/tf/3\n",
      "   |     0.00s T book@es              from /Users/cody/github/etcbc/bhsa/tf/3\n",
      "   |     0.00s T book@fa              from /Users/cody/github/etcbc/bhsa/tf/3\n",
      "   |     0.00s T book@fr              from /Users/cody/github/etcbc/bhsa/tf/3\n",
      "   |     0.00s T book@he              from /Users/cody/github/etcbc/bhsa/tf/3\n",
      "   |     0.00s T book@hi              from /Users/cody/github/etcbc/bhsa/tf/3\n",
      "   |     0.00s T book@id              from /Users/cody/github/etcbc/bhsa/tf/3\n",
      "   |     0.00s T book@ja              from /Users/cody/github/etcbc/bhsa/tf/3\n",
      "   |     0.00s T book@ko              from /Users/cody/github/etcbc/bhsa/tf/3\n",
      "   |     0.00s T book@la              from /Users/cody/github/etcbc/bhsa/tf/3\n",
      "   |     0.00s T book@nl              from /Users/cody/github/etcbc/bhsa/tf/3\n",
      "   |     0.00s T book@pa              from /Users/cody/github/etcbc/bhsa/tf/3\n",
      "   |     0.00s T book@pt              from /Users/cody/github/etcbc/bhsa/tf/3\n",
      "   |     0.00s T book@ru              from /Users/cody/github/etcbc/bhsa/tf/3\n",
      "   |     0.00s T book@sw              from /Users/cody/github/etcbc/bhsa/tf/3\n",
      "   |     0.00s T book@syc             from /Users/cody/github/etcbc/bhsa/tf/3\n",
      "   |     0.00s T book@tr              from /Users/cody/github/etcbc/bhsa/tf/3\n",
      "   |     0.00s T book@ur              from /Users/cody/github/etcbc/bhsa/tf/3\n",
      "   |     0.00s T book@yo              from /Users/cody/github/etcbc/bhsa/tf/3\n",
      "   |     0.00s T book@zh              from /Users/cody/github/etcbc/bhsa/tf/3\n",
      "    58s All features loaded/computed - for details use loadLog()\n",
      "..............................................................................................\n",
      ".         58s Version -> 4 <- loading ...                                                    .\n",
      "..............................................................................................\n",
      "This is Text-Fabric 5.5.18\n",
      "Api reference : https://dans-labs.github.io/text-fabric/Api/General/\n",
      "Tutorial      : https://github.com/Dans-labs/text-fabric/blob/master/docs/tutorial.ipynb\n",
      "Example data  : https://github.com/Dans-labs/text-fabric-data\n",
      "\n",
      "104 features found and 0 ignored\n",
      "  0.00s loading features ...\n",
      "   |     0.64s T otype                from /Users/cody/github/etcbc/bhsa/tf/4\n",
      "   |     7.77s T oslots               from /Users/cody/github/etcbc/bhsa/tf/4\n",
      "   |     0.06s T book                 from /Users/cody/github/etcbc/bhsa/tf/4\n",
      "   |     0.03s T chapter              from /Users/cody/github/etcbc/bhsa/tf/4\n",
      "   |     0.03s T verse                from /Users/cody/github/etcbc/bhsa/tf/4\n",
      "   |     0.98s T g_cons               from /Users/cody/github/etcbc/bhsa/tf/4\n",
      "   |     1.11s T g_cons_utf8          from /Users/cody/github/etcbc/bhsa/tf/4\n",
      "   |     1.07s T g_lex                from /Users/cody/github/etcbc/bhsa/tf/4\n",
      "   |     1.18s T g_lex_utf8           from /Users/cody/github/etcbc/bhsa/tf/4\n",
      "   |     1.08s T g_word               from /Users/cody/github/etcbc/bhsa/tf/4\n",
      "   |     1.16s T g_word_utf8          from /Users/cody/github/etcbc/bhsa/tf/4\n",
      "   |     0.98s T lex                  from /Users/cody/github/etcbc/bhsa/tf/4\n",
      "   |     1.07s T lex_utf8             from /Users/cody/github/etcbc/bhsa/tf/4\n",
      "   |     0.76s T trailer_utf8         from /Users/cody/github/etcbc/bhsa/tf/4\n",
      "   |     0.00s M otext                from /Users/cody/github/etcbc/bhsa/tf/4\n",
      "   |      |     0.83s C __levels__           from otype, oslots, otext\n",
      "   |      |       13s C __order__            from otype, oslots, __levels__\n",
      "   |      |     0.75s C __rank__             from otype, __order__\n",
      "   |      |       13s C __levUp__            from otype, oslots, __rank__\n",
      "   |      |     9.32s C __levDown__          from otype, __levUp__, __rank__\n",
      "   |      |     2.64s C __boundary__         from otype, oslots, __rank__\n",
      "   |     0.00s M otext                from /Users/cody/github/etcbc/bhsa/tf/4\n",
      "   |      |     0.10s C __sections__         from otype, oslots, otext, __levUp__, __levels__, book, chapter, verse\n",
      "   |     0.55s T function             from /Users/cody/github/etcbc/bhsa/tf/4\n",
      "   |     4.33s T omap@3-4             from /Users/cody/github/etcbc/bhsa/tf/4\n",
      "   |     0.00s T book@am              from /Users/cody/github/etcbc/bhsa/tf/4\n",
      "   |     0.00s T book@ar              from /Users/cody/github/etcbc/bhsa/tf/4\n",
      "   |     0.00s T book@bn              from /Users/cody/github/etcbc/bhsa/tf/4\n",
      "   |     0.00s T book@da              from /Users/cody/github/etcbc/bhsa/tf/4\n",
      "   |     0.00s T book@de              from /Users/cody/github/etcbc/bhsa/tf/4\n",
      "   |     0.00s T book@el              from /Users/cody/github/etcbc/bhsa/tf/4\n",
      "   |     0.00s T book@en              from /Users/cody/github/etcbc/bhsa/tf/4\n",
      "   |     0.00s T book@es              from /Users/cody/github/etcbc/bhsa/tf/4\n",
      "   |     0.00s T book@fa              from /Users/cody/github/etcbc/bhsa/tf/4\n",
      "   |     0.00s T book@fr              from /Users/cody/github/etcbc/bhsa/tf/4\n",
      "   |     0.00s T book@he              from /Users/cody/github/etcbc/bhsa/tf/4\n",
      "   |     0.00s T book@hi              from /Users/cody/github/etcbc/bhsa/tf/4\n",
      "   |     0.00s T book@id              from /Users/cody/github/etcbc/bhsa/tf/4\n",
      "   |     0.00s T book@ja              from /Users/cody/github/etcbc/bhsa/tf/4\n",
      "   |     0.00s T book@ko              from /Users/cody/github/etcbc/bhsa/tf/4\n",
      "   |     0.00s T book@la              from /Users/cody/github/etcbc/bhsa/tf/4\n",
      "   |     0.00s T book@nl              from /Users/cody/github/etcbc/bhsa/tf/4\n",
      "   |     0.00s T book@pa              from /Users/cody/github/etcbc/bhsa/tf/4\n",
      "   |     0.00s T book@pt              from /Users/cody/github/etcbc/bhsa/tf/4\n",
      "   |     0.00s T book@ru              from /Users/cody/github/etcbc/bhsa/tf/4\n",
      "   |     0.00s T book@sw              from /Users/cody/github/etcbc/bhsa/tf/4\n",
      "   |     0.00s T book@syc             from /Users/cody/github/etcbc/bhsa/tf/4\n",
      "   |     0.00s T book@tr              from /Users/cody/github/etcbc/bhsa/tf/4\n",
      "   |     0.00s T book@ur              from /Users/cody/github/etcbc/bhsa/tf/4\n",
      "   |     0.00s T book@yo              from /Users/cody/github/etcbc/bhsa/tf/4\n",
      "   |     0.00s T book@zh              from /Users/cody/github/etcbc/bhsa/tf/4\n",
      " 1m 03s All features loaded/computed - for details use loadLog()\n",
      "..............................................................................................\n",
      ".      2m 00s Version -> 4b <- loading ...                                                   .\n",
      "..............................................................................................\n",
      "This is Text-Fabric 5.5.18\n",
      "Api reference : https://dans-labs.github.io/text-fabric/Api/General/\n",
      "Tutorial      : https://github.com/Dans-labs/text-fabric/blob/master/docs/tutorial.ipynb\n",
      "Example data  : https://github.com/Dans-labs/text-fabric-data\n",
      "\n",
      "103 features found and 0 ignored\n",
      "  0.00s loading features ...\n",
      "   |     0.60s T otype                from /Users/cody/github/etcbc/bhsa/tf/4b\n",
      "   |     8.85s T oslots               from /Users/cody/github/etcbc/bhsa/tf/4b\n",
      "   |     0.06s T book                 from /Users/cody/github/etcbc/bhsa/tf/4b\n",
      "   |     0.03s T chapter              from /Users/cody/github/etcbc/bhsa/tf/4b\n",
      "   |     0.03s T verse                from /Users/cody/github/etcbc/bhsa/tf/4b\n",
      "   |     0.95s T g_cons               from /Users/cody/github/etcbc/bhsa/tf/4b\n",
      "   |     1.10s T g_cons_utf8          from /Users/cody/github/etcbc/bhsa/tf/4b\n",
      "   |     1.05s T g_lex                from /Users/cody/github/etcbc/bhsa/tf/4b\n",
      "   |     1.18s T g_lex_utf8           from /Users/cody/github/etcbc/bhsa/tf/4b\n",
      "   |     1.10s T g_word               from /Users/cody/github/etcbc/bhsa/tf/4b\n",
      "   |     1.20s T g_word_utf8          from /Users/cody/github/etcbc/bhsa/tf/4b\n",
      "   |     0.97s T lex                  from /Users/cody/github/etcbc/bhsa/tf/4b\n",
      "   |     1.07s T lex_utf8             from /Users/cody/github/etcbc/bhsa/tf/4b\n",
      "   |     0.77s T trailer_utf8         from /Users/cody/github/etcbc/bhsa/tf/4b\n",
      "   |     0.00s M otext                from /Users/cody/github/etcbc/bhsa/tf/4b\n",
      "   |      |     0.84s C __levels__           from otype, oslots, otext\n",
      "   |      |       12s C __order__            from otype, oslots, __levels__\n",
      "   |      |     0.77s C __rank__             from otype, __order__\n",
      "   |      |       13s C __levUp__            from otype, oslots, __rank__\n",
      "   |      |     9.81s C __levDown__          from otype, __levUp__, __rank__\n",
      "   |      |     3.07s C __boundary__         from otype, oslots, __rank__\n",
      "   |     0.00s M otext                from /Users/cody/github/etcbc/bhsa/tf/4b\n",
      "   |      |     0.09s C __sections__         from otype, oslots, otext, __levUp__, __levels__, book, chapter, verse\n",
      "   |     0.55s T function             from /Users/cody/github/etcbc/bhsa/tf/4b\n",
      "   |     4.39s T omap@4-4b            from /Users/cody/github/etcbc/bhsa/tf/4b\n",
      "   |     0.00s T book@am              from /Users/cody/github/etcbc/bhsa/tf/4b\n",
      "   |     0.00s T book@ar              from /Users/cody/github/etcbc/bhsa/tf/4b\n",
      "   |     0.00s T book@bn              from /Users/cody/github/etcbc/bhsa/tf/4b\n",
      "   |     0.00s T book@da              from /Users/cody/github/etcbc/bhsa/tf/4b\n",
      "   |     0.00s T book@de              from /Users/cody/github/etcbc/bhsa/tf/4b\n",
      "   |     0.00s T book@el              from /Users/cody/github/etcbc/bhsa/tf/4b\n",
      "   |     0.00s T book@en              from /Users/cody/github/etcbc/bhsa/tf/4b\n",
      "   |     0.00s T book@es              from /Users/cody/github/etcbc/bhsa/tf/4b\n",
      "   |     0.00s T book@fa              from /Users/cody/github/etcbc/bhsa/tf/4b\n",
      "   |     0.00s T book@fr              from /Users/cody/github/etcbc/bhsa/tf/4b\n",
      "   |     0.00s T book@he              from /Users/cody/github/etcbc/bhsa/tf/4b\n",
      "   |     0.00s T book@hi              from /Users/cody/github/etcbc/bhsa/tf/4b\n",
      "   |     0.00s T book@id              from /Users/cody/github/etcbc/bhsa/tf/4b\n",
      "   |     0.00s T book@ja              from /Users/cody/github/etcbc/bhsa/tf/4b\n",
      "   |     0.00s T book@ko              from /Users/cody/github/etcbc/bhsa/tf/4b\n",
      "   |     0.00s T book@la              from /Users/cody/github/etcbc/bhsa/tf/4b\n",
      "   |     0.00s T book@nl              from /Users/cody/github/etcbc/bhsa/tf/4b\n",
      "   |     0.00s T book@pa              from /Users/cody/github/etcbc/bhsa/tf/4b\n",
      "   |     0.00s T book@pt              from /Users/cody/github/etcbc/bhsa/tf/4b\n",
      "   |     0.00s T book@ru              from /Users/cody/github/etcbc/bhsa/tf/4b\n",
      "   |     0.00s T book@sw              from /Users/cody/github/etcbc/bhsa/tf/4b\n",
      "   |     0.00s T book@syc             from /Users/cody/github/etcbc/bhsa/tf/4b\n",
      "   |     0.00s T book@tr              from /Users/cody/github/etcbc/bhsa/tf/4b\n",
      "   |     0.00s T book@ur              from /Users/cody/github/etcbc/bhsa/tf/4b\n",
      "   |     0.00s T book@yo              from /Users/cody/github/etcbc/bhsa/tf/4b\n",
      "   |     0.00s T book@zh              from /Users/cody/github/etcbc/bhsa/tf/4b\n",
      " 1m 05s All features loaded/computed - for details use loadLog()\n",
      "..............................................................................................\n",
      ".      3m 05s Version -> 2016 <- loading ...                                                 .\n",
      "..............................................................................................\n",
      "This is Text-Fabric 5.5.18\n",
      "Api reference : https://dans-labs.github.io/text-fabric/Api/General/\n",
      "Tutorial      : https://github.com/Dans-labs/text-fabric/blob/master/docs/tutorial.ipynb\n",
      "Example data  : https://github.com/Dans-labs/text-fabric-data\n",
      "\n",
      "109 features found and 0 ignored\n",
      "  0.00s loading features ...\n",
      "   |     0.15s B g_word               from /Users/cody/github/etcbc/bhsa/tf/2016\n",
      "   |     0.12s B lex                  from /Users/cody/github/etcbc/bhsa/tf/2016\n",
      "   |     0.07s B function             from /Users/cody/github/etcbc/bhsa/tf/2016\n",
      "   |     4.64s T omap@4b-2016         from /Users/cody/github/etcbc/bhsa/tf/2016\n",
      "  9.95s All features loaded/computed - for details use loadLog()\n",
      "..............................................................................................\n",
      ".      3m 15s Version -> 2017 <- loading ...                                                 .\n",
      "..............................................................................................\n",
      "This is Text-Fabric 5.5.18\n",
      "Api reference : https://dans-labs.github.io/text-fabric/Api/General/\n",
      "Tutorial      : https://github.com/Dans-labs/text-fabric/blob/master/docs/tutorial.ipynb\n",
      "Example data  : https://github.com/Dans-labs/text-fabric-data\n",
      "\n",
      "115 features found and 0 ignored\n",
      "  0.00s loading features ...\n",
      "   |     0.16s B g_word               from /Users/cody/github/etcbc/bhsa/tf/2017\n",
      "   |     0.13s B lex                  from /Users/cody/github/etcbc/bhsa/tf/2017\n",
      "   |     0.09s B function             from /Users/cody/github/etcbc/bhsa/tf/2017\n",
      "   |     0.88s B omap@2016-2017       from /Users/cody/github/etcbc/bhsa/tf/2017\n",
      "  7.03s All features loaded/computed - for details use loadLog()\n"
     ]
    }
   ],
   "source": [
    "TF = {}\n",
    "api = {}\n",
    "for (i, v) in enumerate(versions):\n",
    "    for (param, value) in versionInfo[v].items():\n",
    "        globals()[param] = value\n",
    "    caption(4, 'Version -> {} <- loading ...'.format(v))\n",
    "    TF[v] = Fabric(locations='{}/{}'.format(baseDir, v), modules=[''])\n",
    "    api[v] = TF[v].load(' '.join((OCC, LEX, FUNCTION, OMAP)))"
   ]
  },
  {
   "cell_type": "markdown",
   "metadata": {},
   "source": [
    "# Utility function: tables in your cells"
   ]
  },
  {
   "cell_type": "code",
   "execution_count": 4,
   "metadata": {
    "collapsed": true
   },
   "outputs": [],
   "source": [
    "def tableText(table):\n",
    "    return display(HTML(\n",
    "        '<table><tr>{}</tr></table>'.format(\n",
    "            '</tr><tr>'.join(\n",
    "                '<td>{}</td>'.format('</td><td>'.join(str(_) for _ in row)) for row in table)\n",
    "            )\n",
    "     ))"
   ]
  },
  {
   "cell_type": "markdown",
   "metadata": {},
   "source": [
    "# Get counterparts\n",
    "\n",
    "Here is a function that gets the counterparts of phrases between versions, and classifies them according to dissimilarity.\n",
    "\n",
    "`phraseMapping` is keyed by a (source version, target version) pair,\n",
    "then by dissimilarity, then by node in source version, and then\n",
    "the value is a node in the target version.\n",
    "\n",
    "Source nodes that lack a counterpart, end up in a bucket with dissimilarity -1."
   ]
  },
  {
   "cell_type": "code",
   "execution_count": 5,
   "metadata": {
    "collapsed": true
   },
   "outputs": [],
   "source": [
    "phraseMapping = collections.OrderedDict()"
   ]
  },
  {
   "cell_type": "code",
   "execution_count": 6,
   "metadata": {
    "collapsed": true
   },
   "outputs": [],
   "source": [
    "def getPhrases(v, w):\n",
    "    V = api[v]\n",
    "    W = api[w]\n",
    "    mapVW = 'omap@{}-{}'.format(v, w)\n",
    "    vKey = (v, w)\n",
    "    \n",
    "    phraseMapping[vKey] = {}\n",
    "    phrases = phraseMapping[vKey]\n",
    "    \n",
    "    for n in V.F.otype.s('phrase'):\n",
    "        ms = W.Es(mapVW).f(n)\n",
    "        if ms != None :\n",
    "            phrases[n] = ms"
   ]
  },
  {
   "cell_type": "markdown",
   "metadata": {},
   "source": [
    "We also want to see the evolution in one big leap, so we construct a mapping from the first version to the last,\n",
    "just by composing the individual `omap@`s into a stride. \n",
    "\n",
    "Picking a phrase, and following it through the versions might lead to multiple counterparts.\n",
    "When that happens, we choose the one with the highest similarity, and ignore the rest."
   ]
  },
  {
   "cell_type": "code",
   "execution_count": 7,
   "metadata": {
    "collapsed": true
   },
   "outputs": [],
   "source": [
    "def composeMap(curMap, newStep):\n",
    "    resultMap = {}\n",
    "    for (n, ms) in curMap.items():\n",
    "        theM = ms[0][0] if len(ms) == 1 else sorted(ms, key=lambda x: (x[1], x[0]))[0][0]\n",
    "        resultMap[n] = newStep[theM]\n",
    "    return resultMap\n",
    "    \n",
    "def getFirstLastMapping():\n",
    "    if len(versions) <= 2:\n",
    "        return {}\n",
    "    curMap = phraseMapping[(versions[0], versions[1])]\n",
    "    \n",
    "    for i in range(2, len(versions)):\n",
    "        caption(0, 'mapping from {} to {}'.format(versions[0], versions[i]))\n",
    "        curMap = composeMap(curMap, phraseMapping[(versions[i-1], versions[i])])\n",
    "    phraseMapping[(versions[0], versions[-1])] = curMap"
   ]
  },
  {
   "cell_type": "markdown",
   "metadata": {},
   "source": [
    "# Table of boundary changes"
   ]
  },
  {
   "cell_type": "code",
   "execution_count": 8,
   "metadata": {
    "collapsed": true
   },
   "outputs": [],
   "source": [
    "def showStats(v, w):\n",
    "    vKey = (v, w)\n",
    "    phrases = phraseMapping[vKey]\n",
    "    dists = {}\n",
    "    for (n, ms) in phrases.items():\n",
    "        for (m, dis) in ms:\n",
    "            dists.setdefault(dis or 0, set()).add(m)\n",
    "    stats = collections.Counter()\n",
    "    for (dis, ms) in dists.items():\n",
    "        stats[dis] = len(ms)\n",
    "    table = []\n",
    "    table.append(['dissimilarity', 'number of phrases'])\n",
    "    for dis in range(0, max(stats) + 1):\n",
    "        table.append([dis, stats.get(dis, '')])\n",
    "    tableText(table)"
   ]
  },
  {
   "cell_type": "markdown",
   "metadata": {},
   "source": [
    "# Table of old and new values\n",
    "We visualize the changes in the values of the `function` feature,\n",
    "by generating a matrix, with old values in the row headers\n",
    "and new values in the column headers, and the number of times that this old feature has changed into that new\n",
    "feature in the corresponding matrix cells."
   ]
  },
  {
   "cell_type": "code",
   "execution_count": 9,
   "metadata": {
    "collapsed": true
   },
   "outputs": [],
   "source": [
    "def featureDiff(v, w, feat):\n",
    "    V = api[v]\n",
    "    W = api[w]\n",
    "    vKey = (v, w)\n",
    "    vFeat = versionInfo[v][feat]\n",
    "    wFeat = versionInfo[w][feat]\n",
    "    phrases = phraseMapping[vKey]\n",
    "\n",
    "    combis = {}\n",
    "    for (n, ms) in phrases.items():\n",
    "        vVal = V.Fs(vFeat).v(n)\n",
    "        for (m, dis) in ms:\n",
    "            wVal = W.Fs(wFeat).v(m)\n",
    "            combis.setdefault(vVal, collections.Counter())[wVal] += 1\n",
    "    vValues = sorted(combis.keys())\n",
    "    wValues = sorted(reduce(set.union, [set(combis[v]) for v in vValues], set()))\n",
    "    table = []\n",
    "    table.append(['{}\\\\{}'.format(v, w)] + wValues)\n",
    "    for v in vValues:\n",
    "        table.append([v] + [str(combis[v].get(w, '')) for w in wValues])\n",
    "    tableText(table)   "
   ]
  },
  {
   "cell_type": "markdown",
   "metadata": {},
   "source": [
    "# Collect\n",
    "We collect all data in a big data structure."
   ]
  },
  {
   "cell_type": "code",
   "execution_count": 10,
   "metadata": {},
   "outputs": [
    {
     "name": "stdout",
     "output_type": "stream",
     "text": [
      "..............................................................................................\n",
      ".      4m 03s Collecting data                                                                .\n",
      "..............................................................................................\n",
      "|      4m 03s \t3    => 4   \n",
      "|      4m 03s \t4    => 4b  \n",
      "|      4m 04s \t4b   => 2016\n",
      "|      4m 05s \t2016 => 2017\n",
      "|      4m 05s \t3    => 2017\n",
      "|      4m 05s mapping from 3 to 4b\n",
      "|      4m 05s mapping from 3 to 2016\n",
      "|      4m 05s mapping from 3 to 2017\n",
      "|      4m 05s Done\n"
     ]
    }
   ],
   "source": [
    "caption(4, 'Collecting data')\n",
    "for (i, w) in enumerate(versions):\n",
    "    if i == 0: continue\n",
    "    v = versions[i-1]\n",
    "    caption(0, '\\t{:<4} => {:<4}'.format(v, w))\n",
    "    getPhrases(v, w)\n",
    "\n",
    "caption(0, '\\t{:<4} => {:<4}'.format(versions[0], versions[-1]))\n",
    "getFirstLastMapping()\n",
    "caption(0, 'Done')"
   ]
  },
  {
   "cell_type": "markdown",
   "metadata": {},
   "source": [
    "# Stats"
   ]
  },
  {
   "cell_type": "code",
   "execution_count": 141,
   "metadata": {},
   "outputs": [],
   "source": [
    "import pandas as pd\n",
    "import matplotlib.pyplot as plt\n",
    "import seaborn as sns"
   ]
  },
  {
   "cell_type": "code",
   "execution_count": 17,
   "metadata": {},
   "outputs": [],
   "source": [
    "def featureDiffDATA(v, w, feat):\n",
    "    V = api[v]\n",
    "    W = api[w]\n",
    "    vKey = (v, w)\n",
    "    vFeat = versionInfo[v][feat]\n",
    "    wFeat = versionInfo[w][feat]\n",
    "    phrases = phraseMapping[vKey]\n",
    "\n",
    "    combis = {}\n",
    "    for (n, ms) in phrases.items():\n",
    "        vVal = V.Fs(vFeat).v(n)\n",
    "        for (m, dis) in ms:\n",
    "            wVal = W.Fs(wFeat).v(m)\n",
    "            combis.setdefault(vVal, collections.Counter())[wVal] += 1\n",
    "    vValues = sorted(combis.keys())\n",
    "    wValues = sorted(reduce(set.union, [set(combis[v]) for v in vValues], set()))\n",
    "    table = []\n",
    "    table.append(['{}\\\\{}'.format(v, w)] + wValues)\n",
    "    for v in vValues:\n",
    "        table.append([v] + [str(combis[v].get(w, '')) for w in wValues])\n",
    "    return table\n"
   ]
  },
  {
   "cell_type": "code",
   "execution_count": 18,
   "metadata": {},
   "outputs": [],
   "source": [
    "phraseMapping = collections.OrderedDict()"
   ]
  },
  {
   "cell_type": "code",
   "execution_count": 19,
   "metadata": {},
   "outputs": [
    {
     "name": "stdout",
     "output_type": "stream",
     "text": [
      "..............................................................................................\n",
      ".      7m 39s Collecting data                                                                .\n",
      "..............................................................................................\n",
      "|      7m 39s \t3    => 4   \n",
      "|      7m 40s \t4    => 4b  \n",
      "|      7m 42s \t4b   => 2016\n",
      "|      7m 43s \t2016 => 2017\n",
      "|      7m 44s \t3    => 2017\n",
      "|      7m 44s mapping from 3 to 4b\n",
      "|      7m 44s mapping from 3 to 2016\n",
      "|      7m 44s mapping from 3 to 2017\n",
      "|      7m 44s Done\n"
     ]
    }
   ],
   "source": [
    "caption(4, 'Collecting data')\n",
    "for (i, w) in enumerate(versions):\n",
    "    if i == 0: continue\n",
    "    v = versions[i-1]\n",
    "    caption(0, '\\t{:<4} => {:<4}'.format(v, w))\n",
    "    getPhrases(v, w)\n",
    "\n",
    "caption(0, '\\t{:<4} => {:<4}'.format(versions[0], versions[-1]))\n",
    "getFirstLastMapping()\n",
    "caption(0, 'Done')"
   ]
  },
  {
   "cell_type": "code",
   "execution_count": 22,
   "metadata": {},
   "outputs": [
    {
     "data": {
      "text/plain": [
       "odict_keys([('3', '4'), ('4', '4b'), ('4b', '2016'), ('2016', '2017'), ('3', '2017')])"
      ]
     },
     "execution_count": 22,
     "metadata": {},
     "output_type": "execute_result"
    }
   ],
   "source": [
    "phraseMapping.keys()"
   ]
  },
  {
   "cell_type": "code",
   "execution_count": 134,
   "metadata": {},
   "outputs": [],
   "source": [
    "def make_int(string):\n",
    "    if string:\n",
    "        return int(string)\n",
    "    else:\n",
    "        return 0\n",
    "\n",
    "diff_data = featureDiffDATA('3', '2017', 'FUNCTION')\n",
    "row_data = [[make_int(value) for value in dat[1:]] for dat in diff_data[1:]]\n",
    "row_names = diff_data[0][1:]\n",
    "col_names = [dat[0] for dat in diff_data[1:]]\n",
    "\n",
    "diff_data = pd.DataFrame(row_data, columns=row_names, index=col_names)\n",
    "diff_data.drop('Unkn', inplace=True)\n",
    "\n",
    "# zero out identical items\n",
    "for col in diff_data.columns:\n",
    "    for row in diff_data.index:\n",
    "        if col == row:\n",
    "            diff_data[col][row] = 0"
   ]
  },
  {
   "cell_type": "markdown",
   "metadata": {},
   "source": [
    "### Total Changes:"
   ]
  },
  {
   "cell_type": "code",
   "execution_count": 137,
   "metadata": {},
   "outputs": [
    {
     "data": {
      "text/plain": [
       "8723"
      ]
     },
     "execution_count": 137,
     "metadata": {},
     "output_type": "execute_result"
    }
   ],
   "source": [
    "diff_data.sum().sum()"
   ]
  },
  {
   "cell_type": "markdown",
   "metadata": {},
   "source": [
    "### Changes Visualized"
   ]
  },
  {
   "cell_type": "code",
   "execution_count": 162,
   "metadata": {},
   "outputs": [
    {
     "data": {
      "text/plain": [
       "Text(0.5,1,'Phrase Function Changes from 2011–2017')"
      ]
     },
     "execution_count": 162,
     "metadata": {},
     "output_type": "execute_result"
    },
    {
     "data": {
      "image/png": "[encoded data removed]",
      "text/plain": [
       "<Figure size 1296x576 with 1 Axes>"
      ]
     },
     "metadata": {},
     "output_type": "display_data"
    }
   ],
   "source": [
    "plt.figure(figsize=(18, 8)) \n",
    "sns.barplot(diff_data.sum().sort_values().index, diff_data.sum().sort_values(), color='#3C3CB4')\n",
    "plt.xticks(fontsize=12)\n",
    "plt.xlabel('function', fontsize=18)\n",
    "plt.ylabel('number of changes', fontsize=18)\n",
    "plt.title(f'Phrase Function Changes from 2011–2017', fontsize=20)\n",
    "        "
   ]
  }
 ],
 "metadata": {
  "kernelspec": {
   "display_name": "Python 3",
   "language": "python",
   "name": "python3"
  },
  "language_info": {
   "codemirror_mode": {
    "name": "ipython",
    "version": 3
   },
   "file_extension": ".py",
   "mimetype": "text/x-python",
   "name": "python",
   "nbconvert_exporter": "python",
   "pygments_lexer": "ipython3",
   "version": "3.6.5"
  }
 },
 "nbformat": 4,
 "nbformat_minor": 2
}
