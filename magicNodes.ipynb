{
 "cells": [
  {
   "cell_type": "markdown",
   "metadata": {
    "deletable": true,
    "editable": true
   },
   "source": [
    "# Magic Nodes for Text-Fabric\n",
    "\n",
    "Create smarter nodes to call information more easily.\n",
    "\n",
    "**What can magic nodes do?**\n",
    "\n",
    "Magic nodes enable you to easily retrieve object relations or object features from a given node without following extra steps. If you need to use a feature not previously loaded on a node, and you have instantiated magic nodes, you simply call the feature with: \n",
    "\n",
    "`magic_node.get('feature')`\n",
    "\n",
    "Magic will automatically load the necessary features, even if you haven't.\n",
    "\n",
    "If you want an embedding object, for example, you want to find the clause embedding a phrase node, you may simply call:\n",
    "\n",
    "`magic_node.get('clause')`\n",
    "\n",
    "Magic will automatically peform a L.u function and automatically indexes result. The output then is a single clause node. The same goes the other way around, except that Magic will return the tuple for a L.d function. "
   ]
  },
  {
   "cell_type": "markdown",
   "metadata": {},
   "source": [
    "## Demonstration\n",
    "\n",
    "Load the Magic object from tfMagic."
   ]
  },
  {
   "cell_type": "code",
   "execution_count": 1,
   "metadata": {
    "collapsed": false
   },
   "outputs": [],
   "source": [
    "from helpers.tfMagic import Magic"
   ]
  },
  {
   "cell_type": "markdown",
   "metadata": {},
   "source": [
    "Import and lad Text-Fabric as normal, but only basic feature calls.\n",
    "\n",
    "<span style='color:red;'>IMPORTANT</span><br>\n",
    "You must instantiate Text-Fabric as 'TF' or else Magic will fail. You must also globalize the api methods"
   ]
  },
  {
   "cell_type": "code",
   "execution_count": 2,
   "metadata": {
    "collapsed": false
   },
   "outputs": [
    {
     "name": "stdout",
     "output_type": "stream",
     "text": [
      "This is Text-Fabric 2.3.0\n",
      "Api reference : https://github.com/ETCBC/text-fabric/wiki/Api\n",
      "Tutorial      : https://github.com/ETCBC/text-fabric/blob/master/docs/tutorial.ipynb\n",
      "Data sources  : https://github.com/ETCBC/text-fabric-data\n",
      "Data docs     : https://etcbc.github.io/text-fabric-data\n",
      "Shebanq docs  : https://shebanq.ancient-data.org/text\n",
      "Slack team    : https://shebanq.slack.com/signup\n",
      "Questions? Ask shebanq@ancient-data.org for an invite to Slack\n",
      "109 features found and 0 ignored\n",
      "  0.00s loading features ...\n",
      "   |     0.01s B book                 from /Users/Cody/github/text-fabric-data/hebrew/etcbc4c\n",
      "   |     0.00s B chapter              from /Users/Cody/github/text-fabric-data/hebrew/etcbc4c\n",
      "   |     0.01s B verse                from /Users/Cody/github/text-fabric-data/hebrew/etcbc4c\n",
      "   |     0.00s Feature overview: 103 nodes; 5 edges; 1 configs; 7 computeds\n",
      "  4.64s All features loaded/computed - for details use loadLog()\n"
     ]
    }
   ],
   "source": [
    "from tf.fabric import Fabric\n",
    "\n",
    "TF = Fabric(modules='hebrew/etcbc4c')\n",
    "api = TF.load('''book chapter verse''') # load just a handful of features\n",
    "api.makeAvailableIn(globals())"
   ]
  },
  {
   "cell_type": "markdown",
   "metadata": {},
   "source": [
    "Now I will briefly demonstrate how to use Magic for easily navigating nodes in TF.\n",
    "\n",
    "When using Magic for your notebooks, keep in mind that these tools make important, underlying functions we normally use less explicit. Because of the flexibility of Magic nodes, you have to take care to keep track of what kinds of nodes you're using, for example."
   ]
  },
  {
   "cell_type": "code",
   "execution_count": 3,
   "metadata": {
    "collapsed": false
   },
   "outputs": [],
   "source": [
    "# Get a list of verse nodes in Jonah 1\n",
    "verses = tuple(w for w in F.otype.s('verse')\n",
    "            if T.sectionFromNode(w)[0] == 'Jonah'\n",
    "            and T.sectionFromNode(w)[1] == 1\n",
    "        )\n",
    "\n",
    "# convert the word nodes to Magic Nodes\n",
    "mNodes = list(Magic(verse) for verse in verses)"
   ]
  },
  {
   "cell_type": "code",
   "execution_count": 4,
   "metadata": {
    "collapsed": false
   },
   "outputs": [
    {
     "data": {
      "text/plain": [
       "<helpers.tfMagic.Magic at 0x17cc4e550>"
      ]
     },
     "execution_count": 4,
     "metadata": {},
     "output_type": "execute_result"
    }
   ],
   "source": [
    "# Now we play with the first verse\n",
    "\n",
    "verse1 = mNodes[1]\n",
    "\n",
    "verse1"
   ]
  },
  {
   "cell_type": "code",
   "execution_count": 5,
   "metadata": {
    "collapsed": false
   },
   "outputs": [
    {
     "data": {
      "text/plain": [
       "(576035, 576036, 576037, 576038)"
      ]
     },
     "execution_count": 5,
     "metadata": {},
     "output_type": "execute_result"
    }
   ],
   "source": [
    "verse1.get('clause_atom') # all the clause atoms in the first verse"
   ]
  },
  {
   "cell_type": "code",
   "execution_count": 6,
   "metadata": {
    "collapsed": false
   },
   "outputs": [],
   "source": [
    "words = tuple(Magic(word) for word in verse1.get('word'))"
   ]
  },
  {
   "cell_type": "markdown",
   "metadata": {},
   "source": [
    "Now we call features that we haven't loaded yet with Magic..."
   ]
  },
  {
   "cell_type": "code",
   "execution_count": 7,
   "metadata": {
    "collapsed": false
   },
   "outputs": [
    {
     "name": "stdout",
     "output_type": "stream",
     "text": [
      "  0.00s loading features ...\n",
      "  0.00s All additional features loaded - for details use loadLog()\n",
      "ק֠וּם\n",
      "לֵ֧ךְ\n",
      "אֶל\n",
      "נִֽינְוֵ֛ה\n",
      "הָ\n",
      "עִ֥יר\n",
      "הַ\n",
      "גְּדֹולָ֖ה\n",
      "וּ\n",
      "קְרָ֣א\n",
      "עָלֶ֑יהָ\n",
      "כִּֽי\n",
      "עָלְתָ֥ה\n",
      "רָעָתָ֖ם\n",
      "לְ\n",
      "פָנָֽי\n"
     ]
    }
   ],
   "source": [
    "for magic_word in words:\n",
    "    print(magic_word.get('g_word_utf8'))"
   ]
  },
  {
   "cell_type": "code",
   "execution_count": 8,
   "metadata": {
    "collapsed": false
   },
   "outputs": [
    {
     "name": "stdout",
     "output_type": "stream",
     "text": [
      "  0.00s loading features ...\n",
      "   |     0.19s B pdp                  from /Users/Cody/github/text-fabric-data/hebrew/etcbc4c\n",
      "  0.20s All additional features loaded - for details use loadLog()\n",
      "verb\n",
      "verb\n",
      "prep\n",
      "nmpr\n",
      "art\n",
      "subs\n",
      "art\n",
      "adjv\n",
      "conj\n",
      "verb\n",
      "prep\n",
      "conj\n",
      "verb\n",
      "subs\n",
      "prep\n",
      "subs\n"
     ]
    }
   ],
   "source": [
    "for magic_word in words:\n",
    "    print(magic_word.get('pdp'))"
   ]
  },
  {
   "cell_type": "code",
   "execution_count": 9,
   "metadata": {
    "collapsed": false
   },
   "outputs": [
    {
     "name": "stdout",
     "output_type": "stream",
     "text": [
      "781274\n",
      "781275\n",
      "781276\n",
      "781276\n",
      "781276\n",
      "781276\n",
      "781276\n",
      "781276\n",
      "781277\n",
      "781278\n",
      "781279\n",
      "781280\n",
      "781281\n",
      "781282\n",
      "781283\n",
      "781283\n"
     ]
    }
   ],
   "source": [
    "for magic_word in words:\n",
    "    print(magic_word.get('phrase'))"
   ]
  },
  {
   "cell_type": "code",
   "execution_count": null,
   "metadata": {
    "collapsed": true
   },
   "outputs": [],
   "source": []
  }
 ],
 "metadata": {
  "kernelspec": {
   "display_name": "Python 3",
   "language": "python",
   "name": "python3"
  },
  "language_info": {
   "codemirror_mode": {
    "name": "ipython",
    "version": 3
   },
   "file_extension": ".py",
   "mimetype": "text/x-python",
   "name": "python",
   "nbconvert_exporter": "python",
   "pygments_lexer": "ipython3",
   "version": "3.6.0"
  }
 },
 "nbformat": 4,
 "nbformat_minor": 2
}
