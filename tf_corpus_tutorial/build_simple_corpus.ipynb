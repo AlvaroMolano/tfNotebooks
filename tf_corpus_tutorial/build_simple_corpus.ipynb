{
 "cells": [
  {
   "cell_type": "markdown",
   "metadata": {},
   "source": [
    "# Build a Simple Corpus\n",
    "## Oliver Glanz and Cody Kingham"
   ]
  },
  {
   "cell_type": "code",
   "execution_count": 9,
   "metadata": {},
   "outputs": [],
   "source": [
    "from tf.fabric import Fabric\n",
    "from tf.convert.walker import CV"
   ]
  },
  {
   "cell_type": "code",
   "execution_count": 10,
   "metadata": {},
   "outputs": [
    {
     "name": "stdout",
     "output_type": "stream",
     "text": [
      "This is Text-Fabric 7.9.0\n",
      "Api reference : https://annotation.github.io/text-fabric/Api/Fabric/\n",
      "\n",
      "0 features found and 0 ignored\n",
      "  0.00s Warp feature \"otype\" not found in\n",
      "/Users/cody/github/codykingham/tfNotebooks/tf_corpus_tutorial//\n",
      "  0.00s Warp feature \"oslots\" not found in\n",
      "/Users/cody/github/codykingham/tfNotebooks/tf_corpus_tutorial//\n",
      "  0.00s Warp feature \"otext\" not found. Working without Text-API\n",
      "\n"
     ]
    }
   ],
   "source": [
    "where_data_goes = './' # here\n",
    "TF = Fabric(where_data_goes) # TExt Fabric\n",
    "cv = CV(TF) # converter"
   ]
  },
  {
   "cell_type": "code",
   "execution_count": 12,
   "metadata": {},
   "outputs": [
    {
     "name": "stdout",
     "output_type": "stream",
     "text": [
      "  0.00s Importing data from walking through the source ...\n",
      "   |     0.00s Preparing metadata... \n",
      "   |     0.00s No structure nodes will be set up\n",
      "   |   SECTION   TYPES:    line\n",
      "   |   SECTION   FEATURES: number\n",
      "   |   STRUCTURE TYPES:    \n",
      "   |   STRUCTURE FEATURES: \n",
      "   |   TEXT      FEATURES:\n",
      "   |      |   text-orig-full       \n",
      "   |     0.01s OK\n",
      "   |     0.00s Following director... \n",
      "   |     0.00s \"edge\" actions: 0\n",
      "   |     0.00s \"feature\" actions: 13\n",
      "   |     0.00s \"node\" actions: 2\n",
      "   |     0.01s \"resume\" actions: 0\n",
      "   |     0.01s \"slot\" actions: 11\n",
      "   |     0.01s \"terminate\" actions: 13\n",
      "   |          2 x \"line\" node \n",
      "   |         11 x \"word\" node  = slot type\n",
      "   |         13 nodes of all types\n",
      "   |     0.03s OK\n",
      "   |     0.00s checking for nodes and edges ... \n",
      "   |     0.00s OK\n",
      "   |     0.00s checking features ... \n",
      "   |     0.00s OK\n",
      "   |     0.00s reordering nodes ...\n",
      "   |     0.01s Sorting 2 nodes of type \"line\"\n",
      "   |     0.01s Max node = 13\n",
      "   |     0.02s OK\n",
      "   |     0.00s reassigning feature values ...\n",
      "   |      |       25s node feature \"number\" with 2 nodes\n",
      "   |      |       25s node feature \"text\" with 11 nodes\n",
      "   |     0.01s OK\n",
      "  0.00s Exporting 3 node and 1 edge and 1 config features to /Users/cody/github/codykingham/tfNotebooks/tf_corpus_tutorial/:\n",
      "  0.00s VALIDATING oslots feature\n",
      "  0.00s VALIDATING oslots feature\n",
      "  0.00s maxSlot=         11\n",
      "  0.01s maxNode=         13\n",
      "  0.01s OK: oslots is valid\n",
      "   |     0.00s T number               to /Users/cody/github/codykingham/tfNotebooks/tf_corpus_tutorial\n",
      "   |     0.00s T otype                to /Users/cody/github/codykingham/tfNotebooks/tf_corpus_tutorial\n",
      "   |     0.00s T text                 to /Users/cody/github/codykingham/tfNotebooks/tf_corpus_tutorial\n",
      "   |     0.00s T oslots               to /Users/cody/github/codykingham/tfNotebooks/tf_corpus_tutorial\n",
      "   |     0.00s M otext                to /Users/cody/github/codykingham/tfNotebooks/tf_corpus_tutorial\n",
      "  0.02s Exported 3 node features and 1 edge features and 1 config features to /Users/cody/github/codykingham/tfNotebooks/tf_corpus_tutorial/\n"
     ]
    }
   ],
   "source": [
    "text = '''\n",
    "#1\n",
    "hello I am a text\n",
    "\n",
    "#2\n",
    "I am a very simple text.\n",
    "'''\n",
    "\n",
    "def makeCorpus(cv):\n",
    "    for item in text.split():\n",
    "        if not item.startswith('#'):\n",
    "            slot = cv.slot()\n",
    "            cv.feature(slot, text=item)\n",
    "            cv.terminate(slot)\n",
    "        elif item == '#1':\n",
    "            node = cv.node('line')\n",
    "            cv.feature(node, number=item)\n",
    "        else:\n",
    "            cv.terminate(node)\n",
    "            node = cv.node('line')\n",
    "            cv.feature(node, number=item)\n",
    "    cv.terminate(node)\n",
    "\n",
    "generic = {'madeBy': 'Oliver Glanz and Cody Kingham'}\n",
    "    \n",
    "featureMeta = {\n",
    "    'text': {'description':'Plain text representation of word'},\n",
    "    'number': {'description':'A line number heading'}\n",
    "}\n",
    "\n",
    "otext = {'fmt:text-orig-full':'text',\n",
    "         'sectionTypes':'line',\n",
    "         'sectionFeatures':'number'}\n",
    "\n",
    "\n",
    "\n",
    "good = cv.walk(\n",
    "    makeCorpus,\n",
    "    'word',\n",
    "    otext=otext,\n",
    "    generic=generic,\n",
    "    featureMeta=featureMeta,\n",
    ")"
   ]
  }
 ],
 "metadata": {
  "kernelspec": {
   "display_name": "Python 3",
   "language": "python",
   "name": "python3"
  },
  "language_info": {
   "codemirror_mode": {
    "name": "ipython",
    "version": 3
   },
   "file_extension": ".py",
   "mimetype": "text/x-python",
   "name": "python",
   "nbconvert_exporter": "python",
   "pygments_lexer": "ipython3",
   "version": "3.8.0"
  }
 },
 "nbformat": 4,
 "nbformat_minor": 4
}
