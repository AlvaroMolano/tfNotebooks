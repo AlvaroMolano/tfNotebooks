{
 "cells": [
  {
   "cell_type": "code",
   "execution_count": 1,
   "metadata": {},
   "outputs": [
    {
     "name": "stdout",
     "output_type": "stream",
     "text": [
      "notebook last updated on 2017-06-07 10:59:50.099461\n"
     ]
    }
   ],
   "source": [
    "from datetime import datetime\n",
    "print(f'notebook last updated on {datetime.now().__str__()}')"
   ]
  },
  {
   "cell_type": "markdown",
   "metadata": {},
   "source": [
    "# What does the phrase \"Do not arise and do not be\" mean in Isaiah 7:7?\n",
    "\n",
    "> כה אמר אדני יהוה <br>\n",
    "> לא תקום ולא תהיה <br>\n",
    "> Isaiah 7:7\n",
    "\n",
    "We will search for any other possible occurrences of this pairing.\n",
    "\n",
    "\n",
    "## Search Strategy\n",
    "Find clauses that have קום as the main verb followed by a daughter clause with היה as its main verb. We can add additional parameters such as the requirement that the daughter be in a coordinated relationship with its mother, as is the case in Isa 7:7."
   ]
  },
  {
   "cell_type": "code",
   "execution_count": 2,
   "metadata": {},
   "outputs": [
    {
     "name": "stdout",
     "output_type": "stream",
     "text": [
      "  0.00s loading features ...\n",
      "   |     0.01s B book                 from /Users/Cody/github/text-fabric-data/hebrew/etcbc4c\n",
      "   |     0.00s B chapter              from /Users/Cody/github/text-fabric-data/hebrew/etcbc4c\n",
      "   |     0.01s B verse                from /Users/Cody/github/text-fabric-data/hebrew/etcbc4c\n",
      "   |     0.06s B function             from /Users/Cody/github/text-fabric-data/hebrew/etcbc4c\n",
      "   |     0.12s B pdp                  from /Users/Cody/github/text-fabric-data/hebrew/etcbc4c\n",
      "   |     0.12s B lex                  from /Users/Cody/github/text-fabric-data/hebrew/etcbc4c\n",
      "   |     0.20s B typ                  from /Users/Cody/github/text-fabric-data/hebrew/etcbc4c\n",
      "   |     0.18s B mother               from /Users/Cody/github/text-fabric-data/hebrew/etcbc4c\n",
      "   |     0.00s Feature overview: 103 for nodes; 5 for edges; 1 configs; 7 computed\n",
      "  5.37s All features loaded/computed - for details use loadLog()\n"
     ]
    }
   ],
   "source": [
    "# begin code, import the packages\n",
    "\n",
    "import collections\n",
    "\n",
    "from tf.fabric import Fabric\n",
    "\n",
    "# instantiate TF\n",
    "TF = Fabric(modules='hebrew/etcbc4c', silent=True)\n",
    "\n",
    "# load our features\n",
    "api = TF.load('''\n",
    "              book chapter verse\n",
    "              function pdp lex typ\n",
    "              mother\n",
    "              ''')\n",
    "\n",
    "# globalize TF methods\n",
    "api.makeAvailableIn(globals())"
   ]
  },
  {
   "cell_type": "markdown",
   "metadata": {},
   "source": [
    "## Write a Function to Fulfill the Search"
   ]
  },
  {
   "cell_type": "code",
   "execution_count": 3,
   "metadata": {
    "collapsed": true
   },
   "outputs": [],
   "source": [
    "def qwm_hyh_match(clause_atom):\n",
    "    '''\n",
    "    Return match data as dict if a supplied clause\n",
    "    atom node is a match for the requirements:\n",
    "        * has qwm as its main verb\n",
    "        * is followed by a daughter clause with hyh as its main\n",
    "    '''\n",
    "    \n",
    "    # get the main verb\n",
    "    verb = [word for phrase in L.d(clause_atom, otype='phrase')\n",
    "               for word in L.d(phrase, otype='word')\n",
    "               if F.function.v(phrase) in {'PreO', 'PreS', 'Pred'}\n",
    "               and F.pdp.v(word) == 'verb'\n",
    "           ]\n",
    "    \n",
    "    # no match if empty \n",
    "    # or raise error if multiples as sanity check\n",
    "    if not verb:\n",
    "        return None\n",
    "    elif len(verb) > 1:\n",
    "        raise Exception(f'More than one verb found in {clause_atom}...')\n",
    "    else:\n",
    "        verb = verb[0] # isolate verb\n",
    "        verb_lex = F.lex.v(verb)  # get it's lexeme\n",
    "    \n",
    "    # check if verb is qwm\n",
    "    if verb_lex != 'QWM[':\n",
    "        return None\n",
    "    \n",
    "    # get daughters with matching parameters\n",
    "    daughters = [ca for ca in E.mother.t(clause_atom)\n",
    "                    \n",
    "                    # Make sure clause atom is coordinate\n",
    "                    # for clause atoms we do a workaround and look for the 'W' in typ\n",
    "                    if F.typ.v(ca).startswith('W')\n",
    "                 \n",
    "                    # daughter should also be adjacent\n",
    "                    and ca - clause_atom == 1\n",
    "                ]\n",
    "    \n",
    "    # no match if no daughter, otherwise, isolate\n",
    "    if not daughters:\n",
    "        return None\n",
    "    else:\n",
    "        daughter = daughters[0]\n",
    "    \n",
    "    # get daughter main verb\n",
    "    da_verb = [word for phrase in L.d(daughter, otype='phrase')\n",
    "                   for word in L.d(phrase, otype='word')\n",
    "                   if F.function.v(phrase) in {'PreO', 'PreS', 'Pred'}\n",
    "                   and F.pdp.v(word) == 'verb'\n",
    "               ]\n",
    "    \n",
    "    # no match if empty \n",
    "    # or raise error if multiples as sanity check\n",
    "    if not da_verb:\n",
    "        return None\n",
    "    else:\n",
    "        da_verb = da_verb[0] # isolate verb\n",
    "        da_verb_lex = F.lex.v(da_verb)\n",
    "    \n",
    "    # check for HYH lexeme in daughter verb\n",
    "    if da_verb_lex != 'HJH[':\n",
    "        return None\n",
    "    \n",
    "    # everything up to this point is a match!\n",
    "    return {'clause_atom': clause_atom,\n",
    "            'daughter': daughter,\n",
    "            'ca_verb':verb,\n",
    "            'da_verb':da_verb\n",
    "           }"
   ]
  },
  {
   "cell_type": "markdown",
   "metadata": {},
   "source": [
    "# Apply the Function to all Clauses in HB"
   ]
  },
  {
   "cell_type": "code",
   "execution_count": 4,
   "metadata": {},
   "outputs": [
    {
     "name": "stdout",
     "output_type": "stream",
     "text": [
      "7 results found!\n"
     ]
    }
   ],
   "source": [
    "results = []\n",
    "\n",
    "# loop through all HB clauses\n",
    "for clause_atom in F.otype.s('clause_atom'):\n",
    "    \n",
    "    # apply the function\n",
    "    check_match = qwm_hyh_match(clause_atom)\n",
    "    \n",
    "    # check for match and keep if so\n",
    "    if check_match:\n",
    "        results.append(check_match)\n",
    "    \n",
    "    # otherwise, move on to next ca\n",
    "    else:\n",
    "        continue\n",
    "        \n",
    "# report on results\n",
    "print(f'{len(results)} results found!')"
   ]
  },
  {
   "cell_type": "markdown",
   "metadata": {},
   "source": [
    "## Present Results"
   ]
  },
  {
   "cell_type": "code",
   "execution_count": 5,
   "metadata": {},
   "outputs": [
    {
     "name": "stdout",
     "output_type": "stream",
     "text": [
      "('Exodus', 12, 30)\n",
      "וַיָּ֨קָם פַּרְעֹ֜ה לַ֗יְלָה ה֤וּא וְכָל־עֲבָדָיו֙ וְכָל־מִצְרַ֔יִם \n",
      "וַתְּהִ֛י צְעָקָ֥ה גְדֹלָ֖ה בְּמִצְרָ֑יִם \n",
      "\n",
      "('Deuteronomy', 29, 12)\n",
      "לְמַ֣עַן הָקִֽים־אֹתְךָ֩ הַיֹּ֨ום׀ לֹ֜ו לְעָ֗ם \n",
      "וְה֤וּא יִֽהְיֶה־לְּךָ֙ לֵֽאלֹהִ֔ים \n",
      "\n",
      "('Joshua', 4, 9)\n",
      "וּשְׁתֵּ֧ים עֶשְׂרֵ֣ה אֲבָנִ֗ים הֵקִ֣ים יְהֹושֻׁעַ֮ בְּתֹ֣וךְ הַיַּרְדֵּן֒ תַּ֗חַת מַצַּב֙ רַגְלֵ֣י הַכֹּהֲנִ֔ים נֹשְׂאֵ֖י אֲרֹ֣ון הַבְּרִ֑ית \n",
      "וַיִּ֣הְיוּ שָׁ֔ם עַ֖ד הַיֹּ֥ום הַזֶּֽה׃ \n",
      "\n",
      "('Judges', 2, 18)\n",
      "וְכִֽי־הֵקִ֨ים יְהוָ֥ה׀ לָהֶם֮ שֹֽׁפְטִים֒ \n",
      "וְהָיָ֤ה יְהוָה֙ עִם־הַשֹּׁפֵ֔ט \n",
      "\n",
      "('2_Samuel', 24, 11)\n",
      "וַיָּ֥קָם דָּוִ֖ד בַּבֹּ֑קֶר פ \n",
      "וּדְבַר־יְהוָ֗ה הָיָה֙ אֶל־גָּ֣ד הַנָּבִ֔יא חֹזֵ֥ה דָוִ֖ד \n",
      "\n",
      "('Isaiah', 7, 7)\n",
      "לֹ֥א תָק֖וּם \n",
      "וְלֹ֥א תִֽהְיֶֽה׃ \n",
      "\n",
      "('Ezekiel', 34, 29)\n",
      "וַהֲקִמֹתִ֥י לָהֶ֛ם מַטָּ֖ע לְשֵׁ֑ם \n",
      "וְלֹֽא־יִהְי֨וּ עֹ֜וד אֲסֻפֵ֤י רָעָב֙ בָּאָ֔רֶץ \n",
      "\n"
     ]
    }
   ],
   "source": [
    "for result in results:\n",
    "    \n",
    "    passage = T.sectionFromNode(result['clause_atom'])\n",
    "    ca_words = L.d(result['clause_atom'], otype='word')\n",
    "    da_words = L.d(result['daughter'], otype='word')\n",
    "    ca_text = T.text(ca_words)\n",
    "    da_text = T.text(da_words)\n",
    "    \n",
    "    print(passage)\n",
    "    print(ca_text)\n",
    "    print(da_text)\n",
    "    print()"
   ]
  },
  {
   "cell_type": "markdown",
   "metadata": {},
   "source": [
    "## Reflection on Results\n",
    "\n",
    "This query shows that with this particular construction, Isaiah 7:7 is unique. All other matches involve a different subject in the second, HYH clause, or they employ additional modifiers such as prepositions. \n",
    "\n",
    "There are some avenues to refine and expand this query:\n",
    "\n",
    "* Restrict matches to cases wherein the two verbs agree in person, gender, and number. \n",
    "* Remove the restriction to QWM mother clauses to any predicated clause\n",
    "* Look for cases where the daughter clause verb HYH appears without modifiers "
   ]
  }
 ],
 "metadata": {
  "kernelspec": {
   "display_name": "Python 3",
   "language": "python",
   "name": "python3"
  },
  "language_info": {
   "codemirror_mode": {
    "name": "ipython",
    "version": 3
   },
   "file_extension": ".py",
   "mimetype": "text/x-python",
   "name": "python",
   "nbconvert_exporter": "python",
   "pygments_lexer": "ipython3",
   "version": "3.6.0"
  }
 },
 "nbformat": 4,
 "nbformat_minor": 2
}
