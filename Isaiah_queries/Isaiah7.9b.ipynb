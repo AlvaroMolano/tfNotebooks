{
 "cells": [
  {
   "cell_type": "markdown",
   "metadata": {},
   "source": [
    "# Isaiah 7:9b\n",
    "\n",
    "What is the meaning of אמן in the niphal?\n",
    "\n",
    "> אם לא תאמינו כי לא תאמנו"
   ]
  },
  {
   "cell_type": "code",
   "execution_count": 2,
   "metadata": {
    "collapsed": false
   },
   "outputs": [
    {
     "name": "stdout",
     "output_type": "stream",
     "text": [
      "This is Text-Fabric 2.3.7\n",
      "Api reference : https://github.com/ETCBC/text-fabric/wiki/Api\n",
      "Tutorial      : https://github.com/ETCBC/text-fabric/blob/master/docs/tutorial.ipynb\n",
      "Data sources  : https://github.com/ETCBC/text-fabric-data\n",
      "Data docs     : https://etcbc.github.io/text-fabric-data\n",
      "Shebanq docs  : https://shebanq.ancient-data.org/text\n",
      "Slack team    : https://shebanq.slack.com/signup\n",
      "Questions? Ask shebanq@ancient-data.org for an invite to Slack\n",
      "108 features found and 0 ignored\n",
      "  0.00s loading features ...\n",
      "   |     0.07s B book                 from /mnt/shared/text-fabric-data/hebrew/etcbc4c\n",
      "   |     0.07s B chapter              from /mnt/shared/text-fabric-data/hebrew/etcbc4c\n",
      "   |     0.09s B verse                from /mnt/shared/text-fabric-data/hebrew/etcbc4c\n",
      "   |     0.22s B vs                   from /mnt/shared/text-fabric-data/hebrew/etcbc4c\n",
      "   |     0.25s B lex                  from /mnt/shared/text-fabric-data/hebrew/etcbc4c\n",
      "   |     0.00s Feature overview: 102 for nodes; 5 for edges; 1 configs; 7 computed\n",
      "    14s All features loaded/computed - for details use loadLog()\n"
     ]
    }
   ],
   "source": [
    "from tf.fabric import Fabric\n",
    "\n",
    "TF = Fabric(modules='hebrew/etcbc4c')\n",
    "api = TF.load('''book chapter verse\n",
    "                 vs lex\n",
    "              ''')\n",
    "api.makeAvailableIn(globals())"
   ]
  },
  {
   "cell_type": "code",
   "execution_count": 5,
   "metadata": {
    "collapsed": false
   },
   "outputs": [
    {
     "data": {
      "text/plain": [
       "46"
      ]
     },
     "execution_count": 5,
     "metadata": {},
     "output_type": "execute_result"
    }
   ],
   "source": [
    "aman_lex = '>MN['\n",
    "stem = 'nif'\n",
    "\n",
    "amn = [w for w in F.otype.s('word')\n",
    "          if F.lex.v(w) == aman_lex\n",
    "          and F.vs.v(w) == stem\n",
    "      ]\n",
    "\n",
    "len(amn)"
   ]
  },
  {
   "cell_type": "code",
   "execution_count": 6,
   "metadata": {
    "collapsed": false,
    "scrolled": false
   },
   "outputs": [
    {
     "name": "stdout",
     "output_type": "stream",
     "text": [
      "Genesis 42 : 20\n",
      "וְיֵאָמְנ֥וּ דִבְרֵיכֶ֖ם \n",
      "\n",
      "Numbers 12 : 7\n",
      "בְּכָל־בֵּיתִ֖י נֶאֱמָ֥ן הֽוּא׃ \n",
      "\n",
      "Deuteronomy 7 : 9\n",
      "וְיָ֣דַעְתָּ֔ כִּֽי־יְהוָ֥ה אֱלֹהֶ֖יךָ ה֣וּא הָֽאֱלֹהִ֑ים הָאֵל֙ הַֽנֶּאֱמָ֔ן שֹׁמֵ֧ר הַבְּרִ֣ית וְהַחֶ֗סֶד לְאֹהֲבָ֛יו וּלְשֹׁמְרֵ֥י מִצְוֹתָ֖יו לְאֶ֥לֶף דֹּֽור׃ וּמְשַׁלֵּ֧ם לְשֹׂנְאָ֛יו אֶל־פָּנָ֖יו לְהַאֲבִידֹ֑ו \n",
      "\n",
      "Deuteronomy 28 : 59\n",
      "וְהִפְלָ֤א יְהוָה֙ אֶת־מַכֹּ֣תְךָ֔ וְאֵ֖ת מַכֹּ֣ות זַרְעֶ֑ךָ מַכֹּ֤ות גְּדֹלֹות֙ וְנֶ֣אֱמָנֹ֔ות וָחֳלָיִ֥ם רָעִ֖ים וְנֶאֱמָנִֽים׃ \n",
      "\n",
      "Deuteronomy 28 : 59\n",
      "וְהִפְלָ֤א יְהוָה֙ אֶת־מַכֹּ֣תְךָ֔ וְאֵ֖ת מַכֹּ֣ות זַרְעֶ֑ךָ מַכֹּ֤ות גְּדֹלֹות֙ וְנֶ֣אֱמָנֹ֔ות וָחֳלָיִ֥ם רָעִ֖ים וְנֶאֱמָנִֽים׃ \n",
      "\n",
      "1_Samuel 2 : 35\n",
      "וַהֲקִימֹתִ֥י לִי֙ כֹּהֵ֣ן נֶאֱמָ֔ן \n",
      "\n",
      "1_Samuel 2 : 35\n",
      "וּבָנִ֤יתִי לֹו֙ בַּ֣יִת נֶאֱמָ֔ן \n",
      "\n",
      "1_Samuel 3 : 20\n",
      "וַיֵּ֨דַע֙ כָּל־יִשְׂרָאֵ֔ל מִדָּ֖ן וְעַד־בְּאֵ֣ר שָׁ֑בַע כִּ֚י נֶאֱמָ֣ן שְׁמוּאֵ֔ל לְנָבִ֖יא לַיהוָֽה׃ \n",
      "\n",
      "1_Samuel 22 : 14\n",
      "נֶאֱמָ֔ן וַחֲתַ֥ן הַמֶּ֛לֶךְ וְסָ֥ר אֶל־מִשְׁמַעְתֶּ֖ךָ וְנִכְבָּ֥ד בְּבֵיתֶֽךָ׃ \n",
      "\n",
      "1_Samuel 25 : 28\n",
      "כִּ֣י עָשֹֽׂה־יַעֲשֶׂה֩ יְהוָ֨ה לַֽאדֹנִ֜י בַּ֣יִת נֶאֱמָ֗ן \n",
      "\n",
      "2_Samuel 7 : 16\n",
      "וְנֶאְמַ֨ן בֵּיתְךָ֧ וּמַֽמְלַכְתְּךָ֛ עַד־עֹולָ֖ם לְפָנֶ֑יךָ \n",
      "\n",
      "1_Kings 8 : 26\n",
      "יֵאָ֤מֶן נָא֙ דְּבָ֣רְךָ֔ אֲשֶׁ֣ר דִּבַּ֔רְתָּ לְעַבְדְּךָ֖ דָּוִ֥ד אָבִֽי׃ \n",
      "\n",
      "1_Kings 11 : 38\n",
      "וּבָנִ֨יתִי לְךָ֤ בַֽיִת־נֶאֱמָן֙ כַּאֲשֶׁ֣ר בָּנִ֣יתִי לְדָוִ֔ד \n",
      "\n",
      "Isaiah 1 : 21\n",
      "אֵיכָה֙ הָיְתָ֣ה לְזֹונָ֔ה קִרְיָ֖ה נֶאֱמָנָ֑ה \n",
      "\n",
      "Isaiah 1 : 26\n",
      "אַחֲרֵי־כֵ֗ן יִקָּ֤רֵא לָךְ֙ עִ֣יר הַצֶּ֔דֶק קִרְיָ֖ה נֶאֱמָנָֽה׃ \n",
      "\n",
      "Isaiah 7 : 9\n",
      "כִּ֖י לֹ֥א תֵאָמֵֽנוּ׃ ס \n",
      "\n",
      "Isaiah 8 : 2\n",
      "וְאָעִ֣ידָה לִּ֔י עֵדִ֖ים נֶאֱמָנִ֑ים אֵ֚ת אוּרִיָּ֣ה הַכֹּהֵ֔ן וְאֶת־זְכַרְיָ֖הוּ בֶּ֥ן יְבֶרֶכְיָֽהוּ׃ \n",
      "\n",
      "Isaiah 22 : 23\n",
      "וּתְקַעְתִּ֥יו יָתֵ֖ד בְּמָקֹ֣ום נֶאֱמָ֑ן \n",
      "\n",
      "Isaiah 22 : 25\n",
      "בַּיֹּ֣ום הַה֗וּא תָּמוּשׁ֙ הַיָּתֵ֔ד הַתְּקוּעָ֖ה בְּמָקֹ֣ום נֶאֱמָ֑ן \n",
      "\n",
      "Isaiah 33 : 16\n",
      "מֵימָ֖יו נֶאֱמָנִֽים׃ \n",
      "\n",
      "Isaiah 49 : 7\n",
      "וְיִֽשְׁתַּחֲוּ֑וּ לְמַ֤עַן יְהוָה֙ אֲשֶׁ֣ר נֶאֱמָ֔ן \n",
      "\n",
      "Isaiah 55 : 3\n",
      "וְאֶכְרְתָ֤ה לָכֶם֙ בְּרִ֣ית עֹולָ֔ם חַֽסְדֵ֥י דָוִ֖ד הַנֶּאֱמָנִֽים׃ \n",
      "\n",
      "Isaiah 60 : 4\n",
      "וּבְנֹתַ֖יִךְ עַל־צַ֥ד תֵּאָמַֽנָה׃ \n",
      "\n",
      "Jeremiah 15 : 18\n",
      "הָיֹ֨ו תִֽהְיֶ֥ה לִי֙ כְּמֹ֣ו אַכְזָ֔ב מַ֖יִם לֹ֥א נֶאֱמָֽנוּ׃ ס \n",
      "\n",
      "Jeremiah 42 : 5\n",
      "יְהִ֤י יְהוָה֙ בָּ֔נוּ לְעֵ֖ד אֱמֶ֣ת וְנֶאֱמָ֑ן \n",
      "\n",
      "Hosea 5 : 9\n",
      "בְּשִׁבְטֵי֙ יִשְׂרָאֵ֔ל הֹודַ֖עְתִּי נֶאֱמָנָֽה׃ \n",
      "\n",
      "Hosea 12 : 1\n",
      "וְעִם־קְדֹושִׁ֖ים נֶאֱמָֽן׃ \n",
      "\n",
      "Psalms 19 : 8\n",
      "עֵד֥וּת יְהוָ֥ה נֶ֝אֱמָנָ֗ה מַחְכִּ֥ימַת פֶּֽתִי׃ \n",
      "\n",
      "Psalms 78 : 8\n",
      "לְמַ֤עַן יֵדְע֨וּ׀ דֹּ֣ור אַ֭חֲרֹון בָּנִ֣ים יִוָּלֵ֑דוּ יָ֝קֻ֗מוּ וִֽיסַפְּר֥וּ לִבְנֵיהֶֽם׃ וְיָשִׂ֥ימוּ בֵֽאלֹהִ֗ים כִּ֫סְלָ֥ם וְלֹ֣א יִ֭שְׁכְּחוּ מַֽעַלְלֵי־אֵ֑ל וּמִצְוֹתָ֥יו יִנְצֹֽרוּ׃ וְלֹ֤א יִהְי֨וּ׀ כַּאֲבֹותָ֗ם דֹּור֮ סֹורֵ֪ר וּמֹ֫רֶ֥ה דֹּ֭ור לֹא־הֵכִ֣ין לִבֹּ֑ו וְלֹא־נֶאֶמְנָ֖ה אֶת־אֵ֣ל רוּחֹֽו׃ \n",
      "\n",
      "Psalms 78 : 37\n",
      "וַיְפַתּ֥וּהוּ בְּפִיהֶ֑ם וּ֝בִלְשֹׁונָ֗ם יְכַזְּבוּ־לֹֽו׃ וְ֭לִבָּם לֹא־נָכֹ֣ון עִמֹּ֑ו וְלֹ֥א נֶ֝אֶמְנ֗וּ בִּבְרִיתֹֽו׃ \n",
      "\n",
      "Psalms 89 : 29\n",
      "וּ֝בְרִיתִ֗י נֶאֱמֶ֥נֶת לֹֽו׃ \n",
      "\n",
      "Psalms 89 : 38\n",
      "וְעֵ֥ד בַּ֝שַּׁ֗חַק נֶאֱמָ֥ן \n",
      "\n",
      "Psalms 93 : 5\n",
      "עֵֽדֹתֶ֨יךָ׀ נֶאֶמְנ֬וּ מְאֹ֗ד \n",
      "\n",
      "Psalms 101 : 6\n",
      "עֵינַ֤י׀ בְּנֶֽאֶמְנֵי־אֶרֶץ֮ לָשֶׁ֪בֶת עִמָּ֫דִ֥י \n",
      "\n",
      "Psalms 111 : 7\n",
      "נֶ֝אֱמָנִ֗ים כָּל־פִּקּוּדָֽיו׃ סְמוּכִ֣ים לָעַ֣ד לְעֹולָ֑ם עֲ֝שׂוּיִ֗ם בֶּאֱמֶ֥ת וְיָשָֽׁר׃ \n",
      "\n",
      "Job 12 : 20\n",
      "מֵסִ֣יר שָׂ֭פָה לְנֶאֱמָנִ֑ים \n",
      "\n",
      "Proverbs 11 : 13\n",
      "וְנֶאֱמַן־ר֝֗וּחַ מְכַסֶּ֥ה דָבָֽר׃ \n",
      "\n",
      "Proverbs 25 : 13\n",
      "כְּצִנַּת־שֶׁ֨לֶג׀ בְּיֹ֬ום קָצִ֗יר צִ֣יר נֶ֭אֱמָן לְשֹׁלְחָ֑יו \n",
      "\n",
      "Proverbs 27 : 6\n",
      "נֶ֭אֱמָנִים פִּצְעֵ֣י אֹוהֵ֑ב \n",
      "\n",
      "Nehemiah 9 : 8\n",
      "אַתָּה־הוּא֙ יְהוָ֣ה הָאֱלֹהִ֔ים אֲשֶׁ֤ר בָּחַ֨רְתָּ֙ בְּאַבְרָ֔ם וְהֹוצֵאתֹ֖ו מֵא֣וּר כַּשְׂדִּ֑ים וְשַׂ֥מְתָּ שְּׁמֹ֖ו אַבְרָהָֽם׃ וּמָצָ֣אתָ אֶת־לְבָבֹו֮ נֶאֱמָ֣ן לְפָנֶיךָ֒ וְכָרֹ֨ות עִמֹּ֜ו הַבְּרִ֗ית לָתֵ֡ת אֶת־אֶרֶץ֩ הַכְּנַעֲנִ֨י הַחִתִּ֜י הָאֱמֹרִ֧י וְהַפְּרִזִּ֛י וְהַיְבוּסִ֥י וְהַגִּרְגָּשִׁ֖י לָתֵ֣ת לְזַרְעֹ֑ו \n",
      "\n",
      "Nehemiah 13 : 13\n",
      "כִּ֤י נֶאֱמָנִים֙ נֶחְשָׁ֔בוּ \n",
      "\n",
      "1_Chronicles 17 : 23\n",
      "הַדָּבָ֗ר אֲשֶׁ֨ר דִּבַּ֤רְתָּ עַֽל־עַבְדְּךָ֙ וְעַל־בֵּיתֹ֔ו יֵאָמֵ֖ן עַד־עֹולָ֑ם \n",
      "\n",
      "1_Chronicles 17 : 24\n",
      "וְ֠יֵֽאָמֵן \n",
      "\n",
      "2_Chronicles 1 : 9\n",
      "יְהוָ֣ה אֱלֹהִ֔ים יֵֽאָמֵן֙ דְּבָ֣רְךָ֔ עִ֖ם דָּוִ֣יד אָבִ֑י \n",
      "\n",
      "2_Chronicles 6 : 17\n",
      "יֵֽאָמֵן֙ דְּבָ֣רְךָ֔ אֲשֶׁ֥ר דִּבַּ֖רְתָּ לְעַבְדְּךָ֥ לְדָוִֽיד׃ \n",
      "\n",
      "2_Chronicles 20 : 20\n",
      "וְתֵ֣אָמֵ֔נוּ \n",
      "\n"
     ]
    }
   ],
   "source": [
    "for word in amn:\n",
    "    \n",
    "    sentence = L.u(word, otype='sentence')[0]\n",
    "    sent_words = L.d(sentence, otype='word')\n",
    "    sent_text = T.text(sent_words)\n",
    "    book, chapter, verse = T.sectionFromNode(word)\n",
    "    \n",
    "    print(book, chapter, ':',verse)\n",
    "    print(sent_text)\n",
    "    print()"
   ]
  },
  {
   "cell_type": "code",
   "execution_count": null,
   "metadata": {
    "collapsed": true
   },
   "outputs": [],
   "source": []
  }
 ],
 "metadata": {
  "kernelspec": {
   "display_name": "Python 3",
   "language": "python",
   "name": "python3"
  },
  "language_info": {
   "codemirror_mode": {
    "name": "ipython",
    "version": 3
   },
   "file_extension": ".py",
   "mimetype": "text/x-python",
   "name": "python",
   "nbconvert_exporter": "python",
   "pygments_lexer": "ipython3",
   "version": "3.5.2"
  }
 },
 "nbformat": 4,
 "nbformat_minor": 2
}
