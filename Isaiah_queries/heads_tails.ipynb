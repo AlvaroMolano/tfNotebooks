{
 "cells": [
  {
   "cell_type": "markdown",
   "metadata": {},
   "source": [
    "# Heads and Tails\n",
    "\n",
    "cf. Isaiah 7:4, 7:7 for the motivation of this search.\n",
    "\n",
    "Find other instances of heads/tails language in HB."
   ]
  },
  {
   "cell_type": "code",
   "execution_count": 1,
   "metadata": {},
   "outputs": [
    {
     "name": "stdout",
     "output_type": "stream",
     "text": [
      "  0.00s loading features ...\n",
      "   |     0.01s B book                 from /Users/Cody/github/text-fabric-data/hebrew/etcbc4c\n",
      "   |     0.01s B chapter              from /Users/Cody/github/text-fabric-data/hebrew/etcbc4c\n",
      "   |     0.01s B verse                from /Users/Cody/github/text-fabric-data/hebrew/etcbc4c\n",
      "   |     0.12s B lex                  from /Users/Cody/github/text-fabric-data/hebrew/etcbc4c\n",
      "   |     0.01s B gloss                from /Users/Cody/github/text-fabric-data/hebrew/etcbc4c\n",
      "   |     0.00s Feature overview: 103 for nodes; 5 for edges; 1 configs; 7 computed\n",
      "  4.59s All features loaded/computed - for details use loadLog()\n"
     ]
    }
   ],
   "source": [
    "import collections\n",
    "\n",
    "from tf.fabric import Fabric\n",
    "\n",
    "TF = Fabric(modules='hebrew/etcbc4c', silent=True)\n",
    "\n",
    "api = TF.load('''\n",
    "              book chapter verse\n",
    "              lex gloss\n",
    "              ''')"
   ]
  },
  {
   "cell_type": "code",
   "execution_count": 2,
   "metadata": {
    "collapsed": true
   },
   "outputs": [],
   "source": [
    "api.makeAvailableIn(globals())"
   ]
  },
  {
   "cell_type": "code",
   "execution_count": 3,
   "metadata": {
    "collapsed": true
   },
   "outputs": [],
   "source": [
    "# get head/tail lexemes\n",
    "\n",
    "head = 'R>C/'\n",
    "tail = 'ZNB/'"
   ]
  },
  {
   "cell_type": "code",
   "execution_count": 4,
   "metadata": {},
   "outputs": [
    {
     "name": "stdout",
     "output_type": "stream",
     "text": [
      "done with 5 matches...\n"
     ]
    }
   ],
   "source": [
    "# find chapters with both lexemes\n",
    "\n",
    "chapter_matches = []\n",
    "\n",
    "for chapter in F.otype.s('chapter'):\n",
    "    \n",
    "    head_matches = list(word for word in L.d(chapter, otype='word')\n",
    "                            if F.lex.v(word) == head\n",
    "                       )\n",
    "    \n",
    "    tail_matches = list(word for word in L.d(chapter, otype='word')\n",
    "                           if F.lex.v(word) == tail\n",
    "                       )\n",
    "    \n",
    "    if head_matches and tail_matches:\n",
    "        \n",
    "        chapter_matches.append({'chapter': chapter,\n",
    "                                'head': head_matches,\n",
    "                                'tail': tail_matches}\n",
    "                              )\n",
    "        \n",
    "print(f'done with {len(chapter_matches)} matches...')"
   ]
  },
  {
   "cell_type": "code",
   "execution_count": 5,
   "metadata": {
    "scrolled": false
   },
   "outputs": [
    {
     "name": "stdout",
     "output_type": "stream",
     "text": [
      "Deuteronomium 28\n",
      "head:\n",
      "('Deuteronomy', 28, 13), ('Deuteronomy', 28, 23), ('Deuteronomy', 28, 44)\n",
      "\n",
      "tail:\n",
      "('Deuteronomy', 28, 13), ('Deuteronomy', 28, 44)\n",
      "-------------------- \n",
      "\n",
      "Jesaia 7\n",
      "head:\n",
      "('Isaiah', 7, 8), ('Isaiah', 7, 8), ('Isaiah', 7, 9), ('Isaiah', 7, 9), ('Isaiah', 7, 20)\n",
      "\n",
      "tail:\n",
      "('Isaiah', 7, 4)\n",
      "-------------------- \n",
      "\n",
      "Jesaia 9\n",
      "head:\n",
      "('Isaiah', 9, 13), ('Isaiah', 9, 14)\n",
      "\n",
      "tail:\n",
      "('Isaiah', 9, 13), ('Isaiah', 9, 14)\n",
      "-------------------- \n",
      "\n",
      "Jesaia 19\n",
      "head:\n",
      "('Isaiah', 19, 15)\n",
      "\n",
      "tail:\n",
      "('Isaiah', 19, 15)\n",
      "-------------------- \n",
      "\n",
      "Iob 40\n",
      "head:\n",
      "('Job', 40, 31)\n",
      "\n",
      "tail:\n",
      "('Job', 40, 17)\n",
      "-------------------- \n",
      "\n"
     ]
    }
   ],
   "source": [
    "for match in chapter_matches:\n",
    "    \n",
    "    # get data from dict\n",
    "    chapter, heads, tails = match['chapter'], match['head'], match['tail']\n",
    "    \n",
    "    # get book\n",
    "    book = L.u(chapter, otype='book')[0]\n",
    "    \n",
    "    # get head data\n",
    "    heads = ', '.join(str(T.sectionFromNode(head)) for head in heads)\n",
    "    # get tail data\n",
    "    tails = ', '.join(str(T.sectionFromNode(tail)) for tail in tails)\n",
    "    \n",
    "    print(F.book.v(book), F.chapter.v(chapter))\n",
    "    print('head:')\n",
    "    print(heads)\n",
    "    print()\n",
    "    print('tail:')\n",
    "    print(tails)\n",
    "    print('-'*20, '\\n')"
   ]
  }
 ],
 "metadata": {
  "kernelspec": {
   "display_name": "Python 3",
   "language": "python",
   "name": "python3"
  },
  "language_info": {
   "codemirror_mode": {
    "name": "ipython",
    "version": 3
   },
   "file_extension": ".py",
   "mimetype": "text/x-python",
   "name": "python",
   "nbconvert_exporter": "python",
   "pygments_lexer": "ipython3",
   "version": "3.6.0"
  }
 },
 "nbformat": 4,
 "nbformat_minor": 2
}
