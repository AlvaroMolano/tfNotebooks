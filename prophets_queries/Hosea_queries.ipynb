{
 "cells": [
  {
   "cell_type": "markdown",
   "metadata": {},
   "source": [
    "# Hosea Queries"
   ]
  },
  {
   "cell_type": "code",
   "execution_count": 1,
   "metadata": {},
   "outputs": [
    {
     "name": "stdout",
     "output_type": "stream",
     "text": [
      "  0.00s loading features ...\n",
      "   |     0.01s B book                 from /Users/Cody/github/text-fabric-data/hebrew/etcbc4c\n",
      "   |     0.01s B chapter              from /Users/Cody/github/text-fabric-data/hebrew/etcbc4c\n",
      "   |     0.01s B verse                from /Users/Cody/github/text-fabric-data/hebrew/etcbc4c\n",
      "   |     0.09s B trailer_utf8         from /Users/Cody/github/text-fabric-data/hebrew/etcbc4c\n",
      "   |     0.14s B pdp                  from /Users/Cody/github/text-fabric-data/hebrew/etcbc4c\n",
      "   |     0.08s B function             from /Users/Cody/github/text-fabric-data/hebrew/etcbc4c\n",
      "   |     0.11s B st                   from /Users/Cody/github/text-fabric-data/hebrew/etcbc4c\n",
      "   |     0.12s B vt                   from /Users/Cody/github/text-fabric-data/hebrew/etcbc4c\n",
      "   |     0.14s B lex                  from /Users/Cody/github/text-fabric-data/hebrew/etcbc4c\n",
      "   |     0.00s Feature overview: 103 for nodes; 5 for edges; 1 configs; 7 computed\n",
      "  5.42s All features loaded/computed - for details use loadLog()\n"
     ]
    }
   ],
   "source": [
    "from tf.fabric import Fabric \n",
    "from IPython.display import display, HTML\n",
    "\n",
    "TF = Fabric(modules='hebrew/etcbc4c', silent=True)\n",
    "\n",
    "api = TF.load('''\n",
    "                book chapter verse\n",
    "                pdp function st vt\n",
    "                trailer_utf8 lex\n",
    "              ''')"
   ]
  },
  {
   "cell_type": "code",
   "execution_count": 2,
   "metadata": {
    "collapsed": true
   },
   "outputs": [],
   "source": [
    "api.makeAvailableIn(globals())"
   ]
  },
  {
   "cell_type": "code",
   "execution_count": 3,
   "metadata": {
    "scrolled": false
   },
   "outputs": [
    {
     "name": "stdout",
     "output_type": "stream",
     "text": [
      "5 matches found...\n"
     ]
    }
   ],
   "source": [
    "match_html = '<span style=\"color: red\">{text}</span>'\n",
    "\n",
    "matches = []\n",
    "\n",
    "for word in F.otype.s('word'):\n",
    "    \n",
    "    if F.pdp.v(word) != 'verb':\n",
    "        continue\n",
    "        \n",
    "    if F.vt.v(word) not in {'perf', 'impf', 'wayq', 'impv'}:\n",
    "        continue\n",
    "        \n",
    "    if F.trailer_utf8.v(word) != '־':\n",
    "        continue\n",
    "        \n",
    "    prev_word = word - 1\n",
    "    \n",
    "    if F.lex.v(prev_word) == 'BLT/':\n",
    "        continue\n",
    "    \n",
    "    if F.pdp.v(prev_word) == 'subs' and F.st.v(prev_word) == 'c':\n",
    "        #continue \n",
    "        \n",
    "        html_string = ''\n",
    "\n",
    "        sentence = L.u(word, otype='sentence')[0]\n",
    "\n",
    "        for sent_word in L.d(sentence, otype='word'):\n",
    "\n",
    "            if sent_word == prev_word:\n",
    "                html_string += match_html.format(text=T.text([prev_word, word]))\n",
    "\n",
    "            elif sent_word == word:\n",
    "                continue\n",
    "\n",
    "            else:\n",
    "                html_string += T.text([sent_word])\n",
    "        \n",
    "        matches.append((sentence, html_string))\n",
    "        \n",
    "print(len(matches), 'matches found...')"
   ]
  },
  {
   "cell_type": "code",
   "execution_count": 6,
   "metadata": {
    "scrolled": false
   },
   "outputs": [
    {
     "name": "stdout",
     "output_type": "stream",
     "text": [
      "\n"
     ]
    },
    {
     "data": {
      "text/html": [
       "\n",
       "<div style=\"font-family: Times New Roman; font-size: 18pt; direction: ; line-height: 1.1\">\n",
       "    Examples of Construct Noun + Finite Verb + Maqqeph in HB\n",
       "</div>\n"
      ],
      "text/plain": [
       "<IPython.core.display.HTML object>"
      ]
     },
     "metadata": {},
     "output_type": "display_data"
    },
    {
     "data": {
      "text/html": [
       "\n",
       "<div style=\"font-family: Times New Roman; font-size: 18pt; direction: rtl; line-height: 1.1\">\n",
       "    Genesis 21:30\n",
       "</div>\n"
      ],
      "text/plain": [
       "<IPython.core.display.HTML object>"
      ]
     },
     "metadata": {},
     "output_type": "display_data"
    },
    {
     "data": {
      "text/html": [
       "\n",
       "<div style=\"font-family: Times New Roman; font-size: 18pt; direction: rtl; line-height: 1.1\">\n",
       "    בַּ<span style=\"color: red\">עֲבוּר֙ תִּֽהְיֶה־</span>לִּ֣י לְעֵדָ֔ה \n",
       "</div>\n"
      ],
      "text/plain": [
       "<IPython.core.display.HTML object>"
      ]
     },
     "metadata": {},
     "output_type": "display_data"
    },
    {
     "name": "stdout",
     "output_type": "stream",
     "text": [
      "\n"
     ]
    },
    {
     "data": {
      "text/html": [
       "\n",
       "<div style=\"font-family: Times New Roman; font-size: 18pt; direction: rtl; line-height: 1.1\">\n",
       "    Deuteronomy 28:54\n",
       "</div>\n"
      ],
      "text/plain": [
       "<IPython.core.display.HTML object>"
      ]
     },
     "metadata": {},
     "output_type": "display_data"
    },
    {
     "data": {
      "text/html": [
       "\n",
       "<div style=\"font-family: Times New Roman; font-size: 18pt; direction: rtl; line-height: 1.1\">\n",
       "    הָאִישׁ֙ הָרַ֣ךְ בְּךָ֔ וְהֶעָנֹ֖ג מְאֹ֑ד תֵּרַ֨ע עֵינֹ֤ו בְאָחִיו֙ וּבְאֵ֣שֶׁת חֵיקֹ֔ו וּבְיֶ֥תֶר בָּנָ֖יו אֲשֶׁ֥ר יֹותִֽיר׃ מִתֵּ֣ת׀ לְאַחַ֣ד מֵהֶ֗ם מִבְּשַׂ֤ר בָּנָיו֙ אֲשֶׁ֣ר יֹאכֵ֔ל מִ<span style=\"color: red\">בְּלִ֥י הִשְׁאִֽיר־</span>לֹ֖ו כֹּ֑ל בְּמָצֹור֙ וּבְמָצֹ֔וק אֲשֶׁ֨ר יָצִ֥יק לְךָ֛ אֹיִבְךָ֖ בְּכָל־שְׁעָרֶֽיךָ׃ \n",
       "</div>\n"
      ],
      "text/plain": [
       "<IPython.core.display.HTML object>"
      ]
     },
     "metadata": {},
     "output_type": "display_data"
    },
    {
     "name": "stdout",
     "output_type": "stream",
     "text": [
      "\n"
     ]
    },
    {
     "data": {
      "text/html": [
       "\n",
       "<div style=\"font-family: Times New Roman; font-size: 18pt; direction: rtl; line-height: 1.1\">\n",
       "    Hosea 1:2\n",
       "</div>\n"
      ],
      "text/plain": [
       "<IPython.core.display.HTML object>"
      ]
     },
     "metadata": {},
     "output_type": "display_data"
    },
    {
     "data": {
      "text/html": [
       "\n",
       "<div style=\"font-family: Times New Roman; font-size: 18pt; direction: rtl; line-height: 1.1\">\n",
       "    <span style=\"color: red\">תְּחִלַּ֥ת דִּבֶּר־</span>יְהוָ֖ה בְּהֹושֵׁ֑עַ פ \n",
       "</div>\n"
      ],
      "text/plain": [
       "<IPython.core.display.HTML object>"
      ]
     },
     "metadata": {},
     "output_type": "display_data"
    },
    {
     "name": "stdout",
     "output_type": "stream",
     "text": [
      "\n"
     ]
    },
    {
     "data": {
      "text/html": [
       "\n",
       "<div style=\"font-family: Times New Roman; font-size: 18pt; direction: rtl; line-height: 1.1\">\n",
       "    Psalms 18:1\n",
       "</div>\n"
      ],
      "text/plain": [
       "<IPython.core.display.HTML object>"
      ]
     },
     "metadata": {},
     "output_type": "display_data"
    },
    {
     "data": {
      "text/html": [
       "\n",
       "<div style=\"font-family: Times New Roman; font-size: 18pt; direction: rtl; line-height: 1.1\">\n",
       "    לְעֶ֥בֶד יְהוָ֗ה לְדָ֫וִ֥ד אֲשֶׁ֤ר דִּבֶּ֨ר׀ לַיהוָ֗ה אֶת־דִּ֭בְרֵי הַשִּׁירָ֣ה הַזֹּ֑את בְּ<span style=\"color: red\">יֹ֤ום הִֽצִּיל־</span>יְהוָ֘ה אֹותֹ֥ו מִכַּ֥ף כָּל־אֹ֝יְבָ֗יו וּמִיַּ֥ד שָׁאֽוּל׃ וַיֹּאמַ֡ר \n",
       "</div>\n"
      ],
      "text/plain": [
       "<IPython.core.display.HTML object>"
      ]
     },
     "metadata": {},
     "output_type": "display_data"
    },
    {
     "name": "stdout",
     "output_type": "stream",
     "text": [
      "\n"
     ]
    },
    {
     "data": {
      "text/html": [
       "\n",
       "<div style=\"font-family: Times New Roman; font-size: 18pt; direction: rtl; line-height: 1.1\">\n",
       "    Psalms 59:17\n",
       "</div>\n"
      ],
      "text/plain": [
       "<IPython.core.display.HTML object>"
      ]
     },
     "metadata": {},
     "output_type": "display_data"
    },
    {
     "data": {
      "text/html": [
       "\n",
       "<div style=\"font-family: Times New Roman; font-size: 18pt; direction: rtl; line-height: 1.1\">\n",
       "    כִּֽי־הָיִ֣יתָ מִשְׂגָּ֣ב לִ֑י וּ֝מָנֹ֗וס בְּ<span style=\"color: red\">יֹ֣ום צַר־</span>לִֽי׃ \n",
       "</div>\n"
      ],
      "text/plain": [
       "<IPython.core.display.HTML object>"
      ]
     },
     "metadata": {},
     "output_type": "display_data"
    },
    {
     "name": "stdout",
     "output_type": "stream",
     "text": [
      "\n"
     ]
    }
   ],
   "source": [
    "div_html =\\\n",
    "'''\n",
    "<div style=\"font-family: Times New Roman; font-size: 18pt; direction: {dir}; line-height: 1.1\">\n",
    "    {text}\n",
    "</div>\n",
    "'''\n",
    "\n",
    "print()\n",
    "display(HTML(div_html.format(text='Examples of Construct Noun + Finite Verb + Maqqeph in HB', dir='')))\n",
    "\n",
    "for match in matches:\n",
    "    \n",
    "    book, chapter, verse = T.sectionFromNode(match[0])\n",
    "    ref = f'{book} {chapter}:{verse}'\n",
    "\n",
    "    display(HTML(div_html.format(text=ref, dir='rtl')))\n",
    "    display(HTML(div_html.format(text=match[1], dir='rtl')))\n",
    "    print()"
   ]
  }
 ],
 "metadata": {
  "kernelspec": {
   "display_name": "Python 3",
   "language": "python",
   "name": "python3"
  },
  "language_info": {
   "codemirror_mode": {
    "name": "ipython",
    "version": 3
   },
   "file_extension": ".py",
   "mimetype": "text/x-python",
   "name": "python",
   "nbconvert_exporter": "python",
   "pygments_lexer": "ipython3",
   "version": "3.6.0"
  }
 },
 "nbformat": 4,
 "nbformat_minor": 2
}
