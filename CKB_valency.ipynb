{
 "cells": [
  {
   "cell_type": "markdown",
   "metadata": {},
   "source": [
    "# Valency of `שכב`"
   ]
  },
  {
   "cell_type": "code",
   "execution_count": 13,
   "metadata": {
    "collapsed": false
   },
   "outputs": [
    {
     "name": "stdout",
     "output_type": "stream",
     "text": [
      "Notebook last modified on 2016-12-29 21:47:47.701212\n"
     ]
    }
   ],
   "source": [
    "from datetime import datetime\n",
    "last_modified = datetime.now()\n",
    "print('Notebook last modified on {}'.format(last_modified.__str__()))"
   ]
  },
  {
   "cell_type": "markdown",
   "metadata": {
    "collapsed": true
   },
   "source": [
    "## Methodology\n",
    "The goal is to inventory and categorise the various satellites surrounding the verb שכב (\"to lie\") in biblical Hebrew in order to determine which elements give rise to which semantic meanings of שכב. Valency tracks the interaction between semantics and syntax.<br>\n",
    "<br>\n",
    "In Dyk et al. they suggest that few \"watertight\" methods exist to separate obligatory, complement functions from non-obligatory, adjunctive functions. (see Dyk, Glanz, Oosting, \"Analysing Valence Patterns,\" 4-5). They apply a \"distributional method\" as follows:\n",
    "\n",
    "* \"Collect all occurrences of a verb with the complete patterns of elements occurring in the data.\"\n",
    "* \"Sort these by pattern.\"\n",
    "* \"Analyse the differences between the various patterns, observing what relation the separate sentence constituents have to the verb.\" *(Dyk et al., 6)*\n",
    "\n",
    "Which elements to use? Dyk et al. use:\n",
    "* \"predicate (Pred), subject (Subj), object (Objc), complement (Cmpl), adjunct (Adju).\" (7)\n",
    "\n",
    "The valence corrections notebook ([here](https://shebanq.ancient-data.org/shebanq/static/docs/tools/valence/corr_enrich.html)) contains good information on procedure. Certain functiosn are considered \"core,\" i.e., many of the functions above.<br><br>\n",
    "Let's begin by applying the simplest measures first. We'll keep track of how many examples of the predicate we've accounted for as we work from simpler to more complex examples. \n",
    "<br>\n",
    "**Here's the objective:**\n",
    "1. Inventory phrase functions for all **relevant** phrase functions; organise first by these groups.\n",
    "    * Procedural question: should the order of elements matter?\n",
    "    * **why this step?** This part establishes the valency type of the verb. Is it transitive or intransitive? Monovalent, divalent, or trivalent? Are there examples of valence expansion or valence reduction? . \n",
    "2. Further subdivide "
   ]
  },
  {
   "cell_type": "code",
   "execution_count": 1,
   "metadata": {
    "collapsed": false
   },
   "outputs": [
    {
     "name": "stdout",
     "output_type": "stream",
     "text": [
      "This is Text-Fabric 2.0.0\n",
      "Api reference : https://github.com/ETCBC/text-fabric/wiki/Api\n",
      "Tutorial      : https://github.com/ETCBC/text-fabric/blob/master/docs/tutorial.ipynb\n",
      "Data sources  : https://github.com/ETCBC/text-fabric-data\n",
      "Data docs     : https://etcbc.github.io/text-fabric-data/features/hebrew/etcbc4c/0_overview.html\n",
      "Shebanq docs  : https://shebanq.ancient-data.org/text\n",
      "Slack team    : https://shebanq.slack.com/signup\n",
      "Questions? Ask shebanq@ancient-data.org for an invite to Slack\n",
      "106 features found and 0 ignored\n",
      "\n",
      "  0.00s loading features ...\n",
      "   |     0.06s B otype                from /Users/Cody/github/text-fabric-data/Hebrew/etcbc4c\n",
      "   |     0.01s B book                 from /Users/Cody/github/text-fabric-data/Hebrew/etcbc4c\n",
      "   |     0.01s B chapter              from /Users/Cody/github/text-fabric-data/Hebrew/etcbc4c\n",
      "   |     0.01s B verse                from /Users/Cody/github/text-fabric-data/Hebrew/etcbc4c\n",
      "   |     0.24s B g_cons               from /Users/Cody/github/text-fabric-data/Hebrew/etcbc4c\n",
      "   |     0.23s B g_cons_utf8          from /Users/Cody/github/text-fabric-data/Hebrew/etcbc4c\n",
      "   |     0.09s B function             from /Users/Cody/github/text-fabric-data/Hebrew/etcbc4c\n",
      "   |     0.20s B pdp                  from /Users/Cody/github/text-fabric-data/Hebrew/etcbc4c\n",
      "   |     0.16s B vs                   from /Users/Cody/github/text-fabric-data/Hebrew/etcbc4c\n",
      "   |     0.17s B lex                  from /Users/Cody/github/text-fabric-data/Hebrew/etcbc4c\n",
      "   |     0.00s Feature overview: 101 nodes; 4 edges; 1 configs; 6 computeds\n",
      "  6.57s All features loaded/computed - for details use loadLog()\n"
     ]
    }
   ],
   "source": [
    "from tf.fabric import Fabric\n",
    "\n",
    "TF = Fabric(modules='Hebrew/etcbc4c')\n",
    "print()\n",
    "api = TF.load(\"\"\"otype\n",
    "                 book chapter verse\n",
    "                 function pdp vs\n",
    "                 lex g_cons g_cons_utf8\n",
    "                \"\"\")"
   ]
  },
  {
   "cell_type": "code",
   "execution_count": 2,
   "metadata": {
    "collapsed": true
   },
   "outputs": [],
   "source": [
    "api.makeAvailableIn(globals())\n",
    "\n",
    "import collections as col"
   ]
  },
  {
   "cell_type": "code",
   "execution_count": 18,
   "metadata": {
    "collapsed": false
   },
   "outputs": [
    {
     "data": {
      "text/plain": [
       "169"
      ]
     },
     "execution_count": 18,
     "metadata": {},
     "output_type": "execute_result"
    }
   ],
   "source": [
    "# collect all clauses that contain the target verb with a function of predicate\n",
    "\n",
    "target = 'CKB['\n",
    "stem = 'qal'\n",
    "\n",
    "def find_satellites(target, stem, no_repeats = True):\n",
    "    '''\n",
    "    takes in a lexeme string, \n",
    "    finds all instances of the string as a predicate\n",
    "    returns satelites in a dict with clause as key and satellites as a set or list (repeats optional)\n",
    "    '''\n",
    "    pred_function = {'Pred','PreO','PreS'}\n",
    "    satellites = col.defaultdict(set if no_repeats else list)\n",
    "    for word in F.otype.s('word'):\n",
    "        lex = F.lex.v(word)\n",
    "        if lex != target:\n",
    "            continue\n",
    "        phrase_node = L.u(word, otype='phrase')[0]\n",
    "        phrase_func = F.function.v(phrase_node)\n",
    "        if phrase_func not in pred_function or F.vs.v(word) != stem:\n",
    "            continue\n",
    "        clause_node = L.u(phrase_node, otype = 'clause_atom')[0]\n",
    "        phrase_functs = list(F.function.v(phraseF) for phraseF in L.d(clause_node, otype = 'phrase'))\n",
    "        if not no_repeats:\n",
    "            phrase_functs = set(phrase_functs)\n",
    "        satellites[clause_node] = phrase_functs\n",
    "    return satellites\n",
    "\n",
    "ckb_sats = find_satellites(target, stem)\n",
    "\n",
    "len(ckb_sats)"
   ]
  },
  {
   "cell_type": "code",
   "execution_count": 19,
   "metadata": {
    "collapsed": false
   },
   "outputs": [
    {
     "data": {
      "text/plain": [
       "67"
      ]
     },
     "execution_count": 19,
     "metadata": {},
     "output_type": "execute_result"
    }
   ],
   "source": [
    "ckb_inventory = col.Counter()\n",
    "\n",
    "for clause, sats in ckb_sats.items():\n",
    "    ckb_inventory[(tuple(sats))] += 1\n",
    "    \n",
    "len(ckb_inventory)"
   ]
  },
  {
   "cell_type": "code",
   "execution_count": 20,
   "metadata": {
    "collapsed": false
   },
   "outputs": [
    {
     "name": "stdout",
     "output_type": "stream",
     "text": [
      "33 ('Conj', 'Pred', 'Subj', 'Cmpl')\n",
      "26 ('Conj', 'Pred', 'Cmpl')\n",
      "11 ('Conj', 'Pred')\n",
      "11 ('Pred', 'Cmpl')\n",
      "7 ('Pred',)\n",
      "4 ('PreS',)\n",
      "4 ('Rela', 'Pred', 'Cmpl')\n",
      "4 ('Rela', 'Pred', 'Objc')\n",
      "2 ('Conj', 'Pred', 'Subj', 'Time')\n",
      "2 ('Cmpl', 'Pred')\n",
      "2 ('Adju', 'Pred')\n",
      "2 ('Rela', 'Pred', 'Cmpl', 'Subj')\n",
      "2 ('Modi', 'Pred')\n",
      "2 ('Pred', 'Subj', 'Cmpl')\n",
      "2 ('Conj', 'Pred', 'Objc')\n",
      "2 ('Pred', 'Adju')\n",
      "2 ('Conj', 'PreS')\n",
      "2 ('Subj', 'Pred')\n",
      "1 ('Rela', 'Pred', 'Cmpl', 'Adju')\n",
      "1 ('Subj', 'Cmpl', 'Pred')\n",
      "1 ('Conj', 'Subj', 'Nega', 'Pred')\n",
      "1 ('Conj', 'Pred', 'Cmpl', 'Adju')\n",
      "1 ('Rela', 'Pred')\n",
      "1 ('Conj', 'Pred', 'Adju')\n",
      "1 ('Conj', 'Pred', 'Subj', 'Objc', 'Objc')\n",
      "1 ('Time', 'Nega', 'Pred', 'Subj')\n",
      "1 ('Conj', 'Pred', 'Objc', 'Adju')\n",
      "1 ('Rela', 'Pred', 'Objc', 'Adju')\n",
      "1 ('Conj', 'Objc', 'Pred', 'Time')\n",
      "1 ('Rela', 'Pred', 'Cmpl', 'Time')\n",
      "1 ('Conj', 'Adju', 'Cmpl', 'Pred')\n",
      "1 ('Pred', 'Time')\n",
      "1 ('Rela', 'Pred', 'Loca')\n",
      "1 ('Subj', 'Pred', 'Cmpl')\n",
      "1 ('Modi', 'Cmpl', 'Pred')\n",
      "1 ('Modi', 'Pred', 'Cmpl', 'Time', 'Adju')\n",
      "1 ('Conj', 'Rela', 'Pred', 'Objc')\n",
      "1 ('Conj', 'Time', 'Pred')\n",
      "1 ('Conj', 'Pred', 'Loca', 'Time')\n",
      "1 ('Conj', 'Cmpl', 'Pred')\n",
      "1 ('Conj', 'Subj', 'PreO')\n",
      "1 ('Pred', 'Cmpl', 'Loca', 'Subj')\n",
      "1 ('Conj', 'Pred', 'Cmpl', 'Time', 'Subj')\n",
      "1 ('Conj', 'Time', 'Cmpl', 'Pred')\n",
      "1 ('Nega', 'Pred', 'Adju')\n",
      "1 ('Conj', 'Pred', 'Subj', 'Adju')\n",
      "1 ('Nega', 'Pred')\n",
      "1 ('Adju', 'Pred', 'Subj', 'Cmpl')\n",
      "1 ('Pred', 'Subj', 'Adju')\n",
      "1 ('Modi', 'Conj', 'Pred', 'Subj')\n",
      "1 ('Conj', 'Nega', 'Pred', 'Subj', 'Objc')\n",
      "1 ('Pred', 'Subj')\n",
      "1 ('Conj', 'Pred', 'Subj')\n",
      "1 ('Conj', 'Pred', 'Modi')\n",
      "1 ('Loca', 'Pred', 'Loca')\n",
      "1 ('Pred', 'Loca', 'Adju')\n",
      "1 ('Conj', 'Pred', 'Subj', 'Cmpl', 'Adju')\n",
      "1 ('Conj', 'Objc', 'Nega', 'Pred', 'Adju')\n",
      "1 ('Intj', 'Pred', 'Time', 'Cmpl')\n",
      "1 ('Adju', 'Modi', 'Pred')\n",
      "1 ('Pred', 'Cmpl', 'Adju')\n",
      "1 ('Rela', 'Pred', 'Subj', 'Objc', 'Objc')\n",
      "1 ('Conj', 'Conj', 'Modi', 'Pred', 'Subj', 'Objc')\n",
      "1 ('Time', 'Pred')\n",
      "1 ('Conj', 'Subj', 'Pred')\n",
      "1 ('Conj', 'Nega', 'Pred', 'Cmpl')\n",
      "1 ('Conj', 'Pred', 'Cmpl', 'Modi')\n"
     ]
    }
   ],
   "source": [
    "for pattern, stat in sorted(ckb_inventory.items(), key = lambda k: -k[1]):\n",
    "    print(stat, pattern)"
   ]
  },
  {
   "cell_type": "code",
   "execution_count": null,
   "metadata": {
    "collapsed": true
   },
   "outputs": [],
   "source": []
  }
 ],
 "metadata": {
  "anaconda-cloud": {},
  "kernelspec": {
   "display_name": "Python [conda root]",
   "language": "python",
   "name": "conda-root-py"
  },
  "language_info": {
   "codemirror_mode": {
    "name": "ipython",
    "version": 3
   },
   "file_extension": ".py",
   "mimetype": "text/x-python",
   "name": "python",
   "nbconvert_exporter": "python",
   "pygments_lexer": "ipython3",
   "version": "3.5.2"
  }
 },
 "nbformat": 4,
 "nbformat_minor": 1
}
