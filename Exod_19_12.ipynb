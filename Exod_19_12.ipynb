{
 "cells": [
  {
   "cell_type": "markdown",
   "metadata": {
    "deletable": true,
    "editable": true
   },
   "source": [
    "# Exodus 19:12\n",
    "\n",
    "*This is an ongoing notebook as of 25 Feb 2017*\n",
    "\n",
    "## וְהִגְבַּלְתָּ֤ אֶת־הָעָם֙ סָבִ֣יב לֵאמֹ֔ר הִשָּׁמְר֥וּ לָכֶ֛ם עֲל֥וֹת בָּהָ֖ר וּנְגֹ֣עַ בְּקָצֵ֑הוּ כָּל־הַנֹּגֵ֥עַ בָּהָ֖ר מ֥וֹת יוּמָֽת׃ <br> \"And you shall border the people around, saying, 'Watch yourself [going] on the mountain and [touching] its ends. Anyone who touches on the mountain shall surely die.'\"\n",
    "\n",
    "### Question: What is the meaning of השמרו לכם עלות בהר? \n",
    "\n",
    "Shepherd (via Sailhamer) argues:\n",
    "\n",
    "> It is the Abrahamic covenant of simple faith and obedience that the people transgress in this narrative. God commands them in Exod 19:12-13, \"...Watch yourselves as you go up in the mountain...When the horn blasts long they will go up in the mountain.\" But when the shofar sounds in Exod 19:16a, the people do not go up in the mountain. It says that \"all the people trembled in the camp\" (Exod 19:16b). At this point of disobedience the people are no longer a kingdom of priests but a kingdom with priests (Exod 19:21-25). Furthermore, the narrative virtually freezes from Exodus 20 through Numbers 10 with the addition of law. As the apostle Paul observes, \"The law was added because of transgression\" (Gal 3:19)<br>\n",
    "&nbsp;&nbsp;&nbsp;&nbsp;-Michael B. Shepherd, *Daniel in the Context of the Hebrew Bible* (Peter Lang, 2008), 15.\n",
    "\n",
    "Contrary to Shepherd's interpretation, Exod 9.12 is commonly translated with a negation. And the translations interpret differently the ב preposition between the two verses, as seen here in the ESV: \n",
    "\n",
    "> And you shall set limits for the people all around, saying, ‘Take care **not [השמרו לכם עלות]** to go up **into [ב]** the mountain or touch the edge of it. Whoever touches the mountain shall be put to death...When the trumpet \n",
    "sounds a long blast, they shall come up **to [ב]** the mountain.<br>\n",
    "&nbsp;&nbsp;&nbsp;&nbsp;-Exod 19:12, 13b, ESV, emphasis and brackets added\n",
    "\n",
    "### Approach\n",
    "\n",
    "The problem might be approached in a number of ways:\n",
    "* Search for other patterns of \n",
    "    * [שמר second person] + [ל and second person] + [infinitive]\n",
    "    * [שמר second person] + [infinitive] \n",
    "    * [שמר second person] + [ל and second person]\n",
    "* Also look at the issue related to verse 13b  \n",
    "    * [עלה] + [ב]"
   ]
  },
  {
   "cell_type": "markdown",
   "metadata": {
    "deletable": true,
    "editable": true
   },
   "source": [
    "## Initial Query (25.02.17)\n",
    "\n",
    "Use TF search to look for patterns that most closely resemble the construction in Exod 19.12"
   ]
  },
  {
   "cell_type": "code",
   "execution_count": 1,
   "metadata": {
    "collapsed": false,
    "deletable": true,
    "editable": true
   },
   "outputs": [],
   "source": [
    "from tf.fabric import Fabric\n",
    "\n",
    "# intialize text-fabric \n",
    "TF = Fabric(modules='hebrew/etcbc4c', silent=True) \n",
    "# load no features yet (wait for search)\n",
    "api = TF.load('', silent=True)\n",
    " # globalize TF objects\n",
    "api.makeAvailableIn(globals())"
   ]
  },
  {
   "cell_type": "markdown",
   "metadata": {
    "deletable": true,
    "editable": true
   },
   "source": [
    "We design a TF query template to find all examples of the pattern: \n",
    "\n",
    "[שמר second person] + [ל and second person] + [infinitive]"
   ]
  },
  {
   "cell_type": "code",
   "execution_count": 2,
   "metadata": {
    "collapsed": true,
    "deletable": true,
    "editable": true
   },
   "outputs": [],
   "source": [
    "# store the TF query here\n",
    "pattern_query = '''\n",
    "book\n",
    "  chapter\n",
    "    verse\n",
    "      clause_atom\n",
    "        phrase function=Pred\n",
    "            word pdp=verb lex=CMR[\n",
    "        < phrase\n",
    "            word lex=L prs=K|K=|KM|KN\n",
    "      < clause_atom\n",
    "        phrase\n",
    "          word vt=infa|infc\n",
    "'''"
   ]
  },
  {
   "cell_type": "code",
   "execution_count": 3,
   "metadata": {
    "collapsed": false,
    "deletable": true,
    "editable": true
   },
   "outputs": [
    {
     "name": "stdout",
     "output_type": "stream",
     "text": [
      "  0.00s Checking search template ...\n",
      "  0.67s Setting up search space for 11 objects ...\n",
      "  3.12s Constraining search space with 10 relations ...\n",
      "  3.15s Setting up retrieval plan ...\n",
      "  3.20s Ready to deliver results from 607262 nodes\n",
      "Iterate over S.fetch() to get the results\n",
      "See S.showPlan() to interpret the results\n"
     ]
    }
   ],
   "source": [
    "# find results and look at study plan\n",
    "S.study(pattern_query)"
   ]
  },
  {
   "cell_type": "code",
   "execution_count": 6,
   "metadata": {
    "collapsed": false
   },
   "outputs": [
    {
     "name": "stdout",
     "output_type": "stream",
     "text": [
      "14m 07s The results are connected to the original search template as follows:\n",
      " 0     \n",
      " 1 R0  book\n",
      " 2 R1    chapter\n",
      " 3 R2      verse\n",
      " 4 R3        clause_atom\n",
      " 5 R4          phrase function=Pred\n",
      " 6 R5              word pdp=verb lex=CMR[\n",
      " 7 R6          < phrase\n",
      " 8 R7              word lex=L prs=K|K=|KM|KN\n",
      " 9 R8        < clause_atom\n",
      "10 R9          phrase\n",
      "11 R10           word vt=infa|infc\n",
      "12     \n"
     ]
    }
   ],
   "source": [
    "S.showPlan()"
   ]
  },
  {
   "cell_type": "code",
   "execution_count": 4,
   "metadata": {
    "collapsed": false,
    "deletable": true,
    "editable": true
   },
   "outputs": [
    {
     "name": "stdout",
     "output_type": "stream",
     "text": [
      "  0.00s Counting results per 2 up to 1000 ...\n",
      "   |     0.03s 2\n",
      "   |     0.04s 4\n",
      "   |     0.05s 6\n",
      "   |     0.05s 8\n",
      "   |     0.07s 10\n",
      "   |     0.07s 12\n",
      "  0.14s Done: 13 results\n"
     ]
    }
   ],
   "source": [
    "# count the results\n",
    "S.count(progress=2)"
   ]
  },
  {
   "cell_type": "code",
   "execution_count": 5,
   "metadata": {
    "collapsed": false,
    "deletable": true,
    "editable": true
   },
   "outputs": [
    {
     "name": "stdout",
     "output_type": "stream",
     "text": [
      "  Genesis 31:29 clause_atom[הִשָּׁ֧מֶר לְךָ֛ ] phrase[הִשָּׁ֧מֶר ] הִשָּׁ֧מֶר  phrase[לְךָ֛ ] לְךָ֛  clause_atom[לַעֲשֹׂ֥ות עִמָּכֶ֖ם רָ֑ע ] phrase[לַעֲשֹׂ֥ות ] עֲשֹׂ֥ות \n",
      "  Genesis 31:29 clause_atom[הִשָּׁ֧מֶר לְךָ֛ ] phrase[הִשָּׁ֧מֶר ] הִשָּׁ֧מֶר  phrase[לְךָ֛ ] לְךָ֛  clause_atom[לֵאמֹ֗ר ] phrase[לֵאמֹ֗ר ] אמֹ֗ר \n",
      "  Genesis 31:29 clause_atom[הִשָּׁ֧מֶר לְךָ֛ ] phrase[הִשָּׁ֧מֶר ] הִשָּׁ֧מֶר  phrase[לְךָ֛ ] לְךָ֛  clause_atom[מִדַּבֵּ֥ר עִֽם־יַעֲקֹ֖ב מִ...] phrase[מִדַּבֵּ֥ר ] דַּבֵּ֥ר \n",
      "  Exodus 10:28 clause_atom[הִשָּׁ֣מֶר לְךָ֗ ] phrase[הִשָּׁ֣מֶר ] הִשָּׁ֣מֶר  phrase[לְךָ֗ ] לְךָ֗  clause_atom[רְאֹ֣ות פָּנַ֔י ] phrase[רְאֹ֣ות ] רְאֹ֣ות \n",
      "  Exodus 10:28 clause_atom[הִשָּׁ֣מֶר לְךָ֗ ] phrase[הִשָּׁ֣מֶר ] הִשָּׁ֣מֶר  phrase[לְךָ֗ ] לְךָ֗  clause_atom[רְאֹתְךָ֥ פָנַ֖י ] phrase[רְאֹתְךָ֥ ] רְאֹתְךָ֥ \n",
      "  Exodus 19:12 clause_atom[הִשָּׁמְר֥וּ לָכֶ֛ם ] phrase[הִשָּׁמְר֥וּ ] הִשָּׁמְר֥וּ  phrase[לָכֶ֛ם ] לָכֶ֛ם  clause_atom[לֵאמֹ֔ר ] phrase[לֵאמֹ֔ר ] אמֹ֔ר \n",
      "  Exodus 19:12 clause_atom[הִשָּׁמְר֥וּ לָכֶ֛ם ] phrase[הִשָּׁמְר֥וּ ] הִשָּׁמְר֥וּ  phrase[לָכֶ֛ם ] לָכֶ֛ם  clause_atom[עֲלֹ֥ות בָּהָ֖ר ] phrase[עֲלֹ֥ות ] עֲלֹ֥ות \n",
      "  Exodus 19:12 clause_atom[הִשָּׁמְר֥וּ לָכֶ֛ם ] phrase[הִשָּׁמְר֥וּ ] הִשָּׁמְר֥וּ  phrase[לָכֶ֛ם ] לָכֶ֛ם  clause_atom[וּנְגֹ֣עַ בְּקָצֵ֑הוּ ] phrase[נְגֹ֣עַ ] נְגֹ֣עַ \n",
      "  Exodus 19:12 clause_atom[הִשָּׁמְר֥וּ לָכֶ֛ם ] phrase[הִשָּׁמְר֥וּ ] הִשָּׁמְר֥וּ  phrase[לָכֶ֛ם ] לָכֶ֛ם  clause_atom[מֹ֥ות יוּמָֽת׃ ] phrase[מֹ֥ות ] מֹ֥ות \n",
      "  Deuteronomy 8:11 clause_atom[הִשָּׁ֣מֶר לְךָ֔ ] phrase[הִשָּׁ֣מֶר ] הִשָּׁ֣מֶר  phrase[לְךָ֔ ] לְךָ֔  clause_atom[לְבִלְתִּ֨י שְׁמֹ֤ר מִצְוֹתָיו֙ וּ...] phrase[לְבִלְתִּ֨י שְׁמֹ֤ר ] שְׁמֹ֤ר \n",
      "  Deuteronomy 12:30 clause_atom[הִשָּׁ֣מֶר לְךָ֗ ] phrase[הִשָּׁ֣מֶר ] הִשָּׁ֣מֶר  phrase[לְךָ֗ ] לְךָ֗  clause_atom[אַחֲרֵ֖י הִשָּׁמְדָ֣ם מִפָּנֶ֑יךָ ] phrase[אַחֲרֵ֖י הִשָּׁמְדָ֣ם ] הִשָּׁמְדָ֣ם \n",
      "  Deuteronomy 12:30 clause_atom[הִשָּׁ֣מֶר לְךָ֗ ] phrase[הִשָּׁ֣מֶר ] הִשָּׁ֣מֶר  phrase[לְךָ֗ ] לְךָ֗  clause_atom[לֵאמֹ֨ר ] phrase[לֵאמֹ֨ר ] אמֹ֨ר \n",
      "  Deuteronomy 15:9 clause_atom[הִשָּׁ֣מֶר לְךָ֡ ] phrase[הִשָּׁ֣מֶר ] הִשָּׁ֣מֶר  phrase[לְךָ֡ ] לְךָ֡  clause_atom[לֵאמֹ֗ר ] phrase[לֵאמֹ֗ר ] אמֹ֗ר \n"
     ]
    }
   ],
   "source": [
    "# Take a peek into the results\n",
    "for r in S.fetch(limit=20): \n",
    "    print(S.glean(r))"
   ]
  },
  {
   "cell_type": "markdown",
   "metadata": {
    "collapsed": true,
    "deletable": true,
    "editable": true
   },
   "source": [
    "Now let's look more fully at the Hebrew..."
   ]
  },
  {
   "cell_type": "code",
   "execution_count": 6,
   "metadata": {
    "collapsed": false,
    "deletable": true,
    "editable": true
   },
   "outputs": [
    {
     "name": "stdout",
     "output_type": "stream",
     "text": [
      "('Genesis', 31, 29) יֶשׁ־לְאֵ֣ל יָדִ֔י לַעֲשֹׂ֥ות עִמָּכֶ֖ם רָ֑ע וֵֽאלֹהֵ֨י אֲבִיכֶ֜ם אֶ֣מֶשׁ׀ אָמַ֧ר אֵלַ֣י לֵאמֹ֗ר הִשָּׁ֧מֶר לְךָ֛ מִדַּבֵּ֥ר עִֽם־יַעֲקֹ֖ב מִטֹּ֥וב עַד־רָֽע׃ \n",
      "('Genesis', 31, 29) יֶשׁ־לְאֵ֣ל יָדִ֔י לַעֲשֹׂ֥ות עִמָּכֶ֖ם רָ֑ע וֵֽאלֹהֵ֨י אֲבִיכֶ֜ם אֶ֣מֶשׁ׀ אָמַ֧ר אֵלַ֣י לֵאמֹ֗ר הִשָּׁ֧מֶר לְךָ֛ מִדַּבֵּ֥ר עִֽם־יַעֲקֹ֖ב מִטֹּ֥וב עַד־רָֽע׃ \n",
      "('Genesis', 31, 29) יֶשׁ־לְאֵ֣ל יָדִ֔י לַעֲשֹׂ֥ות עִמָּכֶ֖ם רָ֑ע וֵֽאלֹהֵ֨י אֲבִיכֶ֜ם אֶ֣מֶשׁ׀ אָמַ֧ר אֵלַ֣י לֵאמֹ֗ר הִשָּׁ֧מֶר לְךָ֛ מִדַּבֵּ֥ר עִֽם־יַעֲקֹ֖ב מִטֹּ֥וב עַד־רָֽע׃ \n",
      "('Exodus', 10, 28) וַיֹּֽאמֶר־לֹ֥ו פַרְעֹ֖ה לֵ֣ךְ מֵעָלָ֑י הִשָּׁ֣מֶר לְךָ֗ אֶל־תֹּ֨סֶף֙ רְאֹ֣ות פָּנַ֔י כִּ֗י בְּיֹ֛ום רְאֹתְךָ֥ פָנַ֖י תָּמֽוּת׃ \n",
      "('Exodus', 10, 28) וַיֹּֽאמֶר־לֹ֥ו פַרְעֹ֖ה לֵ֣ךְ מֵעָלָ֑י הִשָּׁ֣מֶר לְךָ֗ אֶל־תֹּ֨סֶף֙ רְאֹ֣ות פָּנַ֔י כִּ֗י בְּיֹ֛ום רְאֹתְךָ֥ פָנַ֖י תָּמֽוּת׃ \n",
      "('Exodus', 19, 12) וְהִגְבַּלְתָּ֤ אֶת־הָעָם֙ סָבִ֣יב לֵאמֹ֔ר הִשָּׁמְר֥וּ לָכֶ֛ם עֲלֹ֥ות בָּהָ֖ר וּנְגֹ֣עַ בְּקָצֵ֑הוּ כָּל־הַנֹּגֵ֥עַ בָּהָ֖ר מֹ֥ות יוּמָֽת׃ \n",
      "('Exodus', 19, 12) וְהִגְבַּלְתָּ֤ אֶת־הָעָם֙ סָבִ֣יב לֵאמֹ֔ר הִשָּׁמְר֥וּ לָכֶ֛ם עֲלֹ֥ות בָּהָ֖ר וּנְגֹ֣עַ בְּקָצֵ֑הוּ כָּל־הַנֹּגֵ֥עַ בָּהָ֖ר מֹ֥ות יוּמָֽת׃ \n",
      "('Exodus', 19, 12) וְהִגְבַּלְתָּ֤ אֶת־הָעָם֙ סָבִ֣יב לֵאמֹ֔ר הִשָּׁמְר֥וּ לָכֶ֛ם עֲלֹ֥ות בָּהָ֖ר וּנְגֹ֣עַ בְּקָצֵ֑הוּ כָּל־הַנֹּגֵ֥עַ בָּהָ֖ר מֹ֥ות יוּמָֽת׃ \n",
      "('Exodus', 19, 12) וְהִגְבַּלְתָּ֤ אֶת־הָעָם֙ סָבִ֣יב לֵאמֹ֔ר הִשָּׁמְר֥וּ לָכֶ֛ם עֲלֹ֥ות בָּהָ֖ר וּנְגֹ֣עַ בְּקָצֵ֑הוּ כָּל־הַנֹּגֵ֥עַ בָּהָ֖ר מֹ֥ות יוּמָֽת׃ \n",
      "('Deuteronomy', 8, 11) הִשָּׁ֣מֶר לְךָ֔ פֶּן־תִּשְׁכַּ֖ח אֶת־יְהוָ֣ה אֱלֹהֶ֑יךָ לְבִלְתִּ֨י שְׁמֹ֤ר מִצְוֹתָיו֙ וּמִשְׁפָּטָ֣יו וְחֻקֹּתָ֔יו אֲשֶׁ֛ר אָנֹכִ֥י מְצַוְּךָ֖ הַיֹּֽום׃ \n",
      "('Deuteronomy', 12, 30) הִשָּׁ֣מֶר לְךָ֗ פֶּן־תִּנָּקֵשׁ֙ אַחֲרֵיהֶ֔ם אַחֲרֵ֖י הִשָּׁמְדָ֣ם מִפָּנֶ֑יךָ וּפֶן־תִּדְרֹ֨שׁ לֵֽאלֹהֵיהֶ֜ם לֵאמֹ֨ר אֵיכָ֨ה יַעַבְד֜וּ הַגֹּויִ֤ם הָאֵ֨לֶּה֙ אֶת־אֱלֹ֣הֵיהֶ֔ם וְאֶעֱשֶׂה־כֵּ֖ן גַּם־אָֽנִי׃ \n",
      "('Deuteronomy', 12, 30) הִשָּׁ֣מֶר לְךָ֗ פֶּן־תִּנָּקֵשׁ֙ אַחֲרֵיהֶ֔ם אַחֲרֵ֖י הִשָּׁמְדָ֣ם מִפָּנֶ֑יךָ וּפֶן־תִּדְרֹ֨שׁ לֵֽאלֹהֵיהֶ֜ם לֵאמֹ֨ר אֵיכָ֨ה יַעַבְד֜וּ הַגֹּויִ֤ם הָאֵ֨לֶּה֙ אֶת־אֱלֹ֣הֵיהֶ֔ם וְאֶעֱשֶׂה־כֵּ֖ן גַּם־אָֽנִי׃ \n",
      "('Deuteronomy', 15, 9) הִשָּׁ֣מֶר לְךָ֡ פֶּן־יִהְיֶ֣ה דָבָר֩ עִם־לְבָבְךָ֨ בְלִיַּ֜עַל לֵאמֹ֗ר קָֽרְבָ֣ה שְׁנַֽת־הַשֶּׁבַע֮ שְׁנַ֣ת הַשְּׁמִטָּה֒ וְרָעָ֣ה עֵֽינְךָ֗ בְּאָחִ֨יךָ֙ הָֽאֶבְיֹ֔ון וְלֹ֥א תִתֵּ֖ן לֹ֑ו וְקָרָ֤א עָלֶ֨יךָ֙ אֶל־יְהוָ֔ה וְהָיָ֥ה בְךָ֖ חֵֽטְא׃ \n"
     ]
    }
   ],
   "source": [
    "# get clause atoms of the result nodes\n",
    "results_clauses = tuple(result[3] for result in S.fetch()) # 4th item == clause_atom\n",
    "\n",
    "# get verse ref, words, and print\n",
    "for result in results_clauses:\n",
    "    \n",
    "    # get verse reference/verse node\n",
    "    passage = T.sectionFromNode(result)\n",
    "    passage_node = T.nodeFromSection(passage)\n",
    "    \n",
    "    # get all the words in the verse and get utf8 text\n",
    "    word_nodes = (word for word in L.d(passage_node, otype='word'))\n",
    "    text = T.text(word_nodes)\n",
    "    \n",
    "    # print results\n",
    "    print(passage, text)"
   ]
  },
  {
   "cell_type": "markdown",
   "metadata": {
    "deletable": true,
    "editable": true
   },
   "source": [
    "There are repeats in the results :/  And not all of the results conform to the expected pattern. There is more refining necessary..."
   ]
  }
 ],
 "metadata": {
  "kernelspec": {
   "display_name": "Python 3",
   "language": "python",
   "name": "python3"
  },
  "language_info": {
   "codemirror_mode": {
    "name": "ipython",
    "version": 3
   },
   "file_extension": ".py",
   "mimetype": "text/x-python",
   "name": "python",
   "nbconvert_exporter": "python",
   "pygments_lexer": "ipython3",
   "version": "3.6.0"
  }
 },
 "nbformat": 4,
 "nbformat_minor": 2
}
